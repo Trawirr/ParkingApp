{
 "cells": [
  {
   "cell_type": "code",
   "execution_count": 1,
   "metadata": {},
   "outputs": [],
   "source": [
    "from fastsam import FastSAM, FastSAMPrompt\n",
    "import torch"
   ]
  },
  {
   "cell_type": "code",
   "execution_count": 3,
   "metadata": {},
   "outputs": [
    {
     "name": "stderr",
     "output_type": "stream",
     "text": [
      "/mnt/c/Users/gtraw/Projekt_badawczy/FastSAM/ultralytics/nn/tasks.py:518: FutureWarning: You are using `torch.load` with `weights_only=False` (the current default value), which uses the default pickle module implicitly. It is possible to construct malicious pickle data which will execute arbitrary code during unpickling (See https://github.com/pytorch/pytorch/blob/main/SECURITY.md#untrusted-models for more details). In a future release, the default value for `weights_only` will be flipped to `True`. This limits the functions that could be executed during unpickling. Arbitrary objects will no longer be allowed to be loaded via this mode unless they are explicitly allowlisted by the user via `torch.serialization.add_safe_globals`. We recommend you start setting `weights_only=True` for any use case where you don't have full control of the loaded file. Please open an issue on GitHub for any issues related to this experimental feature.\n",
      "  return torch.load(file, map_location='cpu'), file  # load\n",
      "\n",
      "image 1/1 /mnt/c/Users/gtraw/Projekt_badawczy/images/weti1_2024_11_21_14_55.jpg: 576x1024 65 objects, 107.6ms\n",
      "Speed: 10.6ms preprocess, 107.6ms inference, 475.0ms postprocess per image at shape (1, 3, 1024, 1024)\n"
     ]
    }
   ],
   "source": [
    "model = FastSAM(r'/mnt/c/Users/gtraw/Projekt_badawczy/checkpoints/FASTSAM/FastSAM-s.pt')\n",
    "IMAGE_PATH = r'/mnt/c/Users/gtraw/Projekt_badawczy/images/weti1_2024_11_21_14_55.jpg'\n",
    "DEVICE = torch.device('cuda:0' if torch.cuda.is_available() else 'cpu')\n",
    "everything_results = model(IMAGE_PATH, device=DEVICE, retina_masks=True, imgsz=1024, conf=0.5, iou=0.9,)\n",
    "prompt_process = FastSAMPrompt(IMAGE_PATH, everything_results, device=DEVICE)\n",
    "\n",
    "# everything prompt\n",
    "ann = prompt_process.everything_prompt()\n",
    "\n",
    "prompt_process.plot(annotations=ann, output_path=r'/mnt/c/Users/gtraw/Projekt_badawczy/results/fastsams_zima.jpg',)"
   ]
  },
  {
   "cell_type": "code",
   "execution_count": 10,
   "metadata": {},
   "outputs": [
    {
     "data": {
      "text/plain": [
       "array([[[          0,           0,           0, ...,           0,           0,           0],\n",
       "        [          0,           0,           0, ...,           0,           0,           0],\n",
       "        [          0,           0,           0, ...,           0,           0,           0],\n",
       "        ...,\n",
       "        [          0,           0,           0, ...,           0,           0,           0],\n",
       "        [          0,           0,           0, ...,           0,           0,           0],\n",
       "        [          0,           0,           0, ...,           0,           0,           0]],\n",
       "\n",
       "       [[          0,           0,           0, ...,           0,           0,           0],\n",
       "        [          0,           0,           0, ...,           0,           0,           0],\n",
       "        [          0,           0,           0, ...,           0,           0,           0],\n",
       "        ...,\n",
       "        [          0,           0,           0, ...,           0,           0,           0],\n",
       "        [          0,           0,           0, ...,           0,           0,           0],\n",
       "        [          0,           0,           0, ...,           0,           0,           0]],\n",
       "\n",
       "       [[          0,           0,           0, ...,           0,           0,           0],\n",
       "        [          0,           0,           0, ...,           0,           0,           0],\n",
       "        [          0,           0,           0, ...,           0,           0,           0],\n",
       "        ...,\n",
       "        [          0,           0,           0, ...,           0,           0,           0],\n",
       "        [          0,           0,           0, ...,           0,           0,           0],\n",
       "        [          0,           0,           0, ...,           0,           0,           0]],\n",
       "\n",
       "       ...,\n",
       "\n",
       "       [[          0,           0,           0, ...,           0,           0,           0],\n",
       "        [          0,           0,           0, ...,           0,           0,           0],\n",
       "        [          0,           0,           0, ...,           0,           0,           0],\n",
       "        ...,\n",
       "        [          0,           0,           0, ...,           0,           0,           0],\n",
       "        [          0,           0,           0, ...,           0,           0,           0],\n",
       "        [          0,           0,           0, ...,           0,           0,           0]],\n",
       "\n",
       "       [[          0,           0,           0, ...,           0,           0,           0],\n",
       "        [          0,           0,           0, ...,           0,           0,           0],\n",
       "        [          0,           0,           0, ...,           0,           0,           0],\n",
       "        ...,\n",
       "        [          0,           0,           0, ...,           0,           0,           0],\n",
       "        [          0,           0,           0, ...,           0,           0,           0],\n",
       "        [          0,           0,           0, ...,           0,           0,           0]],\n",
       "\n",
       "       [[          0,           0,           0, ...,           0,           0,           0],\n",
       "        [          0,           0,           0, ...,           0,           0,           0],\n",
       "        [          0,           0,           0, ...,           0,           0,           0],\n",
       "        ...,\n",
       "        [          0,           0,           0, ...,           0,           0,           0],\n",
       "        [          0,           0,           0, ...,           0,           0,           0],\n",
       "        [          0,           0,           0, ...,           0,           0,           0]]], dtype=float32)"
      ]
     },
     "execution_count": 10,
     "metadata": {},
     "output_type": "execute_result"
    }
   ],
   "source": [
    "ann.cpu().numpy()"
   ]
  },
  {
   "cell_type": "markdown",
   "metadata": {},
   "source": [
    "### Segmentacja na całym zbiorze"
   ]
  },
  {
   "cell_type": "code",
   "execution_count": 22,
   "metadata": {},
   "outputs": [],
   "source": [
    "from fastsam import FastSAM, FastSAMPrompt\n",
    "import torch\n",
    "\n",
    "import cv2\n",
    "import sys\n",
    "import os\n",
    "import time\n",
    "import json\n",
    "\n",
    "import numpy as np\n",
    "from shapely.geometry import Polygon\n",
    "from scipy.optimize import linear_sum_assignment\n",
    "\n",
    "import matplotlib.pyplot as plt\n",
    "\n",
    "import warnings\n",
    "warnings.filterwarnings(\"ignore\", category=DeprecationWarning) \n",
    "\n",
    "model_info = {\n",
    "    'fastsam_x': \"/mnt/c/Users/gtraw/Projekt_badawczy/checkpoints/FASTSAM/FastSAM-x.pt\",\n",
    "    'fastsam_s': \"/mnt/c/Users/gtraw/Projekt_badawczy/checkpoints/FASTSAM/FastSAM-s.pt\"\n",
    "}\n",
    "\n",
    "# Images/results paths\n",
    "input_dir = '/mnt/c/Users/gtraw/Projekt_badawczy/dataset_11_14'\n",
    "output_dir = '/mnt/c/Users/gtraw/Projekt_badawczy/dataset_results_11_14/ious'\n",
    "\n",
    "DEVICE = torch.device('cuda:0' if torch.cuda.is_available() else 'cpu')"
   ]
  },
  {
   "cell_type": "code",
   "execution_count": null,
   "metadata": {},
   "outputs": [],
   "source": [
    "def transform_to_polygons(data, mode=\"points\"):\n",
    "    polygons = []\n",
    "    if mode == \"points\":\n",
    "        polygons = [points2polygon(d) for d in data]\n",
    "    elif mode == \"corners\":\n",
    "        polygons = [corners2polygon(d) for d in data]\n",
    "    elif mode == \"mask\":\n",
    "        polygons = [mask2polygon(d) for d in data]\n",
    "    return [p for p in polygons if p is not None]\n",
    "    \n",
    "def corners2polygon(corners):\n",
    "    x1, y1, x2, y2 = corners\n",
    "    points = [(x1, y1), (x2, y1), (x2, y2), (x1, y2), (x1, y1)]\n",
    "    \n",
    "    return Polygon(points)\n",
    "        \n",
    "def points2polygon(points):\n",
    "    return Polygon(points)\n",
    "\n",
    "def mask2polygon(mask):\n",
    "    mask = np.array(mask)\n",
    "    mask = mask.astype(np.uint8)\n",
    "    contours, _ = cv2.findContours(mask, cv2.RETR_EXTERNAL, cv2.CHAIN_APPROX_SIMPLE)\n",
    "    \n",
    "    if not contours:\n",
    "        return None\n",
    "    \n",
    "    valid_contours = [contour for contour in contours if len(contour) >= 4]\n",
    "    \n",
    "    if not valid_contours:\n",
    "        return None\n",
    "    \n",
    "    largest_contour = max(valid_contours, key=cv2.contourArea)\n",
    "\n",
    "\n",
    "    polygon = Polygon(shell=largest_contour.squeeze())\n",
    "    \n",
    "    if not polygon.is_valid:\n",
    "        polygon = polygon.buffer(0)\n",
    "    \n",
    "    return polygon\n",
    "\n",
    "def iou(polygon1, polygon2):\n",
    "    if not polygon1.is_valid:\n",
    "        polygon1 = polygon1.buffer(0)\n",
    "    if not polygon2.is_valid:\n",
    "        polygon2 = polygon2.buffer(0)\n",
    "    union = polygon1.union(polygon2).area\n",
    "    if union <= 0:\n",
    "        return 0\n",
    "    intersection = polygon1.intersection(polygon2).area\n",
    "    return intersection / union\n",
    "\n",
    "def build_similarity_matrix(objects_db, objects_pred):\n",
    "    len_db, len_pred = len(objects_db), len(objects_pred)\n",
    "    print(f\"Matrix size: [{len_db}, {len_pred}]\")\n",
    "    similarity_matrix = np.zeros([len_db, len_pred])\n",
    "    \n",
    "    time_start = time.time()\n",
    "    for x, obj_db in enumerate(objects_db):\n",
    "        for y, obj_pred in enumerate(objects_pred):\n",
    "            similarity_matrix[x, y] = iou(obj_db, obj_pred)\n",
    "            print(f\"Building similarity matrix: {x * len_pred + y + 1:>10}/{len_db*len_pred}\", end='\\r')\n",
    "    time_end = time.time() - time_start\n",
    "    print(f\"Similarity matrix built in {time_end:.2f}s\" + ' ' * 100)\n",
    "    return similarity_matrix\n",
    "\n",
    "def match_polygons(similarity_matrix):\n",
    "    xs, ys = linear_sum_assignment(similarity_matrix, maximize=True)\n",
    "    matching = [[x, y, similarity_matrix[x, y]] for x, y in zip(xs, ys) if similarity_matrix[x][y] > 0]\n",
    "    return matching\n",
    "\n",
    "def evaluate_segmentation(polygons_db, polygons_pred, matching, time, weather_info = [], model_info = []):\n",
    "    results = {\n",
    "        \"weather\": weather_info,\n",
    "        \"model\": model_info,\n",
    "        \"time\": time\n",
    "    }\n",
    "    num_db = len(polygons_db)\n",
    "    num_pred = len(polygons_pred)\n",
    "    num_matching = len(matching)\n",
    "\n",
    "    results['ground_truth_objects'] = num_db\n",
    "    results['segmented_objects'] = num_pred\n",
    "    results['matched_objects'] = num_matching\n",
    "\n",
    "    if num_pred != 0:\n",
    "        results['precision'] = num_matching / num_pred\n",
    "    else:\n",
    "        results['precision'] = 0\n",
    "\n",
    "    if num_db != 0:\n",
    "        results['recall'] = num_matching / num_db\n",
    "    else:\n",
    "        results['recall'] = 0\n",
    "\n",
    "    if results['precision'] + results['recall'] != 0:\n",
    "        results['f1'] = 2 * results['precision'] * results['recall'] / (results['precision'] + results['recall'])\n",
    "    else:\n",
    "        results['precision'] = 0\n",
    "\n",
    "    ious = []\n",
    "    for x, y, _ in matching:\n",
    "        ious.append(iou(polygons_db[x], polygons_pred[y]))\n",
    "\n",
    "    if num_matching != 0:\n",
    "        results['mean_iou'] = sum(ious) / num_matching\n",
    "    else:\n",
    "        results['mean_iou'] = 0\n",
    "\n",
    "    for i in range(num_db - num_matching):\n",
    "        ious.append(0)\n",
    "\n",
    "    return results, ious\n",
    "\n",
    "def evaluate_individually(polygons_db, polygons_pred, matching):\n",
    "    num_db = len(polygons_db)\n",
    "    num_pred = len(polygons_pred)\n",
    "    num_matching = len(matching)\n",
    "\n",
    "    ious = []\n",
    "    for x, y, _ in matching:\n",
    "        ious.append(iou(polygons_db[x], polygons_pred[y]))\n",
    "    for i in range(num_db - num_matching):\n",
    "        ious.append(0)\n",
    "\n",
    "    return ious"
   ]
  },
  {
   "cell_type": "markdown",
   "metadata": {},
   "source": [
    "#### Uśrednione i IoU"
   ]
  },
  {
   "cell_type": "code",
   "execution_count": null,
   "metadata": {},
   "outputs": [],
   "source": [
    "for model_name in model_info.keys():\n",
    "    full_iou = {\n",
    "        'model': [],\n",
    "        'model_params': [],\n",
    "        'filename': [],\n",
    "        'iou': []\n",
    "    }\n",
    "    model = FastSAM(model_info[model_name])\n",
    "    output_dir_model = f\"{output_dir}_{model_name}\"\n",
    "    print(f\"output_dir: {output_dir_model}\")\n",
    "\n",
    "    # fix directories\n",
    "    if not os.path.exists(output_dir_model):\n",
    "        os.makedirs(output_dir_model)\n",
    "\n",
    "    # for image in dir\n",
    "    for image_file in os.listdir(input_dir):\n",
    "        data_pred = {\n",
    "            'model': model_name\n",
    "        }\n",
    "\n",
    "        # skip non-images\n",
    "        if not image_file.endswith(('jpg', 'png')):\n",
    "            continue\n",
    "\n",
    "        print(f\"\\nImage: {image_file}\")\n",
    "        # image's path\n",
    "        image_path = os.path.join(input_dir, image_file)\n",
    "        # measure time\n",
    "        time_start = time.time()\n",
    "        # generate masks\n",
    "        everything_results = model(image_path, device=DEVICE, imgsz=1920)\n",
    "        prompt_process = FastSAMPrompt(image_path, everything_results, device=DEVICE)\n",
    "\n",
    "        # everything prompt\n",
    "        ann = prompt_process.everything_prompt()\n",
    "        time_end = time.time() - time_start\n",
    "\n",
    "        # save results\n",
    "        data_pred['time'] = time_end\n",
    "        data_pred['objects'] = []\n",
    "\n",
    "        ann = ann.cpu()\n",
    "        for seg in ann:\n",
    "            data_pred['objects'].append(seg)\n",
    "\n",
    "        # load labeled data\n",
    "        data_filename = '.'.join(image_file.replace('_m', '').split('.')[:-1]) + '.json'\n",
    "        with open(os.path.join(input_dir, data_filename), 'r') as f:\n",
    "            data_db = json.load(f)\n",
    "\n",
    "        data_db['polygons'] = transform_to_polygons([obj['points'] for obj in data_db['objects']])\n",
    "        # print(data_pred['objects'][-1])\n",
    "        # print(data_pred['objects'][-1].shape)\n",
    "        \n",
    "        data_pred['polygons'] = transform_to_polygons([obj for obj in data_pred['objects']], \"mask\")\n",
    "        \n",
    "        sm = build_similarity_matrix(data_db['polygons'], data_pred['polygons'])\n",
    "        matching = match_polygons(sm)\n",
    "\n",
    "        # save mean results\n",
    "        result_dict, iou_results = evaluate_segmentation(data_db['polygons'], data_pred['polygons'], matching, data_pred['time'], data_db['weather'], ['sam2.1', model_name])\n",
    "        result_dict['filename'] = '.'.join(image_file.split('.')[:-1])\n",
    "\n",
    "        json_path = os.path.join(output_dir_model, f\"{'.'.join(image_file.split('.')[:-1])}.json\")\n",
    "        with open(json_path, 'w') as json_file:\n",
    "            json.dump(result_dict, json_file, indent=4)\n",
    "\n",
    "        # save iou results]\n",
    "        for iou_result in iou_results:\n",
    "            full_iou['iou'].append(iou_result)\n",
    "            full_iou['filename'].append('.'.join(image_file.split('.')[:-1]))\n",
    "\n",
    "    for _ in full_iou['iou']:\n",
    "        full_iou['model'].append(model_name)\n",
    "        full_iou['model_params'].append('')\n",
    "\n",
    "    json_path = os.path.join(f\"{output_dir_model}/ious\" f\"{model_name}_iou.json\")\n",
    "    with open(json_path, 'w') as json_file:\n",
    "        json.dump(full_iou, json_file, indent=4)"
   ]
  },
  {
   "cell_type": "markdown",
   "metadata": {},
   "source": [
    "#### Tylko IoU"
   ]
  },
  {
   "cell_type": "code",
   "execution_count": null,
   "metadata": {},
   "outputs": [],
   "source": [
    "\n",
    "output_dir = '/mnt/c/Users/gtraw/Projekt_badawczy/dataset_results_11_14/ious'"
   ]
  },
  {
   "cell_type": "code",
   "execution_count": 24,
   "metadata": {},
   "outputs": [
    {
     "name": "stderr",
     "output_type": "stream",
     "text": [
      "/mnt/c/Users/gtraw/Projekt_badawczy/FastSAM/ultralytics/nn/tasks.py:518: FutureWarning: You are using `torch.load` with `weights_only=False` (the current default value), which uses the default pickle module implicitly. It is possible to construct malicious pickle data which will execute arbitrary code during unpickling (See https://github.com/pytorch/pytorch/blob/main/SECURITY.md#untrusted-models for more details). In a future release, the default value for `weights_only` will be flipped to `True`. This limits the functions that could be executed during unpickling. Arbitrary objects will no longer be allowed to be loaded via this mode unless they are explicitly allowlisted by the user via `torch.serialization.add_safe_globals`. We recommend you start setting `weights_only=True` for any use case where you don't have full control of the loaded file. Please open an issue on GitHub for any issues related to this experimental feature.\n",
      "  return torch.load(file, map_location='cpu'), file  # load\n"
     ]
    },
    {
     "name": "stdout",
     "output_type": "stream",
     "text": [
      "output_dir: /mnt/c/Users/gtraw/Projekt_badawczy/dataset_results_11_14/ious\n",
      "\n",
      "Image: weti1_2024_11_14_12_47.jpg\n"
     ]
    },
    {
     "name": "stderr",
     "output_type": "stream",
     "text": [
      "\n",
      "image 1/1 /mnt/c/Users/gtraw/Projekt_badawczy/dataset_11_14/weti1_2024_11_14_12_47.jpg: 1088x1920 238 objects, 223.8ms\n",
      "Speed: 7.9ms preprocess, 223.8ms inference, 33.9ms postprocess per image at shape (1, 3, 1920, 1920)\n"
     ]
    },
    {
     "name": "stdout",
     "output_type": "stream",
     "text": [
      "Matrix size: [14, 238]\n",
      "Similarity matrix built in 0.19s                                                                                                    \n",
      "\n",
      "Image: weti1_2024_11_14_12_47_m.jpg\n"
     ]
    },
    {
     "name": "stderr",
     "output_type": "stream",
     "text": [
      "\n",
      "image 1/1 /mnt/c/Users/gtraw/Projekt_badawczy/dataset_11_14/weti1_2024_11_14_12_47_m.jpg: 1088x1920 40 objects, 1865.4ms\n",
      "Speed: 5.2ms preprocess, 1865.4ms inference, 118.6ms postprocess per image at shape (1, 3, 1920, 1920)\n",
      "\n"
     ]
    },
    {
     "name": "stdout",
     "output_type": "stream",
     "text": [
      "Matrix size: [14, 40]\n",
      "Similarity matrix built in 0.05s                                                                                                    \n",
      "\n",
      "Image: weti1_2024_11_14_12_57.jpg\n"
     ]
    },
    {
     "name": "stderr",
     "output_type": "stream",
     "text": [
      "image 1/1 /mnt/c/Users/gtraw/Projekt_badawczy/dataset_11_14/weti1_2024_11_14_12_57.jpg: 1088x1920 251 objects, 4464.4ms\n",
      "Speed: 4.5ms preprocess, 4464.4ms inference, 681.5ms postprocess per image at shape (1, 3, 1920, 1920)\n"
     ]
    },
    {
     "name": "stdout",
     "output_type": "stream",
     "text": [
      "Matrix size: [14, 251]\n",
      "Building similarity matrix:       2591/3514\r"
     ]
    },
    {
     "name": "stderr",
     "output_type": "stream",
     "text": [
      "\n"
     ]
    },
    {
     "name": "stdout",
     "output_type": "stream",
     "text": [
      "Similarity matrix built in 0.26s                                                                                                    \n",
      "\n",
      "Image: weti1_2024_11_14_12_57_m.jpg\n"
     ]
    },
    {
     "name": "stderr",
     "output_type": "stream",
     "text": [
      "image 1/1 /mnt/c/Users/gtraw/Projekt_badawczy/dataset_11_14/weti1_2024_11_14_12_57_m.jpg: 1088x1920 42 objects, 2328.0ms\n",
      "Speed: 7.8ms preprocess, 2328.0ms inference, 8.1ms postprocess per image at shape (1, 3, 1920, 1920)\n",
      "\n"
     ]
    },
    {
     "name": "stdout",
     "output_type": "stream",
     "text": [
      "Matrix size: [14, 42]\n",
      "Similarity matrix built in 0.05s                                                                                                    \n",
      "\n",
      "Image: weti1_2024_11_14_13_07.jpg\n"
     ]
    },
    {
     "name": "stderr",
     "output_type": "stream",
     "text": [
      "image 1/1 /mnt/c/Users/gtraw/Projekt_badawczy/dataset_11_14/weti1_2024_11_14_13_07.jpg: 1088x1920 236 objects, 221.0ms\n",
      "Speed: 4.7ms preprocess, 221.0ms inference, 26.8ms postprocess per image at shape (1, 3, 1920, 1920)\n"
     ]
    },
    {
     "name": "stdout",
     "output_type": "stream",
     "text": [
      "Matrix size: [14, 236]\n",
      "Similarity matrix built in 0.20s                                                                                                    \n"
     ]
    },
    {
     "name": "stderr",
     "output_type": "stream",
     "text": [
      "\n"
     ]
    },
    {
     "name": "stdout",
     "output_type": "stream",
     "text": [
      "\n",
      "Image: weti1_2024_11_14_13_07_m.jpg\n"
     ]
    },
    {
     "name": "stderr",
     "output_type": "stream",
     "text": [
      "image 1/1 /mnt/c/Users/gtraw/Projekt_badawczy/dataset_11_14/weti1_2024_11_14_13_07_m.jpg: 1088x1920 40 objects, 220.5ms\n",
      "Speed: 5.5ms preprocess, 220.5ms inference, 7.7ms postprocess per image at shape (1, 3, 1920, 1920)\n",
      "\n"
     ]
    },
    {
     "name": "stdout",
     "output_type": "stream",
     "text": [
      "Matrix size: [14, 40]\n",
      "Similarity matrix built in 0.05s                                                                                                    \n",
      "\n",
      "Image: weti1_2024_11_14_14_09.jpg\n"
     ]
    },
    {
     "name": "stderr",
     "output_type": "stream",
     "text": [
      "image 1/1 /mnt/c/Users/gtraw/Projekt_badawczy/dataset_11_14/weti1_2024_11_14_14_09.jpg: 1088x1920 239 objects, 221.3ms\n",
      "Speed: 4.6ms preprocess, 221.3ms inference, 28.3ms postprocess per image at shape (1, 3, 1920, 1920)\n"
     ]
    },
    {
     "name": "stdout",
     "output_type": "stream",
     "text": [
      "Matrix size: [13, 239]\n",
      "Building similarity matrix:       3103/3107\r"
     ]
    },
    {
     "name": "stderr",
     "output_type": "stream",
     "text": [
      "\n"
     ]
    },
    {
     "name": "stdout",
     "output_type": "stream",
     "text": [
      "Similarity matrix built in 0.20s                                                                                                    \n",
      "\n",
      "Image: weti1_2024_11_14_14_09_m.jpg\n"
     ]
    },
    {
     "name": "stderr",
     "output_type": "stream",
     "text": [
      "image 1/1 /mnt/c/Users/gtraw/Projekt_badawczy/dataset_11_14/weti1_2024_11_14_14_09_m.jpg: 1088x1920 40 objects, 1635.0ms\n",
      "Speed: 5.5ms preprocess, 1635.0ms inference, 8.6ms postprocess per image at shape (1, 3, 1920, 1920)\n",
      "\n"
     ]
    },
    {
     "name": "stdout",
     "output_type": "stream",
     "text": [
      "Matrix size: [13, 40]\n",
      "Similarity matrix built in 0.06s                                                                                                    \n",
      "\n",
      "Image: weti1_2024_11_14_14_19.jpg\n"
     ]
    },
    {
     "name": "stderr",
     "output_type": "stream",
     "text": [
      "image 1/1 /mnt/c/Users/gtraw/Projekt_badawczy/dataset_11_14/weti1_2024_11_14_14_19.jpg: 1088x1920 242 objects, 221.0ms\n",
      "Speed: 4.6ms preprocess, 221.0ms inference, 28.6ms postprocess per image at shape (1, 3, 1920, 1920)\n"
     ]
    },
    {
     "name": "stdout",
     "output_type": "stream",
     "text": [
      "Matrix size: [13, 242]\n",
      "Building similarity matrix:       2897/3146\r"
     ]
    },
    {
     "name": "stderr",
     "output_type": "stream",
     "text": [
      "\n"
     ]
    },
    {
     "name": "stdout",
     "output_type": "stream",
     "text": [
      "Similarity matrix built in 0.22s                                                                                                    \n",
      "\n",
      "Image: weti1_2024_11_14_14_19_m.jpg\n"
     ]
    },
    {
     "name": "stderr",
     "output_type": "stream",
     "text": [
      "image 1/1 /mnt/c/Users/gtraw/Projekt_badawczy/dataset_11_14/weti1_2024_11_14_14_19_m.jpg: 1088x1920 41 objects, 1633.6ms\n",
      "Speed: 4.4ms preprocess, 1633.6ms inference, 117.3ms postprocess per image at shape (1, 3, 1920, 1920)\n",
      "\n"
     ]
    },
    {
     "name": "stdout",
     "output_type": "stream",
     "text": [
      "Matrix size: [13, 41]\n",
      "Similarity matrix built in 0.05s                                                                                                    \n",
      "\n",
      "Image: weti1_2024_11_14_14_29.jpg\n"
     ]
    },
    {
     "name": "stderr",
     "output_type": "stream",
     "text": [
      "image 1/1 /mnt/c/Users/gtraw/Projekt_badawczy/dataset_11_14/weti1_2024_11_14_14_29.jpg: 1088x1920 241 objects, 4464.1ms\n",
      "Speed: 4.5ms preprocess, 4464.1ms inference, 660.3ms postprocess per image at shape (1, 3, 1920, 1920)\n"
     ]
    },
    {
     "name": "stdout",
     "output_type": "stream",
     "text": [
      "Matrix size: [13, 241]\n",
      "Building similarity matrix:       3114/3133\r"
     ]
    },
    {
     "name": "stderr",
     "output_type": "stream",
     "text": [
      "\n"
     ]
    },
    {
     "name": "stdout",
     "output_type": "stream",
     "text": [
      "Similarity matrix built in 0.41s                                                                                                    \n",
      "\n",
      "Image: weti1_2024_11_14_14_29_m.jpg\n"
     ]
    },
    {
     "name": "stderr",
     "output_type": "stream",
     "text": [
      "image 1/1 /mnt/c/Users/gtraw/Projekt_badawczy/dataset_11_14/weti1_2024_11_14_14_29_m.jpg: 1088x1920 38 objects, 5019.3ms\n",
      "Speed: 6.2ms preprocess, 5019.3ms inference, 113.1ms postprocess per image at shape (1, 3, 1920, 1920)\n",
      "\n"
     ]
    },
    {
     "name": "stdout",
     "output_type": "stream",
     "text": [
      "Matrix size: [13, 38]\n",
      "Similarity matrix built in 0.05s                                                                                                    \n",
      "\n",
      "Image: weti1_2024_11_14_14_39.jpg\n"
     ]
    },
    {
     "name": "stderr",
     "output_type": "stream",
     "text": [
      "image 1/1 /mnt/c/Users/gtraw/Projekt_badawczy/dataset_11_14/weti1_2024_11_14_14_39.jpg: 1088x1920 238 objects, 4463.9ms\n",
      "Speed: 4.4ms preprocess, 4463.9ms inference, 654.3ms postprocess per image at shape (1, 3, 1920, 1920)\n"
     ]
    },
    {
     "name": "stdout",
     "output_type": "stream",
     "text": [
      "Matrix size: [12, 238]\n",
      "Similarity matrix built in 0.39s                                                                                                    \n",
      "\n",
      "Image: weti1_2024_11_14_14_39_m.jpg\n"
     ]
    },
    {
     "name": "stderr",
     "output_type": "stream",
     "text": [
      "\n",
      "image 1/1 /mnt/c/Users/gtraw/Projekt_badawczy/dataset_11_14/weti1_2024_11_14_14_39_m.jpg: 1088x1920 39 objects, 2831.8ms\n",
      "Speed: 4.7ms preprocess, 2831.8ms inference, 8.2ms postprocess per image at shape (1, 3, 1920, 1920)\n",
      "\n"
     ]
    },
    {
     "name": "stdout",
     "output_type": "stream",
     "text": [
      "Matrix size: [12, 39]\n",
      "Similarity matrix built in 0.04s                                                                                                    \n",
      "\n",
      "Image: weti1_2024_11_14_14_49.jpg\n"
     ]
    },
    {
     "name": "stderr",
     "output_type": "stream",
     "text": [
      "image 1/1 /mnt/c/Users/gtraw/Projekt_badawczy/dataset_11_14/weti1_2024_11_14_14_49.jpg: 1088x1920 245 objects, 223.3ms\n",
      "Speed: 4.6ms preprocess, 223.3ms inference, 28.0ms postprocess per image at shape (1, 3, 1920, 1920)\n"
     ]
    },
    {
     "name": "stdout",
     "output_type": "stream",
     "text": [
      "Matrix size: [12, 245]\n",
      "Building similarity matrix:       2915/2940\r"
     ]
    },
    {
     "name": "stderr",
     "output_type": "stream",
     "text": [
      "\n"
     ]
    },
    {
     "name": "stdout",
     "output_type": "stream",
     "text": [
      "Similarity matrix built in 0.41s                                                                                                    \n",
      "\n",
      "Image: weti1_2024_11_14_14_49_m.jpg\n"
     ]
    },
    {
     "name": "stderr",
     "output_type": "stream",
     "text": [
      "image 1/1 /mnt/c/Users/gtraw/Projekt_badawczy/dataset_11_14/weti1_2024_11_14_14_49_m.jpg: 1088x1920 39 objects, 1864.7ms\n",
      "Speed: 5.6ms preprocess, 1864.7ms inference, 7.5ms postprocess per image at shape (1, 3, 1920, 1920)\n",
      "\n"
     ]
    },
    {
     "name": "stdout",
     "output_type": "stream",
     "text": [
      "Matrix size: [12, 39]\n",
      "Similarity matrix built in 0.05s                                                                                                    \n",
      "\n",
      "Image: weti1_2024_11_14_14_59.jpg\n"
     ]
    },
    {
     "name": "stderr",
     "output_type": "stream",
     "text": [
      "image 1/1 /mnt/c/Users/gtraw/Projekt_badawczy/dataset_11_14/weti1_2024_11_14_14_59.jpg: 1088x1920 239 objects, 223.5ms\n",
      "Speed: 4.3ms preprocess, 223.5ms inference, 27.1ms postprocess per image at shape (1, 3, 1920, 1920)\n"
     ]
    },
    {
     "name": "stdout",
     "output_type": "stream",
     "text": [
      "Matrix size: [11, 239]\n",
      "Similarity matrix built in 0.20s                                                                                                    \n"
     ]
    },
    {
     "name": "stderr",
     "output_type": "stream",
     "text": [
      "\n"
     ]
    },
    {
     "name": "stdout",
     "output_type": "stream",
     "text": [
      "\n",
      "Image: weti1_2024_11_14_14_59_m.jpg\n"
     ]
    },
    {
     "name": "stderr",
     "output_type": "stream",
     "text": [
      "image 1/1 /mnt/c/Users/gtraw/Projekt_badawczy/dataset_11_14/weti1_2024_11_14_14_59_m.jpg: 1088x1920 35 objects, 1865.4ms\n",
      "Speed: 4.8ms preprocess, 1865.4ms inference, 7.6ms postprocess per image at shape (1, 3, 1920, 1920)\n",
      "\n"
     ]
    },
    {
     "name": "stdout",
     "output_type": "stream",
     "text": [
      "Matrix size: [11, 35]\n",
      "Similarity matrix built in 0.04s                                                                                                    \n",
      "\n",
      "Image: weti1_2024_11_14_15_09.jpg\n"
     ]
    },
    {
     "name": "stderr",
     "output_type": "stream",
     "text": [
      "image 1/1 /mnt/c/Users/gtraw/Projekt_badawczy/dataset_11_14/weti1_2024_11_14_15_09.jpg: 1088x1920 231 objects, 223.9ms\n",
      "Speed: 4.7ms preprocess, 223.9ms inference, 26.8ms postprocess per image at shape (1, 3, 1920, 1920)\n",
      "\n"
     ]
    },
    {
     "name": "stdout",
     "output_type": "stream",
     "text": [
      "Matrix size: [9, 231]\n",
      "Similarity matrix built in 0.14s                                                                                                    \n",
      "\n",
      "Image: weti1_2024_11_14_15_09_m.jpg\n"
     ]
    },
    {
     "name": "stderr",
     "output_type": "stream",
     "text": [
      "image 1/1 /mnt/c/Users/gtraw/Projekt_badawczy/dataset_11_14/weti1_2024_11_14_15_09_m.jpg: 1088x1920 30 objects, 1635.3ms\n",
      "Speed: 4.8ms preprocess, 1635.3ms inference, 7.3ms postprocess per image at shape (1, 3, 1920, 1920)\n",
      "\n"
     ]
    },
    {
     "name": "stdout",
     "output_type": "stream",
     "text": [
      "Matrix size: [9, 30]\n",
      "Similarity matrix built in 0.04s                                                                                                    \n",
      "\n",
      "Image: weti1_2024_11_14_15_19.jpg\n"
     ]
    },
    {
     "name": "stderr",
     "output_type": "stream",
     "text": [
      "image 1/1 /mnt/c/Users/gtraw/Projekt_badawczy/dataset_11_14/weti1_2024_11_14_15_19.jpg: 1088x1920 234 objects, 223.2ms\n",
      "Speed: 4.8ms preprocess, 223.2ms inference, 27.2ms postprocess per image at shape (1, 3, 1920, 1920)\n",
      "\n"
     ]
    },
    {
     "name": "stdout",
     "output_type": "stream",
     "text": [
      "Matrix size: [9, 234]\n",
      "Similarity matrix built in 0.15s                                                                                                    \n",
      "\n",
      "Image: weti1_2024_11_14_15_19_m.jpg\n"
     ]
    },
    {
     "name": "stderr",
     "output_type": "stream",
     "text": [
      "image 1/1 /mnt/c/Users/gtraw/Projekt_badawczy/dataset_11_14/weti1_2024_11_14_15_19_m.jpg: 1088x1920 34 objects, 1635.6ms\n",
      "Speed: 4.5ms preprocess, 1635.6ms inference, 98.0ms postprocess per image at shape (1, 3, 1920, 1920)\n",
      "\n"
     ]
    },
    {
     "name": "stdout",
     "output_type": "stream",
     "text": [
      "Matrix size: [9, 34]\n",
      "Similarity matrix built in 0.05s                                                                                                    \n",
      "\n",
      "Image: weti1_2024_11_14_18_11.jpg\n"
     ]
    },
    {
     "name": "stderr",
     "output_type": "stream",
     "text": [
      "image 1/1 /mnt/c/Users/gtraw/Projekt_badawczy/dataset_11_14/weti1_2024_11_14_18_11.jpg: 1088x1920 47 objects, 4462.4ms\n",
      "Speed: 4.7ms preprocess, 4462.4ms inference, 135.0ms postprocess per image at shape (1, 3, 1920, 1920)\n",
      "\n"
     ]
    },
    {
     "name": "stdout",
     "output_type": "stream",
     "text": [
      "Matrix size: [2, 47]\n",
      "Similarity matrix built in 0.01s                                                                                                    \n",
      "\n",
      "Image: weti1_2024_11_14_18_11_m.jpg\n"
     ]
    },
    {
     "name": "stderr",
     "output_type": "stream",
     "text": [
      "image 1/1 /mnt/c/Users/gtraw/Projekt_badawczy/dataset_11_14/weti1_2024_11_14_18_11_m.jpg: 1088x1920 9 objects, 7487.6ms\n",
      "Speed: 5.6ms preprocess, 7487.6ms inference, 5.2ms postprocess per image at shape (1, 3, 1920, 1920)\n",
      "\n"
     ]
    },
    {
     "name": "stdout",
     "output_type": "stream",
     "text": [
      "Matrix size: [2, 9]\n",
      "Similarity matrix built in 0.00s                                                                                                    \n",
      "\n",
      "Image: weti1_2024_11_14_18_21.jpg\n"
     ]
    },
    {
     "name": "stderr",
     "output_type": "stream",
     "text": [
      "image 1/1 /mnt/c/Users/gtraw/Projekt_badawczy/dataset_11_14/weti1_2024_11_14_18_21.jpg: 1088x1920 41 objects, 226.1ms\n",
      "Speed: 5.4ms preprocess, 226.1ms inference, 9.9ms postprocess per image at shape (1, 3, 1920, 1920)\n",
      "\n"
     ]
    },
    {
     "name": "stdout",
     "output_type": "stream",
     "text": [
      "Matrix size: [0, 41]\n",
      "Similarity matrix built in 0.00s                                                                                                    \n",
      "\n",
      "Image: weti1_2024_11_14_18_21_m.jpg\n"
     ]
    },
    {
     "name": "stderr",
     "output_type": "stream",
     "text": [
      "image 1/1 /mnt/c/Users/gtraw/Projekt_badawczy/dataset_11_14/weti1_2024_11_14_18_21_m.jpg: 1088x1920 7 objects, 223.3ms\n",
      "Speed: 4.3ms preprocess, 223.3ms inference, 4.5ms postprocess per image at shape (1, 3, 1920, 1920)\n",
      "\n"
     ]
    },
    {
     "name": "stdout",
     "output_type": "stream",
     "text": [
      "Matrix size: [0, 7]\n",
      "Similarity matrix built in 0.00s                                                                                                    \n",
      "\n",
      "Image: weti1_2024_11_14_18_31.jpg\n"
     ]
    },
    {
     "name": "stderr",
     "output_type": "stream",
     "text": [
      "image 1/1 /mnt/c/Users/gtraw/Projekt_badawczy/dataset_11_14/weti1_2024_11_14_18_31.jpg: 1088x1920 38 objects, 229.4ms\n",
      "Speed: 9.3ms preprocess, 229.4ms inference, 17.1ms postprocess per image at shape (1, 3, 1920, 1920)\n",
      "\n"
     ]
    },
    {
     "name": "stdout",
     "output_type": "stream",
     "text": [
      "Matrix size: [0, 38]\n",
      "Similarity matrix built in 0.00s                                                                                                    \n",
      "\n",
      "Image: weti1_2024_11_14_18_31_m.jpg\n"
     ]
    },
    {
     "name": "stderr",
     "output_type": "stream",
     "text": [
      "image 1/1 /mnt/c/Users/gtraw/Projekt_badawczy/dataset_11_14/weti1_2024_11_14_18_31_m.jpg: 1088x1920 6 objects, 226.6ms\n",
      "Speed: 8.3ms preprocess, 226.6ms inference, 27.8ms postprocess per image at shape (1, 3, 1920, 1920)\n",
      "\n"
     ]
    },
    {
     "name": "stdout",
     "output_type": "stream",
     "text": [
      "Matrix size: [0, 6]\n",
      "Similarity matrix built in 0.00s                                                                                                    \n",
      "\n",
      "Image: weti1_2024_11_14_18_41.jpg\n"
     ]
    },
    {
     "name": "stderr",
     "output_type": "stream",
     "text": [
      "image 1/1 /mnt/c/Users/gtraw/Projekt_badawczy/dataset_11_14/weti1_2024_11_14_18_41.jpg: 1088x1920 37 objects, 226.0ms\n",
      "Speed: 9.1ms preprocess, 226.0ms inference, 10.5ms postprocess per image at shape (1, 3, 1920, 1920)\n",
      "\n"
     ]
    },
    {
     "name": "stdout",
     "output_type": "stream",
     "text": [
      "Matrix size: [0, 37]\n",
      "Similarity matrix built in 0.00s                                                                                                    \n",
      "\n",
      "Image: weti1_2024_11_14_18_41_m.jpg\n"
     ]
    },
    {
     "name": "stderr",
     "output_type": "stream",
     "text": [
      "image 1/1 /mnt/c/Users/gtraw/Projekt_badawczy/dataset_11_14/weti1_2024_11_14_18_41_m.jpg: 1088x1920 7 objects, 229.6ms\n",
      "Speed: 6.3ms preprocess, 229.6ms inference, 12.8ms postprocess per image at shape (1, 3, 1920, 1920)\n",
      "\n"
     ]
    },
    {
     "name": "stdout",
     "output_type": "stream",
     "text": [
      "Matrix size: [0, 7]\n",
      "Similarity matrix built in 0.00s                                                                                                    \n",
      "\n",
      "Image: weti2_2024_11_14_12_47.jpg\n"
     ]
    },
    {
     "name": "stderr",
     "output_type": "stream",
     "text": [
      "image 1/1 /mnt/c/Users/gtraw/Projekt_badawczy/dataset_11_14/weti2_2024_11_14_12_47.jpg: 1088x1920 246 objects, 226.8ms\n",
      "Speed: 6.7ms preprocess, 226.8ms inference, 39.3ms postprocess per image at shape (1, 3, 1920, 1920)\n"
     ]
    },
    {
     "name": "stdout",
     "output_type": "stream",
     "text": [
      "Matrix size: [40, 246]\n",
      "Building similarity matrix:       9219/9840\r"
     ]
    },
    {
     "name": "stderr",
     "output_type": "stream",
     "text": [
      "\n"
     ]
    },
    {
     "name": "stdout",
     "output_type": "stream",
     "text": [
      "Similarity matrix built in 1.72s                                                                                                    \n",
      "\n",
      "Image: weti2_2024_11_14_12_47_m.jpg\n"
     ]
    },
    {
     "name": "stderr",
     "output_type": "stream",
     "text": [
      "image 1/1 /mnt/c/Users/gtraw/Projekt_badawczy/dataset_11_14/weti2_2024_11_14_12_47_m.jpg: 1088x1920 127 objects, 2775.1ms\n",
      "Speed: 4.6ms preprocess, 2775.1ms inference, 360.8ms postprocess per image at shape (1, 3, 1920, 1920)\n"
     ]
    },
    {
     "name": "stdout",
     "output_type": "stream",
     "text": [
      "Matrix size: [40, 127]\n",
      "Building similarity matrix:       4077/5080\r"
     ]
    },
    {
     "name": "stderr",
     "output_type": "stream",
     "text": [
      "\n"
     ]
    },
    {
     "name": "stdout",
     "output_type": "stream",
     "text": [
      "Similarity matrix built in 0.49s                                                                                                    \n",
      "\n",
      "Image: weti2_2024_11_14_12_57.jpg\n"
     ]
    },
    {
     "name": "stderr",
     "output_type": "stream",
     "text": [
      "image 1/1 /mnt/c/Users/gtraw/Projekt_badawczy/dataset_11_14/weti2_2024_11_14_12_57.jpg: 1088x1920 247 objects, 4466.8ms\n",
      "Speed: 5.5ms preprocess, 4466.8ms inference, 33.5ms postprocess per image at shape (1, 3, 1920, 1920)\n"
     ]
    },
    {
     "name": "stdout",
     "output_type": "stream",
     "text": [
      "Matrix size: [40, 247]\n",
      "Building similarity matrix:       8875/9880\r"
     ]
    },
    {
     "name": "stderr",
     "output_type": "stream",
     "text": [
      "\n"
     ]
    },
    {
     "name": "stdout",
     "output_type": "stream",
     "text": [
      "Similarity matrix built in 1.56s                                                                                                    \n",
      "\n",
      "Image: weti2_2024_11_14_12_57_m.jpg\n"
     ]
    },
    {
     "name": "stderr",
     "output_type": "stream",
     "text": [
      "image 1/1 /mnt/c/Users/gtraw/Projekt_badawczy/dataset_11_14/weti2_2024_11_14_12_57_m.jpg: 1088x1920 130 objects, 1866.6ms\n",
      "Speed: 4.5ms preprocess, 1866.6ms inference, 368.6ms postprocess per image at shape (1, 3, 1920, 1920)\n"
     ]
    },
    {
     "name": "stdout",
     "output_type": "stream",
     "text": [
      "Matrix size: [40, 130]\n",
      "Building similarity matrix:       4133/5200\r"
     ]
    },
    {
     "name": "stderr",
     "output_type": "stream",
     "text": [
      "\n"
     ]
    },
    {
     "name": "stdout",
     "output_type": "stream",
     "text": [
      "Similarity matrix built in 0.75s                                                                                                    \n",
      "\n",
      "Image: weti2_2024_11_14_13_07.jpg\n"
     ]
    },
    {
     "name": "stderr",
     "output_type": "stream",
     "text": [
      "image 1/1 /mnt/c/Users/gtraw/Projekt_badawczy/dataset_11_14/weti2_2024_11_14_13_07.jpg: 1088x1920 240 objects, 4465.2ms\n",
      "Speed: 5.2ms preprocess, 4465.2ms inference, 28.3ms postprocess per image at shape (1, 3, 1920, 1920)\n"
     ]
    },
    {
     "name": "stdout",
     "output_type": "stream",
     "text": [
      "Matrix size: [38, 240]\n",
      "Similarity matrix built in 1.39s                                                                                                    \n",
      "\n",
      "Image: weti2_2024_11_14_13_07_m.jpg\n"
     ]
    },
    {
     "name": "stderr",
     "output_type": "stream",
     "text": [
      "\n",
      "image 1/1 /mnt/c/Users/gtraw/Projekt_badawczy/dataset_11_14/weti2_2024_11_14_13_07_m.jpg: 1088x1920 120 objects, 1785.1ms\n",
      "Speed: 5.6ms preprocess, 1785.1ms inference, 339.4ms postprocess per image at shape (1, 3, 1920, 1920)\n"
     ]
    },
    {
     "name": "stdout",
     "output_type": "stream",
     "text": [
      "Matrix size: [38, 120]\n",
      "Building similarity matrix:       2646/4560\r"
     ]
    },
    {
     "name": "stderr",
     "output_type": "stream",
     "text": [
      "\n"
     ]
    },
    {
     "name": "stdout",
     "output_type": "stream",
     "text": [
      "Similarity matrix built in 0.37s                                                                                                    \n",
      "\n",
      "Image: weti2_2024_11_14_14_09.jpg\n"
     ]
    },
    {
     "name": "stderr",
     "output_type": "stream",
     "text": [
      "image 1/1 /mnt/c/Users/gtraw/Projekt_badawczy/dataset_11_14/weti2_2024_11_14_14_09.jpg: 1088x1920 235 objects, 4465.6ms\n",
      "Speed: 6.5ms preprocess, 4465.6ms inference, 27.0ms postprocess per image at shape (1, 3, 1920, 1920)\n"
     ]
    },
    {
     "name": "stdout",
     "output_type": "stream",
     "text": [
      "Matrix size: [38, 235]\n",
      "Building similarity matrix:       8845/8930\r"
     ]
    },
    {
     "name": "stderr",
     "output_type": "stream",
     "text": [
      "\n"
     ]
    },
    {
     "name": "stdout",
     "output_type": "stream",
     "text": [
      "Similarity matrix built in 1.43s                                                                                                    \n",
      "\n",
      "Image: weti2_2024_11_14_14_09_m.jpg\n"
     ]
    },
    {
     "name": "stderr",
     "output_type": "stream",
     "text": [
      "image 1/1 /mnt/c/Users/gtraw/Projekt_badawczy/dataset_11_14/weti2_2024_11_14_14_09_m.jpg: 1088x1920 126 objects, 1637.3ms\n",
      "Speed: 5.3ms preprocess, 1637.3ms inference, 358.1ms postprocess per image at shape (1, 3, 1920, 1920)\n"
     ]
    },
    {
     "name": "stdout",
     "output_type": "stream",
     "text": [
      "Matrix size: [38, 126]\n",
      "Building similarity matrix:       2681/4788\r"
     ]
    },
    {
     "name": "stderr",
     "output_type": "stream",
     "text": [
      "\n"
     ]
    },
    {
     "name": "stdout",
     "output_type": "stream",
     "text": [
      "Similarity matrix built in 0.37s                                                                                                    \n",
      "\n",
      "Image: weti2_2024_11_14_14_19.jpg\n"
     ]
    },
    {
     "name": "stderr",
     "output_type": "stream",
     "text": [
      "image 1/1 /mnt/c/Users/gtraw/Projekt_badawczy/dataset_11_14/weti2_2024_11_14_14_19.jpg: 1088x1920 245 objects, 4465.7ms\n",
      "Speed: 5.9ms preprocess, 4465.7ms inference, 27.9ms postprocess per image at shape (1, 3, 1920, 1920)\n"
     ]
    },
    {
     "name": "stdout",
     "output_type": "stream",
     "text": [
      "Matrix size: [37, 245]\n",
      "Building similarity matrix:       8269/9065\r"
     ]
    },
    {
     "name": "stderr",
     "output_type": "stream",
     "text": [
      "\n"
     ]
    },
    {
     "name": "stdout",
     "output_type": "stream",
     "text": [
      "Similarity matrix built in 1.34s                                                                                                    \n",
      "\n",
      "Image: weti2_2024_11_14_14_19_m.jpg\n"
     ]
    },
    {
     "name": "stderr",
     "output_type": "stream",
     "text": [
      "image 1/1 /mnt/c/Users/gtraw/Projekt_badawczy/dataset_11_14/weti2_2024_11_14_14_19_m.jpg: 1088x1920 123 objects, 1785.2ms\n",
      "Speed: 4.6ms preprocess, 1785.2ms inference, 349.9ms postprocess per image at shape (1, 3, 1920, 1920)\n"
     ]
    },
    {
     "name": "stdout",
     "output_type": "stream",
     "text": [
      "Matrix size: [37, 123]\n",
      "Building similarity matrix:       2729/4551\r"
     ]
    },
    {
     "name": "stderr",
     "output_type": "stream",
     "text": [
      "\n"
     ]
    },
    {
     "name": "stdout",
     "output_type": "stream",
     "text": [
      "Similarity matrix built in 0.35s                                                                                                    \n",
      "\n",
      "Image: weti2_2024_11_14_14_29.jpg\n"
     ]
    },
    {
     "name": "stderr",
     "output_type": "stream",
     "text": [
      "image 1/1 /mnt/c/Users/gtraw/Projekt_badawczy/dataset_11_14/weti2_2024_11_14_14_29.jpg: 1088x1920 237 objects, 4466.9ms\n",
      "Speed: 5.2ms preprocess, 4466.9ms inference, 32.8ms postprocess per image at shape (1, 3, 1920, 1920)\n"
     ]
    },
    {
     "name": "stdout",
     "output_type": "stream",
     "text": [
      "Matrix size: [35, 237]\n",
      "Building similarity matrix:       7173/8295\r"
     ]
    },
    {
     "name": "stderr",
     "output_type": "stream",
     "text": [
      "\n"
     ]
    },
    {
     "name": "stdout",
     "output_type": "stream",
     "text": [
      "Similarity matrix built in 1.17s                                                                                                    \n",
      "\n",
      "Image: weti2_2024_11_14_14_29_m.jpg\n"
     ]
    },
    {
     "name": "stderr",
     "output_type": "stream",
     "text": [
      "image 1/1 /mnt/c/Users/gtraw/Projekt_badawczy/dataset_11_14/weti2_2024_11_14_14_29_m.jpg: 1088x1920 118 objects, 1638.0ms\n",
      "Speed: 4.8ms preprocess, 1638.0ms inference, 336.3ms postprocess per image at shape (1, 3, 1920, 1920)\n"
     ]
    },
    {
     "name": "stdout",
     "output_type": "stream",
     "text": [
      "Matrix size: [35, 118]\n",
      "Building similarity matrix:       2185/4130\r"
     ]
    },
    {
     "name": "stderr",
     "output_type": "stream",
     "text": [
      "\n"
     ]
    },
    {
     "name": "stdout",
     "output_type": "stream",
     "text": [
      "Similarity matrix built in 0.36s                                                                                                    \n",
      "\n",
      "Image: weti2_2024_11_14_14_39.jpg\n"
     ]
    },
    {
     "name": "stderr",
     "output_type": "stream",
     "text": [
      "image 1/1 /mnt/c/Users/gtraw/Projekt_badawczy/dataset_11_14/weti2_2024_11_14_14_39.jpg: 1088x1920 228 objects, 4466.2ms\n",
      "Speed: 6.3ms preprocess, 4466.2ms inference, 26.2ms postprocess per image at shape (1, 3, 1920, 1920)\n"
     ]
    },
    {
     "name": "stdout",
     "output_type": "stream",
     "text": [
      "Matrix size: [32, 228]\n",
      "Building similarity matrix:       5402/7296\r"
     ]
    },
    {
     "name": "stderr",
     "output_type": "stream",
     "text": [
      "\n"
     ]
    },
    {
     "name": "stdout",
     "output_type": "stream",
     "text": [
      "Similarity matrix built in 0.55s                                                                                                    \n",
      "\n",
      "Image: weti2_2024_11_14_14_39_m.jpg\n"
     ]
    },
    {
     "name": "stderr",
     "output_type": "stream",
     "text": [
      "image 1/1 /mnt/c/Users/gtraw/Projekt_badawczy/dataset_11_14/weti2_2024_11_14_14_39_m.jpg: 1088x1920 113 objects, 1641.2ms\n",
      "Speed: 11.7ms preprocess, 1641.2ms inference, 329.3ms postprocess per image at shape (1, 3, 1920, 1920)\n"
     ]
    },
    {
     "name": "stdout",
     "output_type": "stream",
     "text": [
      "Matrix size: [32, 113]\n",
      "Building similarity matrix:       2569/3616\r"
     ]
    },
    {
     "name": "stderr",
     "output_type": "stream",
     "text": [
      "\n"
     ]
    },
    {
     "name": "stdout",
     "output_type": "stream",
     "text": [
      "Similarity matrix built in 0.30s                                                                                                    \n",
      "\n",
      "Image: weti2_2024_11_14_14_49.jpg\n"
     ]
    },
    {
     "name": "stderr",
     "output_type": "stream",
     "text": [
      "image 1/1 /mnt/c/Users/gtraw/Projekt_badawczy/dataset_11_14/weti2_2024_11_14_14_49.jpg: 1088x1920 237 objects, 4467.6ms\n",
      "Speed: 5.7ms preprocess, 4467.6ms inference, 33.4ms postprocess per image at shape (1, 3, 1920, 1920)\n"
     ]
    },
    {
     "name": "stdout",
     "output_type": "stream",
     "text": [
      "Matrix size: [30, 237]\n",
      "Building similarity matrix:       7030/7110\r"
     ]
    },
    {
     "name": "stderr",
     "output_type": "stream",
     "text": [
      "\n"
     ]
    },
    {
     "name": "stdout",
     "output_type": "stream",
     "text": [
      "Similarity matrix built in 0.61s                                                                                                    \n",
      "\n",
      "Image: weti2_2024_11_14_14_49_m.jpg\n"
     ]
    },
    {
     "name": "stderr",
     "output_type": "stream",
     "text": [
      "image 1/1 /mnt/c/Users/gtraw/Projekt_badawczy/dataset_11_14/weti2_2024_11_14_14_49_m.jpg: 1088x1920 120 objects, 1639.7ms\n",
      "Speed: 5.3ms preprocess, 1639.7ms inference, 340.5ms postprocess per image at shape (1, 3, 1920, 1920)\n"
     ]
    },
    {
     "name": "stdout",
     "output_type": "stream",
     "text": [
      "Matrix size: [30, 120]\n",
      "Building similarity matrix:       2668/3600\r"
     ]
    },
    {
     "name": "stderr",
     "output_type": "stream",
     "text": [
      "\n"
     ]
    },
    {
     "name": "stdout",
     "output_type": "stream",
     "text": [
      "Similarity matrix built in 0.28s                                                                                                    \n",
      "\n",
      "Image: weti2_2024_11_14_14_59.jpg\n"
     ]
    },
    {
     "name": "stderr",
     "output_type": "stream",
     "text": [
      "image 1/1 /mnt/c/Users/gtraw/Projekt_badawczy/dataset_11_14/weti2_2024_11_14_14_59.jpg: 1088x1920 216 objects, 4466.4ms\n",
      "Speed: 5.2ms preprocess, 4466.4ms inference, 27.5ms postprocess per image at shape (1, 3, 1920, 1920)\n"
     ]
    },
    {
     "name": "stdout",
     "output_type": "stream",
     "text": [
      "Matrix size: [27, 216]\n",
      "Building similarity matrix:       5443/5832\r"
     ]
    },
    {
     "name": "stderr",
     "output_type": "stream",
     "text": [
      "\n"
     ]
    },
    {
     "name": "stdout",
     "output_type": "stream",
     "text": [
      "Similarity matrix built in 0.87s                                                                                                    \n",
      "\n",
      "Image: weti2_2024_11_14_14_59_m.jpg\n"
     ]
    },
    {
     "name": "stderr",
     "output_type": "stream",
     "text": [
      "image 1/1 /mnt/c/Users/gtraw/Projekt_badawczy/dataset_11_14/weti2_2024_11_14_14_59_m.jpg: 1088x1920 104 objects, 225.4ms\n",
      "Speed: 5.3ms preprocess, 225.4ms inference, 294.5ms postprocess per image at shape (1, 3, 1920, 1920)\n"
     ]
    },
    {
     "name": "stdout",
     "output_type": "stream",
     "text": [
      "Matrix size: [27, 104]\n",
      "Building similarity matrix:       2417/2808\r"
     ]
    },
    {
     "name": "stderr",
     "output_type": "stream",
     "text": [
      "\n"
     ]
    },
    {
     "name": "stdout",
     "output_type": "stream",
     "text": [
      "Similarity matrix built in 0.24s                                                                                                    \n",
      "\n",
      "Image: weti2_2024_11_14_15_09.jpg\n"
     ]
    },
    {
     "name": "stderr",
     "output_type": "stream",
     "text": [
      "image 1/1 /mnt/c/Users/gtraw/Projekt_badawczy/dataset_11_14/weti2_2024_11_14_15_09.jpg: 1088x1920 207 objects, 4465.8ms\n",
      "Speed: 5.0ms preprocess, 4465.8ms inference, 24.0ms postprocess per image at shape (1, 3, 1920, 1920)\n"
     ]
    },
    {
     "name": "stdout",
     "output_type": "stream",
     "text": [
      "Matrix size: [26, 207]\n",
      "Building similarity matrix:       5278/5382\r"
     ]
    },
    {
     "name": "stderr",
     "output_type": "stream",
     "text": [
      "\n"
     ]
    },
    {
     "name": "stdout",
     "output_type": "stream",
     "text": [
      "Similarity matrix built in 0.83s                                                                                                    \n",
      "\n",
      "Image: weti2_2024_11_14_15_09_m.jpg\n"
     ]
    },
    {
     "name": "stderr",
     "output_type": "stream",
     "text": [
      "image 1/1 /mnt/c/Users/gtraw/Projekt_badawczy/dataset_11_14/weti2_2024_11_14_15_09_m.jpg: 1088x1920 97 objects, 225.9ms\n",
      "Speed: 9.6ms preprocess, 225.9ms inference, 284.7ms postprocess per image at shape (1, 3, 1920, 1920)\n"
     ]
    },
    {
     "name": "stdout",
     "output_type": "stream",
     "text": [
      "Matrix size: [26, 97]\n",
      "Building similarity matrix:       1789/2522\r"
     ]
    },
    {
     "name": "stderr",
     "output_type": "stream",
     "text": [
      "\n"
     ]
    },
    {
     "name": "stdout",
     "output_type": "stream",
     "text": [
      "Similarity matrix built in 0.51s                                                                                                    \n",
      "\n",
      "Image: weti2_2024_11_14_15_19.jpg\n"
     ]
    },
    {
     "name": "stderr",
     "output_type": "stream",
     "text": [
      "image 1/1 /mnt/c/Users/gtraw/Projekt_badawczy/dataset_11_14/weti2_2024_11_14_15_19.jpg: 1088x1920 219 objects, 4472.8ms\n",
      "Speed: 5.5ms preprocess, 4472.8ms inference, 26.1ms postprocess per image at shape (1, 3, 1920, 1920)\n"
     ]
    },
    {
     "name": "stdout",
     "output_type": "stream",
     "text": [
      "Matrix size: [25, 219]\n",
      "Building similarity matrix:       4110/5475\r"
     ]
    },
    {
     "name": "stderr",
     "output_type": "stream",
     "text": [
      "\n"
     ]
    },
    {
     "name": "stdout",
     "output_type": "stream",
     "text": [
      "Similarity matrix built in 0.54s                                                                                                    \n",
      "\n",
      "Image: weti2_2024_11_14_15_19_m.jpg\n"
     ]
    },
    {
     "name": "stderr",
     "output_type": "stream",
     "text": [
      "image 1/1 /mnt/c/Users/gtraw/Projekt_badawczy/dataset_11_14/weti2_2024_11_14_15_19_m.jpg: 1088x1920 100 objects, 224.7ms\n",
      "Speed: 4.9ms preprocess, 224.7ms inference, 284.2ms postprocess per image at shape (1, 3, 1920, 1920)\n"
     ]
    },
    {
     "name": "stdout",
     "output_type": "stream",
     "text": [
      "Matrix size: [25, 100]\n",
      "Building similarity matrix:       1887/2500\r"
     ]
    },
    {
     "name": "stderr",
     "output_type": "stream",
     "text": [
      "\n"
     ]
    },
    {
     "name": "stdout",
     "output_type": "stream",
     "text": [
      "Similarity matrix built in 0.49s                                                                                                    \n",
      "\n",
      "Image: weti2_2024_11_14_18_11.jpg\n"
     ]
    },
    {
     "name": "stderr",
     "output_type": "stream",
     "text": [
      "image 1/1 /mnt/c/Users/gtraw/Projekt_badawczy/dataset_11_14/weti2_2024_11_14_18_11.jpg: 1088x1920 31 objects, 4465.4ms\n",
      "Speed: 5.2ms preprocess, 4465.4ms inference, 91.9ms postprocess per image at shape (1, 3, 1920, 1920)\n",
      "\n"
     ]
    },
    {
     "name": "stdout",
     "output_type": "stream",
     "text": [
      "Matrix size: [10, 31]\n",
      "Similarity matrix built in 0.02s                                                                                                    \n",
      "\n",
      "Image: weti2_2024_11_14_18_11_m.jpg\n"
     ]
    },
    {
     "name": "stderr",
     "output_type": "stream",
     "text": [
      "image 1/1 /mnt/c/Users/gtraw/Projekt_badawczy/dataset_11_14/weti2_2024_11_14_18_11_m.jpg: 1088x1920 15 objects, 4463.1ms\n",
      "Speed: 5.7ms preprocess, 4463.1ms inference, 7.6ms postprocess per image at shape (1, 3, 1920, 1920)\n",
      "\n"
     ]
    },
    {
     "name": "stdout",
     "output_type": "stream",
     "text": [
      "Matrix size: [10, 15]\n",
      "Similarity matrix built in 0.03s                                                                                                    \n",
      "\n",
      "Image: weti2_2024_11_14_18_21.jpg\n"
     ]
    },
    {
     "name": "stderr",
     "output_type": "stream",
     "text": [
      "image 1/1 /mnt/c/Users/gtraw/Projekt_badawczy/dataset_11_14/weti2_2024_11_14_18_21.jpg: 1088x1920 25 objects, 226.7ms\n",
      "Speed: 4.7ms preprocess, 226.7ms inference, 5.9ms postprocess per image at shape (1, 3, 1920, 1920)\n",
      "\n"
     ]
    },
    {
     "name": "stdout",
     "output_type": "stream",
     "text": [
      "Matrix size: [6, 25]\n",
      "Similarity matrix built in 0.01s                                                                                                    \n",
      "\n",
      "Image: weti2_2024_11_14_18_21_m.jpg\n"
     ]
    },
    {
     "name": "stderr",
     "output_type": "stream",
     "text": [
      "image 1/1 /mnt/c/Users/gtraw/Projekt_badawczy/dataset_11_14/weti2_2024_11_14_18_21_m.jpg: 1088x1920 11 objects, 226.1ms\n",
      "Speed: 4.8ms preprocess, 226.1ms inference, 7.2ms postprocess per image at shape (1, 3, 1920, 1920)\n",
      "\n"
     ]
    },
    {
     "name": "stdout",
     "output_type": "stream",
     "text": [
      "Matrix size: [6, 11]\n",
      "Similarity matrix built in 0.02s                                                                                                    \n",
      "\n",
      "Image: weti2_2024_11_14_18_31.jpg\n"
     ]
    },
    {
     "name": "stderr",
     "output_type": "stream",
     "text": [
      "image 1/1 /mnt/c/Users/gtraw/Projekt_badawczy/dataset_11_14/weti2_2024_11_14_18_31.jpg: 1088x1920 20 objects, 227.0ms\n",
      "Speed: 4.7ms preprocess, 227.0ms inference, 5.9ms postprocess per image at shape (1, 3, 1920, 1920)\n",
      "\n"
     ]
    },
    {
     "name": "stdout",
     "output_type": "stream",
     "text": [
      "Matrix size: [6, 20]\n",
      "Similarity matrix built in 0.01s                                                                                                    \n",
      "\n",
      "Image: weti2_2024_11_14_18_31_m.jpg\n"
     ]
    },
    {
     "name": "stderr",
     "output_type": "stream",
     "text": [
      "image 1/1 /mnt/c/Users/gtraw/Projekt_badawczy/dataset_11_14/weti2_2024_11_14_18_31_m.jpg: 1088x1920 12 objects, 225.8ms\n",
      "Speed: 4.9ms preprocess, 225.8ms inference, 5.6ms postprocess per image at shape (1, 3, 1920, 1920)\n",
      "\n"
     ]
    },
    {
     "name": "stdout",
     "output_type": "stream",
     "text": [
      "Matrix size: [6, 12]\n",
      "Similarity matrix built in 0.01s                                                                                                    \n",
      "\n",
      "Image: weti2_2024_11_14_18_41.jpg\n"
     ]
    },
    {
     "name": "stderr",
     "output_type": "stream",
     "text": [
      "image 1/1 /mnt/c/Users/gtraw/Projekt_badawczy/dataset_11_14/weti2_2024_11_14_18_41.jpg: 1088x1920 23 objects, 226.8ms\n",
      "Speed: 4.4ms preprocess, 226.8ms inference, 6.5ms postprocess per image at shape (1, 3, 1920, 1920)\n",
      "\n"
     ]
    },
    {
     "name": "stdout",
     "output_type": "stream",
     "text": [
      "Matrix size: [6, 23]\n",
      "Similarity matrix built in 0.01s                                                                                                    \n",
      "\n",
      "Image: weti2_2024_11_14_18_41_m.jpg\n"
     ]
    },
    {
     "name": "stderr",
     "output_type": "stream",
     "text": [
      "image 1/1 /mnt/c/Users/gtraw/Projekt_badawczy/dataset_11_14/weti2_2024_11_14_18_41_m.jpg: 1088x1920 10 objects, 227.2ms\n",
      "Speed: 4.6ms preprocess, 227.2ms inference, 7.4ms postprocess per image at shape (1, 3, 1920, 1920)\n",
      "/mnt/c/Users/gtraw/Projekt_badawczy/FastSAM/ultralytics/nn/tasks.py:518: FutureWarning: You are using `torch.load` with `weights_only=False` (the current default value), which uses the default pickle module implicitly. It is possible to construct malicious pickle data which will execute arbitrary code during unpickling (See https://github.com/pytorch/pytorch/blob/main/SECURITY.md#untrusted-models for more details). In a future release, the default value for `weights_only` will be flipped to `True`. This limits the functions that could be executed during unpickling. Arbitrary objects will no longer be allowed to be loaded via this mode unless they are explicitly allowlisted by the user via `torch.serialization.add_safe_globals`. We recommend you start setting `weights_only=True` for any use case where you don't have full control of the loaded file. Please open an issue on GitHub for any issues related to this experimental feature.\n",
      "  return torch.load(file, map_location='cpu'), file  # load\n"
     ]
    },
    {
     "name": "stdout",
     "output_type": "stream",
     "text": [
      "Matrix size: [6, 10]\n",
      "Similarity matrix built in 0.01s                                                                                                    \n"
     ]
    },
    {
     "name": "stderr",
     "output_type": "stream",
     "text": [
      "\n"
     ]
    },
    {
     "name": "stdout",
     "output_type": "stream",
     "text": [
      "output_dir: /mnt/c/Users/gtraw/Projekt_badawczy/dataset_results_11_14/ious\n",
      "\n",
      "Image: weti1_2024_11_14_12_47.jpg\n"
     ]
    },
    {
     "name": "stderr",
     "output_type": "stream",
     "text": [
      "image 1/1 /mnt/c/Users/gtraw/Projekt_badawczy/dataset_11_14/weti1_2024_11_14_12_47.jpg: 1088x1920 300 objects, 36.8ms\n",
      "Speed: 4.4ms preprocess, 36.8ms inference, 513.4ms postprocess per image at shape (1, 3, 1920, 1920)\n"
     ]
    },
    {
     "name": "stdout",
     "output_type": "stream",
     "text": [
      "Matrix size: [14, 300]\n",
      "Building similarity matrix:       3014/4200\r"
     ]
    },
    {
     "name": "stderr",
     "output_type": "stream",
     "text": [
      "\n"
     ]
    },
    {
     "name": "stdout",
     "output_type": "stream",
     "text": [
      "Similarity matrix built in 0.56s                                                                                                    \n",
      "\n",
      "Image: weti1_2024_11_14_12_47_m.jpg\n"
     ]
    },
    {
     "name": "stderr",
     "output_type": "stream",
     "text": [
      "image 1/1 /mnt/c/Users/gtraw/Projekt_badawczy/dataset_11_14/weti1_2024_11_14_12_47_m.jpg: 1088x1920 46 objects, 70.1ms\n",
      "Speed: 6.9ms preprocess, 70.1ms inference, 12.1ms postprocess per image at shape (1, 3, 1920, 1920)\n",
      "\n"
     ]
    },
    {
     "name": "stdout",
     "output_type": "stream",
     "text": [
      "Matrix size: [14, 46]\n",
      "Similarity matrix built in 0.05s                                                                                                    \n",
      "\n",
      "Image: weti1_2024_11_14_12_57.jpg\n"
     ]
    },
    {
     "name": "stderr",
     "output_type": "stream",
     "text": [
      "image 1/1 /mnt/c/Users/gtraw/Projekt_badawczy/dataset_11_14/weti1_2024_11_14_12_57.jpg: 1088x1920 300 objects, 71.1ms\n",
      "Speed: 6.0ms preprocess, 71.1ms inference, 514.8ms postprocess per image at shape (1, 3, 1920, 1920)\n"
     ]
    },
    {
     "name": "stdout",
     "output_type": "stream",
     "text": [
      "Matrix size: [14, 300]\n",
      "Building similarity matrix:       2918/4200\r"
     ]
    },
    {
     "name": "stderr",
     "output_type": "stream",
     "text": [
      "\n"
     ]
    },
    {
     "name": "stdout",
     "output_type": "stream",
     "text": [
      "Similarity matrix built in 0.57s                                                                                                    \n",
      "\n",
      "Image: weti1_2024_11_14_12_57_m.jpg\n"
     ]
    },
    {
     "name": "stderr",
     "output_type": "stream",
     "text": [
      "image 1/1 /mnt/c/Users/gtraw/Projekt_badawczy/dataset_11_14/weti1_2024_11_14_12_57_m.jpg: 1088x1920 48 objects, 36.8ms\n",
      "Speed: 5.3ms preprocess, 36.8ms inference, 9.6ms postprocess per image at shape (1, 3, 1920, 1920)\n",
      "\n"
     ]
    },
    {
     "name": "stdout",
     "output_type": "stream",
     "text": [
      "Matrix size: [14, 48]\n",
      "Similarity matrix built in 0.06s                                                                                                    \n",
      "\n",
      "Image: weti1_2024_11_14_13_07.jpg\n"
     ]
    },
    {
     "name": "stderr",
     "output_type": "stream",
     "text": [
      "image 1/1 /mnt/c/Users/gtraw/Projekt_badawczy/dataset_11_14/weti1_2024_11_14_13_07.jpg: 1088x1920 300 objects, 44.8ms\n",
      "Speed: 6.6ms preprocess, 44.8ms inference, 513.9ms postprocess per image at shape (1, 3, 1920, 1920)\n"
     ]
    },
    {
     "name": "stdout",
     "output_type": "stream",
     "text": [
      "Matrix size: [14, 300]\n",
      "Building similarity matrix:       3183/4200\r"
     ]
    },
    {
     "name": "stderr",
     "output_type": "stream",
     "text": [
      "\n"
     ]
    },
    {
     "name": "stdout",
     "output_type": "stream",
     "text": [
      "Similarity matrix built in 0.27s                                                                                                    \n",
      "\n",
      "Image: weti1_2024_11_14_13_07_m.jpg\n"
     ]
    },
    {
     "name": "stderr",
     "output_type": "stream",
     "text": [
      "image 1/1 /mnt/c/Users/gtraw/Projekt_badawczy/dataset_11_14/weti1_2024_11_14_13_07_m.jpg: 1088x1920 44 objects, 38.4ms\n",
      "Speed: 6.3ms preprocess, 38.4ms inference, 13.8ms postprocess per image at shape (1, 3, 1920, 1920)\n",
      "\n"
     ]
    },
    {
     "name": "stdout",
     "output_type": "stream",
     "text": [
      "Matrix size: [14, 44]\n",
      "Similarity matrix built in 0.07s                                                                                                    \n",
      "\n",
      "Image: weti1_2024_11_14_14_09.jpg\n"
     ]
    },
    {
     "name": "stderr",
     "output_type": "stream",
     "text": [
      "image 1/1 /mnt/c/Users/gtraw/Projekt_badawczy/dataset_11_14/weti1_2024_11_14_14_09.jpg: 1088x1920 300 objects, 37.3ms\n",
      "Speed: 6.0ms preprocess, 37.3ms inference, 513.5ms postprocess per image at shape (1, 3, 1920, 1920)\n"
     ]
    },
    {
     "name": "stdout",
     "output_type": "stream",
     "text": [
      "Matrix size: [13, 300]\n",
      "Building similarity matrix:       3376/3900\r"
     ]
    },
    {
     "name": "stderr",
     "output_type": "stream",
     "text": [
      "\n"
     ]
    },
    {
     "name": "stdout",
     "output_type": "stream",
     "text": [
      "Similarity matrix built in 0.23s                                                                                                    \n",
      "\n",
      "Image: weti1_2024_11_14_14_09_m.jpg\n"
     ]
    },
    {
     "name": "stderr",
     "output_type": "stream",
     "text": [
      "image 1/1 /mnt/c/Users/gtraw/Projekt_badawczy/dataset_11_14/weti1_2024_11_14_14_09_m.jpg: 1088x1920 47 objects, 38.0ms\n",
      "Speed: 5.3ms preprocess, 38.0ms inference, 9.6ms postprocess per image at shape (1, 3, 1920, 1920)\n",
      "\n"
     ]
    },
    {
     "name": "stdout",
     "output_type": "stream",
     "text": [
      "Matrix size: [13, 47]\n",
      "Similarity matrix built in 0.05s                                                                                                    \n",
      "\n",
      "Image: weti1_2024_11_14_14_19.jpg\n"
     ]
    },
    {
     "name": "stderr",
     "output_type": "stream",
     "text": [
      "image 1/1 /mnt/c/Users/gtraw/Projekt_badawczy/dataset_11_14/weti1_2024_11_14_14_19.jpg: 1088x1920 300 objects, 37.6ms\n",
      "Speed: 5.4ms preprocess, 37.6ms inference, 513.7ms postprocess per image at shape (1, 3, 1920, 1920)\n"
     ]
    },
    {
     "name": "stdout",
     "output_type": "stream",
     "text": [
      "Matrix size: [13, 300]\n",
      "Building similarity matrix:       3013/3900\r"
     ]
    },
    {
     "name": "stderr",
     "output_type": "stream",
     "text": [
      "\n"
     ]
    },
    {
     "name": "stdout",
     "output_type": "stream",
     "text": [
      "Similarity matrix built in 0.27s                                                                                                    \n",
      "\n",
      "Image: weti1_2024_11_14_14_19_m.jpg\n"
     ]
    },
    {
     "name": "stderr",
     "output_type": "stream",
     "text": [
      "image 1/1 /mnt/c/Users/gtraw/Projekt_badawczy/dataset_11_14/weti1_2024_11_14_14_19_m.jpg: 1088x1920 55 objects, 39.8ms\n",
      "Speed: 4.8ms preprocess, 39.8ms inference, 22.9ms postprocess per image at shape (1, 3, 1920, 1920)\n",
      "\n"
     ]
    },
    {
     "name": "stdout",
     "output_type": "stream",
     "text": [
      "Matrix size: [13, 55]\n",
      "Similarity matrix built in 0.05s                                                                                                    \n",
      "\n",
      "Image: weti1_2024_11_14_14_29.jpg\n"
     ]
    },
    {
     "name": "stderr",
     "output_type": "stream",
     "text": [
      "image 1/1 /mnt/c/Users/gtraw/Projekt_badawczy/dataset_11_14/weti1_2024_11_14_14_29.jpg: 1088x1920 300 objects, 36.4ms\n",
      "Speed: 4.4ms preprocess, 36.4ms inference, 512.3ms postprocess per image at shape (1, 3, 1920, 1920)\n"
     ]
    },
    {
     "name": "stdout",
     "output_type": "stream",
     "text": [
      "Matrix size: [13, 300]\n",
      "Building similarity matrix:       3180/3900\r"
     ]
    },
    {
     "name": "stderr",
     "output_type": "stream",
     "text": [
      "\n"
     ]
    },
    {
     "name": "stdout",
     "output_type": "stream",
     "text": [
      "Similarity matrix built in 0.25s                                                                                                    \n",
      "\n",
      "Image: weti1_2024_11_14_14_29_m.jpg\n"
     ]
    },
    {
     "name": "stderr",
     "output_type": "stream",
     "text": [
      "image 1/1 /mnt/c/Users/gtraw/Projekt_badawczy/dataset_11_14/weti1_2024_11_14_14_29_m.jpg: 1088x1920 45 objects, 36.5ms\n",
      "Speed: 5.0ms preprocess, 36.5ms inference, 8.3ms postprocess per image at shape (1, 3, 1920, 1920)\n",
      "\n"
     ]
    },
    {
     "name": "stdout",
     "output_type": "stream",
     "text": [
      "Matrix size: [13, 45]\n",
      "Similarity matrix built in 0.04s                                                                                                    \n",
      "\n",
      "Image: weti1_2024_11_14_14_39.jpg\n"
     ]
    },
    {
     "name": "stderr",
     "output_type": "stream",
     "text": [
      "image 1/1 /mnt/c/Users/gtraw/Projekt_badawczy/dataset_11_14/weti1_2024_11_14_14_39.jpg: 1088x1920 300 objects, 37.0ms\n",
      "Speed: 6.6ms preprocess, 37.0ms inference, 513.2ms postprocess per image at shape (1, 3, 1920, 1920)\n"
     ]
    },
    {
     "name": "stdout",
     "output_type": "stream",
     "text": [
      "Matrix size: [12, 300]\n",
      "Building similarity matrix:       1910/3600\r"
     ]
    },
    {
     "name": "stderr",
     "output_type": "stream",
     "text": [
      "\n"
     ]
    },
    {
     "name": "stdout",
     "output_type": "stream",
     "text": [
      "Similarity matrix built in 0.31s                                                                                                    \n",
      "\n",
      "Image: weti1_2024_11_14_14_39_m.jpg\n"
     ]
    },
    {
     "name": "stderr",
     "output_type": "stream",
     "text": [
      "image 1/1 /mnt/c/Users/gtraw/Projekt_badawczy/dataset_11_14/weti1_2024_11_14_14_39_m.jpg: 1088x1920 44 objects, 40.9ms\n",
      "Speed: 5.7ms preprocess, 40.9ms inference, 8.7ms postprocess per image at shape (1, 3, 1920, 1920)\n",
      "\n"
     ]
    },
    {
     "name": "stdout",
     "output_type": "stream",
     "text": [
      "Matrix size: [12, 44]\n",
      "Similarity matrix built in 0.06s                                                                                                    \n",
      "\n",
      "Image: weti1_2024_11_14_14_49.jpg\n"
     ]
    },
    {
     "name": "stderr",
     "output_type": "stream",
     "text": [
      "image 1/1 /mnt/c/Users/gtraw/Projekt_badawczy/dataset_11_14/weti1_2024_11_14_14_49.jpg: 1088x1920 300 objects, 47.7ms\n",
      "Speed: 5.5ms preprocess, 47.7ms inference, 522.0ms postprocess per image at shape (1, 3, 1920, 1920)\n"
     ]
    },
    {
     "name": "stdout",
     "output_type": "stream",
     "text": [
      "Matrix size: [12, 300]\n",
      "Building similarity matrix:       3188/3600\r"
     ]
    },
    {
     "name": "stderr",
     "output_type": "stream",
     "text": [
      "\n"
     ]
    },
    {
     "name": "stdout",
     "output_type": "stream",
     "text": [
      "Similarity matrix built in 0.47s                                                                                                    \n",
      "\n",
      "Image: weti1_2024_11_14_14_49_m.jpg\n"
     ]
    },
    {
     "name": "stderr",
     "output_type": "stream",
     "text": [
      "image 1/1 /mnt/c/Users/gtraw/Projekt_badawczy/dataset_11_14/weti1_2024_11_14_14_49_m.jpg: 1088x1920 40 objects, 37.8ms\n",
      "Speed: 5.0ms preprocess, 37.8ms inference, 8.8ms postprocess per image at shape (1, 3, 1920, 1920)\n",
      "\n"
     ]
    },
    {
     "name": "stdout",
     "output_type": "stream",
     "text": [
      "Matrix size: [12, 40]\n",
      "Similarity matrix built in 0.03s                                                                                                    \n",
      "\n",
      "Image: weti1_2024_11_14_14_59.jpg\n"
     ]
    },
    {
     "name": "stderr",
     "output_type": "stream",
     "text": [
      "image 1/1 /mnt/c/Users/gtraw/Projekt_badawczy/dataset_11_14/weti1_2024_11_14_14_59.jpg: 1088x1920 300 objects, 46.1ms\n",
      "Speed: 5.1ms preprocess, 46.1ms inference, 518.5ms postprocess per image at shape (1, 3, 1920, 1920)\n",
      "\n"
     ]
    },
    {
     "name": "stdout",
     "output_type": "stream",
     "text": [
      "Matrix size: [11, 300]\n",
      "Similarity matrix built in 0.19s                                                                                                    \n",
      "\n",
      "Image: weti1_2024_11_14_14_59_m.jpg\n"
     ]
    },
    {
     "name": "stderr",
     "output_type": "stream",
     "text": [
      "image 1/1 /mnt/c/Users/gtraw/Projekt_badawczy/dataset_11_14/weti1_2024_11_14_14_59_m.jpg: 1088x1920 36 objects, 38.6ms\n",
      "Speed: 5.6ms preprocess, 38.6ms inference, 16.4ms postprocess per image at shape (1, 3, 1920, 1920)\n",
      "\n"
     ]
    },
    {
     "name": "stdout",
     "output_type": "stream",
     "text": [
      "Matrix size: [11, 36]\n",
      "Similarity matrix built in 0.03s                                                                                                    \n",
      "\n",
      "Image: weti1_2024_11_14_15_09.jpg\n"
     ]
    },
    {
     "name": "stderr",
     "output_type": "stream",
     "text": [
      "image 1/1 /mnt/c/Users/gtraw/Projekt_badawczy/dataset_11_14/weti1_2024_11_14_15_09.jpg: 1088x1920 300 objects, 36.6ms\n",
      "Speed: 5.4ms preprocess, 36.6ms inference, 512.3ms postprocess per image at shape (1, 3, 1920, 1920)\n",
      "\n"
     ]
    },
    {
     "name": "stdout",
     "output_type": "stream",
     "text": [
      "Matrix size: [9, 300]\n",
      "Similarity matrix built in 0.16s                                                                                                    \n",
      "\n",
      "Image: weti1_2024_11_14_15_09_m.jpg\n"
     ]
    },
    {
     "name": "stderr",
     "output_type": "stream",
     "text": [
      "image 1/1 /mnt/c/Users/gtraw/Projekt_badawczy/dataset_11_14/weti1_2024_11_14_15_09_m.jpg: 1088x1920 27 objects, 37.0ms\n",
      "Speed: 6.9ms preprocess, 37.0ms inference, 7.3ms postprocess per image at shape (1, 3, 1920, 1920)\n",
      "\n"
     ]
    },
    {
     "name": "stdout",
     "output_type": "stream",
     "text": [
      "Matrix size: [9, 27]\n",
      "Similarity matrix built in 0.02s                                                                                                    \n",
      "\n",
      "Image: weti1_2024_11_14_15_19.jpg\n"
     ]
    },
    {
     "name": "stderr",
     "output_type": "stream",
     "text": [
      "image 1/1 /mnt/c/Users/gtraw/Projekt_badawczy/dataset_11_14/weti1_2024_11_14_15_19.jpg: 1088x1920 300 objects, 36.3ms\n",
      "Speed: 5.7ms preprocess, 36.3ms inference, 512.6ms postprocess per image at shape (1, 3, 1920, 1920)\n",
      "\n"
     ]
    },
    {
     "name": "stdout",
     "output_type": "stream",
     "text": [
      "Matrix size: [9, 300]\n",
      "Similarity matrix built in 0.19s                                                                                                    \n",
      "\n",
      "Image: weti1_2024_11_14_15_19_m.jpg\n"
     ]
    },
    {
     "name": "stderr",
     "output_type": "stream",
     "text": [
      "image 1/1 /mnt/c/Users/gtraw/Projekt_badawczy/dataset_11_14/weti1_2024_11_14_15_19_m.jpg: 1088x1920 32 objects, 37.7ms\n",
      "Speed: 4.8ms preprocess, 37.7ms inference, 7.2ms postprocess per image at shape (1, 3, 1920, 1920)\n",
      "\n"
     ]
    },
    {
     "name": "stdout",
     "output_type": "stream",
     "text": [
      "Matrix size: [9, 32]\n",
      "Similarity matrix built in 0.03s                                                                                                    \n",
      "\n",
      "Image: weti1_2024_11_14_18_11.jpg\n"
     ]
    },
    {
     "name": "stderr",
     "output_type": "stream",
     "text": [
      "image 1/1 /mnt/c/Users/gtraw/Projekt_badawczy/dataset_11_14/weti1_2024_11_14_18_11.jpg: 1088x1920 46 objects, 37.0ms\n",
      "Speed: 5.9ms preprocess, 37.0ms inference, 10.6ms postprocess per image at shape (1, 3, 1920, 1920)\n",
      "\n",
      "image 1/1 /mnt/c/Users/gtraw/Projekt_badawczy/dataset_11_14/weti1_2024_11_14_18_11_m.jpg: 1088x1920 11 objects, 42.5ms\n"
     ]
    },
    {
     "name": "stdout",
     "output_type": "stream",
     "text": [
      "Matrix size: [2, 46]\n",
      "Similarity matrix built in 0.01s                                                                                                    \n",
      "\n",
      "Image: weti1_2024_11_14_18_11_m.jpg\n"
     ]
    },
    {
     "name": "stderr",
     "output_type": "stream",
     "text": [
      "Speed: 4.9ms preprocess, 42.5ms inference, 6.8ms postprocess per image at shape (1, 3, 1920, 1920)\n",
      "\n"
     ]
    },
    {
     "name": "stdout",
     "output_type": "stream",
     "text": [
      "Matrix size: [2, 11]\n",
      "Similarity matrix built in 0.00s                                                                                                    \n",
      "\n",
      "Image: weti1_2024_11_14_18_21.jpg\n"
     ]
    },
    {
     "name": "stderr",
     "output_type": "stream",
     "text": [
      "image 1/1 /mnt/c/Users/gtraw/Projekt_badawczy/dataset_11_14/weti1_2024_11_14_18_21.jpg: 1088x1920 49 objects, 37.5ms\n",
      "Speed: 5.8ms preprocess, 37.5ms inference, 11.0ms postprocess per image at shape (1, 3, 1920, 1920)\n",
      "\n",
      "image 1/1 /mnt/c/Users/gtraw/Projekt_badawczy/dataset_11_14/weti1_2024_11_14_18_21_m.jpg: 1088x1920 10 objects, 36.3ms\n",
      "Speed: 4.5ms preprocess, 36.3ms inference, 4.7ms postprocess per image at shape (1, 3, 1920, 1920)\n"
     ]
    },
    {
     "name": "stdout",
     "output_type": "stream",
     "text": [
      "Matrix size: [0, 49]\n",
      "Similarity matrix built in 0.00s                                                                                                    \n",
      "\n",
      "Image: weti1_2024_11_14_18_21_m.jpg\n"
     ]
    },
    {
     "name": "stderr",
     "output_type": "stream",
     "text": [
      "\n",
      "image 1/1 /mnt/c/Users/gtraw/Projekt_badawczy/dataset_11_14/weti1_2024_11_14_18_31.jpg: 1088x1920 44 objects, 36.1ms\n",
      "Speed: 4.8ms preprocess, 36.1ms inference, 7.9ms postprocess per image at shape (1, 3, 1920, 1920)\n"
     ]
    },
    {
     "name": "stdout",
     "output_type": "stream",
     "text": [
      "Matrix size: [0, 10]\n",
      "Similarity matrix built in 0.00s                                                                                                    \n",
      "\n",
      "Image: weti1_2024_11_14_18_31.jpg\n"
     ]
    },
    {
     "name": "stderr",
     "output_type": "stream",
     "text": [
      "\n",
      "image 1/1 /mnt/c/Users/gtraw/Projekt_badawczy/dataset_11_14/weti1_2024_11_14_18_31_m.jpg: 1088x1920 7 objects, 39.9ms\n",
      "Speed: 5.0ms preprocess, 39.9ms inference, 16.8ms postprocess per image at shape (1, 3, 1920, 1920)\n"
     ]
    },
    {
     "name": "stdout",
     "output_type": "stream",
     "text": [
      "Matrix size: [0, 44]\n",
      "Similarity matrix built in 0.00s                                                                                                    \n",
      "\n",
      "Image: weti1_2024_11_14_18_31_m.jpg\n"
     ]
    },
    {
     "name": "stderr",
     "output_type": "stream",
     "text": [
      "\n",
      "image 1/1 /mnt/c/Users/gtraw/Projekt_badawczy/dataset_11_14/weti1_2024_11_14_18_41.jpg: 1088x1920 38 objects, 36.3ms\n",
      "Speed: 4.9ms preprocess, 36.3ms inference, 7.2ms postprocess per image at shape (1, 3, 1920, 1920)\n"
     ]
    },
    {
     "name": "stdout",
     "output_type": "stream",
     "text": [
      "Matrix size: [0, 7]\n",
      "Similarity matrix built in 0.00s                                                                                                    \n",
      "\n",
      "Image: weti1_2024_11_14_18_41.jpg\n"
     ]
    },
    {
     "name": "stderr",
     "output_type": "stream",
     "text": [
      "\n",
      "image 1/1 /mnt/c/Users/gtraw/Projekt_badawczy/dataset_11_14/weti1_2024_11_14_18_41_m.jpg: 1088x1920 8 objects, 36.4ms\n",
      "Speed: 4.4ms preprocess, 36.4ms inference, 4.5ms postprocess per image at shape (1, 3, 1920, 1920)\n"
     ]
    },
    {
     "name": "stdout",
     "output_type": "stream",
     "text": [
      "Matrix size: [0, 38]\n",
      "Similarity matrix built in 0.00s                                                                                                    \n",
      "\n",
      "Image: weti1_2024_11_14_18_41_m.jpg\n"
     ]
    },
    {
     "name": "stderr",
     "output_type": "stream",
     "text": [
      "\n"
     ]
    },
    {
     "name": "stdout",
     "output_type": "stream",
     "text": [
      "Matrix size: [0, 8]\n",
      "Similarity matrix built in 0.00s                                                                                                    \n",
      "\n",
      "Image: weti2_2024_11_14_12_47.jpg\n"
     ]
    },
    {
     "name": "stderr",
     "output_type": "stream",
     "text": [
      "image 1/1 /mnt/c/Users/gtraw/Projekt_badawczy/dataset_11_14/weti2_2024_11_14_12_47.jpg: 1088x1920 292 objects, 38.3ms\n",
      "Speed: 7.9ms preprocess, 38.3ms inference, 794.7ms postprocess per image at shape (1, 3, 1920, 1920)\n"
     ]
    },
    {
     "name": "stdout",
     "output_type": "stream",
     "text": [
      "Matrix size: [40, 292]\n",
      "Building similarity matrix:      10508/11680\r"
     ]
    },
    {
     "name": "stderr",
     "output_type": "stream",
     "text": [
      "\n"
     ]
    },
    {
     "name": "stdout",
     "output_type": "stream",
     "text": [
      "Similarity matrix built in 0.90s                                                                                                    \n",
      "\n",
      "Image: weti2_2024_11_14_12_47_m.jpg\n"
     ]
    },
    {
     "name": "stderr",
     "output_type": "stream",
     "text": [
      "image 1/1 /mnt/c/Users/gtraw/Projekt_badawczy/dataset_11_14/weti2_2024_11_14_12_47_m.jpg: 1088x1920 145 objects, 36.9ms\n",
      "Speed: 4.8ms preprocess, 36.9ms inference, 18.4ms postprocess per image at shape (1, 3, 1920, 1920)\n"
     ]
    },
    {
     "name": "stdout",
     "output_type": "stream",
     "text": [
      "Matrix size: [40, 145]\n",
      "Similarity matrix built in 0.80s                                                                                                    \n"
     ]
    },
    {
     "name": "stderr",
     "output_type": "stream",
     "text": [
      "\n"
     ]
    },
    {
     "name": "stdout",
     "output_type": "stream",
     "text": [
      "\n",
      "Image: weti2_2024_11_14_12_57.jpg\n"
     ]
    },
    {
     "name": "stderr",
     "output_type": "stream",
     "text": [
      "image 1/1 /mnt/c/Users/gtraw/Projekt_badawczy/dataset_11_14/weti2_2024_11_14_12_57.jpg: 1088x1920 295 objects, 42.5ms\n",
      "Speed: 5.2ms preprocess, 42.5ms inference, 794.9ms postprocess per image at shape (1, 3, 1920, 1920)\n"
     ]
    },
    {
     "name": "stdout",
     "output_type": "stream",
     "text": [
      "Matrix size: [40, 295]\n",
      "Building similarity matrix:      10535/11800\r"
     ]
    },
    {
     "name": "stderr",
     "output_type": "stream",
     "text": [
      "\n"
     ]
    },
    {
     "name": "stdout",
     "output_type": "stream",
     "text": [
      "Similarity matrix built in 1.11s                                                                                                    \n",
      "\n",
      "Image: weti2_2024_11_14_12_57_m.jpg\n"
     ]
    },
    {
     "name": "stderr",
     "output_type": "stream",
     "text": [
      "image 1/1 /mnt/c/Users/gtraw/Projekt_badawczy/dataset_11_14/weti2_2024_11_14_12_57_m.jpg: 1088x1920 151 objects, 41.9ms\n",
      "Speed: 4.6ms preprocess, 41.9ms inference, 19.3ms postprocess per image at shape (1, 3, 1920, 1920)\n"
     ]
    },
    {
     "name": "stdout",
     "output_type": "stream",
     "text": [
      "Matrix size: [40, 151]\n",
      "Building similarity matrix:       5587/6040\r"
     ]
    },
    {
     "name": "stderr",
     "output_type": "stream",
     "text": [
      "\n"
     ]
    },
    {
     "name": "stdout",
     "output_type": "stream",
     "text": [
      "Similarity matrix built in 0.66s                                                                                                    \n",
      "\n",
      "Image: weti2_2024_11_14_13_07.jpg\n"
     ]
    },
    {
     "name": "stderr",
     "output_type": "stream",
     "text": [
      "image 1/1 /mnt/c/Users/gtraw/Projekt_badawczy/dataset_11_14/weti2_2024_11_14_13_07.jpg: 1088x1920 294 objects, 56.2ms\n",
      "Speed: 5.5ms preprocess, 56.2ms inference, 795.5ms postprocess per image at shape (1, 3, 1920, 1920)\n"
     ]
    },
    {
     "name": "stdout",
     "output_type": "stream",
     "text": [
      "Matrix size: [38, 294]\n",
      "Building similarity matrix:      10185/11172\r"
     ]
    },
    {
     "name": "stderr",
     "output_type": "stream",
     "text": [
      "\n"
     ]
    },
    {
     "name": "stdout",
     "output_type": "stream",
     "text": [
      "Similarity matrix built in 0.90s                                                                                                    \n",
      "\n",
      "Image: weti2_2024_11_14_13_07_m.jpg\n"
     ]
    },
    {
     "name": "stderr",
     "output_type": "stream",
     "text": [
      "image 1/1 /mnt/c/Users/gtraw/Projekt_badawczy/dataset_11_14/weti2_2024_11_14_13_07_m.jpg: 1088x1920 149 objects, 36.6ms\n",
      "Speed: 4.6ms preprocess, 36.6ms inference, 18.5ms postprocess per image at shape (1, 3, 1920, 1920)\n"
     ]
    },
    {
     "name": "stdout",
     "output_type": "stream",
     "text": [
      "Matrix size: [38, 149]\n",
      "Similarity matrix built in 0.59s                                                                                                    \n",
      "\n",
      "Image: weti2_2024_11_14_14_09.jpg\n"
     ]
    },
    {
     "name": "stderr",
     "output_type": "stream",
     "text": [
      "\n",
      "image 1/1 /mnt/c/Users/gtraw/Projekt_badawczy/dataset_11_14/weti2_2024_11_14_14_09.jpg: 1088x1920 288 objects, 36.6ms\n",
      "Speed: 4.8ms preprocess, 36.6ms inference, 790.8ms postprocess per image at shape (1, 3, 1920, 1920)\n"
     ]
    },
    {
     "name": "stdout",
     "output_type": "stream",
     "text": [
      "Matrix size: [38, 288]\n",
      "Building similarity matrix:      10812/10944\r"
     ]
    },
    {
     "name": "stderr",
     "output_type": "stream",
     "text": [
      "\n"
     ]
    },
    {
     "name": "stdout",
     "output_type": "stream",
     "text": [
      "Similarity matrix built in 0.82s                                                                                                    \n",
      "\n",
      "Image: weti2_2024_11_14_14_09_m.jpg\n"
     ]
    },
    {
     "name": "stderr",
     "output_type": "stream",
     "text": [
      "image 1/1 /mnt/c/Users/gtraw/Projekt_badawczy/dataset_11_14/weti2_2024_11_14_14_09_m.jpg: 1088x1920 142 objects, 218.4ms\n",
      "Speed: 4.7ms preprocess, 218.4ms inference, 22.2ms postprocess per image at shape (1, 3, 1920, 1920)\n"
     ]
    },
    {
     "name": "stdout",
     "output_type": "stream",
     "text": [
      "Matrix size: [38, 142]\n",
      "Building similarity matrix:       2853/5396\r"
     ]
    },
    {
     "name": "stderr",
     "output_type": "stream",
     "text": [
      "\n"
     ]
    },
    {
     "name": "stdout",
     "output_type": "stream",
     "text": [
      "Similarity matrix built in 0.37s                                                                                                    \n",
      "\n",
      "Image: weti2_2024_11_14_14_19.jpg\n"
     ]
    },
    {
     "name": "stderr",
     "output_type": "stream",
     "text": [
      "image 1/1 /mnt/c/Users/gtraw/Projekt_badawczy/dataset_11_14/weti2_2024_11_14_14_19.jpg: 1088x1920 284 objects, 36.5ms\n",
      "Speed: 5.0ms preprocess, 36.5ms inference, 779.7ms postprocess per image at shape (1, 3, 1920, 1920)\n"
     ]
    },
    {
     "name": "stdout",
     "output_type": "stream",
     "text": [
      "Matrix size: [37, 284]\n",
      "Building similarity matrix:      10446/10508\r"
     ]
    },
    {
     "name": "stderr",
     "output_type": "stream",
     "text": [
      "\n"
     ]
    },
    {
     "name": "stdout",
     "output_type": "stream",
     "text": [
      "Similarity matrix built in 0.81s                                                                                                    \n",
      "\n",
      "Image: weti2_2024_11_14_14_19_m.jpg\n"
     ]
    },
    {
     "name": "stderr",
     "output_type": "stream",
     "text": [
      "image 1/1 /mnt/c/Users/gtraw/Projekt_badawczy/dataset_11_14/weti2_2024_11_14_14_19_m.jpg: 1088x1920 149 objects, 872.1ms\n",
      "Speed: 5.2ms preprocess, 872.1ms inference, 25.2ms postprocess per image at shape (1, 3, 1920, 1920)\n"
     ]
    },
    {
     "name": "stdout",
     "output_type": "stream",
     "text": [
      "Matrix size: [37, 148]\n",
      "Building similarity matrix:       5197/5476\r"
     ]
    },
    {
     "name": "stderr",
     "output_type": "stream",
     "text": [
      "\n"
     ]
    },
    {
     "name": "stdout",
     "output_type": "stream",
     "text": [
      "Similarity matrix built in 0.64s                                                                                                    \n",
      "\n",
      "Image: weti2_2024_11_14_14_29.jpg\n"
     ]
    },
    {
     "name": "stderr",
     "output_type": "stream",
     "text": [
      "image 1/1 /mnt/c/Users/gtraw/Projekt_badawczy/dataset_11_14/weti2_2024_11_14_14_29.jpg: 1088x1920 279 objects, 38.9ms\n",
      "Speed: 5.5ms preprocess, 38.9ms inference, 768.7ms postprocess per image at shape (1, 3, 1920, 1920)\n"
     ]
    },
    {
     "name": "stdout",
     "output_type": "stream",
     "text": [
      "Matrix size: [35, 279]\n",
      "Building similarity matrix:       8202/9765\r"
     ]
    },
    {
     "name": "stderr",
     "output_type": "stream",
     "text": [
      "\n"
     ]
    },
    {
     "name": "stdout",
     "output_type": "stream",
     "text": [
      "Similarity matrix built in 0.75s                                                                                                    \n",
      "\n",
      "Image: weti2_2024_11_14_14_29_m.jpg\n"
     ]
    },
    {
     "name": "stderr",
     "output_type": "stream",
     "text": [
      "image 1/1 /mnt/c/Users/gtraw/Projekt_badawczy/dataset_11_14/weti2_2024_11_14_14_29_m.jpg: 1088x1920 141 objects, 639.2ms\n",
      "Speed: 4.2ms preprocess, 639.2ms inference, 42.8ms postprocess per image at shape (1, 3, 1920, 1920)\n"
     ]
    },
    {
     "name": "stdout",
     "output_type": "stream",
     "text": [
      "Matrix size: [35, 141]\n",
      "Building similarity matrix:       2995/4935\r"
     ]
    },
    {
     "name": "stderr",
     "output_type": "stream",
     "text": [
      "\n"
     ]
    },
    {
     "name": "stdout",
     "output_type": "stream",
     "text": [
      "Similarity matrix built in 0.34s                                                                                                    \n",
      "\n",
      "Image: weti2_2024_11_14_14_39.jpg\n"
     ]
    },
    {
     "name": "stderr",
     "output_type": "stream",
     "text": [
      "image 1/1 /mnt/c/Users/gtraw/Projekt_badawczy/dataset_11_14/weti2_2024_11_14_14_39.jpg: 1088x1920 267 objects, 36.6ms\n",
      "Speed: 4.7ms preprocess, 36.6ms inference, 732.4ms postprocess per image at shape (1, 3, 1920, 1920)\n"
     ]
    },
    {
     "name": "stdout",
     "output_type": "stream",
     "text": [
      "Matrix size: [32, 267]\n",
      "Building similarity matrix:       8126/8544\r"
     ]
    },
    {
     "name": "stderr",
     "output_type": "stream",
     "text": [
      "\n"
     ]
    },
    {
     "name": "stdout",
     "output_type": "stream",
     "text": [
      "Similarity matrix built in 0.65s                                                                                                    \n",
      "\n",
      "Image: weti2_2024_11_14_14_39_m.jpg\n"
     ]
    },
    {
     "name": "stderr",
     "output_type": "stream",
     "text": [
      "image 1/1 /mnt/c/Users/gtraw/Projekt_badawczy/dataset_11_14/weti2_2024_11_14_14_39_m.jpg: 1088x1920 132 objects, 37.0ms\n",
      "Speed: 4.8ms preprocess, 37.0ms inference, 29.1ms postprocess per image at shape (1, 3, 1920, 1920)\n"
     ]
    },
    {
     "name": "stdout",
     "output_type": "stream",
     "text": [
      "Matrix size: [32, 132]\n",
      "Building similarity matrix:       2907/4224\r"
     ]
    },
    {
     "name": "stderr",
     "output_type": "stream",
     "text": [
      "\n"
     ]
    },
    {
     "name": "stdout",
     "output_type": "stream",
     "text": [
      "Similarity matrix built in 0.31s                                                                                                    \n",
      "\n",
      "Image: weti2_2024_11_14_14_49.jpg\n"
     ]
    },
    {
     "name": "stderr",
     "output_type": "stream",
     "text": [
      "image 1/1 /mnt/c/Users/gtraw/Projekt_badawczy/dataset_11_14/weti2_2024_11_14_14_49.jpg: 1088x1920 274 objects, 36.6ms\n",
      "Speed: 5.2ms preprocess, 36.6ms inference, 751.1ms postprocess per image at shape (1, 3, 1920, 1920)\n"
     ]
    },
    {
     "name": "stdout",
     "output_type": "stream",
     "text": [
      "Matrix size: [30, 274]\n",
      "Building similarity matrix:       5601/8220\r"
     ]
    },
    {
     "name": "stderr",
     "output_type": "stream",
     "text": [
      "\n"
     ]
    },
    {
     "name": "stdout",
     "output_type": "stream",
     "text": [
      "Similarity matrix built in 0.59s                                                                                                    \n",
      "\n",
      "Image: weti2_2024_11_14_14_49_m.jpg\n"
     ]
    },
    {
     "name": "stderr",
     "output_type": "stream",
     "text": [
      "image 1/1 /mnt/c/Users/gtraw/Projekt_badawczy/dataset_11_14/weti2_2024_11_14_14_49_m.jpg: 1088x1920 135 objects, 283.1ms\n",
      "Speed: 4.7ms preprocess, 283.1ms inference, 18.3ms postprocess per image at shape (1, 3, 1920, 1920)\n"
     ]
    },
    {
     "name": "stdout",
     "output_type": "stream",
     "text": [
      "Matrix size: [30, 135]\n",
      "Building similarity matrix:       2667/4050\r"
     ]
    },
    {
     "name": "stderr",
     "output_type": "stream",
     "text": [
      "\n"
     ]
    },
    {
     "name": "stdout",
     "output_type": "stream",
     "text": [
      "Similarity matrix built in 0.33s                                                                                                    \n",
      "\n",
      "Image: weti2_2024_11_14_14_59.jpg\n"
     ]
    },
    {
     "name": "stderr",
     "output_type": "stream",
     "text": [
      "image 1/1 /mnt/c/Users/gtraw/Projekt_badawczy/dataset_11_14/weti2_2024_11_14_14_59.jpg: 1088x1920 262 objects, 36.8ms\n",
      "Speed: 4.3ms preprocess, 36.8ms inference, 726.3ms postprocess per image at shape (1, 3, 1920, 1920)\n"
     ]
    },
    {
     "name": "stdout",
     "output_type": "stream",
     "text": [
      "Matrix size: [27, 262]\n",
      "Building similarity matrix:       5870/7074\r"
     ]
    },
    {
     "name": "stderr",
     "output_type": "stream",
     "text": [
      "\n"
     ]
    },
    {
     "name": "stdout",
     "output_type": "stream",
     "text": [
      "Similarity matrix built in 0.50s                                                                                                    \n",
      "\n",
      "Image: weti2_2024_11_14_14_59_m.jpg\n"
     ]
    },
    {
     "name": "stderr",
     "output_type": "stream",
     "text": [
      "image 1/1 /mnt/c/Users/gtraw/Projekt_badawczy/dataset_11_14/weti2_2024_11_14_14_59_m.jpg: 1088x1920 114 objects, 36.6ms\n",
      "Speed: 5.4ms preprocess, 36.6ms inference, 15.1ms postprocess per image at shape (1, 3, 1920, 1920)\n"
     ]
    },
    {
     "name": "stdout",
     "output_type": "stream",
     "text": [
      "Matrix size: [27, 114]\n",
      "Building similarity matrix:       2547/3078\r"
     ]
    },
    {
     "name": "stderr",
     "output_type": "stream",
     "text": [
      "\n"
     ]
    },
    {
     "name": "stdout",
     "output_type": "stream",
     "text": [
      "Similarity matrix built in 0.24s                                                                                                    \n",
      "\n",
      "Image: weti2_2024_11_14_15_09.jpg\n"
     ]
    },
    {
     "name": "stderr",
     "output_type": "stream",
     "text": [
      "image 1/1 /mnt/c/Users/gtraw/Projekt_badawczy/dataset_11_14/weti2_2024_11_14_15_09.jpg: 1088x1920 243 objects, 36.3ms\n",
      "Speed: 4.9ms preprocess, 36.3ms inference, 684.4ms postprocess per image at shape (1, 3, 1920, 1920)\n"
     ]
    },
    {
     "name": "stdout",
     "output_type": "stream",
     "text": [
      "Matrix size: [26, 243]\n",
      "Building similarity matrix:       5302/6318\r"
     ]
    },
    {
     "name": "stderr",
     "output_type": "stream",
     "text": [
      "\n"
     ]
    },
    {
     "name": "stdout",
     "output_type": "stream",
     "text": [
      "Similarity matrix built in 0.48s                                                                                                    \n",
      "\n",
      "Image: weti2_2024_11_14_15_09_m.jpg\n"
     ]
    },
    {
     "name": "stderr",
     "output_type": "stream",
     "text": [
      "image 1/1 /mnt/c/Users/gtraw/Projekt_badawczy/dataset_11_14/weti2_2024_11_14_15_09_m.jpg: 1088x1920 106 objects, 36.4ms\n",
      "Speed: 4.4ms preprocess, 36.4ms inference, 14.1ms postprocess per image at shape (1, 3, 1920, 1920)\n"
     ]
    },
    {
     "name": "stdout",
     "output_type": "stream",
     "text": [
      "Matrix size: [26, 106]\n",
      "Building similarity matrix:       2634/2756\r"
     ]
    },
    {
     "name": "stderr",
     "output_type": "stream",
     "text": [
      "\n"
     ]
    },
    {
     "name": "stdout",
     "output_type": "stream",
     "text": [
      "Similarity matrix built in 0.21s                                                                                                    \n",
      "\n",
      "Image: weti2_2024_11_14_15_19.jpg\n"
     ]
    },
    {
     "name": "stderr",
     "output_type": "stream",
     "text": [
      "image 1/1 /mnt/c/Users/gtraw/Projekt_badawczy/dataset_11_14/weti2_2024_11_14_15_19.jpg: 1088x1920 263 objects, 36.6ms\n",
      "Speed: 5.0ms preprocess, 36.6ms inference, 726.5ms postprocess per image at shape (1, 3, 1920, 1920)\n"
     ]
    },
    {
     "name": "stdout",
     "output_type": "stream",
     "text": [
      "Matrix size: [25, 263]\n",
      "Building similarity matrix:       5376/6575\r"
     ]
    },
    {
     "name": "stderr",
     "output_type": "stream",
     "text": [
      "\n"
     ]
    },
    {
     "name": "stdout",
     "output_type": "stream",
     "text": [
      "Similarity matrix built in 0.51s                                                                                                    \n",
      "\n",
      "Image: weti2_2024_11_14_15_19_m.jpg\n"
     ]
    },
    {
     "name": "stderr",
     "output_type": "stream",
     "text": [
      "image 1/1 /mnt/c/Users/gtraw/Projekt_badawczy/dataset_11_14/weti2_2024_11_14_15_19_m.jpg: 1088x1920 120 objects, 36.4ms\n",
      "Speed: 4.9ms preprocess, 36.4ms inference, 15.5ms postprocess per image at shape (1, 3, 1920, 1920)\n"
     ]
    },
    {
     "name": "stdout",
     "output_type": "stream",
     "text": [
      "Matrix size: [25, 120]\n",
      "Building similarity matrix:       2926/3000\r"
     ]
    },
    {
     "name": "stderr",
     "output_type": "stream",
     "text": [
      "\n"
     ]
    },
    {
     "name": "stdout",
     "output_type": "stream",
     "text": [
      "Similarity matrix built in 0.21s                                                                                                    \n",
      "\n",
      "Image: weti2_2024_11_14_18_11.jpg\n"
     ]
    },
    {
     "name": "stderr",
     "output_type": "stream",
     "text": [
      "image 1/1 /mnt/c/Users/gtraw/Projekt_badawczy/dataset_11_14/weti2_2024_11_14_18_11.jpg: 1088x1920 28 objects, 37.2ms\n",
      "Speed: 5.7ms preprocess, 37.2ms inference, 7.2ms postprocess per image at shape (1, 3, 1920, 1920)\n",
      "\n"
     ]
    },
    {
     "name": "stdout",
     "output_type": "stream",
     "text": [
      "Matrix size: [10, 28]\n",
      "Similarity matrix built in 0.02s                                                                                                    \n",
      "\n",
      "Image: weti2_2024_11_14_18_11_m.jpg\n"
     ]
    },
    {
     "name": "stderr",
     "output_type": "stream",
     "text": [
      "image 1/1 /mnt/c/Users/gtraw/Projekt_badawczy/dataset_11_14/weti2_2024_11_14_18_11_m.jpg: 1088x1920 10 objects, 39.1ms\n",
      "Speed: 4.6ms preprocess, 39.1ms inference, 8.7ms postprocess per image at shape (1, 3, 1920, 1920)\n",
      "\n"
     ]
    },
    {
     "name": "stdout",
     "output_type": "stream",
     "text": [
      "Matrix size: [10, 10]\n",
      "Similarity matrix built in 0.01s                                                                                                    \n",
      "\n",
      "Image: weti2_2024_11_14_18_21.jpg\n"
     ]
    },
    {
     "name": "stderr",
     "output_type": "stream",
     "text": [
      "image 1/1 /mnt/c/Users/gtraw/Projekt_badawczy/dataset_11_14/weti2_2024_11_14_18_21.jpg: 1088x1920 24 objects, 36.2ms\n",
      "Speed: 5.0ms preprocess, 36.2ms inference, 6.0ms postprocess per image at shape (1, 3, 1920, 1920)\n",
      "\n"
     ]
    },
    {
     "name": "stdout",
     "output_type": "stream",
     "text": [
      "Matrix size: [6, 24]\n",
      "Similarity matrix built in 0.01s                                                                                                    \n",
      "\n",
      "Image: weti2_2024_11_14_18_21_m.jpg\n"
     ]
    },
    {
     "name": "stderr",
     "output_type": "stream",
     "text": [
      "image 1/1 /mnt/c/Users/gtraw/Projekt_badawczy/dataset_11_14/weti2_2024_11_14_18_21_m.jpg: 1088x1920 5 objects, 38.0ms\n",
      "Speed: 4.7ms preprocess, 38.0ms inference, 4.3ms postprocess per image at shape (1, 3, 1920, 1920)\n",
      "\n"
     ]
    },
    {
     "name": "stdout",
     "output_type": "stream",
     "text": [
      "Matrix size: [6, 5]\n",
      "Similarity matrix built in 0.00s                                                                                                    \n",
      "\n",
      "Image: weti2_2024_11_14_18_31.jpg\n"
     ]
    },
    {
     "name": "stderr",
     "output_type": "stream",
     "text": [
      "image 1/1 /mnt/c/Users/gtraw/Projekt_badawczy/dataset_11_14/weti2_2024_11_14_18_31.jpg: 1088x1920 20 objects, 37.1ms\n",
      "Speed: 4.8ms preprocess, 37.1ms inference, 5.5ms postprocess per image at shape (1, 3, 1920, 1920)\n",
      "\n"
     ]
    },
    {
     "name": "stdout",
     "output_type": "stream",
     "text": [
      "Matrix size: [6, 20]\n",
      "Similarity matrix built in 0.01s                                                                                                    \n",
      "\n",
      "Image: weti2_2024_11_14_18_31_m.jpg\n"
     ]
    },
    {
     "name": "stderr",
     "output_type": "stream",
     "text": [
      "image 1/1 /mnt/c/Users/gtraw/Projekt_badawczy/dataset_11_14/weti2_2024_11_14_18_31_m.jpg: 1088x1920 5 objects, 37.4ms\n",
      "Speed: 5.2ms preprocess, 37.4ms inference, 4.4ms postprocess per image at shape (1, 3, 1920, 1920)\n",
      "\n"
     ]
    },
    {
     "name": "stdout",
     "output_type": "stream",
     "text": [
      "Matrix size: [6, 5]\n",
      "Similarity matrix built in 0.00s                                                                                                    \n",
      "\n",
      "Image: weti2_2024_11_14_18_41.jpg\n"
     ]
    },
    {
     "name": "stderr",
     "output_type": "stream",
     "text": [
      "image 1/1 /mnt/c/Users/gtraw/Projekt_badawczy/dataset_11_14/weti2_2024_11_14_18_41.jpg: 1088x1920 19 objects, 36.7ms\n",
      "Speed: 4.6ms preprocess, 36.7ms inference, 5.9ms postprocess per image at shape (1, 3, 1920, 1920)\n",
      "\n"
     ]
    },
    {
     "name": "stdout",
     "output_type": "stream",
     "text": [
      "Matrix size: [6, 19]\n",
      "Similarity matrix built in 0.01s                                                                                                    \n",
      "\n",
      "Image: weti2_2024_11_14_18_41_m.jpg\n"
     ]
    },
    {
     "name": "stderr",
     "output_type": "stream",
     "text": [
      "image 1/1 /mnt/c/Users/gtraw/Projekt_badawczy/dataset_11_14/weti2_2024_11_14_18_41_m.jpg: 1088x1920 7 objects, 37.1ms\n",
      "Speed: 4.7ms preprocess, 37.1ms inference, 4.5ms postprocess per image at shape (1, 3, 1920, 1920)\n"
     ]
    },
    {
     "name": "stdout",
     "output_type": "stream",
     "text": [
      "Matrix size: [6, 7]\n",
      "Similarity matrix built in 0.00s                                                                                                    \n"
     ]
    }
   ],
   "source": [
    "for model_name in model_info.keys():\n",
    "    full_iou = {\n",
    "        'model': [],\n",
    "        'model_params': [],\n",
    "        'filename': [],\n",
    "        'iou': []\n",
    "    }\n",
    "    model = FastSAM(model_info[model_name])\n",
    "    output_dir_model = f\"{output_dir}\" #f\"{output_dir}_{model_name}\"\n",
    "    print(f\"output_dir: {output_dir_model}\")\n",
    "\n",
    "    # fix directories\n",
    "    if not os.path.exists(output_dir_model):\n",
    "        os.makedirs(output_dir_model)\n",
    "\n",
    "    # for image in dir\n",
    "    for image_file in os.listdir(input_dir):\n",
    "        data_pred = {\n",
    "            'model': model_name\n",
    "        }\n",
    "\n",
    "        # skip non-images\n",
    "        if not image_file.endswith(('jpg', 'png')):\n",
    "            continue\n",
    "\n",
    "        print(f\"\\nImage: {image_file}\")\n",
    "        # image's path\n",
    "        image_path = os.path.join(input_dir, image_file)\n",
    "        # measure time\n",
    "        time_start = time.time()\n",
    "        # generate masks\n",
    "        everything_results = model(image_path, device=DEVICE, imgsz=1920)\n",
    "        prompt_process = FastSAMPrompt(image_path, everything_results, device=DEVICE)\n",
    "\n",
    "        # everything prompt\n",
    "        ann = prompt_process.everything_prompt()\n",
    "        time_end = time.time() - time_start\n",
    "\n",
    "        # save results\n",
    "        data_pred['time'] = time_end\n",
    "        data_pred['objects'] = []\n",
    "\n",
    "        ann = ann.cpu()\n",
    "        for seg in ann:\n",
    "            data_pred['objects'].append(seg)\n",
    "\n",
    "        # load labeled data\n",
    "        data_filename = '.'.join(image_file.replace('_m', '').split('.')[:-1]) + '.json'\n",
    "        with open(os.path.join(input_dir, data_filename), 'r') as f:\n",
    "            data_db = json.load(f)\n",
    "\n",
    "        data_db['polygons'] = transform_to_polygons([obj['points'] for obj in data_db['objects']])\n",
    "        # print(data_pred['objects'][-1])\n",
    "        # print(data_pred['objects'][-1].shape)\n",
    "        \n",
    "        data_pred['polygons'] = transform_to_polygons([obj for obj in data_pred['objects']], \"mask\")\n",
    "        \n",
    "        sm = build_similarity_matrix(data_db['polygons'], data_pred['polygons'])\n",
    "        matching = match_polygons(sm)\n",
    "\n",
    "        # save mean results\n",
    "        # result_dict = evaluate_segmentation(data_db['polygons'], data_pred['polygons'], matching, data_pred['time'], data_db['weather'], ['sam2.1', model_name])\n",
    "        # result_dict['filename'] = '.'.join(image_file.split('.')[:-1])\n",
    "\n",
    "        # json_path = os.path.join(output_dir_model, f\"{'.'.join(image_file.split('.')[:-1])}.json\")\n",
    "        # with open(json_path, 'w') as json_file:\n",
    "        #     json.dump(result_dict, json_file, indent=4)\n",
    "\n",
    "        # save iou results]\n",
    "        for iou_result in evaluate_individually(data_db['polygons'], data_pred['polygons'], matching):\n",
    "            full_iou['iou'].append(iou_result)\n",
    "            full_iou['filename'].append('.'.join(image_file.split('.')[:-1]))\n",
    "\n",
    "    for _ in full_iou['iou']:\n",
    "        full_iou['model'].append(model_name)\n",
    "        full_iou['model_params'].append('')\n",
    "\n",
    "    json_path = os.path.join(output_dir_model, f\"{model_name}_iou.json\")\n",
    "    with open(json_path, 'w') as json_file:\n",
    "        json.dump(full_iou, json_file, indent=4)"
   ]
  }
 ],
 "metadata": {
  "kernelspec": {
   "display_name": "venv",
   "language": "python",
   "name": "python3"
  },
  "language_info": {
   "codemirror_mode": {
    "name": "ipython",
    "version": 3
   },
   "file_extension": ".py",
   "mimetype": "text/x-python",
   "name": "python",
   "nbconvert_exporter": "python",
   "pygments_lexer": "ipython3",
   "version": "3.10.12"
  }
 },
 "nbformat": 4,
 "nbformat_minor": 2
}
