{
 "cells": [
  {
   "cell_type": "code",
   "execution_count": 1,
   "metadata": {},
   "outputs": [],
   "source": [
    "from fastsam import FastSAM, FastSAMPrompt\n",
    "import torch"
   ]
  },
  {
   "cell_type": "code",
   "execution_count": 3,
   "metadata": {},
   "outputs": [
    {
     "name": "stderr",
     "output_type": "stream",
     "text": [
      "/mnt/c/Users/gtraw/Projekt_badawczy/FastSAM/ultralytics/nn/tasks.py:518: FutureWarning: You are using `torch.load` with `weights_only=False` (the current default value), which uses the default pickle module implicitly. It is possible to construct malicious pickle data which will execute arbitrary code during unpickling (See https://github.com/pytorch/pytorch/blob/main/SECURITY.md#untrusted-models for more details). In a future release, the default value for `weights_only` will be flipped to `True`. This limits the functions that could be executed during unpickling. Arbitrary objects will no longer be allowed to be loaded via this mode unless they are explicitly allowlisted by the user via `torch.serialization.add_safe_globals`. We recommend you start setting `weights_only=True` for any use case where you don't have full control of the loaded file. Please open an issue on GitHub for any issues related to this experimental feature.\n",
      "  return torch.load(file, map_location='cpu'), file  # load\n",
      "\n",
      "image 1/1 /mnt/c/Users/gtraw/Projekt_badawczy/images/weti1_2024_11_21_14_55.jpg: 576x1024 65 objects, 107.6ms\n",
      "Speed: 10.6ms preprocess, 107.6ms inference, 475.0ms postprocess per image at shape (1, 3, 1024, 1024)\n"
     ]
    }
   ],
   "source": [
    "model = FastSAM(r'/mnt/c/Users/gtraw/Projekt_badawczy/checkpoints/FASTSAM/FastSAM-s.pt')\n",
    "IMAGE_PATH = r'/mnt/c/Users/gtraw/Projekt_badawczy/images/weti1_2024_11_21_14_55.jpg'\n",
    "DEVICE = torch.device('cuda:0' if torch.cuda.is_available() else 'cpu')\n",
    "everything_results = model(IMAGE_PATH, device=DEVICE, retina_masks=True, imgsz=1024, conf=0.5, iou=0.9,)\n",
    "prompt_process = FastSAMPrompt(IMAGE_PATH, everything_results, device=DEVICE)\n",
    "\n",
    "# everything prompt\n",
    "ann = prompt_process.everything_prompt()\n",
    "\n",
    "prompt_process.plot(annotations=ann, output_path=r'/mnt/c/Users/gtraw/Projekt_badawczy/results/fastsams_zima.jpg',)"
   ]
  },
  {
   "cell_type": "code",
   "execution_count": 10,
   "metadata": {},
   "outputs": [
    {
     "data": {
      "text/plain": [
       "array([[[          0,           0,           0, ...,           0,           0,           0],\n",
       "        [          0,           0,           0, ...,           0,           0,           0],\n",
       "        [          0,           0,           0, ...,           0,           0,           0],\n",
       "        ...,\n",
       "        [          0,           0,           0, ...,           0,           0,           0],\n",
       "        [          0,           0,           0, ...,           0,           0,           0],\n",
       "        [          0,           0,           0, ...,           0,           0,           0]],\n",
       "\n",
       "       [[          0,           0,           0, ...,           0,           0,           0],\n",
       "        [          0,           0,           0, ...,           0,           0,           0],\n",
       "        [          0,           0,           0, ...,           0,           0,           0],\n",
       "        ...,\n",
       "        [          0,           0,           0, ...,           0,           0,           0],\n",
       "        [          0,           0,           0, ...,           0,           0,           0],\n",
       "        [          0,           0,           0, ...,           0,           0,           0]],\n",
       "\n",
       "       [[          0,           0,           0, ...,           0,           0,           0],\n",
       "        [          0,           0,           0, ...,           0,           0,           0],\n",
       "        [          0,           0,           0, ...,           0,           0,           0],\n",
       "        ...,\n",
       "        [          0,           0,           0, ...,           0,           0,           0],\n",
       "        [          0,           0,           0, ...,           0,           0,           0],\n",
       "        [          0,           0,           0, ...,           0,           0,           0]],\n",
       "\n",
       "       ...,\n",
       "\n",
       "       [[          0,           0,           0, ...,           0,           0,           0],\n",
       "        [          0,           0,           0, ...,           0,           0,           0],\n",
       "        [          0,           0,           0, ...,           0,           0,           0],\n",
       "        ...,\n",
       "        [          0,           0,           0, ...,           0,           0,           0],\n",
       "        [          0,           0,           0, ...,           0,           0,           0],\n",
       "        [          0,           0,           0, ...,           0,           0,           0]],\n",
       "\n",
       "       [[          0,           0,           0, ...,           0,           0,           0],\n",
       "        [          0,           0,           0, ...,           0,           0,           0],\n",
       "        [          0,           0,           0, ...,           0,           0,           0],\n",
       "        ...,\n",
       "        [          0,           0,           0, ...,           0,           0,           0],\n",
       "        [          0,           0,           0, ...,           0,           0,           0],\n",
       "        [          0,           0,           0, ...,           0,           0,           0]],\n",
       "\n",
       "       [[          0,           0,           0, ...,           0,           0,           0],\n",
       "        [          0,           0,           0, ...,           0,           0,           0],\n",
       "        [          0,           0,           0, ...,           0,           0,           0],\n",
       "        ...,\n",
       "        [          0,           0,           0, ...,           0,           0,           0],\n",
       "        [          0,           0,           0, ...,           0,           0,           0],\n",
       "        [          0,           0,           0, ...,           0,           0,           0]]], dtype=float32)"
      ]
     },
     "execution_count": 10,
     "metadata": {},
     "output_type": "execute_result"
    }
   ],
   "source": [
    "ann.cpu().numpy()"
   ]
  },
  {
   "cell_type": "markdown",
   "metadata": {},
   "source": [
    "### Segmentacja na całym zbiorze"
   ]
  },
  {
   "cell_type": "code",
   "execution_count": 8,
   "metadata": {},
   "outputs": [],
   "source": [
    "from fastsam import FastSAM, FastSAMPrompt\n",
    "import torch\n",
    "\n",
    "import cv2\n",
    "import sys\n",
    "import os\n",
    "import time\n",
    "import json\n",
    "\n",
    "import numpy as np\n",
    "from shapely.geometry import Polygon\n",
    "from scipy.optimize import linear_sum_assignment\n",
    "\n",
    "import warnings\n",
    "warnings.filterwarnings(\"ignore\", category=DeprecationWarning) \n",
    "\n",
    "model_info = {\n",
    "    'fastsam_x': \"/mnt/c/Users/gtraw/Projekt_badawczy/checkpoints/FASTSAM/FastSAM-x.pt\",\n",
    "    'fastsam_s': \"/mnt/c/Users/gtraw/Projekt_badawczy/checkpoints/FASTSAM/FastSAM-s.pt\"\n",
    "}\n",
    "\n",
    "# Images/results paths\n",
    "input_dir = '/mnt/c/Users/gtraw/Projekt_badawczy/dataset_done'\n",
    "output_dir = '/mnt/c/Users/gtraw/Projekt_badawczy/dataset_results'\n",
    "\n",
    "DEVICE = torch.device('cuda:0' if torch.cuda.is_available() else 'cpu')"
   ]
  },
  {
   "cell_type": "code",
   "execution_count": 11,
   "metadata": {},
   "outputs": [],
   "source": [
    "def transform_to_polygons(data, mode=\"points\"):\n",
    "    polygons = []\n",
    "    if mode == \"points\":\n",
    "        polygons = [points2polygon(d) for d in data]\n",
    "    elif mode == \"corners\":\n",
    "        polygons = [corners2polygon(d) for d in data]\n",
    "    elif mode == \"mask\":\n",
    "        polygons = [mask2polygon(d) for d in data]\n",
    "    return [p for p in polygons if p is not None]\n",
    "    \n",
    "def corners2polygon(corners):\n",
    "    x1, y1, x2, y2 = corners\n",
    "    points = [(x1, y1), (x2, y1), (x2, y2), (x1, y2), (x1, y1)]\n",
    "    \n",
    "    return Polygon(points)\n",
    "        \n",
    "def points2polygon(points):\n",
    "    return Polygon(points)\n",
    "\n",
    "def mask2polygon(mask):\n",
    "    mask = np.array(mask)\n",
    "    mask = mask.astype(np.uint8)\n",
    "    contours, _ = cv2.findContours(mask, cv2.RETR_EXTERNAL, cv2.CHAIN_APPROX_SIMPLE)\n",
    "    \n",
    "    if not contours:\n",
    "        return None\n",
    "    \n",
    "    largest_contour = max(contours, key=cv2.contourArea)\n",
    "    \n",
    "    polygon = Polygon(shell=largest_contour.squeeze())\n",
    "    \n",
    "    if not polygon.is_valid:\n",
    "        polygon = polygon.buffer(0)\n",
    "    \n",
    "    return polygon\n",
    "\n",
    "def iou(polygon1, polygon2):\n",
    "    if not polygon1.is_valid:\n",
    "        polygon1 = polygon1.buffer(0)\n",
    "    if not polygon2.is_valid:\n",
    "        polygon2 = polygon2.buffer(0)\n",
    "    union = polygon1.union(polygon2).area\n",
    "    if union <= 0:\n",
    "        return 0\n",
    "    intersection = polygon1.intersection(polygon2).area\n",
    "    return intersection / union\n",
    "\n",
    "def build_similarity_matrix(objects_db, objects_pred):\n",
    "    len_db, len_pred = len(objects_db), len(objects_pred)\n",
    "    print(f\"Matrix size: [{len_db}, {len_pred}]\")\n",
    "    similarity_matrix = np.zeros([len_db, len_pred])\n",
    "    \n",
    "    time_start = time.time()\n",
    "    for x, obj_db in enumerate(objects_db):\n",
    "        for y, obj_pred in enumerate(objects_pred):\n",
    "            similarity_matrix[x, y] = iou(obj_db, obj_pred)\n",
    "            print(f\"Building similarity matrix: {x * len_pred + y + 1:>10}/{len_db*len_pred}\", end='\\r')\n",
    "    time_end = time.time() - time_start\n",
    "    print(f\"Similarity matrix built in {time_end:.2f}s\" + ' ' * 100)\n",
    "    return similarity_matrix\n",
    "\n",
    "def match_polygons(similarity_matrix):\n",
    "    xs, ys = linear_sum_assignment(similarity_matrix, maximize=True)\n",
    "    matching = [[x, y, similarity_matrix[x, y]] for x, y in zip(xs, ys) if similarity_matrix[x][y] > 0]\n",
    "    return matching\n",
    "\n",
    "def evaluate_segmentation(polygons_db, polygons_pred, matching, time, weather_info = [], model_info = []):\n",
    "    results = {\n",
    "        \"weather\": weather_info,\n",
    "        \"model\": model_info,\n",
    "        \"time\": time\n",
    "    }\n",
    "    num_db = len(polygons_db)\n",
    "    num_pred = len(polygons_pred)\n",
    "    num_matching = len(matching)\n",
    "\n",
    "    results['ground_truth_objects'] = num_db\n",
    "    results['segmented_objects'] = num_pred\n",
    "    results['matched_objects'] = num_matching\n",
    "\n",
    "    if num_pred != 0:\n",
    "        results['precision'] = num_matching / num_pred\n",
    "    else:\n",
    "        results['precision'] = 0\n",
    "\n",
    "    if num_db != 0:\n",
    "        results['recall'] = num_matching / num_db\n",
    "    else:\n",
    "        results['recall'] = 0\n",
    "\n",
    "    if results['precision'] + results['recall'] != 0:\n",
    "        results['f1'] = 2 * results['precision'] * results['recall'] / (results['precision'] + results['recall'])\n",
    "    else:\n",
    "        results['precision'] = 0\n",
    "\n",
    "    ious = []\n",
    "    for x, y, _ in matching:\n",
    "        ious.append(iou(polygons_db[x], polygons_pred[y]))\n",
    "\n",
    "    if num_matching != 0:\n",
    "        results['mean_iou'] = sum(ious) / num_matching\n",
    "    else:\n",
    "        results['mean_iou'] = 0\n",
    "\n",
    "    return results"
   ]
  },
  {
   "cell_type": "code",
   "execution_count": 12,
   "metadata": {},
   "outputs": [
    {
     "name": "stderr",
     "output_type": "stream",
     "text": [
      "/mnt/c/Users/gtraw/Projekt_badawczy/FastSAM/ultralytics/nn/tasks.py:518: FutureWarning: You are using `torch.load` with `weights_only=False` (the current default value), which uses the default pickle module implicitly. It is possible to construct malicious pickle data which will execute arbitrary code during unpickling (See https://github.com/pytorch/pytorch/blob/main/SECURITY.md#untrusted-models for more details). In a future release, the default value for `weights_only` will be flipped to `True`. This limits the functions that could be executed during unpickling. Arbitrary objects will no longer be allowed to be loaded via this mode unless they are explicitly allowlisted by the user via `torch.serialization.add_safe_globals`. We recommend you start setting `weights_only=True` for any use case where you don't have full control of the loaded file. Please open an issue on GitHub for any issues related to this experimental feature.\n",
      "  return torch.load(file, map_location='cpu'), file  # load\n"
     ]
    },
    {
     "name": "stdout",
     "output_type": "stream",
     "text": [
      "output_dir: /mnt/c/Users/gtraw/Projekt_badawczy/dataset_results_fastsam_x\n",
      "\n",
      "Image: weti1_2024_11_14_12_47.jpg\n"
     ]
    },
    {
     "name": "stderr",
     "output_type": "stream",
     "text": [
      "\n",
      "image 1/1 /mnt/c/Users/gtraw/Projekt_badawczy/dataset_done/weti1_2024_11_14_12_47.jpg: 1088x1920 40 objects, 257.9ms\n",
      "Speed: 6.4ms preprocess, 257.9ms inference, 9.4ms postprocess per image at shape (1, 3, 1920, 1920)\n",
      "\n"
     ]
    },
    {
     "name": "stdout",
     "output_type": "stream",
     "text": [
      "Matrix size: [14, 40]\n",
      "Similarity matrix built in 0.04s                                                                                                    \n",
      "\n",
      "Image: weti1_2024_11_14_12_47_m.jpg\n"
     ]
    },
    {
     "name": "stderr",
     "output_type": "stream",
     "text": [
      "image 1/1 /mnt/c/Users/gtraw/Projekt_badawczy/dataset_done/weti1_2024_11_14_12_47_m.jpg: 1088x1920 238 objects, 262.8ms\n",
      "Speed: 4.5ms preprocess, 262.8ms inference, 38.6ms postprocess per image at shape (1, 3, 1920, 1920)\n",
      "\n"
     ]
    },
    {
     "name": "stdout",
     "output_type": "stream",
     "text": [
      "Matrix size: [14, 238]\n",
      "Similarity matrix built in 0.15s                                                                                                    \n",
      "\n",
      "Image: weti1_2024_11_14_12_57.jpg\n"
     ]
    },
    {
     "name": "stderr",
     "output_type": "stream",
     "text": [
      "image 1/1 /mnt/c/Users/gtraw/Projekt_badawczy/dataset_done/weti1_2024_11_14_12_57.jpg: 1088x1920 42 objects, 260.9ms\n",
      "Speed: 7.9ms preprocess, 260.9ms inference, 10.1ms postprocess per image at shape (1, 3, 1920, 1920)\n",
      "\n"
     ]
    },
    {
     "name": "stdout",
     "output_type": "stream",
     "text": [
      "Matrix size: [14, 42]\n",
      "Similarity matrix built in 0.04s                                                                                                    \n",
      "\n",
      "Image: weti1_2024_11_14_12_57_m.jpg\n"
     ]
    },
    {
     "name": "stderr",
     "output_type": "stream",
     "text": [
      "image 1/1 /mnt/c/Users/gtraw/Projekt_badawczy/dataset_done/weti1_2024_11_14_12_57_m.jpg: 1088x1920 251 objects, 257.4ms\n",
      "Speed: 5.1ms preprocess, 257.4ms inference, 801.1ms postprocess per image at shape (1, 3, 1920, 1920)\n",
      "\n"
     ]
    },
    {
     "name": "stdout",
     "output_type": "stream",
     "text": [
      "Matrix size: [14, 251]\n",
      "Similarity matrix built in 0.12s                                                                                                    \n",
      "\n",
      "Image: weti1_2024_11_14_13_07.jpg\n"
     ]
    },
    {
     "name": "stderr",
     "output_type": "stream",
     "text": [
      "image 1/1 /mnt/c/Users/gtraw/Projekt_badawczy/dataset_done/weti1_2024_11_14_13_07.jpg: 1088x1920 40 objects, 260.2ms\n",
      "Speed: 7.1ms preprocess, 260.2ms inference, 10.9ms postprocess per image at shape (1, 3, 1920, 1920)\n",
      "\n"
     ]
    },
    {
     "name": "stdout",
     "output_type": "stream",
     "text": [
      "Matrix size: [14, 40]\n",
      "Similarity matrix built in 0.04s                                                                                                    \n",
      "\n",
      "Image: weti1_2024_11_14_13_07_m.jpg\n"
     ]
    },
    {
     "name": "stderr",
     "output_type": "stream",
     "text": [
      "image 1/1 /mnt/c/Users/gtraw/Projekt_badawczy/dataset_done/weti1_2024_11_14_13_07_m.jpg: 1088x1920 236 objects, 261.3ms\n",
      "Speed: 5.3ms preprocess, 261.3ms inference, 41.5ms postprocess per image at shape (1, 3, 1920, 1920)\n",
      "\n"
     ]
    },
    {
     "name": "stdout",
     "output_type": "stream",
     "text": [
      "Matrix size: [14, 236]\n",
      "Similarity matrix built in 0.13s                                                                                                    \n",
      "\n",
      "Image: weti1_2024_11_14_14_09.jpg\n"
     ]
    },
    {
     "name": "stderr",
     "output_type": "stream",
     "text": [
      "image 1/1 /mnt/c/Users/gtraw/Projekt_badawczy/dataset_done/weti1_2024_11_14_14_09.jpg: 1088x1920 40 objects, 264.4ms\n",
      "Speed: 5.9ms preprocess, 264.4ms inference, 8.3ms postprocess per image at shape (1, 3, 1920, 1920)\n",
      "\n"
     ]
    },
    {
     "name": "stdout",
     "output_type": "stream",
     "text": [
      "Matrix size: [13, 40]\n",
      "Similarity matrix built in 0.04s                                                                                                    \n",
      "\n",
      "Image: weti1_2024_11_14_14_09_m.jpg\n"
     ]
    },
    {
     "name": "stderr",
     "output_type": "stream",
     "text": [
      "image 1/1 /mnt/c/Users/gtraw/Projekt_badawczy/dataset_done/weti1_2024_11_14_14_09_m.jpg: 1088x1920 239 objects, 262.6ms\n",
      "Speed: 6.3ms preprocess, 262.6ms inference, 858.1ms postprocess per image at shape (1, 3, 1920, 1920)\n",
      "\n"
     ]
    },
    {
     "name": "stdout",
     "output_type": "stream",
     "text": [
      "Matrix size: [13, 239]\n",
      "Similarity matrix built in 0.12s                                                                                                    \n",
      "\n",
      "Image: weti1_2024_11_14_14_19.jpg\n"
     ]
    },
    {
     "name": "stderr",
     "output_type": "stream",
     "text": [
      "image 1/1 /mnt/c/Users/gtraw/Projekt_badawczy/dataset_done/weti1_2024_11_14_14_19.jpg: 1088x1920 41 objects, 2356.6ms\n",
      "Speed: 8.1ms preprocess, 2356.6ms inference, 15.4ms postprocess per image at shape (1, 3, 1920, 1920)\n",
      "\n"
     ]
    },
    {
     "name": "stdout",
     "output_type": "stream",
     "text": [
      "Matrix size: [13, 41]\n",
      "Similarity matrix built in 0.04s                                                                                                    \n",
      "\n",
      "Image: weti1_2024_11_14_14_19_m.jpg\n"
     ]
    },
    {
     "name": "stderr",
     "output_type": "stream",
     "text": [
      "image 1/1 /mnt/c/Users/gtraw/Projekt_badawczy/dataset_done/weti1_2024_11_14_14_19_m.jpg: 1088x1920 242 objects, 265.6ms\n",
      "Speed: 5.6ms preprocess, 265.6ms inference, 830.6ms postprocess per image at shape (1, 3, 1920, 1920)\n",
      "\n"
     ]
    },
    {
     "name": "stdout",
     "output_type": "stream",
     "text": [
      "Matrix size: [13, 242]\n",
      "Similarity matrix built in 0.13s                                                                                                    \n",
      "\n",
      "Image: weti1_2024_11_14_14_29.jpg\n"
     ]
    },
    {
     "name": "stderr",
     "output_type": "stream",
     "text": [
      "image 1/1 /mnt/c/Users/gtraw/Projekt_badawczy/dataset_done/weti1_2024_11_14_14_29.jpg: 1088x1920 38 objects, 3356.1ms\n",
      "Speed: 7.4ms preprocess, 3356.1ms inference, 69.7ms postprocess per image at shape (1, 3, 1920, 1920)\n",
      "\n"
     ]
    },
    {
     "name": "stdout",
     "output_type": "stream",
     "text": [
      "Matrix size: [13, 38]\n",
      "Similarity matrix built in 0.04s                                                                                                    \n",
      "\n",
      "Image: weti1_2024_11_14_14_29_m.jpg\n"
     ]
    },
    {
     "name": "stderr",
     "output_type": "stream",
     "text": [
      "image 1/1 /mnt/c/Users/gtraw/Projekt_badawczy/dataset_done/weti1_2024_11_14_14_29_m.jpg: 1088x1920 241 objects, 275.3ms\n",
      "Speed: 5.5ms preprocess, 275.3ms inference, 764.4ms postprocess per image at shape (1, 3, 1920, 1920)\n",
      "\n"
     ]
    },
    {
     "name": "stdout",
     "output_type": "stream",
     "text": [
      "Matrix size: [13, 241]\n",
      "Similarity matrix built in 0.12s                                                                                                    \n",
      "\n",
      "Image: weti1_2024_11_14_14_39.jpg\n"
     ]
    },
    {
     "name": "stderr",
     "output_type": "stream",
     "text": [
      "image 1/1 /mnt/c/Users/gtraw/Projekt_badawczy/dataset_done/weti1_2024_11_14_14_39.jpg: 1088x1920 39 objects, 3293.2ms\n",
      "Speed: 8.4ms preprocess, 3293.2ms inference, 11.5ms postprocess per image at shape (1, 3, 1920, 1920)\n",
      "\n"
     ]
    },
    {
     "name": "stdout",
     "output_type": "stream",
     "text": [
      "Matrix size: [12, 39]\n",
      "Similarity matrix built in 0.04s                                                                                                    \n",
      "\n",
      "Image: weti1_2024_11_14_14_39_m.jpg\n"
     ]
    },
    {
     "name": "stderr",
     "output_type": "stream",
     "text": [
      "image 1/1 /mnt/c/Users/gtraw/Projekt_badawczy/dataset_done/weti1_2024_11_14_14_39_m.jpg: 1088x1920 238 objects, 273.1ms\n",
      "Speed: 5.5ms preprocess, 273.1ms inference, 30.4ms postprocess per image at shape (1, 3, 1920, 1920)\n",
      "\n"
     ]
    },
    {
     "name": "stdout",
     "output_type": "stream",
     "text": [
      "Matrix size: [12, 238]\n",
      "Similarity matrix built in 0.10s                                                                                                    \n",
      "\n",
      "Image: weti1_2024_11_14_14_49.jpg\n"
     ]
    },
    {
     "name": "stderr",
     "output_type": "stream",
     "text": [
      "image 1/1 /mnt/c/Users/gtraw/Projekt_badawczy/dataset_done/weti1_2024_11_14_14_49.jpg: 1088x1920 39 objects, 257.3ms\n",
      "Speed: 6.2ms preprocess, 257.3ms inference, 9.6ms postprocess per image at shape (1, 3, 1920, 1920)\n",
      "\n"
     ]
    },
    {
     "name": "stdout",
     "output_type": "stream",
     "text": [
      "Matrix size: [12, 39]\n",
      "Similarity matrix built in 0.03s                                                                                                    \n",
      "\n",
      "Image: weti1_2024_11_14_14_49_m.jpg\n"
     ]
    },
    {
     "name": "stderr",
     "output_type": "stream",
     "text": [
      "image 1/1 /mnt/c/Users/gtraw/Projekt_badawczy/dataset_done/weti1_2024_11_14_14_49_m.jpg: 1088x1920 245 objects, 266.9ms\n",
      "Speed: 5.1ms preprocess, 266.9ms inference, 791.3ms postprocess per image at shape (1, 3, 1920, 1920)\n",
      "\n"
     ]
    },
    {
     "name": "stdout",
     "output_type": "stream",
     "text": [
      "Matrix size: [12, 245]\n",
      "Similarity matrix built in 0.12s                                                                                                    \n",
      "\n",
      "Image: weti1_2024_11_14_14_59.jpg\n"
     ]
    },
    {
     "name": "stderr",
     "output_type": "stream",
     "text": [
      "image 1/1 /mnt/c/Users/gtraw/Projekt_badawczy/dataset_done/weti1_2024_11_14_14_59.jpg: 1088x1920 35 objects, 1868.1ms\n",
      "Speed: 6.0ms preprocess, 1868.1ms inference, 49.5ms postprocess per image at shape (1, 3, 1920, 1920)\n",
      "\n"
     ]
    },
    {
     "name": "stdout",
     "output_type": "stream",
     "text": [
      "Matrix size: [11, 35]\n",
      "Similarity matrix built in 0.03s                                                                                                    \n",
      "\n",
      "Image: weti1_2024_11_14_14_59_m.jpg\n"
     ]
    },
    {
     "name": "stderr",
     "output_type": "stream",
     "text": [
      "image 1/1 /mnt/c/Users/gtraw/Projekt_badawczy/dataset_done/weti1_2024_11_14_14_59_m.jpg: 1088x1920 239 objects, 262.1ms\n",
      "Speed: 4.7ms preprocess, 262.1ms inference, 749.0ms postprocess per image at shape (1, 3, 1920, 1920)\n",
      "\n"
     ]
    },
    {
     "name": "stdout",
     "output_type": "stream",
     "text": [
      "Matrix size: [11, 239]\n",
      "Similarity matrix built in 0.10s                                                                                                    \n",
      "\n",
      "Image: weti1_2024_11_14_15_09.jpg\n"
     ]
    },
    {
     "name": "stderr",
     "output_type": "stream",
     "text": [
      "image 1/1 /mnt/c/Users/gtraw/Projekt_badawczy/dataset_done/weti1_2024_11_14_15_09.jpg: 1088x1920 30 objects, 2453.2ms\n",
      "Speed: 6.5ms preprocess, 2453.2ms inference, 9.0ms postprocess per image at shape (1, 3, 1920, 1920)\n",
      "\n"
     ]
    },
    {
     "name": "stdout",
     "output_type": "stream",
     "text": [
      "Matrix size: [9, 30]\n",
      "Similarity matrix built in 0.02s                                                                                                    \n",
      "\n",
      "Image: weti1_2024_11_14_15_09_m.jpg\n"
     ]
    },
    {
     "name": "stderr",
     "output_type": "stream",
     "text": [
      "image 1/1 /mnt/c/Users/gtraw/Projekt_badawczy/dataset_done/weti1_2024_11_14_15_09_m.jpg: 1088x1920 231 objects, 275.8ms\n",
      "Speed: 8.0ms preprocess, 275.8ms inference, 37.2ms postprocess per image at shape (1, 3, 1920, 1920)\n",
      "\n"
     ]
    },
    {
     "name": "stdout",
     "output_type": "stream",
     "text": [
      "Matrix size: [9, 231]\n",
      "Similarity matrix built in 0.09s                                                                                                    \n",
      "\n",
      "Image: weti1_2024_11_14_15_19.jpg\n"
     ]
    },
    {
     "name": "stderr",
     "output_type": "stream",
     "text": [
      "image 1/1 /mnt/c/Users/gtraw/Projekt_badawczy/dataset_done/weti1_2024_11_14_15_19.jpg: 1088x1920 34 objects, 260.9ms\n",
      "Speed: 6.9ms preprocess, 260.9ms inference, 8.7ms postprocess per image at shape (1, 3, 1920, 1920)\n",
      "\n"
     ]
    },
    {
     "name": "stdout",
     "output_type": "stream",
     "text": [
      "Matrix size: [9, 34]\n",
      "Similarity matrix built in 0.02s                                                                                                    \n",
      "\n",
      "Image: weti1_2024_11_14_15_19_m.jpg\n"
     ]
    },
    {
     "name": "stderr",
     "output_type": "stream",
     "text": [
      "image 1/1 /mnt/c/Users/gtraw/Projekt_badawczy/dataset_done/weti1_2024_11_14_15_19_m.jpg: 1088x1920 234 objects, 265.6ms\n",
      "Speed: 5.5ms preprocess, 265.6ms inference, 29.8ms postprocess per image at shape (1, 3, 1920, 1920)\n",
      "\n"
     ]
    },
    {
     "name": "stdout",
     "output_type": "stream",
     "text": [
      "Matrix size: [9, 234]\n",
      "Similarity matrix built in 0.14s                                                                                                    \n",
      "\n",
      "Image: weti1_2024_11_14_18_11.jpg\n"
     ]
    },
    {
     "name": "stderr",
     "output_type": "stream",
     "text": [
      "image 1/1 /mnt/c/Users/gtraw/Projekt_badawczy/dataset_done/weti1_2024_11_14_18_11.jpg: 1088x1920 9 objects, 261.6ms\n",
      "Speed: 6.0ms preprocess, 261.6ms inference, 4.9ms postprocess per image at shape (1, 3, 1920, 1920)\n",
      "\n"
     ]
    },
    {
     "name": "stdout",
     "output_type": "stream",
     "text": [
      "Matrix size: [2, 9]\n",
      "Similarity matrix built in 0.00s                                                                                                    \n",
      "\n",
      "Image: weti1_2024_11_14_18_11_m.jpg\n"
     ]
    },
    {
     "name": "stderr",
     "output_type": "stream",
     "text": [
      "image 1/1 /mnt/c/Users/gtraw/Projekt_badawczy/dataset_done/weti1_2024_11_14_18_11_m.jpg: 1088x1920 47 objects, 270.2ms\n",
      "Speed: 5.4ms preprocess, 270.2ms inference, 11.0ms postprocess per image at shape (1, 3, 1920, 1920)\n",
      "\n"
     ]
    },
    {
     "name": "stdout",
     "output_type": "stream",
     "text": [
      "Matrix size: [2, 47]\n",
      "Similarity matrix built in 0.01s                                                                                                    \n",
      "\n",
      "Image: weti1_2024_11_14_18_21.jpg\n"
     ]
    },
    {
     "name": "stderr",
     "output_type": "stream",
     "text": [
      "image 1/1 /mnt/c/Users/gtraw/Projekt_badawczy/dataset_done/weti1_2024_11_14_18_21.jpg: 1088x1920 7 objects, 268.7ms\n",
      "Speed: 6.1ms preprocess, 268.7ms inference, 6.6ms postprocess per image at shape (1, 3, 1920, 1920)\n",
      "\n"
     ]
    },
    {
     "name": "stdout",
     "output_type": "stream",
     "text": [
      "Matrix size: [0, 7]\n",
      "Similarity matrix built in 0.00s                                                                                                    \n",
      "\n",
      "Image: weti1_2024_11_14_18_21_m.jpg\n"
     ]
    },
    {
     "name": "stderr",
     "output_type": "stream",
     "text": [
      "image 1/1 /mnt/c/Users/gtraw/Projekt_badawczy/dataset_done/weti1_2024_11_14_18_21_m.jpg: 1088x1920 41 objects, 264.3ms\n",
      "Speed: 5.8ms preprocess, 264.3ms inference, 8.4ms postprocess per image at shape (1, 3, 1920, 1920)\n",
      "\n"
     ]
    },
    {
     "name": "stdout",
     "output_type": "stream",
     "text": [
      "Matrix size: [0, 41]\n",
      "Similarity matrix built in 0.00s                                                                                                    \n",
      "\n",
      "Image: weti1_2024_11_14_18_31.jpg\n"
     ]
    },
    {
     "name": "stderr",
     "output_type": "stream",
     "text": [
      "image 1/1 /mnt/c/Users/gtraw/Projekt_badawczy/dataset_done/weti1_2024_11_14_18_31.jpg: 1088x1920 6 objects, 260.9ms\n",
      "Speed: 6.3ms preprocess, 260.9ms inference, 8.9ms postprocess per image at shape (1, 3, 1920, 1920)\n",
      "\n"
     ]
    },
    {
     "name": "stdout",
     "output_type": "stream",
     "text": [
      "Matrix size: [0, 6]\n",
      "Similarity matrix built in 0.00s                                                                                                    \n",
      "\n",
      "Image: weti1_2024_11_14_18_31_m.jpg\n"
     ]
    },
    {
     "name": "stderr",
     "output_type": "stream",
     "text": [
      "image 1/1 /mnt/c/Users/gtraw/Projekt_badawczy/dataset_done/weti1_2024_11_14_18_31_m.jpg: 1088x1920 38 objects, 277.9ms\n",
      "Speed: 5.6ms preprocess, 277.9ms inference, 8.5ms postprocess per image at shape (1, 3, 1920, 1920)\n",
      "\n"
     ]
    },
    {
     "name": "stdout",
     "output_type": "stream",
     "text": [
      "Matrix size: [0, 38]\n",
      "Similarity matrix built in 0.00s                                                                                                    \n",
      "\n",
      "Image: weti1_2024_11_14_18_41.jpg\n"
     ]
    },
    {
     "name": "stderr",
     "output_type": "stream",
     "text": [
      "image 1/1 /mnt/c/Users/gtraw/Projekt_badawczy/dataset_done/weti1_2024_11_14_18_41.jpg: 1088x1920 7 objects, 265.8ms\n",
      "Speed: 6.7ms preprocess, 265.8ms inference, 4.8ms postprocess per image at shape (1, 3, 1920, 1920)\n",
      "\n"
     ]
    },
    {
     "name": "stdout",
     "output_type": "stream",
     "text": [
      "Matrix size: [0, 7]\n",
      "Similarity matrix built in 0.00s                                                                                                    \n",
      "\n",
      "Image: weti1_2024_11_14_18_41_m.jpg\n"
     ]
    },
    {
     "name": "stderr",
     "output_type": "stream",
     "text": [
      "image 1/1 /mnt/c/Users/gtraw/Projekt_badawczy/dataset_done/weti1_2024_11_14_18_41_m.jpg: 1088x1920 37 objects, 276.1ms\n",
      "Speed: 5.4ms preprocess, 276.1ms inference, 8.1ms postprocess per image at shape (1, 3, 1920, 1920)\n",
      "\n"
     ]
    },
    {
     "name": "stdout",
     "output_type": "stream",
     "text": [
      "Matrix size: [0, 37]\n",
      "Similarity matrix built in 0.00s                                                                                                    \n",
      "\n",
      "Image: weti2_2024_11_14_12_47.jpg\n"
     ]
    },
    {
     "name": "stderr",
     "output_type": "stream",
     "text": [
      "image 1/1 /mnt/c/Users/gtraw/Projekt_badawczy/dataset_done/weti2_2024_11_14_12_47.jpg: 1088x1920 127 objects, 262.3ms\n",
      "Speed: 6.0ms preprocess, 262.3ms inference, 24.0ms postprocess per image at shape (1, 3, 1920, 1920)\n"
     ]
    },
    {
     "name": "stdout",
     "output_type": "stream",
     "text": [
      "Matrix size: [40, 127]\n",
      "Building similarity matrix:       3339/5080\r"
     ]
    },
    {
     "name": "stderr",
     "output_type": "stream",
     "text": [
      "\n"
     ]
    },
    {
     "name": "stdout",
     "output_type": "stream",
     "text": [
      "Similarity matrix built in 0.28s                                                                                                    \n",
      "\n",
      "Image: weti2_2024_11_14_12_47_m.jpg\n"
     ]
    },
    {
     "name": "stderr",
     "output_type": "stream",
     "text": [
      "image 1/1 /mnt/c/Users/gtraw/Projekt_badawczy/dataset_done/weti2_2024_11_14_12_47_m.jpg: 1088x1920 246 objects, 263.7ms\n",
      "Speed: 6.4ms preprocess, 263.7ms inference, 790.9ms postprocess per image at shape (1, 3, 1920, 1920)\n"
     ]
    },
    {
     "name": "stdout",
     "output_type": "stream",
     "text": [
      "Matrix size: [40, 246]\n",
      "Building similarity matrix:       8115/9840\r"
     ]
    },
    {
     "name": "stderr",
     "output_type": "stream",
     "text": [
      "\n"
     ]
    },
    {
     "name": "stdout",
     "output_type": "stream",
     "text": [
      "Similarity matrix built in 0.91s                                                                                                    \n",
      "\n",
      "Image: weti2_2024_11_14_12_57.jpg\n"
     ]
    },
    {
     "name": "stderr",
     "output_type": "stream",
     "text": [
      "image 1/1 /mnt/c/Users/gtraw/Projekt_badawczy/dataset_done/weti2_2024_11_14_12_57.jpg: 1088x1920 130 objects, 912.4ms\n",
      "Speed: 8.7ms preprocess, 912.4ms inference, 33.7ms postprocess per image at shape (1, 3, 1920, 1920)\n"
     ]
    },
    {
     "name": "stdout",
     "output_type": "stream",
     "text": [
      "Matrix size: [40, 130]\n",
      "Building similarity matrix:       3816/5200\r"
     ]
    },
    {
     "name": "stderr",
     "output_type": "stream",
     "text": [
      "\n"
     ]
    },
    {
     "name": "stdout",
     "output_type": "stream",
     "text": [
      "Similarity matrix built in 0.26s                                                                                                    \n",
      "\n",
      "Image: weti2_2024_11_14_12_57_m.jpg\n"
     ]
    },
    {
     "name": "stderr",
     "output_type": "stream",
     "text": [
      "image 1/1 /mnt/c/Users/gtraw/Projekt_badawczy/dataset_done/weti2_2024_11_14_12_57_m.jpg: 1088x1920 247 objects, 270.2ms\n",
      "Speed: 6.1ms preprocess, 270.2ms inference, 913.4ms postprocess per image at shape (1, 3, 1920, 1920)\n"
     ]
    },
    {
     "name": "stdout",
     "output_type": "stream",
     "text": [
      "Matrix size: [40, 247]\n",
      "Building similarity matrix:       9739/9880\r"
     ]
    },
    {
     "name": "stderr",
     "output_type": "stream",
     "text": [
      "\n"
     ]
    },
    {
     "name": "stdout",
     "output_type": "stream",
     "text": [
      "Similarity matrix built in 0.41s                                                                                                    \n",
      "\n",
      "Image: weti2_2024_11_14_13_07.jpg\n"
     ]
    },
    {
     "name": "stderr",
     "output_type": "stream",
     "text": [
      "image 1/1 /mnt/c/Users/gtraw/Projekt_badawczy/dataset_done/weti2_2024_11_14_13_07.jpg: 1088x1920 120 objects, 866.7ms\n",
      "Speed: 10.3ms preprocess, 866.7ms inference, 45.5ms postprocess per image at shape (1, 3, 1920, 1920)\n"
     ]
    },
    {
     "name": "stdout",
     "output_type": "stream",
     "text": [
      "Matrix size: [38, 120]\n",
      "Building similarity matrix:       4133/4560\r"
     ]
    },
    {
     "name": "stderr",
     "output_type": "stream",
     "text": [
      "\n"
     ]
    },
    {
     "name": "stdout",
     "output_type": "stream",
     "text": [
      "Similarity matrix built in 0.68s                                                                                                    \n",
      "\n",
      "Image: weti2_2024_11_14_13_07_m.jpg\n"
     ]
    },
    {
     "name": "stderr",
     "output_type": "stream",
     "text": [
      "image 1/1 /mnt/c/Users/gtraw/Projekt_badawczy/dataset_done/weti2_2024_11_14_13_07_m.jpg: 1088x1920 240 objects, 368.5ms\n",
      "Speed: 6.6ms preprocess, 368.5ms inference, 970.3ms postprocess per image at shape (1, 3, 1920, 1920)\n"
     ]
    },
    {
     "name": "stdout",
     "output_type": "stream",
     "text": [
      "Matrix size: [38, 240]\n",
      "Building similarity matrix:       8463/9120\r"
     ]
    },
    {
     "name": "stderr",
     "output_type": "stream",
     "text": [
      "\n"
     ]
    },
    {
     "name": "stdout",
     "output_type": "stream",
     "text": [
      "Similarity matrix built in 1.16s                                                                                                    \n",
      "\n",
      "Image: weti2_2024_11_14_14_09.jpg\n"
     ]
    },
    {
     "name": "stderr",
     "output_type": "stream",
     "text": [
      "image 1/1 /mnt/c/Users/gtraw/Projekt_badawczy/dataset_done/weti2_2024_11_14_14_09.jpg: 1088x1920 126 objects, 4271.8ms\n",
      "Speed: 9.3ms preprocess, 4271.8ms inference, 182.1ms postprocess per image at shape (1, 3, 1920, 1920)\n"
     ]
    },
    {
     "name": "stdout",
     "output_type": "stream",
     "text": [
      "Matrix size: [38, 126]\n",
      "Building similarity matrix:       3391/4788\r"
     ]
    },
    {
     "name": "stderr",
     "output_type": "stream",
     "text": [
      "\n"
     ]
    },
    {
     "name": "stdout",
     "output_type": "stream",
     "text": [
      "Similarity matrix built in 0.29s                                                                                                    \n",
      "\n",
      "Image: weti2_2024_11_14_14_09_m.jpg\n"
     ]
    },
    {
     "name": "stderr",
     "output_type": "stream",
     "text": [
      "image 1/1 /mnt/c/Users/gtraw/Projekt_badawczy/dataset_done/weti2_2024_11_14_14_09_m.jpg: 1088x1920 235 objects, 268.0ms\n",
      "Speed: 5.6ms preprocess, 268.0ms inference, 1181.2ms postprocess per image at shape (1, 3, 1920, 1920)\n"
     ]
    },
    {
     "name": "stdout",
     "output_type": "stream",
     "text": [
      "Matrix size: [38, 235]\n",
      "Building similarity matrix:       8386/8930\r"
     ]
    },
    {
     "name": "stderr",
     "output_type": "stream",
     "text": [
      "\n"
     ]
    },
    {
     "name": "stdout",
     "output_type": "stream",
     "text": [
      "Similarity matrix built in 0.66s                                                                                                    \n",
      "\n",
      "Image: weti2_2024_11_14_14_19.jpg\n"
     ]
    },
    {
     "name": "stderr",
     "output_type": "stream",
     "text": [
      "image 1/1 /mnt/c/Users/gtraw/Projekt_badawczy/dataset_done/weti2_2024_11_14_14_19.jpg: 1088x1920 123 objects, 4758.8ms\n",
      "Speed: 6.8ms preprocess, 4758.8ms inference, 152.5ms postprocess per image at shape (1, 3, 1920, 1920)\n"
     ]
    },
    {
     "name": "stdout",
     "output_type": "stream",
     "text": [
      "Matrix size: [37, 123]\n",
      "Similarity matrix built in 0.40s                                                                                                    \n"
     ]
    },
    {
     "name": "stderr",
     "output_type": "stream",
     "text": [
      "\n"
     ]
    },
    {
     "name": "stdout",
     "output_type": "stream",
     "text": [
      "\n",
      "Image: weti2_2024_11_14_14_19_m.jpg\n"
     ]
    },
    {
     "name": "stderr",
     "output_type": "stream",
     "text": [
      "image 1/1 /mnt/c/Users/gtraw/Projekt_badawczy/dataset_done/weti2_2024_11_14_14_19_m.jpg: 1088x1920 245 objects, 260.2ms\n",
      "Speed: 7.3ms preprocess, 260.2ms inference, 751.7ms postprocess per image at shape (1, 3, 1920, 1920)\n"
     ]
    },
    {
     "name": "stdout",
     "output_type": "stream",
     "text": [
      "Matrix size: [37, 245]\n",
      "Building similarity matrix:       8378/9065\r"
     ]
    },
    {
     "name": "stderr",
     "output_type": "stream",
     "text": [
      "\n"
     ]
    },
    {
     "name": "stdout",
     "output_type": "stream",
     "text": [
      "Similarity matrix built in 0.64s                                                                                                    \n",
      "\n",
      "Image: weti2_2024_11_14_14_29.jpg\n"
     ]
    },
    {
     "name": "stderr",
     "output_type": "stream",
     "text": [
      "image 1/1 /mnt/c/Users/gtraw/Projekt_badawczy/dataset_done/weti2_2024_11_14_14_29.jpg: 1088x1920 118 objects, 3469.8ms\n",
      "Speed: 10.2ms preprocess, 3469.8ms inference, 26.6ms postprocess per image at shape (1, 3, 1920, 1920)\n"
     ]
    },
    {
     "name": "stdout",
     "output_type": "stream",
     "text": [
      "Matrix size: [35, 118]\n",
      "Building similarity matrix:       3737/4130\r"
     ]
    },
    {
     "name": "stderr",
     "output_type": "stream",
     "text": [
      "\n"
     ]
    },
    {
     "name": "stdout",
     "output_type": "stream",
     "text": [
      "Similarity matrix built in 0.44s                                                                                                    \n",
      "\n",
      "Image: weti2_2024_11_14_14_29_m.jpg\n"
     ]
    },
    {
     "name": "stderr",
     "output_type": "stream",
     "text": [
      "image 1/1 /mnt/c/Users/gtraw/Projekt_badawczy/dataset_done/weti2_2024_11_14_14_29_m.jpg: 1088x1920 237 objects, 363.1ms\n",
      "Speed: 6.7ms preprocess, 363.1ms inference, 1111.2ms postprocess per image at shape (1, 3, 1920, 1920)\n"
     ]
    },
    {
     "name": "stdout",
     "output_type": "stream",
     "text": [
      "Matrix size: [35, 237]\n",
      "Building similarity matrix:       7048/8295\r"
     ]
    },
    {
     "name": "stderr",
     "output_type": "stream",
     "text": [
      "\n"
     ]
    },
    {
     "name": "stdout",
     "output_type": "stream",
     "text": [
      "Similarity matrix built in 0.72s                                                                                                    \n",
      "\n",
      "Image: weti2_2024_11_14_14_39.jpg\n"
     ]
    },
    {
     "name": "stderr",
     "output_type": "stream",
     "text": [
      "image 1/1 /mnt/c/Users/gtraw/Projekt_badawczy/dataset_done/weti2_2024_11_14_14_39.jpg: 1088x1920 113 objects, 5917.6ms\n",
      "Speed: 6.0ms preprocess, 5917.6ms inference, 191.0ms postprocess per image at shape (1, 3, 1920, 1920)\n"
     ]
    },
    {
     "name": "stdout",
     "output_type": "stream",
     "text": [
      "Matrix size: [32, 113]\n",
      "Building similarity matrix:       2571/3616\r"
     ]
    },
    {
     "name": "stderr",
     "output_type": "stream",
     "text": [
      "\n"
     ]
    },
    {
     "name": "stdout",
     "output_type": "stream",
     "text": [
      "Similarity matrix built in 0.29s                                                                                                    \n",
      "\n",
      "Image: weti2_2024_11_14_14_39_m.jpg\n"
     ]
    },
    {
     "name": "stderr",
     "output_type": "stream",
     "text": [
      "image 1/1 /mnt/c/Users/gtraw/Projekt_badawczy/dataset_done/weti2_2024_11_14_14_39_m.jpg: 1088x1920 228 objects, 289.3ms\n",
      "Speed: 5.9ms preprocess, 289.3ms inference, 764.2ms postprocess per image at shape (1, 3, 1920, 1920)\n"
     ]
    },
    {
     "name": "stdout",
     "output_type": "stream",
     "text": [
      "Matrix size: [32, 228]\n",
      "Building similarity matrix:       6974/7296\r"
     ]
    },
    {
     "name": "stderr",
     "output_type": "stream",
     "text": [
      "\n"
     ]
    },
    {
     "name": "stdout",
     "output_type": "stream",
     "text": [
      "Similarity matrix built in 0.43s                                                                                                    \n",
      "\n",
      "Image: weti2_2024_11_14_14_49.jpg\n"
     ]
    },
    {
     "name": "stderr",
     "output_type": "stream",
     "text": [
      "image 1/1 /mnt/c/Users/gtraw/Projekt_badawczy/dataset_done/weti2_2024_11_14_14_49.jpg: 1088x1920 120 objects, 4100.8ms\n",
      "Speed: 6.8ms preprocess, 4100.8ms inference, 294.8ms postprocess per image at shape (1, 3, 1920, 1920)\n"
     ]
    },
    {
     "name": "stdout",
     "output_type": "stream",
     "text": [
      "Matrix size: [30, 120]\n",
      "Building similarity matrix:       3140/3600\r"
     ]
    },
    {
     "name": "stderr",
     "output_type": "stream",
     "text": [
      "\n"
     ]
    },
    {
     "name": "stdout",
     "output_type": "stream",
     "text": [
      "Similarity matrix built in 0.52s                                                                                                    \n",
      "\n",
      "Image: weti2_2024_11_14_14_49_m.jpg\n"
     ]
    },
    {
     "name": "stderr",
     "output_type": "stream",
     "text": [
      "image 1/1 /mnt/c/Users/gtraw/Projekt_badawczy/dataset_done/weti2_2024_11_14_14_49_m.jpg: 1088x1920 237 objects, 319.6ms\n",
      "Speed: 7.6ms preprocess, 319.6ms inference, 824.4ms postprocess per image at shape (1, 3, 1920, 1920)\n"
     ]
    },
    {
     "name": "stdout",
     "output_type": "stream",
     "text": [
      "Matrix size: [30, 237]\n",
      "Building similarity matrix:       5157/7110\r"
     ]
    },
    {
     "name": "stderr",
     "output_type": "stream",
     "text": [
      "\n"
     ]
    },
    {
     "name": "stdout",
     "output_type": "stream",
     "text": [
      "Similarity matrix built in 0.28s                                                                                                    \n",
      "\n",
      "Image: weti2_2024_11_14_14_59.jpg\n"
     ]
    },
    {
     "name": "stderr",
     "output_type": "stream",
     "text": [
      "image 1/1 /mnt/c/Users/gtraw/Projekt_badawczy/dataset_done/weti2_2024_11_14_14_59.jpg: 1088x1920 104 objects, 5822.9ms\n",
      "Speed: 6.3ms preprocess, 5822.9ms inference, 162.1ms postprocess per image at shape (1, 3, 1920, 1920)\n"
     ]
    },
    {
     "name": "stdout",
     "output_type": "stream",
     "text": [
      "Matrix size: [27, 104]\n",
      "Building similarity matrix:       2395/2808\r"
     ]
    },
    {
     "name": "stderr",
     "output_type": "stream",
     "text": [
      "\n"
     ]
    },
    {
     "name": "stdout",
     "output_type": "stream",
     "text": [
      "Similarity matrix built in 0.25s                                                                                                    \n",
      "\n",
      "Image: weti2_2024_11_14_14_59_m.jpg\n"
     ]
    },
    {
     "name": "stderr",
     "output_type": "stream",
     "text": [
      "image 1/1 /mnt/c/Users/gtraw/Projekt_badawczy/dataset_done/weti2_2024_11_14_14_59_m.jpg: 1088x1920 216 objects, 556.2ms\n",
      "Speed: 8.9ms preprocess, 556.2ms inference, 919.2ms postprocess per image at shape (1, 3, 1920, 1920)\n"
     ]
    },
    {
     "name": "stdout",
     "output_type": "stream",
     "text": [
      "Matrix size: [27, 216]\n",
      "Building similarity matrix:       5494/5832\r"
     ]
    },
    {
     "name": "stderr",
     "output_type": "stream",
     "text": [
      "\n"
     ]
    },
    {
     "name": "stdout",
     "output_type": "stream",
     "text": [
      "Similarity matrix built in 0.22s                                                                                                    \n",
      "\n",
      "Image: weti2_2024_11_14_15_09.jpg\n"
     ]
    },
    {
     "name": "stderr",
     "output_type": "stream",
     "text": [
      "image 1/1 /mnt/c/Users/gtraw/Projekt_badawczy/dataset_done/weti2_2024_11_14_15_09.jpg: 1088x1920 97 objects, 2771.2ms\n",
      "Speed: 6.2ms preprocess, 2771.2ms inference, 27.4ms postprocess per image at shape (1, 3, 1920, 1920)\n",
      "\n"
     ]
    },
    {
     "name": "stdout",
     "output_type": "stream",
     "text": [
      "Matrix size: [26, 97]\n",
      "Similarity matrix built in 0.14s                                                                                                    \n",
      "\n",
      "Image: weti2_2024_11_14_15_09_m.jpg\n"
     ]
    },
    {
     "name": "stderr",
     "output_type": "stream",
     "text": [
      "image 1/1 /mnt/c/Users/gtraw/Projekt_badawczy/dataset_done/weti2_2024_11_14_15_09_m.jpg: 1088x1920 207 objects, 297.0ms\n",
      "Speed: 5.7ms preprocess, 297.0ms inference, 820.6ms postprocess per image at shape (1, 3, 1920, 1920)\n"
     ]
    },
    {
     "name": "stdout",
     "output_type": "stream",
     "text": [
      "Matrix size: [26, 207]\n",
      "Similarity matrix built in 0.20s                                                                                                    \n"
     ]
    },
    {
     "name": "stderr",
     "output_type": "stream",
     "text": [
      "\n"
     ]
    },
    {
     "name": "stdout",
     "output_type": "stream",
     "text": [
      "\n",
      "Image: weti2_2024_11_14_15_19.jpg\n"
     ]
    },
    {
     "name": "stderr",
     "output_type": "stream",
     "text": [
      "image 1/1 /mnt/c/Users/gtraw/Projekt_badawczy/dataset_done/weti2_2024_11_14_15_19.jpg: 1088x1920 100 objects, 1464.4ms\n",
      "Speed: 5.9ms preprocess, 1464.4ms inference, 23.5ms postprocess per image at shape (1, 3, 1920, 1920)\n",
      "\n"
     ]
    },
    {
     "name": "stdout",
     "output_type": "stream",
     "text": [
      "Matrix size: [25, 100]\n",
      "Similarity matrix built in 0.14s                                                                                                    \n",
      "\n",
      "Image: weti2_2024_11_14_15_19_m.jpg\n"
     ]
    },
    {
     "name": "stderr",
     "output_type": "stream",
     "text": [
      "image 1/1 /mnt/c/Users/gtraw/Projekt_badawczy/dataset_done/weti2_2024_11_14_15_19_m.jpg: 1088x1920 219 objects, 256.8ms\n",
      "Speed: 4.9ms preprocess, 256.8ms inference, 644.7ms postprocess per image at shape (1, 3, 1920, 1920)\n"
     ]
    },
    {
     "name": "stdout",
     "output_type": "stream",
     "text": [
      "Matrix size: [25, 219]\n",
      "Building similarity matrix:       5318/5475\r"
     ]
    },
    {
     "name": "stderr",
     "output_type": "stream",
     "text": [
      "\n"
     ]
    },
    {
     "name": "stdout",
     "output_type": "stream",
     "text": [
      "Similarity matrix built in 0.21s                                                                                                    \n",
      "\n",
      "Image: weti2_2024_11_14_18_11.jpg\n"
     ]
    },
    {
     "name": "stderr",
     "output_type": "stream",
     "text": [
      "image 1/1 /mnt/c/Users/gtraw/Projekt_badawczy/dataset_done/weti2_2024_11_14_18_11.jpg: 1088x1920 15 objects, 4997.8ms\n",
      "Speed: 9.8ms preprocess, 4997.8ms inference, 69.8ms postprocess per image at shape (1, 3, 1920, 1920)\n",
      "\n"
     ]
    },
    {
     "name": "stdout",
     "output_type": "stream",
     "text": [
      "Matrix size: [10, 15]\n",
      "Similarity matrix built in 0.02s                                                                                                    \n",
      "\n",
      "Image: weti2_2024_11_14_18_11_m.jpg\n"
     ]
    },
    {
     "name": "stderr",
     "output_type": "stream",
     "text": [
      "image 1/1 /mnt/c/Users/gtraw/Projekt_badawczy/dataset_done/weti2_2024_11_14_18_11_m.jpg: 1088x1920 31 objects, 4004.5ms\n",
      "Speed: 4.9ms preprocess, 4004.5ms inference, 7.3ms postprocess per image at shape (1, 3, 1920, 1920)\n",
      "\n"
     ]
    },
    {
     "name": "stdout",
     "output_type": "stream",
     "text": [
      "Matrix size: [10, 31]\n",
      "Similarity matrix built in 0.02s                                                                                                    \n",
      "\n",
      "Image: weti2_2024_11_14_18_21.jpg\n"
     ]
    },
    {
     "name": "stderr",
     "output_type": "stream",
     "text": [
      "image 1/1 /mnt/c/Users/gtraw/Projekt_badawczy/dataset_done/weti2_2024_11_14_18_21.jpg: 1088x1920 11 objects, 257.4ms\n",
      "Speed: 6.9ms preprocess, 257.4ms inference, 5.4ms postprocess per image at shape (1, 3, 1920, 1920)\n",
      "\n"
     ]
    },
    {
     "name": "stdout",
     "output_type": "stream",
     "text": [
      "Matrix size: [6, 11]\n",
      "Similarity matrix built in 0.01s                                                                                                    \n",
      "\n",
      "Image: weti2_2024_11_14_18_21_m.jpg\n"
     ]
    },
    {
     "name": "stderr",
     "output_type": "stream",
     "text": [
      "image 1/1 /mnt/c/Users/gtraw/Projekt_badawczy/dataset_done/weti2_2024_11_14_18_21_m.jpg: 1088x1920 25 objects, 269.2ms\n",
      "Speed: 7.1ms preprocess, 269.2ms inference, 17.0ms postprocess per image at shape (1, 3, 1920, 1920)\n",
      "\n"
     ]
    },
    {
     "name": "stdout",
     "output_type": "stream",
     "text": [
      "Matrix size: [6, 25]\n",
      "Similarity matrix built in 0.01s                                                                                                    \n",
      "\n",
      "Image: weti2_2024_11_14_18_31.jpg\n"
     ]
    },
    {
     "name": "stderr",
     "output_type": "stream",
     "text": [
      "image 1/1 /mnt/c/Users/gtraw/Projekt_badawczy/dataset_done/weti2_2024_11_14_18_31.jpg: 1088x1920 12 objects, 255.2ms\n",
      "Speed: 7.2ms preprocess, 255.2ms inference, 5.1ms postprocess per image at shape (1, 3, 1920, 1920)\n",
      "\n"
     ]
    },
    {
     "name": "stdout",
     "output_type": "stream",
     "text": [
      "Matrix size: [6, 12]\n",
      "Similarity matrix built in 0.01s                                                                                                    \n",
      "\n",
      "Image: weti2_2024_11_14_18_31_m.jpg\n"
     ]
    },
    {
     "name": "stderr",
     "output_type": "stream",
     "text": [
      "image 1/1 /mnt/c/Users/gtraw/Projekt_badawczy/dataset_done/weti2_2024_11_14_18_31_m.jpg: 1088x1920 20 objects, 263.1ms\n",
      "Speed: 5.9ms preprocess, 263.1ms inference, 10.4ms postprocess per image at shape (1, 3, 1920, 1920)\n",
      "\n"
     ]
    },
    {
     "name": "stdout",
     "output_type": "stream",
     "text": [
      "Matrix size: [6, 20]\n",
      "Similarity matrix built in 0.01s                                                                                                    \n",
      "\n",
      "Image: weti2_2024_11_14_18_41.jpg\n"
     ]
    },
    {
     "name": "stderr",
     "output_type": "stream",
     "text": [
      "image 1/1 /mnt/c/Users/gtraw/Projekt_badawczy/dataset_done/weti2_2024_11_14_18_41.jpg: 1088x1920 10 objects, 257.3ms\n",
      "Speed: 7.3ms preprocess, 257.3ms inference, 4.9ms postprocess per image at shape (1, 3, 1920, 1920)\n",
      "\n"
     ]
    },
    {
     "name": "stdout",
     "output_type": "stream",
     "text": [
      "Matrix size: [6, 10]\n",
      "Similarity matrix built in 0.01s                                                                                                    \n",
      "\n",
      "Image: weti2_2024_11_14_18_41_m.jpg\n"
     ]
    },
    {
     "name": "stderr",
     "output_type": "stream",
     "text": [
      "image 1/1 /mnt/c/Users/gtraw/Projekt_badawczy/dataset_done/weti2_2024_11_14_18_41_m.jpg: 1088x1920 23 objects, 272.2ms\n",
      "Speed: 5.5ms preprocess, 272.2ms inference, 8.7ms postprocess per image at shape (1, 3, 1920, 1920)\n"
     ]
    },
    {
     "name": "stdout",
     "output_type": "stream",
     "text": [
      "Matrix size: [6, 23]\n",
      "Similarity matrix built in 0.01s                                                                                                    \n"
     ]
    },
    {
     "name": "stderr",
     "output_type": "stream",
     "text": [
      "/mnt/c/Users/gtraw/Projekt_badawczy/FastSAM/ultralytics/nn/tasks.py:518: FutureWarning: You are using `torch.load` with `weights_only=False` (the current default value), which uses the default pickle module implicitly. It is possible to construct malicious pickle data which will execute arbitrary code during unpickling (See https://github.com/pytorch/pytorch/blob/main/SECURITY.md#untrusted-models for more details). In a future release, the default value for `weights_only` will be flipped to `True`. This limits the functions that could be executed during unpickling. Arbitrary objects will no longer be allowed to be loaded via this mode unless they are explicitly allowlisted by the user via `torch.serialization.add_safe_globals`. We recommend you start setting `weights_only=True` for any use case where you don't have full control of the loaded file. Please open an issue on GitHub for any issues related to this experimental feature.\n",
      "  return torch.load(file, map_location='cpu'), file  # load\n",
      "\n"
     ]
    },
    {
     "name": "stdout",
     "output_type": "stream",
     "text": [
      "output_dir: /mnt/c/Users/gtraw/Projekt_badawczy/dataset_results_fastsam_s\n",
      "\n",
      "Image: weti1_2024_11_14_12_47.jpg\n"
     ]
    },
    {
     "name": "stderr",
     "output_type": "stream",
     "text": [
      "image 1/1 /mnt/c/Users/gtraw/Projekt_badawczy/dataset_done/weti1_2024_11_14_12_47.jpg: 1088x1920 46 objects, 60.0ms\n",
      "Speed: 6.1ms preprocess, 60.0ms inference, 21.2ms postprocess per image at shape (1, 3, 1920, 1920)\n",
      "\n"
     ]
    },
    {
     "name": "stdout",
     "output_type": "stream",
     "text": [
      "Matrix size: [14, 46]\n",
      "Similarity matrix built in 0.03s                                                                                                    \n",
      "\n",
      "Image: weti1_2024_11_14_12_47_m.jpg\n"
     ]
    },
    {
     "name": "stderr",
     "output_type": "stream",
     "text": [
      "image 1/1 /mnt/c/Users/gtraw/Projekt_badawczy/dataset_done/weti1_2024_11_14_12_47_m.jpg: 1088x1920 300 objects, 46.3ms\n",
      "Speed: 6.6ms preprocess, 46.3ms inference, 1124.0ms postprocess per image at shape (1, 3, 1920, 1920)\n"
     ]
    },
    {
     "name": "stdout",
     "output_type": "stream",
     "text": [
      "Matrix size: [14, 300]\n",
      "Building similarity matrix:       2443/4200\r"
     ]
    },
    {
     "name": "stderr",
     "output_type": "stream",
     "text": [
      "\n"
     ]
    },
    {
     "name": "stdout",
     "output_type": "stream",
     "text": [
      "Similarity matrix built in 0.35s                                                                                                    \n",
      "\n",
      "Image: weti1_2024_11_14_12_57.jpg\n"
     ]
    },
    {
     "name": "stderr",
     "output_type": "stream",
     "text": [
      "image 1/1 /mnt/c/Users/gtraw/Projekt_badawczy/dataset_done/weti1_2024_11_14_12_57.jpg: 1088x1920 48 objects, 52.4ms\n",
      "Speed: 10.9ms preprocess, 52.4ms inference, 24.0ms postprocess per image at shape (1, 3, 1920, 1920)\n",
      "\n"
     ]
    },
    {
     "name": "stdout",
     "output_type": "stream",
     "text": [
      "Matrix size: [14, 48]\n",
      "Similarity matrix built in 0.10s                                                                                                    \n",
      "\n",
      "Image: weti1_2024_11_14_12_57_m.jpg\n"
     ]
    },
    {
     "name": "stderr",
     "output_type": "stream",
     "text": [
      "image 1/1 /mnt/c/Users/gtraw/Projekt_badawczy/dataset_done/weti1_2024_11_14_12_57_m.jpg: 1088x1920 300 objects, 72.1ms\n",
      "Speed: 7.0ms preprocess, 72.1ms inference, 1087.5ms postprocess per image at shape (1, 3, 1920, 1920)\n",
      "\n"
     ]
    },
    {
     "name": "stdout",
     "output_type": "stream",
     "text": [
      "Matrix size: [14, 300]\n",
      "Similarity matrix built in 0.14s                                                                                                    \n",
      "\n",
      "Image: weti1_2024_11_14_13_07.jpg\n"
     ]
    },
    {
     "name": "stderr",
     "output_type": "stream",
     "text": [
      "image 1/1 /mnt/c/Users/gtraw/Projekt_badawczy/dataset_done/weti1_2024_11_14_13_07.jpg: 1088x1920 44 objects, 37.4ms\n",
      "Speed: 6.6ms preprocess, 37.4ms inference, 14.4ms postprocess per image at shape (1, 3, 1920, 1920)\n",
      "\n"
     ]
    },
    {
     "name": "stdout",
     "output_type": "stream",
     "text": [
      "Matrix size: [14, 44]\n",
      "Similarity matrix built in 0.03s                                                                                                    \n",
      "\n",
      "Image: weti1_2024_11_14_13_07_m.jpg\n"
     ]
    },
    {
     "name": "stderr",
     "output_type": "stream",
     "text": [
      "image 1/1 /mnt/c/Users/gtraw/Projekt_badawczy/dataset_done/weti1_2024_11_14_13_07_m.jpg: 1088x1920 300 objects, 42.7ms\n",
      "Speed: 6.0ms preprocess, 42.7ms inference, 1054.0ms postprocess per image at shape (1, 3, 1920, 1920)\n"
     ]
    },
    {
     "name": "stdout",
     "output_type": "stream",
     "text": [
      "Matrix size: [14, 300]\n",
      "Building similarity matrix:       3033/4200\r"
     ]
    },
    {
     "name": "stderr",
     "output_type": "stream",
     "text": [
      "\n"
     ]
    },
    {
     "name": "stdout",
     "output_type": "stream",
     "text": [
      "Similarity matrix built in 0.29s                                                                                                    \n",
      "\n",
      "Image: weti1_2024_11_14_14_09.jpg\n"
     ]
    },
    {
     "name": "stderr",
     "output_type": "stream",
     "text": [
      "image 1/1 /mnt/c/Users/gtraw/Projekt_badawczy/dataset_done/weti1_2024_11_14_14_09.jpg: 1088x1920 47 objects, 50.3ms\n",
      "Speed: 7.5ms preprocess, 50.3ms inference, 11.4ms postprocess per image at shape (1, 3, 1920, 1920)\n",
      "\n"
     ]
    },
    {
     "name": "stdout",
     "output_type": "stream",
     "text": [
      "Matrix size: [13, 47]\n",
      "Similarity matrix built in 0.05s                                                                                                    \n",
      "\n",
      "Image: weti1_2024_11_14_14_09_m.jpg\n"
     ]
    },
    {
     "name": "stderr",
     "output_type": "stream",
     "text": [
      "image 1/1 /mnt/c/Users/gtraw/Projekt_badawczy/dataset_done/weti1_2024_11_14_14_09_m.jpg: 1088x1920 300 objects, 37.2ms\n",
      "Speed: 7.5ms preprocess, 37.2ms inference, 1071.0ms postprocess per image at shape (1, 3, 1920, 1920)\n",
      "\n"
     ]
    },
    {
     "name": "stdout",
     "output_type": "stream",
     "text": [
      "Matrix size: [13, 300]\n",
      "Similarity matrix built in 0.13s                                                                                                    \n",
      "\n",
      "Image: weti1_2024_11_14_14_19.jpg\n"
     ]
    },
    {
     "name": "stderr",
     "output_type": "stream",
     "text": [
      "image 1/1 /mnt/c/Users/gtraw/Projekt_badawczy/dataset_done/weti1_2024_11_14_14_19.jpg: 1088x1920 55 objects, 43.2ms\n",
      "Speed: 7.1ms preprocess, 43.2ms inference, 16.0ms postprocess per image at shape (1, 3, 1920, 1920)\n",
      "\n"
     ]
    },
    {
     "name": "stdout",
     "output_type": "stream",
     "text": [
      "Matrix size: [13, 55]\n",
      "Similarity matrix built in 0.03s                                                                                                    \n",
      "\n",
      "Image: weti1_2024_11_14_14_19_m.jpg\n"
     ]
    },
    {
     "name": "stderr",
     "output_type": "stream",
     "text": [
      "image 1/1 /mnt/c/Users/gtraw/Projekt_badawczy/dataset_done/weti1_2024_11_14_14_19_m.jpg: 1088x1920 300 objects, 41.7ms\n",
      "Speed: 5.0ms preprocess, 41.7ms inference, 1053.1ms postprocess per image at shape (1, 3, 1920, 1920)\n"
     ]
    },
    {
     "name": "stdout",
     "output_type": "stream",
     "text": [
      "Matrix size: [13, 300]\n",
      "Building similarity matrix:       3688/3900\r"
     ]
    },
    {
     "name": "stderr",
     "output_type": "stream",
     "text": [
      "\n"
     ]
    },
    {
     "name": "stdout",
     "output_type": "stream",
     "text": [
      "Similarity matrix built in 0.22s                                                                                                    \n",
      "\n",
      "Image: weti1_2024_11_14_14_29.jpg\n"
     ]
    },
    {
     "name": "stderr",
     "output_type": "stream",
     "text": [
      "image 1/1 /mnt/c/Users/gtraw/Projekt_badawczy/dataset_done/weti1_2024_11_14_14_29.jpg: 1088x1920 45 objects, 40.5ms\n",
      "Speed: 9.2ms preprocess, 40.5ms inference, 12.2ms postprocess per image at shape (1, 3, 1920, 1920)\n",
      "\n"
     ]
    },
    {
     "name": "stdout",
     "output_type": "stream",
     "text": [
      "Matrix size: [13, 45]\n",
      "Similarity matrix built in 0.03s                                                                                                    \n",
      "\n",
      "Image: weti1_2024_11_14_14_29_m.jpg\n"
     ]
    },
    {
     "name": "stderr",
     "output_type": "stream",
     "text": [
      "image 1/1 /mnt/c/Users/gtraw/Projekt_badawczy/dataset_done/weti1_2024_11_14_14_29_m.jpg: 1088x1920 300 objects, 42.5ms\n",
      "Speed: 5.2ms preprocess, 42.5ms inference, 1085.4ms postprocess per image at shape (1, 3, 1920, 1920)\n"
     ]
    },
    {
     "name": "stdout",
     "output_type": "stream",
     "text": [
      "Matrix size: [13, 300]\n",
      "Building similarity matrix:       3794/3900\r"
     ]
    },
    {
     "name": "stderr",
     "output_type": "stream",
     "text": [
      "\n"
     ]
    },
    {
     "name": "stdout",
     "output_type": "stream",
     "text": [
      "Similarity matrix built in 0.21s                                                                                                    \n",
      "\n",
      "Image: weti1_2024_11_14_14_39.jpg\n"
     ]
    },
    {
     "name": "stderr",
     "output_type": "stream",
     "text": [
      "image 1/1 /mnt/c/Users/gtraw/Projekt_badawczy/dataset_done/weti1_2024_11_14_14_39.jpg: 1088x1920 44 objects, 66.9ms\n",
      "Speed: 13.5ms preprocess, 66.9ms inference, 15.1ms postprocess per image at shape (1, 3, 1920, 1920)\n",
      "\n"
     ]
    },
    {
     "name": "stdout",
     "output_type": "stream",
     "text": [
      "Matrix size: [12, 44]\n",
      "Similarity matrix built in 0.03s                                                                                                    \n",
      "\n",
      "Image: weti1_2024_11_14_14_39_m.jpg\n"
     ]
    },
    {
     "name": "stderr",
     "output_type": "stream",
     "text": [
      "image 1/1 /mnt/c/Users/gtraw/Projekt_badawczy/dataset_done/weti1_2024_11_14_14_39_m.jpg: 1088x1920 300 objects, 36.9ms\n",
      "Speed: 5.0ms preprocess, 36.9ms inference, 1146.7ms postprocess per image at shape (1, 3, 1920, 1920)\n"
     ]
    },
    {
     "name": "stdout",
     "output_type": "stream",
     "text": [
      "Matrix size: [12, 300]\n",
      "Building similarity matrix:       3085/3600\r"
     ]
    },
    {
     "name": "stderr",
     "output_type": "stream",
     "text": [
      "\n"
     ]
    },
    {
     "name": "stdout",
     "output_type": "stream",
     "text": [
      "Similarity matrix built in 0.51s                                                                                                    \n",
      "\n",
      "Image: weti1_2024_11_14_14_49.jpg\n"
     ]
    },
    {
     "name": "stderr",
     "output_type": "stream",
     "text": [
      "image 1/1 /mnt/c/Users/gtraw/Projekt_badawczy/dataset_done/weti1_2024_11_14_14_49.jpg: 1088x1920 40 objects, 73.3ms\n",
      "Speed: 8.4ms preprocess, 73.3ms inference, 10.7ms postprocess per image at shape (1, 3, 1920, 1920)\n",
      "\n"
     ]
    },
    {
     "name": "stdout",
     "output_type": "stream",
     "text": [
      "Matrix size: [12, 40]\n",
      "Similarity matrix built in 0.04s                                                                                                    \n",
      "\n",
      "Image: weti1_2024_11_14_14_49_m.jpg\n"
     ]
    },
    {
     "name": "stderr",
     "output_type": "stream",
     "text": [
      "image 1/1 /mnt/c/Users/gtraw/Projekt_badawczy/dataset_done/weti1_2024_11_14_14_49_m.jpg: 1088x1920 300 objects, 60.2ms\n",
      "Speed: 11.4ms preprocess, 60.2ms inference, 1593.6ms postprocess per image at shape (1, 3, 1920, 1920)\n"
     ]
    },
    {
     "name": "stdout",
     "output_type": "stream",
     "text": [
      "Matrix size: [12, 300]\n",
      "Building similarity matrix:       3294/3600\r"
     ]
    },
    {
     "name": "stderr",
     "output_type": "stream",
     "text": [
      "\n"
     ]
    },
    {
     "name": "stdout",
     "output_type": "stream",
     "text": [
      "Similarity matrix built in 0.22s                                                                                                    \n",
      "\n",
      "Image: weti1_2024_11_14_14_59.jpg\n"
     ]
    },
    {
     "name": "stderr",
     "output_type": "stream",
     "text": [
      "image 1/1 /mnt/c/Users/gtraw/Projekt_badawczy/dataset_done/weti1_2024_11_14_14_59.jpg: 1088x1920 36 objects, 37.9ms\n",
      "Speed: 6.0ms preprocess, 37.9ms inference, 9.9ms postprocess per image at shape (1, 3, 1920, 1920)\n",
      "\n"
     ]
    },
    {
     "name": "stdout",
     "output_type": "stream",
     "text": [
      "Matrix size: [11, 36]\n",
      "Similarity matrix built in 0.02s                                                                                                    \n",
      "\n",
      "Image: weti1_2024_11_14_14_59_m.jpg\n"
     ]
    },
    {
     "name": "stderr",
     "output_type": "stream",
     "text": [
      "image 1/1 /mnt/c/Users/gtraw/Projekt_badawczy/dataset_done/weti1_2024_11_14_14_59_m.jpg: 1088x1920 300 objects, 41.9ms\n",
      "Speed: 6.4ms preprocess, 41.9ms inference, 1153.5ms postprocess per image at shape (1, 3, 1920, 1920)\n"
     ]
    },
    {
     "name": "stdout",
     "output_type": "stream",
     "text": [
      "Matrix size: [11, 300]\n",
      "Building similarity matrix:       2482/3300\r"
     ]
    },
    {
     "name": "stderr",
     "output_type": "stream",
     "text": [
      "\n"
     ]
    },
    {
     "name": "stdout",
     "output_type": "stream",
     "text": [
      "Similarity matrix built in 0.27s                                                                                                    \n",
      "\n",
      "Image: weti1_2024_11_14_15_09.jpg\n"
     ]
    },
    {
     "name": "stderr",
     "output_type": "stream",
     "text": [
      "image 1/1 /mnt/c/Users/gtraw/Projekt_badawczy/dataset_done/weti1_2024_11_14_15_09.jpg: 1088x1920 27 objects, 45.6ms\n",
      "Speed: 13.9ms preprocess, 45.6ms inference, 22.7ms postprocess per image at shape (1, 3, 1920, 1920)\n",
      "\n"
     ]
    },
    {
     "name": "stdout",
     "output_type": "stream",
     "text": [
      "Matrix size: [9, 27]\n",
      "Similarity matrix built in 0.03s                                                                                                    \n",
      "\n",
      "Image: weti1_2024_11_14_15_09_m.jpg\n"
     ]
    },
    {
     "name": "stderr",
     "output_type": "stream",
     "text": [
      "image 1/1 /mnt/c/Users/gtraw/Projekt_badawczy/dataset_done/weti1_2024_11_14_15_09_m.jpg: 1088x1920 300 objects, 52.2ms\n",
      "Speed: 4.7ms preprocess, 52.2ms inference, 1088.8ms postprocess per image at shape (1, 3, 1920, 1920)\n",
      "\n"
     ]
    },
    {
     "name": "stdout",
     "output_type": "stream",
     "text": [
      "Matrix size: [9, 300]\n",
      "Similarity matrix built in 0.13s                                                                                                    \n",
      "\n",
      "Image: weti1_2024_11_14_15_19.jpg\n"
     ]
    },
    {
     "name": "stderr",
     "output_type": "stream",
     "text": [
      "image 1/1 /mnt/c/Users/gtraw/Projekt_badawczy/dataset_done/weti1_2024_11_14_15_19.jpg: 1088x1920 32 objects, 44.1ms\n",
      "Speed: 7.9ms preprocess, 44.1ms inference, 15.9ms postprocess per image at shape (1, 3, 1920, 1920)\n",
      "\n"
     ]
    },
    {
     "name": "stdout",
     "output_type": "stream",
     "text": [
      "Matrix size: [9, 32]\n",
      "Similarity matrix built in 0.02s                                                                                                    \n",
      "\n",
      "Image: weti1_2024_11_14_15_19_m.jpg\n"
     ]
    },
    {
     "name": "stderr",
     "output_type": "stream",
     "text": [
      "image 1/1 /mnt/c/Users/gtraw/Projekt_badawczy/dataset_done/weti1_2024_11_14_15_19_m.jpg: 1088x1920 300 objects, 42.8ms\n",
      "Speed: 7.1ms preprocess, 42.8ms inference, 1262.2ms postprocess per image at shape (1, 3, 1920, 1920)\n",
      "\n"
     ]
    },
    {
     "name": "stdout",
     "output_type": "stream",
     "text": [
      "Matrix size: [9, 300]\n",
      "Similarity matrix built in 0.12s                                                                                                    \n",
      "\n",
      "Image: weti1_2024_11_14_18_11.jpg\n"
     ]
    },
    {
     "name": "stderr",
     "output_type": "stream",
     "text": [
      "image 1/1 /mnt/c/Users/gtraw/Projekt_badawczy/dataset_done/weti1_2024_11_14_18_11.jpg: 1088x1920 11 objects, 56.1ms\n",
      "Speed: 10.4ms preprocess, 56.1ms inference, 8.4ms postprocess per image at shape (1, 3, 1920, 1920)\n",
      "\n"
     ]
    },
    {
     "name": "stdout",
     "output_type": "stream",
     "text": [
      "Matrix size: [2, 11]\n",
      "Similarity matrix built in 0.00s                                                                                                    \n",
      "\n",
      "Image: weti1_2024_11_14_18_11_m.jpg\n"
     ]
    },
    {
     "name": "stderr",
     "output_type": "stream",
     "text": [
      "image 1/1 /mnt/c/Users/gtraw/Projekt_badawczy/dataset_done/weti1_2024_11_14_18_11_m.jpg: 1088x1920 46 objects, 66.3ms\n",
      "Speed: 7.3ms preprocess, 66.3ms inference, 9.4ms postprocess per image at shape (1, 3, 1920, 1920)\n",
      "\n"
     ]
    },
    {
     "name": "stdout",
     "output_type": "stream",
     "text": [
      "Matrix size: [2, 46]\n",
      "Similarity matrix built in 0.01s                                                                                                    \n",
      "\n",
      "Image: weti1_2024_11_14_18_21.jpg\n"
     ]
    },
    {
     "name": "stderr",
     "output_type": "stream",
     "text": [
      "image 1/1 /mnt/c/Users/gtraw/Projekt_badawczy/dataset_done/weti1_2024_11_14_18_21.jpg: 1088x1920 10 objects, 55.9ms\n",
      "Speed: 6.3ms preprocess, 55.9ms inference, 7.3ms postprocess per image at shape (1, 3, 1920, 1920)\n",
      "\n"
     ]
    },
    {
     "name": "stdout",
     "output_type": "stream",
     "text": [
      "Matrix size: [0, 10]\n",
      "Similarity matrix built in 0.00s                                                                                                    \n",
      "\n",
      "Image: weti1_2024_11_14_18_21_m.jpg\n"
     ]
    },
    {
     "name": "stderr",
     "output_type": "stream",
     "text": [
      "image 1/1 /mnt/c/Users/gtraw/Projekt_badawczy/dataset_done/weti1_2024_11_14_18_21_m.jpg: 1088x1920 49 objects, 48.3ms\n",
      "Speed: 6.0ms preprocess, 48.3ms inference, 8.5ms postprocess per image at shape (1, 3, 1920, 1920)\n",
      "\n"
     ]
    },
    {
     "name": "stdout",
     "output_type": "stream",
     "text": [
      "Matrix size: [0, 49]\n",
      "Similarity matrix built in 0.00s                                                                                                    \n",
      "\n",
      "Image: weti1_2024_11_14_18_31.jpg\n"
     ]
    },
    {
     "name": "stderr",
     "output_type": "stream",
     "text": [
      "image 1/1 /mnt/c/Users/gtraw/Projekt_badawczy/dataset_done/weti1_2024_11_14_18_31.jpg: 1088x1920 7 objects, 56.7ms\n",
      "Speed: 9.2ms preprocess, 56.7ms inference, 7.1ms postprocess per image at shape (1, 3, 1920, 1920)\n",
      "\n"
     ]
    },
    {
     "name": "stdout",
     "output_type": "stream",
     "text": [
      "Matrix size: [0, 7]\n",
      "Similarity matrix built in 0.00s                                                                                                    \n",
      "\n",
      "Image: weti1_2024_11_14_18_31_m.jpg\n"
     ]
    },
    {
     "name": "stderr",
     "output_type": "stream",
     "text": [
      "image 1/1 /mnt/c/Users/gtraw/Projekt_badawczy/dataset_done/weti1_2024_11_14_18_31_m.jpg: 1088x1920 44 objects, 49.2ms\n",
      "Speed: 4.8ms preprocess, 49.2ms inference, 14.5ms postprocess per image at shape (1, 3, 1920, 1920)\n",
      "\n",
      "image 1/1 /mnt/c/Users/gtraw/Projekt_badawczy/dataset_done/weti1_2024_11_14_18_41.jpg: 1088x1920 8 objects, 42.6ms\n",
      "Speed: 6.4ms preprocess, 42.6ms inference, 7.0ms postprocess per image at shape (1, 3, 1920, 1920)\n"
     ]
    },
    {
     "name": "stdout",
     "output_type": "stream",
     "text": [
      "Matrix size: [0, 44]\n",
      "Similarity matrix built in 0.00s                                                                                                    \n",
      "\n",
      "Image: weti1_2024_11_14_18_41.jpg\n"
     ]
    },
    {
     "name": "stderr",
     "output_type": "stream",
     "text": [
      "\n"
     ]
    },
    {
     "name": "stdout",
     "output_type": "stream",
     "text": [
      "Matrix size: [0, 8]\n",
      "Similarity matrix built in 0.00s                                                                                                    \n",
      "\n",
      "Image: weti1_2024_11_14_18_41_m.jpg\n"
     ]
    },
    {
     "name": "stderr",
     "output_type": "stream",
     "text": [
      "image 1/1 /mnt/c/Users/gtraw/Projekt_badawczy/dataset_done/weti1_2024_11_14_18_41_m.jpg: 1088x1920 38 objects, 70.5ms\n",
      "Speed: 6.0ms preprocess, 70.5ms inference, 11.7ms postprocess per image at shape (1, 3, 1920, 1920)\n",
      "\n"
     ]
    },
    {
     "name": "stdout",
     "output_type": "stream",
     "text": [
      "Matrix size: [0, 38]\n",
      "Similarity matrix built in 0.00s                                                                                                    \n",
      "\n",
      "Image: weti2_2024_11_14_12_47.jpg\n"
     ]
    },
    {
     "name": "stderr",
     "output_type": "stream",
     "text": [
      "image 1/1 /mnt/c/Users/gtraw/Projekt_badawczy/dataset_done/weti2_2024_11_14_12_47.jpg: 1088x1920 145 objects, 70.7ms\n",
      "Speed: 7.4ms preprocess, 70.7ms inference, 24.4ms postprocess per image at shape (1, 3, 1920, 1920)\n"
     ]
    },
    {
     "name": "stdout",
     "output_type": "stream",
     "text": [
      "Matrix size: [40, 145]\n",
      "Building similarity matrix:       3632/5800\r"
     ]
    },
    {
     "name": "stderr",
     "output_type": "stream",
     "text": [
      "\n"
     ]
    },
    {
     "name": "stdout",
     "output_type": "stream",
     "text": [
      "Similarity matrix built in 0.32s                                                                                                    \n",
      "\n",
      "Image: weti2_2024_11_14_12_47_m.jpg\n"
     ]
    },
    {
     "name": "stderr",
     "output_type": "stream",
     "text": [
      "image 1/1 /mnt/c/Users/gtraw/Projekt_badawczy/dataset_done/weti2_2024_11_14_12_47_m.jpg: 1088x1920 292 objects, 52.4ms\n",
      "Speed: 5.5ms preprocess, 52.4ms inference, 1060.4ms postprocess per image at shape (1, 3, 1920, 1920)\n"
     ]
    },
    {
     "name": "stdout",
     "output_type": "stream",
     "text": [
      "Matrix size: [40, 292]\n",
      "Similarity matrix built in 0.60s                                                                                                    \n"
     ]
    },
    {
     "name": "stderr",
     "output_type": "stream",
     "text": [
      "\n"
     ]
    },
    {
     "name": "stdout",
     "output_type": "stream",
     "text": [
      "\n",
      "Image: weti2_2024_11_14_12_57.jpg\n"
     ]
    },
    {
     "name": "stderr",
     "output_type": "stream",
     "text": [
      "image 1/1 /mnt/c/Users/gtraw/Projekt_badawczy/dataset_done/weti2_2024_11_14_12_57.jpg: 1088x1920 151 objects, 1265.0ms\n",
      "Speed: 6.6ms preprocess, 1265.0ms inference, 28.1ms postprocess per image at shape (1, 3, 1920, 1920)\n"
     ]
    },
    {
     "name": "stdout",
     "output_type": "stream",
     "text": [
      "Matrix size: [40, 151]\n",
      "Building similarity matrix:       4256/6040\r"
     ]
    },
    {
     "name": "stderr",
     "output_type": "stream",
     "text": [
      "\n"
     ]
    },
    {
     "name": "stdout",
     "output_type": "stream",
     "text": [
      "Similarity matrix built in 0.31s                                                                                                    \n",
      "\n",
      "Image: weti2_2024_11_14_12_57_m.jpg\n"
     ]
    },
    {
     "name": "stderr",
     "output_type": "stream",
     "text": [
      "image 1/1 /mnt/c/Users/gtraw/Projekt_badawczy/dataset_done/weti2_2024_11_14_12_57_m.jpg: 1088x1920 295 objects, 42.1ms\n",
      "Speed: 6.5ms preprocess, 42.1ms inference, 1042.6ms postprocess per image at shape (1, 3, 1920, 1920)\n"
     ]
    },
    {
     "name": "stdout",
     "output_type": "stream",
     "text": [
      "Matrix size: [40, 295]\n",
      "Building similarity matrix:      10504/11800\r"
     ]
    },
    {
     "name": "stderr",
     "output_type": "stream",
     "text": [
      "\n"
     ]
    },
    {
     "name": "stdout",
     "output_type": "stream",
     "text": [
      "Similarity matrix built in 0.46s                                                                                                    \n",
      "\n",
      "Image: weti2_2024_11_14_13_07.jpg\n"
     ]
    },
    {
     "name": "stderr",
     "output_type": "stream",
     "text": [
      "image 1/1 /mnt/c/Users/gtraw/Projekt_badawczy/dataset_done/weti2_2024_11_14_13_07.jpg: 1088x1920 149 objects, 382.6ms\n",
      "Speed: 14.8ms preprocess, 382.6ms inference, 22.1ms postprocess per image at shape (1, 3, 1920, 1920)\n"
     ]
    },
    {
     "name": "stdout",
     "output_type": "stream",
     "text": [
      "Matrix size: [38, 149]\n",
      "Building similarity matrix:       3332/5662\r"
     ]
    },
    {
     "name": "stderr",
     "output_type": "stream",
     "text": [
      "\n"
     ]
    },
    {
     "name": "stdout",
     "output_type": "stream",
     "text": [
      "Similarity matrix built in 0.34s                                                                                                    \n",
      "\n",
      "Image: weti2_2024_11_14_13_07_m.jpg\n"
     ]
    },
    {
     "name": "stderr",
     "output_type": "stream",
     "text": [
      "image 1/1 /mnt/c/Users/gtraw/Projekt_badawczy/dataset_done/weti2_2024_11_14_13_07_m.jpg: 1088x1920 294 objects, 45.1ms\n",
      "Speed: 6.4ms preprocess, 45.1ms inference, 1012.8ms postprocess per image at shape (1, 3, 1920, 1920)\n"
     ]
    },
    {
     "name": "stdout",
     "output_type": "stream",
     "text": [
      "Matrix size: [38, 294]\n",
      "Building similarity matrix:       8997/11172\r"
     ]
    },
    {
     "name": "stderr",
     "output_type": "stream",
     "text": [
      "\n"
     ]
    },
    {
     "name": "stdout",
     "output_type": "stream",
     "text": [
      "Similarity matrix built in 0.51s                                                                                                    \n",
      "\n",
      "Image: weti2_2024_11_14_14_09.jpg\n"
     ]
    },
    {
     "name": "stderr",
     "output_type": "stream",
     "text": [
      "image 1/1 /mnt/c/Users/gtraw/Projekt_badawczy/dataset_done/weti2_2024_11_14_14_09.jpg: 1088x1920 142 objects, 1085.9ms\n",
      "Speed: 7.4ms preprocess, 1085.9ms inference, 25.9ms postprocess per image at shape (1, 3, 1920, 1920)\n"
     ]
    },
    {
     "name": "stdout",
     "output_type": "stream",
     "text": [
      "Matrix size: [38, 142]\n",
      "Building similarity matrix:       4145/5396\r"
     ]
    },
    {
     "name": "stderr",
     "output_type": "stream",
     "text": [
      "\n"
     ]
    },
    {
     "name": "stdout",
     "output_type": "stream",
     "text": [
      "Similarity matrix built in 0.26s                                                                                                    \n",
      "\n",
      "Image: weti2_2024_11_14_14_09_m.jpg\n"
     ]
    },
    {
     "name": "stderr",
     "output_type": "stream",
     "text": [
      "image 1/1 /mnt/c/Users/gtraw/Projekt_badawczy/dataset_done/weti2_2024_11_14_14_09_m.jpg: 1088x1920 288 objects, 37.9ms\n",
      "Speed: 6.0ms preprocess, 37.9ms inference, 993.1ms postprocess per image at shape (1, 3, 1920, 1920)\n"
     ]
    },
    {
     "name": "stdout",
     "output_type": "stream",
     "text": [
      "Matrix size: [38, 288]\n",
      "Building similarity matrix:       9005/10944\r"
     ]
    },
    {
     "name": "stderr",
     "output_type": "stream",
     "text": [
      "\n"
     ]
    },
    {
     "name": "stdout",
     "output_type": "stream",
     "text": [
      "Similarity matrix built in 0.51s                                                                                                    \n",
      "\n",
      "Image: weti2_2024_11_14_14_19.jpg\n"
     ]
    },
    {
     "name": "stderr",
     "output_type": "stream",
     "text": [
      "image 1/1 /mnt/c/Users/gtraw/Projekt_badawczy/dataset_done/weti2_2024_11_14_14_19.jpg: 1088x1920 149 objects, 1355.1ms\n",
      "Speed: 6.9ms preprocess, 1355.1ms inference, 48.4ms postprocess per image at shape (1, 3, 1920, 1920)\n"
     ]
    },
    {
     "name": "stdout",
     "output_type": "stream",
     "text": [
      "Matrix size: [37, 148]\n",
      "Building similarity matrix:       4017/5476\r"
     ]
    },
    {
     "name": "stderr",
     "output_type": "stream",
     "text": [
      "\n"
     ]
    },
    {
     "name": "stdout",
     "output_type": "stream",
     "text": [
      "Similarity matrix built in 0.28s                                                                                                    \n",
      "\n",
      "Image: weti2_2024_11_14_14_19_m.jpg\n"
     ]
    },
    {
     "name": "stderr",
     "output_type": "stream",
     "text": [
      "image 1/1 /mnt/c/Users/gtraw/Projekt_badawczy/dataset_done/weti2_2024_11_14_14_19_m.jpg: 1088x1920 284 objects, 49.9ms\n",
      "Speed: 6.6ms preprocess, 49.9ms inference, 1016.6ms postprocess per image at shape (1, 3, 1920, 1920)\n"
     ]
    },
    {
     "name": "stdout",
     "output_type": "stream",
     "text": [
      "Matrix size: [37, 284]\n",
      "Building similarity matrix:      10293/10508\r"
     ]
    },
    {
     "name": "stderr",
     "output_type": "stream",
     "text": [
      "\n"
     ]
    },
    {
     "name": "stdout",
     "output_type": "stream",
     "text": [
      "Similarity matrix built in 0.42s                                                                                                    \n",
      "\n",
      "Image: weti2_2024_11_14_14_29.jpg\n"
     ]
    },
    {
     "name": "stderr",
     "output_type": "stream",
     "text": [
      "image 1/1 /mnt/c/Users/gtraw/Projekt_badawczy/dataset_done/weti2_2024_11_14_14_29.jpg: 1088x1920 141 objects, 331.4ms\n",
      "Speed: 6.5ms preprocess, 331.4ms inference, 186.4ms postprocess per image at shape (1, 3, 1920, 1920)\n"
     ]
    },
    {
     "name": "stdout",
     "output_type": "stream",
     "text": [
      "Matrix size: [35, 141]\n",
      "Building similarity matrix:       4504/4935\r"
     ]
    },
    {
     "name": "stderr",
     "output_type": "stream",
     "text": [
      "\n"
     ]
    },
    {
     "name": "stdout",
     "output_type": "stream",
     "text": [
      "Similarity matrix built in 0.45s                                                                                                    \n",
      "\n",
      "Image: weti2_2024_11_14_14_29_m.jpg\n"
     ]
    },
    {
     "name": "stderr",
     "output_type": "stream",
     "text": [
      "image 1/1 /mnt/c/Users/gtraw/Projekt_badawczy/dataset_done/weti2_2024_11_14_14_29_m.jpg: 1088x1920 279 objects, 47.9ms\n",
      "Speed: 5.8ms preprocess, 47.9ms inference, 1089.2ms postprocess per image at shape (1, 3, 1920, 1920)\n"
     ]
    },
    {
     "name": "stdout",
     "output_type": "stream",
     "text": [
      "Matrix size: [35, 279]\n",
      "Similarity matrix built in 0.40s                                                                                                    \n"
     ]
    },
    {
     "name": "stderr",
     "output_type": "stream",
     "text": [
      "\n"
     ]
    },
    {
     "name": "stdout",
     "output_type": "stream",
     "text": [
      "\n",
      "Image: weti2_2024_11_14_14_39.jpg\n"
     ]
    },
    {
     "name": "stderr",
     "output_type": "stream",
     "text": [
      "image 1/1 /mnt/c/Users/gtraw/Projekt_badawczy/dataset_done/weti2_2024_11_14_14_39.jpg: 1088x1920 132 objects, 322.6ms\n",
      "Speed: 6.4ms preprocess, 322.6ms inference, 167.0ms postprocess per image at shape (1, 3, 1920, 1920)\n",
      "\n"
     ]
    },
    {
     "name": "stdout",
     "output_type": "stream",
     "text": [
      "Matrix size: [32, 132]\n",
      "Similarity matrix built in 0.17s                                                                                                    \n",
      "\n",
      "Image: weti2_2024_11_14_14_39_m.jpg\n"
     ]
    },
    {
     "name": "stderr",
     "output_type": "stream",
     "text": [
      "image 1/1 /mnt/c/Users/gtraw/Projekt_badawczy/dataset_done/weti2_2024_11_14_14_39_m.jpg: 1088x1920 267 objects, 40.8ms\n",
      "Speed: 9.1ms preprocess, 40.8ms inference, 917.0ms postprocess per image at shape (1, 3, 1920, 1920)\n"
     ]
    },
    {
     "name": "stdout",
     "output_type": "stream",
     "text": [
      "Matrix size: [32, 267]\n",
      "Building similarity matrix:       5499/8544\r"
     ]
    },
    {
     "name": "stderr",
     "output_type": "stream",
     "text": [
      "\n"
     ]
    },
    {
     "name": "stdout",
     "output_type": "stream",
     "text": [
      "Similarity matrix built in 0.35s                                                                                                    \n",
      "\n",
      "Image: weti2_2024_11_14_14_49.jpg\n"
     ]
    },
    {
     "name": "stderr",
     "output_type": "stream",
     "text": [
      "image 1/1 /mnt/c/Users/gtraw/Projekt_badawczy/dataset_done/weti2_2024_11_14_14_49.jpg: 1088x1920 135 objects, 43.4ms\n",
      "Speed: 7.2ms preprocess, 43.4ms inference, 19.9ms postprocess per image at shape (1, 3, 1920, 1920)\n",
      "\n"
     ]
    },
    {
     "name": "stdout",
     "output_type": "stream",
     "text": [
      "Matrix size: [30, 135]\n",
      "Similarity matrix built in 0.16s                                                                                                    \n",
      "\n",
      "Image: weti2_2024_11_14_14_49_m.jpg\n"
     ]
    },
    {
     "name": "stderr",
     "output_type": "stream",
     "text": [
      "image 1/1 /mnt/c/Users/gtraw/Projekt_badawczy/dataset_done/weti2_2024_11_14_14_49_m.jpg: 1088x1920 274 objects, 41.3ms\n",
      "Speed: 5.7ms preprocess, 41.3ms inference, 1004.7ms postprocess per image at shape (1, 3, 1920, 1920)\n"
     ]
    },
    {
     "name": "stdout",
     "output_type": "stream",
     "text": [
      "Matrix size: [30, 274]\n",
      "Building similarity matrix:       5029/8220\r"
     ]
    },
    {
     "name": "stderr",
     "output_type": "stream",
     "text": [
      "\n"
     ]
    },
    {
     "name": "stdout",
     "output_type": "stream",
     "text": [
      "Similarity matrix built in 0.33s                                                                                                    \n",
      "\n",
      "Image: weti2_2024_11_14_14_59.jpg\n"
     ]
    },
    {
     "name": "stderr",
     "output_type": "stream",
     "text": [
      "image 1/1 /mnt/c/Users/gtraw/Projekt_badawczy/dataset_done/weti2_2024_11_14_14_59.jpg: 1088x1920 114 objects, 514.1ms\n",
      "Speed: 10.8ms preprocess, 514.1ms inference, 144.8ms postprocess per image at shape (1, 3, 1920, 1920)\n",
      "\n"
     ]
    },
    {
     "name": "stdout",
     "output_type": "stream",
     "text": [
      "Matrix size: [27, 114]\n",
      "Similarity matrix built in 0.12s                                                                                                    \n",
      "\n",
      "Image: weti2_2024_11_14_14_59_m.jpg\n"
     ]
    },
    {
     "name": "stderr",
     "output_type": "stream",
     "text": [
      "image 1/1 /mnt/c/Users/gtraw/Projekt_badawczy/dataset_done/weti2_2024_11_14_14_59_m.jpg: 1088x1920 262 objects, 52.0ms\n",
      "Speed: 5.0ms preprocess, 52.0ms inference, 953.2ms postprocess per image at shape (1, 3, 1920, 1920)\n"
     ]
    },
    {
     "name": "stdout",
     "output_type": "stream",
     "text": [
      "Matrix size: [27, 262]\n",
      "Building similarity matrix:       5140/7074\r"
     ]
    },
    {
     "name": "stderr",
     "output_type": "stream",
     "text": [
      "\n"
     ]
    },
    {
     "name": "stdout",
     "output_type": "stream",
     "text": [
      "Similarity matrix built in 0.29s                                                                                                    \n",
      "\n",
      "Image: weti2_2024_11_14_15_09.jpg\n"
     ]
    },
    {
     "name": "stderr",
     "output_type": "stream",
     "text": [
      "image 1/1 /mnt/c/Users/gtraw/Projekt_badawczy/dataset_done/weti2_2024_11_14_15_09.jpg: 1088x1920 106 objects, 37.8ms\n",
      "Speed: 7.5ms preprocess, 37.8ms inference, 24.0ms postprocess per image at shape (1, 3, 1920, 1920)\n",
      "\n"
     ]
    },
    {
     "name": "stdout",
     "output_type": "stream",
     "text": [
      "Matrix size: [26, 106]\n",
      "Similarity matrix built in 0.11s                                                                                                    \n",
      "\n",
      "Image: weti2_2024_11_14_15_09_m.jpg\n"
     ]
    },
    {
     "name": "stderr",
     "output_type": "stream",
     "text": [
      "image 1/1 /mnt/c/Users/gtraw/Projekt_badawczy/dataset_done/weti2_2024_11_14_15_09_m.jpg: 1088x1920 243 objects, 42.6ms\n",
      "Speed: 5.0ms preprocess, 42.6ms inference, 733.4ms postprocess per image at shape (1, 3, 1920, 1920)\n"
     ]
    },
    {
     "name": "stdout",
     "output_type": "stream",
     "text": [
      "Matrix size: [26, 243]\n",
      "Building similarity matrix:       5638/6318\r"
     ]
    },
    {
     "name": "stderr",
     "output_type": "stream",
     "text": [
      "\n"
     ]
    },
    {
     "name": "stdout",
     "output_type": "stream",
     "text": [
      "Similarity matrix built in 0.23s                                                                                                    \n",
      "\n",
      "Image: weti2_2024_11_14_15_19.jpg\n"
     ]
    },
    {
     "name": "stderr",
     "output_type": "stream",
     "text": [
      "image 1/1 /mnt/c/Users/gtraw/Projekt_badawczy/dataset_done/weti2_2024_11_14_15_19.jpg: 1088x1920 120 objects, 1199.2ms\n",
      "Speed: 6.1ms preprocess, 1199.2ms inference, 15.7ms postprocess per image at shape (1, 3, 1920, 1920)\n",
      "\n"
     ]
    },
    {
     "name": "stdout",
     "output_type": "stream",
     "text": [
      "Matrix size: [25, 120]\n",
      "Similarity matrix built in 0.15s                                                                                                    \n",
      "\n",
      "Image: weti2_2024_11_14_15_19_m.jpg\n"
     ]
    },
    {
     "name": "stderr",
     "output_type": "stream",
     "text": [
      "image 1/1 /mnt/c/Users/gtraw/Projekt_badawczy/dataset_done/weti2_2024_11_14_15_19_m.jpg: 1088x1920 263 objects, 43.5ms\n",
      "Speed: 5.5ms preprocess, 43.5ms inference, 920.3ms postprocess per image at shape (1, 3, 1920, 1920)\n"
     ]
    },
    {
     "name": "stdout",
     "output_type": "stream",
     "text": [
      "Matrix size: [25, 263]\n",
      "Building similarity matrix:       4349/6575\r"
     ]
    },
    {
     "name": "stderr",
     "output_type": "stream",
     "text": [
      "\n"
     ]
    },
    {
     "name": "stdout",
     "output_type": "stream",
     "text": [
      "Similarity matrix built in 0.35s                                                                                                    \n",
      "\n",
      "Image: weti2_2024_11_14_18_11.jpg\n"
     ]
    },
    {
     "name": "stderr",
     "output_type": "stream",
     "text": [
      "image 1/1 /mnt/c/Users/gtraw/Projekt_badawczy/dataset_done/weti2_2024_11_14_18_11.jpg: 1088x1920 10 objects, 45.3ms\n",
      "Speed: 6.8ms preprocess, 45.3ms inference, 11.0ms postprocess per image at shape (1, 3, 1920, 1920)\n",
      "\n"
     ]
    },
    {
     "name": "stdout",
     "output_type": "stream",
     "text": [
      "Matrix size: [10, 10]\n",
      "Similarity matrix built in 0.01s                                                                                                    \n",
      "\n",
      "Image: weti2_2024_11_14_18_11_m.jpg\n"
     ]
    },
    {
     "name": "stderr",
     "output_type": "stream",
     "text": [
      "image 1/1 /mnt/c/Users/gtraw/Projekt_badawczy/dataset_done/weti2_2024_11_14_18_11_m.jpg: 1088x1920 28 objects, 55.5ms\n",
      "Speed: 8.7ms preprocess, 55.5ms inference, 10.8ms postprocess per image at shape (1, 3, 1920, 1920)\n",
      "\n"
     ]
    },
    {
     "name": "stdout",
     "output_type": "stream",
     "text": [
      "Matrix size: [10, 28]\n",
      "Similarity matrix built in 0.01s                                                                                                    \n",
      "\n",
      "Image: weti2_2024_11_14_18_21.jpg\n"
     ]
    },
    {
     "name": "stderr",
     "output_type": "stream",
     "text": [
      "image 1/1 /mnt/c/Users/gtraw/Projekt_badawczy/dataset_done/weti2_2024_11_14_18_21.jpg: 1088x1920 5 objects, 44.0ms\n",
      "Speed: 7.0ms preprocess, 44.0ms inference, 145.0ms postprocess per image at shape (1, 3, 1920, 1920)\n",
      "\n"
     ]
    },
    {
     "name": "stdout",
     "output_type": "stream",
     "text": [
      "Matrix size: [6, 5]\n",
      "Similarity matrix built in 0.00s                                                                                                    \n",
      "\n",
      "Image: weti2_2024_11_14_18_21_m.jpg\n"
     ]
    },
    {
     "name": "stderr",
     "output_type": "stream",
     "text": [
      "image 1/1 /mnt/c/Users/gtraw/Projekt_badawczy/dataset_done/weti2_2024_11_14_18_21_m.jpg: 1088x1920 24 objects, 47.5ms\n",
      "Speed: 7.3ms preprocess, 47.5ms inference, 6.7ms postprocess per image at shape (1, 3, 1920, 1920)\n",
      "\n"
     ]
    },
    {
     "name": "stdout",
     "output_type": "stream",
     "text": [
      "Matrix size: [6, 24]\n",
      "Similarity matrix built in 0.01s                                                                                                    \n",
      "\n",
      "Image: weti2_2024_11_14_18_31.jpg\n"
     ]
    },
    {
     "name": "stderr",
     "output_type": "stream",
     "text": [
      "image 1/1 /mnt/c/Users/gtraw/Projekt_badawczy/dataset_done/weti2_2024_11_14_18_31.jpg: 1088x1920 5 objects, 54.5ms\n",
      "Speed: 5.9ms preprocess, 54.5ms inference, 5.1ms postprocess per image at shape (1, 3, 1920, 1920)\n",
      "\n"
     ]
    },
    {
     "name": "stdout",
     "output_type": "stream",
     "text": [
      "Matrix size: [6, 5]\n",
      "Similarity matrix built in 0.00s                                                                                                    \n",
      "\n",
      "Image: weti2_2024_11_14_18_31_m.jpg\n"
     ]
    },
    {
     "name": "stderr",
     "output_type": "stream",
     "text": [
      "image 1/1 /mnt/c/Users/gtraw/Projekt_badawczy/dataset_done/weti2_2024_11_14_18_31_m.jpg: 1088x1920 20 objects, 40.1ms\n",
      "Speed: 5.6ms preprocess, 40.1ms inference, 7.0ms postprocess per image at shape (1, 3, 1920, 1920)\n",
      "\n"
     ]
    },
    {
     "name": "stdout",
     "output_type": "stream",
     "text": [
      "Matrix size: [6, 20]\n",
      "Similarity matrix built in 0.01s                                                                                                    \n",
      "\n",
      "Image: weti2_2024_11_14_18_41.jpg\n"
     ]
    },
    {
     "name": "stderr",
     "output_type": "stream",
     "text": [
      "image 1/1 /mnt/c/Users/gtraw/Projekt_badawczy/dataset_done/weti2_2024_11_14_18_41.jpg: 1088x1920 7 objects, 49.8ms\n",
      "Speed: 6.6ms preprocess, 49.8ms inference, 9.0ms postprocess per image at shape (1, 3, 1920, 1920)\n",
      "\n"
     ]
    },
    {
     "name": "stdout",
     "output_type": "stream",
     "text": [
      "Matrix size: [6, 7]\n",
      "Similarity matrix built in 0.00s                                                                                                    \n",
      "\n",
      "Image: weti2_2024_11_14_18_41_m.jpg\n"
     ]
    },
    {
     "name": "stderr",
     "output_type": "stream",
     "text": [
      "image 1/1 /mnt/c/Users/gtraw/Projekt_badawczy/dataset_done/weti2_2024_11_14_18_41_m.jpg: 1088x1920 19 objects, 46.9ms\n",
      "Speed: 5.8ms preprocess, 46.9ms inference, 6.6ms postprocess per image at shape (1, 3, 1920, 1920)\n"
     ]
    },
    {
     "name": "stdout",
     "output_type": "stream",
     "text": [
      "Matrix size: [6, 19]\n",
      "Similarity matrix built in 0.01s                                                                                                    \n"
     ]
    }
   ],
   "source": [
    "for model_name in model_info.keys():\n",
    "    model = FastSAM(model_info[model_name])\n",
    "    output_dir_model = f\"{output_dir}_{model_name}\"\n",
    "    print(f\"output_dir: {output_dir_model}\")\n",
    "\n",
    "    # fix directories\n",
    "    if not os.path.exists(output_dir_model):\n",
    "        os.makedirs(output_dir_model)\n",
    "\n",
    "    # for image in dir\n",
    "    for image_file in os.listdir(input_dir):\n",
    "        data_pred = {\n",
    "            'model': model_name\n",
    "        }\n",
    "\n",
    "        # skip non-images\n",
    "        if not image_file.endswith(('jpg', 'png')):\n",
    "            continue\n",
    "\n",
    "        print(f\"\\nImage: {image_file}\")\n",
    "        # image's path\n",
    "        image_path = os.path.join(input_dir, image_file)\n",
    "        # measure time\n",
    "        time_start = time.time()\n",
    "        # generate masks\n",
    "        everything_results = model(image_path, device=DEVICE, imgsz=1920)\n",
    "        prompt_process = FastSAMPrompt(image_path, everything_results, device=DEVICE)\n",
    "\n",
    "        # everything prompt\n",
    "        ann = prompt_process.everything_prompt()\n",
    "        time_end = time.time() - time_start\n",
    "\n",
    "        # save results\n",
    "        data_pred['time'] = time_end\n",
    "        data_pred['objects'] = []\n",
    "\n",
    "        ann = ann.cpu()\n",
    "        for seg in ann:\n",
    "            data_pred['objects'].append(seg)\n",
    "\n",
    "        # load labeled data\n",
    "        data_filename = '.'.join(image_file.replace('_m', '').split('.')[:-1]) + '.json'\n",
    "        with open(os.path.join(input_dir, data_filename), 'r') as f:\n",
    "            data_db = json.load(f)\n",
    "\n",
    "        data_db['polygons'] = transform_to_polygons([obj['points'] for obj in data_db['objects']])\n",
    "        # print(data_pred['objects'][-1])\n",
    "        # print(data_pred['objects'][-1].shape)\n",
    "        data_pred['polygons'] = transform_to_polygons([obj for obj in data_pred['objects']], \"mask\")\n",
    "\n",
    "        sm = build_similarity_matrix(data_db['polygons'], data_pred['polygons'])\n",
    "        matching = match_polygons(sm)\n",
    "\n",
    "        result_dict = evaluate_segmentation(data_db['polygons'], data_pred['polygons'], matching, data_pred['time'], data_db['weather'], ['sam2.1', model_name])\n",
    "        result_dict['filename'] = '.'.join(image_file.split('.')[:-1])\n",
    "\n",
    "        json_path = os.path.join(output_dir_model, f\"{'.'.join(image_file.split('.')[:-1])}.json\")\n",
    "        with open(json_path, 'w') as json_file:\n",
    "            json.dump(result_dict, json_file, indent=4)"
   ]
  }
 ],
 "metadata": {
  "kernelspec": {
   "display_name": "venv",
   "language": "python",
   "name": "python3"
  },
  "language_info": {
   "codemirror_mode": {
    "name": "ipython",
    "version": 3
   },
   "file_extension": ".py",
   "mimetype": "text/x-python",
   "name": "python",
   "nbconvert_exporter": "python",
   "pygments_lexer": "ipython3",
   "version": "3.10.12"
  }
 },
 "nbformat": 4,
 "nbformat_minor": 2
}
