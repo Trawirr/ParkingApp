{
 "cells": [
  {
   "cell_type": "code",
   "execution_count": 1,
   "metadata": {},
   "outputs": [],
   "source": [
    "from fastsam import FastSAM, FastSAMPrompt\n",
    "import torch"
   ]
  },
  {
   "cell_type": "code",
   "execution_count": 3,
   "metadata": {},
   "outputs": [
    {
     "name": "stderr",
     "output_type": "stream",
     "text": [
      "/mnt/c/Users/gtraw/Projekt_badawczy/FastSAM/ultralytics/nn/tasks.py:518: FutureWarning: You are using `torch.load` with `weights_only=False` (the current default value), which uses the default pickle module implicitly. It is possible to construct malicious pickle data which will execute arbitrary code during unpickling (See https://github.com/pytorch/pytorch/blob/main/SECURITY.md#untrusted-models for more details). In a future release, the default value for `weights_only` will be flipped to `True`. This limits the functions that could be executed during unpickling. Arbitrary objects will no longer be allowed to be loaded via this mode unless they are explicitly allowlisted by the user via `torch.serialization.add_safe_globals`. We recommend you start setting `weights_only=True` for any use case where you don't have full control of the loaded file. Please open an issue on GitHub for any issues related to this experimental feature.\n",
      "  return torch.load(file, map_location='cpu'), file  # load\n",
      "\n",
      "image 1/1 /mnt/c/Users/gtraw/Projekt_badawczy/images/weti1_2024_11_21_14_55.jpg: 576x1024 65 objects, 107.6ms\n",
      "Speed: 10.6ms preprocess, 107.6ms inference, 475.0ms postprocess per image at shape (1, 3, 1024, 1024)\n"
     ]
    }
   ],
   "source": [
    "model = FastSAM(r'/mnt/c/Users/gtraw/Projekt_badawczy/checkpoints/FASTSAM/FastSAM-s.pt')\n",
    "IMAGE_PATH = r'/mnt/c/Users/gtraw/Projekt_badawczy/images/weti1_2024_11_21_14_55.jpg'\n",
    "DEVICE = torch.device('cuda:0' if torch.cuda.is_available() else 'cpu')\n",
    "everything_results = model(IMAGE_PATH, device=DEVICE, retina_masks=True, imgsz=1024, conf=0.5, iou=0.9,)\n",
    "prompt_process = FastSAMPrompt(IMAGE_PATH, everything_results, device=DEVICE)\n",
    "\n",
    "# everything prompt\n",
    "ann = prompt_process.everything_prompt()\n",
    "\n",
    "prompt_process.plot(annotations=ann, output_path=r'/mnt/c/Users/gtraw/Projekt_badawczy/results/fastsams_zima.jpg',)"
   ]
  },
  {
   "cell_type": "code",
   "execution_count": 10,
   "metadata": {},
   "outputs": [
    {
     "data": {
      "text/plain": [
       "array([[[          0,           0,           0, ...,           0,           0,           0],\n",
       "        [          0,           0,           0, ...,           0,           0,           0],\n",
       "        [          0,           0,           0, ...,           0,           0,           0],\n",
       "        ...,\n",
       "        [          0,           0,           0, ...,           0,           0,           0],\n",
       "        [          0,           0,           0, ...,           0,           0,           0],\n",
       "        [          0,           0,           0, ...,           0,           0,           0]],\n",
       "\n",
       "       [[          0,           0,           0, ...,           0,           0,           0],\n",
       "        [          0,           0,           0, ...,           0,           0,           0],\n",
       "        [          0,           0,           0, ...,           0,           0,           0],\n",
       "        ...,\n",
       "        [          0,           0,           0, ...,           0,           0,           0],\n",
       "        [          0,           0,           0, ...,           0,           0,           0],\n",
       "        [          0,           0,           0, ...,           0,           0,           0]],\n",
       "\n",
       "       [[          0,           0,           0, ...,           0,           0,           0],\n",
       "        [          0,           0,           0, ...,           0,           0,           0],\n",
       "        [          0,           0,           0, ...,           0,           0,           0],\n",
       "        ...,\n",
       "        [          0,           0,           0, ...,           0,           0,           0],\n",
       "        [          0,           0,           0, ...,           0,           0,           0],\n",
       "        [          0,           0,           0, ...,           0,           0,           0]],\n",
       "\n",
       "       ...,\n",
       "\n",
       "       [[          0,           0,           0, ...,           0,           0,           0],\n",
       "        [          0,           0,           0, ...,           0,           0,           0],\n",
       "        [          0,           0,           0, ...,           0,           0,           0],\n",
       "        ...,\n",
       "        [          0,           0,           0, ...,           0,           0,           0],\n",
       "        [          0,           0,           0, ...,           0,           0,           0],\n",
       "        [          0,           0,           0, ...,           0,           0,           0]],\n",
       "\n",
       "       [[          0,           0,           0, ...,           0,           0,           0],\n",
       "        [          0,           0,           0, ...,           0,           0,           0],\n",
       "        [          0,           0,           0, ...,           0,           0,           0],\n",
       "        ...,\n",
       "        [          0,           0,           0, ...,           0,           0,           0],\n",
       "        [          0,           0,           0, ...,           0,           0,           0],\n",
       "        [          0,           0,           0, ...,           0,           0,           0]],\n",
       "\n",
       "       [[          0,           0,           0, ...,           0,           0,           0],\n",
       "        [          0,           0,           0, ...,           0,           0,           0],\n",
       "        [          0,           0,           0, ...,           0,           0,           0],\n",
       "        ...,\n",
       "        [          0,           0,           0, ...,           0,           0,           0],\n",
       "        [          0,           0,           0, ...,           0,           0,           0],\n",
       "        [          0,           0,           0, ...,           0,           0,           0]]], dtype=float32)"
      ]
     },
     "execution_count": 10,
     "metadata": {},
     "output_type": "execute_result"
    }
   ],
   "source": [
    "ann.cpu().numpy()"
   ]
  },
  {
   "cell_type": "markdown",
   "metadata": {},
   "source": [
    "### Segmentacja na całym zbiorze"
   ]
  },
  {
   "cell_type": "code",
   "execution_count": 6,
   "metadata": {},
   "outputs": [],
   "source": [
    "from fastsam import FastSAM, FastSAMPrompt\n",
    "import torch\n",
    "\n",
    "import cv2\n",
    "import sys\n",
    "import os\n",
    "import time\n",
    "import json\n",
    "\n",
    "import numpy as np\n",
    "from shapely.geometry import Polygon\n",
    "from scipy.optimize import linear_sum_assignment\n",
    "\n",
    "import matplotlib.pyplot as plt\n",
    "\n",
    "import warnings\n",
    "warnings.filterwarnings(\"ignore\", category=DeprecationWarning) \n",
    "\n",
    "model_info = {\n",
    "    'fastsam_x': \"/mnt/c/Users/gtraw/Projekt_badawczy/checkpoints/FASTSAM/FastSAM-x.pt\",\n",
    "    'fastsam_s': \"/mnt/c/Users/gtraw/Projekt_badawczy/checkpoints/FASTSAM/FastSAM-s.pt\"\n",
    "}\n",
    "\n",
    "# Images/results paths\n",
    "input_dir = '/mnt/c/Users/gtraw/Projekt_badawczy/dataset_11_12'\n",
    "output_dir = '/mnt/c/Users/gtraw/Projekt_badawczy/dataset_results_11_12/dataset_results'\n",
    "\n",
    "DEVICE = torch.device('cuda:0' if torch.cuda.is_available() else 'cpu')"
   ]
  },
  {
   "cell_type": "code",
   "execution_count": 4,
   "metadata": {},
   "outputs": [],
   "source": [
    "def transform_to_polygons(data, mode=\"points\"):\n",
    "    polygons = []\n",
    "    if mode == \"points\":\n",
    "        polygons = [points2polygon(d) for d in data]\n",
    "    elif mode == \"corners\":\n",
    "        polygons = [corners2polygon(d) for d in data]\n",
    "    elif mode == \"mask\":\n",
    "        polygons = [mask2polygon(d) for d in data]\n",
    "    return [p for p in polygons if p is not None]\n",
    "    \n",
    "def corners2polygon(corners):\n",
    "    x1, y1, x2, y2 = corners\n",
    "    points = [(x1, y1), (x2, y1), (x2, y2), (x1, y2), (x1, y1)]\n",
    "    \n",
    "    return Polygon(points)\n",
    "        \n",
    "def points2polygon(points):\n",
    "    return Polygon(points)\n",
    "\n",
    "def mask2polygon(mask):\n",
    "    mask = np.array(mask)\n",
    "    mask = mask.astype(np.uint8)\n",
    "    contours, _ = cv2.findContours(mask, cv2.RETR_EXTERNAL, cv2.CHAIN_APPROX_SIMPLE)\n",
    "    \n",
    "    if not contours:\n",
    "        return None\n",
    "    \n",
    "    \n",
    "    # if len(largest_contour) < 4:\n",
    "    #     print(f\"< 4 points: {largest_contour=}\")\n",
    "    #     return None  # Not enough points for a valid polygon\n",
    "    \n",
    "    try:\n",
    "        largest_contour = max(contours, key=cv2.contourArea)\n",
    "    except Exception as e:\n",
    "        print(f\"contour exception: {e}\")\n",
    "        plt.figure(figsize=(8, 8))\n",
    "        plt.imshow(mask, cmap='gray')\n",
    "        if contour is not None:\n",
    "            # Plot contour points\n",
    "            contour = contour.squeeze()\n",
    "            plt.plot(contour[:, 0], contour[:, 1], 'r-', linewidth=2)\n",
    "        plt.title(\"Invalid Polygon Mask\")\n",
    "        plt.axis(\"off\")\n",
    "        plt.show()\n",
    "\n",
    "    polygon = Polygon(shell=largest_contour.squeeze())\n",
    "    \n",
    "    if not polygon.is_valid:\n",
    "        polygon = polygon.buffer(0)\n",
    "    \n",
    "    return polygon\n",
    "\n",
    "def iou(polygon1, polygon2):\n",
    "    if not polygon1.is_valid:\n",
    "        polygon1 = polygon1.buffer(0)\n",
    "    if not polygon2.is_valid:\n",
    "        polygon2 = polygon2.buffer(0)\n",
    "    union = polygon1.union(polygon2).area\n",
    "    if union <= 0:\n",
    "        return 0\n",
    "    intersection = polygon1.intersection(polygon2).area\n",
    "    return intersection / union\n",
    "\n",
    "def build_similarity_matrix(objects_db, objects_pred):\n",
    "    len_db, len_pred = len(objects_db), len(objects_pred)\n",
    "    print(f\"Matrix size: [{len_db}, {len_pred}]\")\n",
    "    similarity_matrix = np.zeros([len_db, len_pred])\n",
    "    \n",
    "    time_start = time.time()\n",
    "    for x, obj_db in enumerate(objects_db):\n",
    "        for y, obj_pred in enumerate(objects_pred):\n",
    "            similarity_matrix[x, y] = iou(obj_db, obj_pred)\n",
    "            print(f\"Building similarity matrix: {x * len_pred + y + 1:>10}/{len_db*len_pred}\", end='\\r')\n",
    "    time_end = time.time() - time_start\n",
    "    print(f\"Similarity matrix built in {time_end:.2f}s\" + ' ' * 100)\n",
    "    return similarity_matrix\n",
    "\n",
    "def match_polygons(similarity_matrix):\n",
    "    xs, ys = linear_sum_assignment(similarity_matrix, maximize=True)\n",
    "    matching = [[x, y, similarity_matrix[x, y]] for x, y in zip(xs, ys) if similarity_matrix[x][y] > 0]\n",
    "    return matching\n",
    "\n",
    "def evaluate_segmentation(polygons_db, polygons_pred, matching, time, weather_info = [], model_info = []):\n",
    "    results = {\n",
    "        \"weather\": weather_info,\n",
    "        \"model\": model_info,\n",
    "        \"time\": time\n",
    "    }\n",
    "    num_db = len(polygons_db)\n",
    "    num_pred = len(polygons_pred)\n",
    "    num_matching = len(matching)\n",
    "\n",
    "    results['ground_truth_objects'] = num_db\n",
    "    results['segmented_objects'] = num_pred\n",
    "    results['matched_objects'] = num_matching\n",
    "\n",
    "    if num_pred != 0:\n",
    "        results['precision'] = num_matching / num_pred\n",
    "    else:\n",
    "        results['precision'] = 0\n",
    "\n",
    "    if num_db != 0:\n",
    "        results['recall'] = num_matching / num_db\n",
    "    else:\n",
    "        results['recall'] = 0\n",
    "\n",
    "    if results['precision'] + results['recall'] != 0:\n",
    "        results['f1'] = 2 * results['precision'] * results['recall'] / (results['precision'] + results['recall'])\n",
    "    else:\n",
    "        results['precision'] = 0\n",
    "\n",
    "    ious = []\n",
    "    for x, y, _ in matching:\n",
    "        ious.append(iou(polygons_db[x], polygons_pred[y]))\n",
    "\n",
    "    if num_matching != 0:\n",
    "        results['mean_iou'] = sum(ious) / num_matching\n",
    "    else:\n",
    "        results['mean_iou'] = 0\n",
    "\n",
    "    return results"
   ]
  },
  {
   "cell_type": "code",
   "execution_count": 7,
   "metadata": {},
   "outputs": [
    {
     "name": "stderr",
     "output_type": "stream",
     "text": [
      "/mnt/c/Users/gtraw/Projekt_badawczy/FastSAM/ultralytics/nn/tasks.py:518: FutureWarning: You are using `torch.load` with `weights_only=False` (the current default value), which uses the default pickle module implicitly. It is possible to construct malicious pickle data which will execute arbitrary code during unpickling (See https://github.com/pytorch/pytorch/blob/main/SECURITY.md#untrusted-models for more details). In a future release, the default value for `weights_only` will be flipped to `True`. This limits the functions that could be executed during unpickling. Arbitrary objects will no longer be allowed to be loaded via this mode unless they are explicitly allowlisted by the user via `torch.serialization.add_safe_globals`. We recommend you start setting `weights_only=True` for any use case where you don't have full control of the loaded file. Please open an issue on GitHub for any issues related to this experimental feature.\n",
      "  return torch.load(file, map_location='cpu'), file  # load\n"
     ]
    },
    {
     "name": "stdout",
     "output_type": "stream",
     "text": [
      "output_dir: /mnt/c/Users/gtraw/Projekt_badawczy/dataset_results_11_12/dataset_results_fastsam_x\n",
      "\n",
      "Image: weti1_2024_11_12_09_28.jpg\n"
     ]
    },
    {
     "name": "stderr",
     "output_type": "stream",
     "text": [
      "\n",
      "image 1/1 /mnt/c/Users/gtraw/Projekt_badawczy/dataset_11_12/weti1_2024_11_12_09_28.jpg: 1088x1920 236 objects, 542.5ms\n",
      "Speed: 16.9ms preprocess, 542.5ms inference, 857.7ms postprocess per image at shape (1, 3, 1920, 1920)\n"
     ]
    },
    {
     "name": "stdout",
     "output_type": "stream",
     "text": [
      "Matrix size: [9, 236]\n",
      "Building similarity matrix:       1708/2124\r"
     ]
    },
    {
     "name": "stderr",
     "output_type": "stream",
     "text": [
      "\n"
     ]
    },
    {
     "name": "stdout",
     "output_type": "stream",
     "text": [
      "Similarity matrix built in 0.25s                                                                                                    \n",
      "\n",
      "Image: weti1_2024_11_12_09_28_m.jpg\n"
     ]
    },
    {
     "name": "stderr",
     "output_type": "stream",
     "text": [
      "image 1/1 /mnt/c/Users/gtraw/Projekt_badawczy/dataset_11_12/weti1_2024_11_12_09_28_m.jpg: 1088x1920 29 objects, 747.9ms\n",
      "Speed: 7.3ms preprocess, 747.9ms inference, 10.3ms postprocess per image at shape (1, 3, 1920, 1920)\n",
      "\n"
     ]
    },
    {
     "name": "stdout",
     "output_type": "stream",
     "text": [
      "Matrix size: [9, 29]\n",
      "Similarity matrix built in 0.04s                                                                                                    \n",
      "\n",
      "Image: weti1_2024_11_12_09_38.jpg\n"
     ]
    },
    {
     "name": "stderr",
     "output_type": "stream",
     "text": [
      "image 1/1 /mnt/c/Users/gtraw/Projekt_badawczy/dataset_11_12/weti1_2024_11_12_09_38.jpg: 1088x1920 235 objects, 380.1ms\n",
      "Speed: 5.8ms preprocess, 380.1ms inference, 789.6ms postprocess per image at shape (1, 3, 1920, 1920)\n"
     ]
    },
    {
     "name": "stdout",
     "output_type": "stream",
     "text": [
      "Matrix size: [10, 235]\n",
      "Building similarity matrix:       1549/2350\r"
     ]
    },
    {
     "name": "stderr",
     "output_type": "stream",
     "text": [
      "\n"
     ]
    },
    {
     "name": "stdout",
     "output_type": "stream",
     "text": [
      "Similarity matrix built in 0.30s                                                                                                    \n",
      "\n",
      "Image: weti1_2024_11_12_09_38_m.jpg\n"
     ]
    },
    {
     "name": "stderr",
     "output_type": "stream",
     "text": [
      "image 1/1 /mnt/c/Users/gtraw/Projekt_badawczy/dataset_11_12/weti1_2024_11_12_09_38_m.jpg: 1088x1920 34 objects, 865.9ms\n",
      "Speed: 11.5ms preprocess, 865.9ms inference, 45.1ms postprocess per image at shape (1, 3, 1920, 1920)\n",
      "\n"
     ]
    },
    {
     "name": "stdout",
     "output_type": "stream",
     "text": [
      "Matrix size: [10, 34]\n",
      "Similarity matrix built in 0.06s                                                                                                    \n",
      "\n",
      "Image: weti1_2024_11_12_09_48.jpg\n"
     ]
    },
    {
     "name": "stderr",
     "output_type": "stream",
     "text": [
      "image 1/1 /mnt/c/Users/gtraw/Projekt_badawczy/dataset_11_12/weti1_2024_11_12_09_48.jpg: 1088x1920 249 objects, 683.2ms\n",
      "Speed: 6.7ms preprocess, 683.2ms inference, 635.8ms postprocess per image at shape (1, 3, 1920, 1920)\n"
     ]
    },
    {
     "name": "stdout",
     "output_type": "stream",
     "text": [
      "Matrix size: [10, 249]\n",
      "Building similarity matrix:       2040/2490\r"
     ]
    },
    {
     "name": "stderr",
     "output_type": "stream",
     "text": [
      "\n"
     ]
    },
    {
     "name": "stdout",
     "output_type": "stream",
     "text": [
      "Similarity matrix built in 0.25s                                                                                                    \n",
      "\n",
      "Image: weti1_2024_11_12_09_48_m.jpg\n"
     ]
    },
    {
     "name": "stderr",
     "output_type": "stream",
     "text": [
      "image 1/1 /mnt/c/Users/gtraw/Projekt_badawczy/dataset_11_12/weti1_2024_11_12_09_48_m.jpg: 1088x1920 33 objects, 2252.0ms\n",
      "Speed: 12.3ms preprocess, 2252.0ms inference, 45.8ms postprocess per image at shape (1, 3, 1920, 1920)\n",
      "\n"
     ]
    },
    {
     "name": "stdout",
     "output_type": "stream",
     "text": [
      "Matrix size: [10, 33]\n",
      "Similarity matrix built in 0.06s                                                                                                    \n",
      "\n",
      "Image: weti1_2024_11_12_09_58.jpg\n"
     ]
    },
    {
     "name": "stderr",
     "output_type": "stream",
     "text": [
      "image 1/1 /mnt/c/Users/gtraw/Projekt_badawczy/dataset_11_12/weti1_2024_11_12_09_58.jpg: 1088x1920 248 objects, 665.8ms\n",
      "Speed: 11.2ms preprocess, 665.8ms inference, 812.2ms postprocess per image at shape (1, 3, 1920, 1920)\n"
     ]
    },
    {
     "name": "stdout",
     "output_type": "stream",
     "text": [
      "Matrix size: [10, 248]\n",
      "Similarity matrix built in 0.40s                                                                                                    \n"
     ]
    },
    {
     "name": "stderr",
     "output_type": "stream",
     "text": [
      "\n"
     ]
    },
    {
     "name": "stdout",
     "output_type": "stream",
     "text": [
      "\n",
      "Image: weti1_2024_11_12_09_58_m.jpg\n"
     ]
    },
    {
     "name": "stderr",
     "output_type": "stream",
     "text": [
      "image 1/1 /mnt/c/Users/gtraw/Projekt_badawczy/dataset_11_12/weti1_2024_11_12_09_58_m.jpg: 1088x1920 35 objects, 1990.5ms\n",
      "Speed: 12.1ms preprocess, 1990.5ms inference, 28.8ms postprocess per image at shape (1, 3, 1920, 1920)\n",
      "\n"
     ]
    },
    {
     "name": "stdout",
     "output_type": "stream",
     "text": [
      "Matrix size: [10, 35]\n",
      "Similarity matrix built in 0.05s                                                                                                    \n",
      "\n",
      "Image: weti1_2024_11_12_10_08.jpg\n"
     ]
    },
    {
     "name": "stderr",
     "output_type": "stream",
     "text": [
      "image 1/1 /mnt/c/Users/gtraw/Projekt_badawczy/dataset_11_12/weti1_2024_11_12_10_08.jpg: 1088x1920 247 objects, 380.7ms\n",
      "Speed: 10.8ms preprocess, 380.7ms inference, 886.3ms postprocess per image at shape (1, 3, 1920, 1920)\n"
     ]
    },
    {
     "name": "stdout",
     "output_type": "stream",
     "text": [
      "Matrix size: [10, 247]\n",
      "Building similarity matrix:       1474/2470\r"
     ]
    },
    {
     "name": "stderr",
     "output_type": "stream",
     "text": [
      "\n"
     ]
    },
    {
     "name": "stdout",
     "output_type": "stream",
     "text": [
      "Similarity matrix built in 0.29s                                                                                                    \n",
      "\n",
      "Image: weti1_2024_11_12_10_08_m.jpg\n"
     ]
    },
    {
     "name": "stderr",
     "output_type": "stream",
     "text": [
      "image 1/1 /mnt/c/Users/gtraw/Projekt_badawczy/dataset_11_12/weti1_2024_11_12_10_08_m.jpg: 1088x1920 33 objects, 1943.4ms\n",
      "Speed: 9.2ms preprocess, 1943.4ms inference, 20.1ms postprocess per image at shape (1, 3, 1920, 1920)\n",
      "\n"
     ]
    },
    {
     "name": "stdout",
     "output_type": "stream",
     "text": [
      "Matrix size: [10, 33]\n",
      "Similarity matrix built in 0.05s                                                                                                    \n",
      "\n",
      "Image: weti1_2024_11_12_10_18.jpg\n"
     ]
    },
    {
     "name": "stderr",
     "output_type": "stream",
     "text": [
      "image 1/1 /mnt/c/Users/gtraw/Projekt_badawczy/dataset_11_12/weti1_2024_11_12_10_18.jpg: 1088x1920 248 objects, 493.0ms\n",
      "Speed: 6.2ms preprocess, 493.0ms inference, 833.3ms postprocess per image at shape (1, 3, 1920, 1920)\n"
     ]
    },
    {
     "name": "stdout",
     "output_type": "stream",
     "text": [
      "Matrix size: [10, 248]\n",
      "Building similarity matrix:       1441/2480\r"
     ]
    },
    {
     "name": "stderr",
     "output_type": "stream",
     "text": [
      "\n"
     ]
    },
    {
     "name": "stdout",
     "output_type": "stream",
     "text": [
      "Similarity matrix built in 0.32s                                                                                                    \n",
      "\n",
      "Image: weti1_2024_11_12_10_18_m.jpg\n"
     ]
    },
    {
     "name": "stderr",
     "output_type": "stream",
     "text": [
      "image 1/1 /mnt/c/Users/gtraw/Projekt_badawczy/dataset_11_12/weti1_2024_11_12_10_18_m.jpg: 1088x1920 35 objects, 2197.8ms\n",
      "Speed: 9.4ms preprocess, 2197.8ms inference, 21.4ms postprocess per image at shape (1, 3, 1920, 1920)\n",
      "\n"
     ]
    },
    {
     "name": "stdout",
     "output_type": "stream",
     "text": [
      "Matrix size: [10, 35]\n",
      "Similarity matrix built in 0.05s                                                                                                    \n",
      "\n",
      "Image: weti1_2024_11_12_10_29.jpg\n"
     ]
    },
    {
     "name": "stderr",
     "output_type": "stream",
     "text": [
      "image 1/1 /mnt/c/Users/gtraw/Projekt_badawczy/dataset_11_12/weti1_2024_11_12_10_29.jpg: 1088x1920 266 objects, 620.3ms\n",
      "Speed: 15.6ms preprocess, 620.3ms inference, 3079.4ms postprocess per image at shape (1, 3, 1920, 1920)\n"
     ]
    },
    {
     "name": "stdout",
     "output_type": "stream",
     "text": [
      "Matrix size: [10, 266]\n",
      "Building similarity matrix:       1712/2660\r"
     ]
    },
    {
     "name": "stderr",
     "output_type": "stream",
     "text": [
      "\n"
     ]
    },
    {
     "name": "stdout",
     "output_type": "stream",
     "text": [
      "Similarity matrix built in 0.30s                                                                                                    \n",
      "\n",
      "Image: weti1_2024_11_12_10_29_m.jpg\n"
     ]
    },
    {
     "name": "stderr",
     "output_type": "stream",
     "text": [
      "image 1/1 /mnt/c/Users/gtraw/Projekt_badawczy/dataset_11_12/weti1_2024_11_12_10_29_m.jpg: 1088x1920 34 objects, 613.1ms\n",
      "Speed: 8.2ms preprocess, 613.1ms inference, 11.9ms postprocess per image at shape (1, 3, 1920, 1920)\n",
      "\n"
     ]
    },
    {
     "name": "stdout",
     "output_type": "stream",
     "text": [
      "Matrix size: [10, 34]\n",
      "Similarity matrix built in 0.04s                                                                                                    \n",
      "\n",
      "Image: weti1_2024_11_12_10_39.jpg\n"
     ]
    },
    {
     "name": "stderr",
     "output_type": "stream",
     "text": [
      "image 1/1 /mnt/c/Users/gtraw/Projekt_badawczy/dataset_11_12/weti1_2024_11_12_10_39.jpg: 1088x1920 250 objects, 597.5ms\n",
      "Speed: 90.0ms preprocess, 597.5ms inference, 1062.6ms postprocess per image at shape (1, 3, 1920, 1920)\n"
     ]
    },
    {
     "name": "stdout",
     "output_type": "stream",
     "text": [
      "Matrix size: [10, 250]\n",
      "Building similarity matrix:       2105/2500\r"
     ]
    },
    {
     "name": "stderr",
     "output_type": "stream",
     "text": [
      "\n"
     ]
    },
    {
     "name": "stdout",
     "output_type": "stream",
     "text": [
      "Similarity matrix built in 0.23s                                                                                                    \n",
      "\n",
      "Image: weti1_2024_11_12_10_39_m.jpg\n"
     ]
    },
    {
     "name": "stderr",
     "output_type": "stream",
     "text": [
      "image 1/1 /mnt/c/Users/gtraw/Projekt_badawczy/dataset_11_12/weti1_2024_11_12_10_39_m.jpg: 1088x1920 36 objects, 485.3ms\n",
      "Speed: 7.4ms preprocess, 485.3ms inference, 13.9ms postprocess per image at shape (1, 3, 1920, 1920)\n",
      "\n"
     ]
    },
    {
     "name": "stdout",
     "output_type": "stream",
     "text": [
      "Matrix size: [10, 36]\n",
      "Similarity matrix built in 0.04s                                                                                                    \n",
      "\n",
      "Image: weti1_2024_11_12_11_27.jpg\n"
     ]
    },
    {
     "name": "stderr",
     "output_type": "stream",
     "text": [
      "image 1/1 /mnt/c/Users/gtraw/Projekt_badawczy/dataset_11_12/weti1_2024_11_12_11_27.jpg: 1088x1920 246 objects, 527.7ms\n",
      "Speed: 6.7ms preprocess, 527.7ms inference, 750.3ms postprocess per image at shape (1, 3, 1920, 1920)\n"
     ]
    },
    {
     "name": "stdout",
     "output_type": "stream",
     "text": [
      "Matrix size: [10, 246]\n",
      "Building similarity matrix:       1995/2460\r"
     ]
    },
    {
     "name": "stderr",
     "output_type": "stream",
     "text": [
      "\n"
     ]
    },
    {
     "name": "stdout",
     "output_type": "stream",
     "text": [
      "Similarity matrix built in 0.25s                                                                                                    \n",
      "\n",
      "Image: weti1_2024_11_12_11_27_m.jpg\n"
     ]
    },
    {
     "name": "stderr",
     "output_type": "stream",
     "text": [
      "image 1/1 /mnt/c/Users/gtraw/Projekt_badawczy/dataset_11_12/weti1_2024_11_12_11_27_m.jpg: 1088x1920 32 objects, 2054.0ms\n",
      "Speed: 5.8ms preprocess, 2054.0ms inference, 21.2ms postprocess per image at shape (1, 3, 1920, 1920)\n",
      "\n"
     ]
    },
    {
     "name": "stdout",
     "output_type": "stream",
     "text": [
      "Matrix size: [10, 32]\n",
      "Similarity matrix built in 0.05s                                                                                                    \n",
      "\n",
      "Image: weti1_2024_11_12_11_37.jpg\n"
     ]
    },
    {
     "name": "stderr",
     "output_type": "stream",
     "text": [
      "image 1/1 /mnt/c/Users/gtraw/Projekt_badawczy/dataset_11_12/weti1_2024_11_12_11_37.jpg: 1088x1920 247 objects, 558.9ms\n",
      "Speed: 5.7ms preprocess, 558.9ms inference, 993.2ms postprocess per image at shape (1, 3, 1920, 1920)\n"
     ]
    },
    {
     "name": "stdout",
     "output_type": "stream",
     "text": [
      "Matrix size: [10, 247]\n",
      "Building similarity matrix:       1930/2470\r"
     ]
    },
    {
     "name": "stderr",
     "output_type": "stream",
     "text": [
      "\n"
     ]
    },
    {
     "name": "stdout",
     "output_type": "stream",
     "text": [
      "Similarity matrix built in 0.31s                                                                                                    \n",
      "\n",
      "Image: weti1_2024_11_12_11_37_m.jpg\n"
     ]
    },
    {
     "name": "stderr",
     "output_type": "stream",
     "text": [
      "image 1/1 /mnt/c/Users/gtraw/Projekt_badawczy/dataset_11_12/weti1_2024_11_12_11_37_m.jpg: 1088x1920 30 objects, 1659.9ms\n",
      "Speed: 13.6ms preprocess, 1659.9ms inference, 42.4ms postprocess per image at shape (1, 3, 1920, 1920)\n",
      "\n"
     ]
    },
    {
     "name": "stdout",
     "output_type": "stream",
     "text": [
      "Matrix size: [10, 30]\n",
      "Similarity matrix built in 0.07s                                                                                                    \n",
      "\n",
      "Image: weti1_2024_11_12_11_47.jpg\n"
     ]
    },
    {
     "name": "stderr",
     "output_type": "stream",
     "text": [
      "image 1/1 /mnt/c/Users/gtraw/Projekt_badawczy/dataset_11_12/weti1_2024_11_12_11_47.jpg: 1088x1920 249 objects, 431.2ms\n",
      "Speed: 6.3ms preprocess, 431.2ms inference, 829.6ms postprocess per image at shape (1, 3, 1920, 1920)\n"
     ]
    },
    {
     "name": "stdout",
     "output_type": "stream",
     "text": [
      "Matrix size: [10, 249]\n",
      "Building similarity matrix:       1756/2490\r"
     ]
    },
    {
     "name": "stderr",
     "output_type": "stream",
     "text": [
      "\n"
     ]
    },
    {
     "name": "stdout",
     "output_type": "stream",
     "text": [
      "Similarity matrix built in 0.34s                                                                                                    \n",
      "\n",
      "Image: weti1_2024_11_12_11_47_m.jpg\n"
     ]
    },
    {
     "name": "stderr",
     "output_type": "stream",
     "text": [
      "image 1/1 /mnt/c/Users/gtraw/Projekt_badawczy/dataset_11_12/weti1_2024_11_12_11_47_m.jpg: 1088x1920 29 objects, 2048.2ms\n",
      "Speed: 9.6ms preprocess, 2048.2ms inference, 25.9ms postprocess per image at shape (1, 3, 1920, 1920)\n",
      "\n"
     ]
    },
    {
     "name": "stdout",
     "output_type": "stream",
     "text": [
      "Matrix size: [10, 29]\n",
      "Similarity matrix built in 0.05s                                                                                                    \n",
      "\n",
      "Image: weti1_2024_11_12_11_57.jpg\n"
     ]
    },
    {
     "name": "stderr",
     "output_type": "stream",
     "text": [
      "image 1/1 /mnt/c/Users/gtraw/Projekt_badawczy/dataset_11_12/weti1_2024_11_12_11_57.jpg: 1088x1920 244 objects, 807.6ms\n",
      "Speed: 6.8ms preprocess, 807.6ms inference, 1145.0ms postprocess per image at shape (1, 3, 1920, 1920)\n"
     ]
    },
    {
     "name": "stdout",
     "output_type": "stream",
     "text": [
      "Matrix size: [10, 244]\n",
      "Building similarity matrix:       1578/2440\r"
     ]
    },
    {
     "name": "stderr",
     "output_type": "stream",
     "text": [
      "\n"
     ]
    },
    {
     "name": "stdout",
     "output_type": "stream",
     "text": [
      "Similarity matrix built in 0.32s                                                                                                    \n",
      "\n",
      "Image: weti1_2024_11_12_11_57_m.jpg\n"
     ]
    },
    {
     "name": "stderr",
     "output_type": "stream",
     "text": [
      "image 1/1 /mnt/c/Users/gtraw/Projekt_badawczy/dataset_11_12/weti1_2024_11_12_11_57_m.jpg: 1088x1920 28 objects, 597.2ms\n",
      "Speed: 15.4ms preprocess, 597.2ms inference, 8.4ms postprocess per image at shape (1, 3, 1920, 1920)\n",
      "\n"
     ]
    },
    {
     "name": "stdout",
     "output_type": "stream",
     "text": [
      "Matrix size: [10, 28]\n",
      "Similarity matrix built in 0.06s                                                                                                    \n",
      "\n",
      "Image: weti1_2024_11_12_12_07.jpg\n"
     ]
    },
    {
     "name": "stderr",
     "output_type": "stream",
     "text": [
      "image 1/1 /mnt/c/Users/gtraw/Projekt_badawczy/dataset_11_12/weti1_2024_11_12_12_07.jpg: 1088x1920 253 objects, 511.1ms\n",
      "Speed: 5.3ms preprocess, 511.1ms inference, 943.1ms postprocess per image at shape (1, 3, 1920, 1920)\n"
     ]
    },
    {
     "name": "stdout",
     "output_type": "stream",
     "text": [
      "Matrix size: [10, 253]\n",
      "Building similarity matrix:       1897/2530\r"
     ]
    },
    {
     "name": "stderr",
     "output_type": "stream",
     "text": [
      "\n"
     ]
    },
    {
     "name": "stdout",
     "output_type": "stream",
     "text": [
      "Similarity matrix built in 0.31s                                                                                                    \n",
      "\n",
      "Image: weti1_2024_11_12_12_07_m.jpg\n"
     ]
    },
    {
     "name": "stderr",
     "output_type": "stream",
     "text": [
      "image 1/1 /mnt/c/Users/gtraw/Projekt_badawczy/dataset_11_12/weti1_2024_11_12_12_07_m.jpg: 1088x1920 31 objects, 5479.3ms\n",
      "Speed: 6.6ms preprocess, 5479.3ms inference, 17.0ms postprocess per image at shape (1, 3, 1920, 1920)\n",
      "\n"
     ]
    },
    {
     "name": "stdout",
     "output_type": "stream",
     "text": [
      "Matrix size: [10, 31]\n",
      "Similarity matrix built in 0.06s                                                                                                    \n",
      "\n",
      "Image: weti1_2024_11_12_12_17.jpg\n"
     ]
    },
    {
     "name": "stderr",
     "output_type": "stream",
     "text": [
      "image 1/1 /mnt/c/Users/gtraw/Projekt_badawczy/dataset_11_12/weti1_2024_11_12_12_17.jpg: 1088x1920 244 objects, 522.1ms\n",
      "Speed: 7.1ms preprocess, 522.1ms inference, 1421.6ms postprocess per image at shape (1, 3, 1920, 1920)\n"
     ]
    },
    {
     "name": "stdout",
     "output_type": "stream",
     "text": [
      "Matrix size: [10, 244]\n",
      "Building similarity matrix:       1714/2440\r"
     ]
    },
    {
     "name": "stderr",
     "output_type": "stream",
     "text": [
      "\n"
     ]
    },
    {
     "name": "stdout",
     "output_type": "stream",
     "text": [
      "Similarity matrix built in 0.33s                                                                                                    \n",
      "\n",
      "Image: weti1_2024_11_12_12_17_m.jpg\n"
     ]
    },
    {
     "name": "stderr",
     "output_type": "stream",
     "text": [
      "image 1/1 /mnt/c/Users/gtraw/Projekt_badawczy/dataset_11_12/weti1_2024_11_12_12_17_m.jpg: 1088x1920 33 objects, 379.9ms\n",
      "Speed: 20.5ms preprocess, 379.9ms inference, 26.5ms postprocess per image at shape (1, 3, 1920, 1920)\n",
      "\n"
     ]
    },
    {
     "name": "stdout",
     "output_type": "stream",
     "text": [
      "Matrix size: [10, 33]\n",
      "Similarity matrix built in 0.05s                                                                                                    \n",
      "\n",
      "Image: weti1_2024_11_12_12_27.jpg\n"
     ]
    },
    {
     "name": "stderr",
     "output_type": "stream",
     "text": [
      "image 1/1 /mnt/c/Users/gtraw/Projekt_badawczy/dataset_11_12/weti1_2024_11_12_12_27.jpg: 1088x1920 241 objects, 552.9ms\n",
      "Speed: 6.2ms preprocess, 552.9ms inference, 1321.9ms postprocess per image at shape (1, 3, 1920, 1920)\n"
     ]
    },
    {
     "name": "stdout",
     "output_type": "stream",
     "text": [
      "Matrix size: [10, 241]\n",
      "Building similarity matrix:       1887/2410\r"
     ]
    },
    {
     "name": "stderr",
     "output_type": "stream",
     "text": [
      "\n"
     ]
    },
    {
     "name": "stdout",
     "output_type": "stream",
     "text": [
      "Similarity matrix built in 0.30s                                                                                                    \n",
      "\n",
      "Image: weti1_2024_11_12_12_27_m.jpg\n"
     ]
    },
    {
     "name": "stderr",
     "output_type": "stream",
     "text": [
      "image 1/1 /mnt/c/Users/gtraw/Projekt_badawczy/dataset_11_12/weti1_2024_11_12_12_27_m.jpg: 1088x1920 31 objects, 2508.8ms\n",
      "Speed: 18.6ms preprocess, 2508.8ms inference, 17.3ms postprocess per image at shape (1, 3, 1920, 1920)\n",
      "\n"
     ]
    },
    {
     "name": "stdout",
     "output_type": "stream",
     "text": [
      "Matrix size: [10, 31]\n",
      "Similarity matrix built in 0.05s                                                                                                    \n",
      "\n",
      "Image: weti1_2024_11_12_12_37.jpg\n"
     ]
    },
    {
     "name": "stderr",
     "output_type": "stream",
     "text": [
      "image 1/1 /mnt/c/Users/gtraw/Projekt_badawczy/dataset_11_12/weti1_2024_11_12_12_37.jpg: 1088x1920 236 objects, 622.3ms\n",
      "Speed: 7.7ms preprocess, 622.3ms inference, 1035.7ms postprocess per image at shape (1, 3, 1920, 1920)\n"
     ]
    },
    {
     "name": "stdout",
     "output_type": "stream",
     "text": [
      "Matrix size: [10, 236]\n",
      "Building similarity matrix:       1755/2360\r"
     ]
    },
    {
     "name": "stderr",
     "output_type": "stream",
     "text": [
      "\n"
     ]
    },
    {
     "name": "stdout",
     "output_type": "stream",
     "text": [
      "Similarity matrix built in 0.29s                                                                                                    \n",
      "\n",
      "Image: weti1_2024_11_12_12_37_m.jpg\n"
     ]
    },
    {
     "name": "stderr",
     "output_type": "stream",
     "text": [
      "image 1/1 /mnt/c/Users/gtraw/Projekt_badawczy/dataset_11_12/weti1_2024_11_12_12_37_m.jpg: 1088x1920 29 objects, 476.7ms\n",
      "Speed: 5.9ms preprocess, 476.7ms inference, 9.8ms postprocess per image at shape (1, 3, 1920, 1920)\n",
      "\n"
     ]
    },
    {
     "name": "stdout",
     "output_type": "stream",
     "text": [
      "Matrix size: [10, 29]\n",
      "Similarity matrix built in 0.05s                                                                                                    \n",
      "\n",
      "Image: weti1_2024_11_12_12_47.jpg\n"
     ]
    },
    {
     "name": "stderr",
     "output_type": "stream",
     "text": [
      "image 1/1 /mnt/c/Users/gtraw/Projekt_badawczy/dataset_11_12/weti1_2024_11_12_12_47.jpg: 1088x1920 237 objects, 800.4ms\n",
      "Speed: 14.9ms preprocess, 800.4ms inference, 1046.9ms postprocess per image at shape (1, 3, 1920, 1920)\n"
     ]
    },
    {
     "name": "stdout",
     "output_type": "stream",
     "text": [
      "Matrix size: [10, 237]\n",
      "Building similarity matrix:       2060/2370\r"
     ]
    },
    {
     "name": "stderr",
     "output_type": "stream",
     "text": [
      "\n"
     ]
    },
    {
     "name": "stdout",
     "output_type": "stream",
     "text": [
      "Similarity matrix built in 0.26s                                                                                                    \n",
      "\n",
      "Image: weti1_2024_11_12_12_47_m.jpg\n"
     ]
    },
    {
     "name": "stderr",
     "output_type": "stream",
     "text": [
      "image 1/1 /mnt/c/Users/gtraw/Projekt_badawczy/dataset_11_12/weti1_2024_11_12_12_47_m.jpg: 1088x1920 30 objects, 534.8ms\n",
      "Speed: 8.6ms preprocess, 534.8ms inference, 9.5ms postprocess per image at shape (1, 3, 1920, 1920)\n",
      "\n"
     ]
    },
    {
     "name": "stdout",
     "output_type": "stream",
     "text": [
      "Matrix size: [10, 30]\n",
      "Similarity matrix built in 0.05s                                                                                                    \n",
      "\n",
      "Image: weti1_2024_11_12_12_57.jpg\n"
     ]
    },
    {
     "name": "stderr",
     "output_type": "stream",
     "text": [
      "image 1/1 /mnt/c/Users/gtraw/Projekt_badawczy/dataset_11_12/weti1_2024_11_12_12_57.jpg: 1088x1920 239 objects, 526.9ms\n",
      "Speed: 7.0ms preprocess, 526.9ms inference, 894.5ms postprocess per image at shape (1, 3, 1920, 1920)\n"
     ]
    },
    {
     "name": "stdout",
     "output_type": "stream",
     "text": [
      "Matrix size: [10, 239]\n",
      "Building similarity matrix:       1897/2390\r"
     ]
    },
    {
     "name": "stderr",
     "output_type": "stream",
     "text": [
      "\n"
     ]
    },
    {
     "name": "stdout",
     "output_type": "stream",
     "text": [
      "Similarity matrix built in 0.29s                                                                                                    \n",
      "\n",
      "Image: weti1_2024_11_12_12_57_m.jpg\n"
     ]
    },
    {
     "name": "stderr",
     "output_type": "stream",
     "text": [
      "image 1/1 /mnt/c/Users/gtraw/Projekt_badawczy/dataset_11_12/weti1_2024_11_12_12_57_m.jpg: 1088x1920 31 objects, 2272.1ms\n",
      "Speed: 5.8ms preprocess, 2272.1ms inference, 30.9ms postprocess per image at shape (1, 3, 1920, 1920)\n",
      "\n"
     ]
    },
    {
     "name": "stdout",
     "output_type": "stream",
     "text": [
      "Matrix size: [10, 31]\n",
      "Similarity matrix built in 0.05s                                                                                                    \n",
      "\n",
      "Image: weti1_2024_11_12_13_07.jpg\n"
     ]
    },
    {
     "name": "stderr",
     "output_type": "stream",
     "text": [
      "image 1/1 /mnt/c/Users/gtraw/Projekt_badawczy/dataset_11_12/weti1_2024_11_12_13_07.jpg: 1088x1920 246 objects, 539.0ms\n",
      "Speed: 5.9ms preprocess, 539.0ms inference, 698.3ms postprocess per image at shape (1, 3, 1920, 1920)\n"
     ]
    },
    {
     "name": "stdout",
     "output_type": "stream",
     "text": [
      "Matrix size: [10, 246]\n",
      "Building similarity matrix:       2161/2460\r"
     ]
    },
    {
     "name": "stderr",
     "output_type": "stream",
     "text": [
      "\n"
     ]
    },
    {
     "name": "stdout",
     "output_type": "stream",
     "text": [
      "Similarity matrix built in 0.25s                                                                                                    \n",
      "\n",
      "Image: weti1_2024_11_12_13_07_m.jpg\n"
     ]
    },
    {
     "name": "stderr",
     "output_type": "stream",
     "text": [
      "image 1/1 /mnt/c/Users/gtraw/Projekt_badawczy/dataset_11_12/weti1_2024_11_12_13_07_m.jpg: 1088x1920 32 objects, 1931.0ms\n",
      "Speed: 7.1ms preprocess, 1931.0ms inference, 19.5ms postprocess per image at shape (1, 3, 1920, 1920)\n",
      "\n"
     ]
    },
    {
     "name": "stdout",
     "output_type": "stream",
     "text": [
      "Matrix size: [10, 32]\n",
      "Similarity matrix built in 0.07s                                                                                                    \n",
      "\n",
      "Image: weti1_2024_11_12_13_17.jpg\n"
     ]
    },
    {
     "name": "stderr",
     "output_type": "stream",
     "text": [
      "image 1/1 /mnt/c/Users/gtraw/Projekt_badawczy/dataset_11_12/weti1_2024_11_12_13_17.jpg: 1088x1920 247 objects, 764.4ms\n",
      "Speed: 7.9ms preprocess, 764.4ms inference, 1048.0ms postprocess per image at shape (1, 3, 1920, 1920)\n"
     ]
    },
    {
     "name": "stdout",
     "output_type": "stream",
     "text": [
      "Matrix size: [10, 247]\n",
      "Building similarity matrix:       1448/2470\r"
     ]
    },
    {
     "name": "stderr",
     "output_type": "stream",
     "text": [
      "\n"
     ]
    },
    {
     "name": "stdout",
     "output_type": "stream",
     "text": [
      "Similarity matrix built in 0.37s                                                                                                    \n",
      "\n",
      "Image: weti1_2024_11_12_13_17_m.jpg\n"
     ]
    },
    {
     "name": "stderr",
     "output_type": "stream",
     "text": [
      "image 1/1 /mnt/c/Users/gtraw/Projekt_badawczy/dataset_11_12/weti1_2024_11_12_13_17_m.jpg: 1088x1920 29 objects, 1921.7ms\n",
      "Speed: 8.0ms preprocess, 1921.7ms inference, 19.5ms postprocess per image at shape (1, 3, 1920, 1920)\n",
      "\n"
     ]
    },
    {
     "name": "stdout",
     "output_type": "stream",
     "text": [
      "Matrix size: [10, 29]\n",
      "Similarity matrix built in 0.05s                                                                                                    \n",
      "\n",
      "Image: weti1_2024_11_12_13_27.jpg\n"
     ]
    },
    {
     "name": "stderr",
     "output_type": "stream",
     "text": [
      "image 1/1 /mnt/c/Users/gtraw/Projekt_badawczy/dataset_11_12/weti1_2024_11_12_13_27.jpg: 1088x1920 249 objects, 564.2ms\n",
      "Speed: 5.4ms preprocess, 564.2ms inference, 839.6ms postprocess per image at shape (1, 3, 1920, 1920)\n"
     ]
    },
    {
     "name": "stdout",
     "output_type": "stream",
     "text": [
      "Matrix size: [10, 249]\n",
      "Building similarity matrix:       1776/2490\r"
     ]
    },
    {
     "name": "stderr",
     "output_type": "stream",
     "text": [
      "\n"
     ]
    },
    {
     "name": "stdout",
     "output_type": "stream",
     "text": [
      "Similarity matrix built in 0.32s                                                                                                    \n",
      "\n",
      "Image: weti1_2024_11_12_13_27_m.jpg\n"
     ]
    },
    {
     "name": "stderr",
     "output_type": "stream",
     "text": [
      "image 1/1 /mnt/c/Users/gtraw/Projekt_badawczy/dataset_11_12/weti1_2024_11_12_13_27_m.jpg: 1088x1920 31 objects, 1713.6ms\n",
      "Speed: 7.1ms preprocess, 1713.6ms inference, 23.4ms postprocess per image at shape (1, 3, 1920, 1920)\n",
      "\n"
     ]
    },
    {
     "name": "stdout",
     "output_type": "stream",
     "text": [
      "Matrix size: [10, 31]\n",
      "Similarity matrix built in 0.08s                                                                                                    \n",
      "\n",
      "Image: weti1_2024_11_12_13_37.jpg\n"
     ]
    },
    {
     "name": "stderr",
     "output_type": "stream",
     "text": [
      "image 1/1 /mnt/c/Users/gtraw/Projekt_badawczy/dataset_11_12/weti1_2024_11_12_13_37.jpg: 1088x1920 235 objects, 510.9ms\n",
      "Speed: 8.7ms preprocess, 510.9ms inference, 990.0ms postprocess per image at shape (1, 3, 1920, 1920)\n"
     ]
    },
    {
     "name": "stdout",
     "output_type": "stream",
     "text": [
      "Matrix size: [10, 235]\n",
      "Building similarity matrix:       1967/2350\r"
     ]
    },
    {
     "name": "stderr",
     "output_type": "stream",
     "text": [
      "\n"
     ]
    },
    {
     "name": "stdout",
     "output_type": "stream",
     "text": [
      "Similarity matrix built in 0.28s                                                                                                    \n",
      "\n",
      "Image: weti1_2024_11_12_13_37_m.jpg\n"
     ]
    },
    {
     "name": "stderr",
     "output_type": "stream",
     "text": [
      "image 1/1 /mnt/c/Users/gtraw/Projekt_badawczy/dataset_11_12/weti1_2024_11_12_13_37_m.jpg: 1088x1920 32 objects, 786.4ms\n",
      "Speed: 14.5ms preprocess, 786.4ms inference, 24.9ms postprocess per image at shape (1, 3, 1920, 1920)\n",
      "\n"
     ]
    },
    {
     "name": "stdout",
     "output_type": "stream",
     "text": [
      "Matrix size: [10, 32]\n",
      "Similarity matrix built in 0.05s                                                                                                    \n",
      "\n",
      "Image: weti1_2024_11_12_13_47.jpg\n"
     ]
    },
    {
     "name": "stderr",
     "output_type": "stream",
     "text": [
      "image 1/1 /mnt/c/Users/gtraw/Projekt_badawczy/dataset_11_12/weti1_2024_11_12_13_47.jpg: 1088x1920 236 objects, 636.9ms\n",
      "Speed: 5.8ms preprocess, 636.9ms inference, 1266.1ms postprocess per image at shape (1, 3, 1920, 1920)\n"
     ]
    },
    {
     "name": "stdout",
     "output_type": "stream",
     "text": [
      "Matrix size: [10, 236]\n",
      "Building similarity matrix:       1701/2360\r"
     ]
    },
    {
     "name": "stderr",
     "output_type": "stream",
     "text": [
      "\n"
     ]
    },
    {
     "name": "stdout",
     "output_type": "stream",
     "text": [
      "Similarity matrix built in 0.33s                                                                                                    \n",
      "\n",
      "Image: weti1_2024_11_12_13_47_m.jpg\n"
     ]
    },
    {
     "name": "stderr",
     "output_type": "stream",
     "text": [
      "image 1/1 /mnt/c/Users/gtraw/Projekt_badawczy/dataset_11_12/weti1_2024_11_12_13_47_m.jpg: 1088x1920 29 objects, 806.5ms\n",
      "Speed: 7.8ms preprocess, 806.5ms inference, 7.9ms postprocess per image at shape (1, 3, 1920, 1920)\n",
      "\n"
     ]
    },
    {
     "name": "stdout",
     "output_type": "stream",
     "text": [
      "Matrix size: [10, 29]\n",
      "Similarity matrix built in 0.05s                                                                                                    \n",
      "\n",
      "Image: weti1_2024_11_12_13_57.jpg\n"
     ]
    },
    {
     "name": "stderr",
     "output_type": "stream",
     "text": [
      "image 1/1 /mnt/c/Users/gtraw/Projekt_badawczy/dataset_11_12/weti1_2024_11_12_13_57.jpg: 1088x1920 243 objects, 626.7ms\n",
      "Speed: 6.9ms preprocess, 626.7ms inference, 959.4ms postprocess per image at shape (1, 3, 1920, 1920)\n"
     ]
    },
    {
     "name": "stdout",
     "output_type": "stream",
     "text": [
      "Matrix size: [9, 243]\n",
      "Building similarity matrix:       1878/2187\r"
     ]
    },
    {
     "name": "stderr",
     "output_type": "stream",
     "text": [
      "\n"
     ]
    },
    {
     "name": "stdout",
     "output_type": "stream",
     "text": [
      "Similarity matrix built in 0.26s                                                                                                    \n",
      "\n",
      "Image: weti1_2024_11_12_13_57_m.jpg\n"
     ]
    },
    {
     "name": "stderr",
     "output_type": "stream",
     "text": [
      "image 1/1 /mnt/c/Users/gtraw/Projekt_badawczy/dataset_11_12/weti1_2024_11_12_13_57_m.jpg: 1088x1920 29 objects, 724.9ms\n",
      "Speed: 7.2ms preprocess, 724.9ms inference, 11.3ms postprocess per image at shape (1, 3, 1920, 1920)\n",
      "\n"
     ]
    },
    {
     "name": "stdout",
     "output_type": "stream",
     "text": [
      "Matrix size: [9, 29]\n",
      "Similarity matrix built in 0.05s                                                                                                    \n",
      "\n",
      "Image: weti1_2024_11_12_14_07.jpg\n"
     ]
    },
    {
     "name": "stderr",
     "output_type": "stream",
     "text": [
      "image 1/1 /mnt/c/Users/gtraw/Projekt_badawczy/dataset_11_12/weti1_2024_11_12_14_07.jpg: 1088x1920 234 objects, 555.0ms\n",
      "Speed: 5.4ms preprocess, 555.0ms inference, 1011.5ms postprocess per image at shape (1, 3, 1920, 1920)\n"
     ]
    },
    {
     "name": "stdout",
     "output_type": "stream",
     "text": [
      "Matrix size: [11, 234]\n",
      "Building similarity matrix:       1164/2574\r"
     ]
    },
    {
     "name": "stderr",
     "output_type": "stream",
     "text": [
      "\n"
     ]
    },
    {
     "name": "stdout",
     "output_type": "stream",
     "text": [
      "Similarity matrix built in 0.36s                                                                                                    \n",
      "\n",
      "Image: weti1_2024_11_12_14_07_m.jpg\n"
     ]
    },
    {
     "name": "stderr",
     "output_type": "stream",
     "text": [
      "image 1/1 /mnt/c/Users/gtraw/Projekt_badawczy/dataset_11_12/weti1_2024_11_12_14_07_m.jpg: 1088x1920 29 objects, 2235.8ms\n",
      "Speed: 9.3ms preprocess, 2235.8ms inference, 22.6ms postprocess per image at shape (1, 3, 1920, 1920)\n",
      "\n"
     ]
    },
    {
     "name": "stdout",
     "output_type": "stream",
     "text": [
      "Matrix size: [11, 29]\n",
      "Similarity matrix built in 0.05s                                                                                                    \n",
      "\n",
      "Image: weti1_2024_11_12_14_17.jpg\n"
     ]
    },
    {
     "name": "stderr",
     "output_type": "stream",
     "text": [
      "image 1/1 /mnt/c/Users/gtraw/Projekt_badawczy/dataset_11_12/weti1_2024_11_12_14_17.jpg: 1088x1920 229 objects, 667.1ms\n",
      "Speed: 6.8ms preprocess, 667.1ms inference, 803.0ms postprocess per image at shape (1, 3, 1920, 1920)\n"
     ]
    },
    {
     "name": "stdout",
     "output_type": "stream",
     "text": [
      "Matrix size: [10, 229]\n",
      "Building similarity matrix:       1835/2290\r"
     ]
    },
    {
     "name": "stderr",
     "output_type": "stream",
     "text": [
      "\n"
     ]
    },
    {
     "name": "stdout",
     "output_type": "stream",
     "text": [
      "Similarity matrix built in 0.26s                                                                                                    \n",
      "\n",
      "Image: weti1_2024_11_12_14_17_m.jpg\n"
     ]
    },
    {
     "name": "stderr",
     "output_type": "stream",
     "text": [
      "image 1/1 /mnt/c/Users/gtraw/Projekt_badawczy/dataset_11_12/weti1_2024_11_12_14_17_m.jpg: 1088x1920 28 objects, 3960.5ms\n",
      "Speed: 10.4ms preprocess, 3960.5ms inference, 46.8ms postprocess per image at shape (1, 3, 1920, 1920)\n",
      "\n"
     ]
    },
    {
     "name": "stdout",
     "output_type": "stream",
     "text": [
      "Matrix size: [10, 28]\n",
      "Similarity matrix built in 0.06s                                                                                                    \n",
      "\n",
      "Image: weti1_2024_11_12_14_27.jpg\n"
     ]
    },
    {
     "name": "stderr",
     "output_type": "stream",
     "text": [
      "image 1/1 /mnt/c/Users/gtraw/Projekt_badawczy/dataset_11_12/weti1_2024_11_12_14_27.jpg: 1088x1920 232 objects, 672.6ms\n",
      "Speed: 6.8ms preprocess, 672.6ms inference, 814.9ms postprocess per image at shape (1, 3, 1920, 1920)\n"
     ]
    },
    {
     "name": "stdout",
     "output_type": "stream",
     "text": [
      "Matrix size: [10, 232]\n",
      "Building similarity matrix:       1638/2320\r"
     ]
    },
    {
     "name": "stderr",
     "output_type": "stream",
     "text": [
      "\n"
     ]
    },
    {
     "name": "stdout",
     "output_type": "stream",
     "text": [
      "Similarity matrix built in 0.31s                                                                                                    \n",
      "\n",
      "Image: weti1_2024_11_12_14_27_m.jpg\n"
     ]
    },
    {
     "name": "stderr",
     "output_type": "stream",
     "text": [
      "image 1/1 /mnt/c/Users/gtraw/Projekt_badawczy/dataset_11_12/weti1_2024_11_12_14_27_m.jpg: 1088x1920 28 objects, 2135.9ms\n",
      "Speed: 11.7ms preprocess, 2135.9ms inference, 19.8ms postprocess per image at shape (1, 3, 1920, 1920)\n",
      "\n"
     ]
    },
    {
     "name": "stdout",
     "output_type": "stream",
     "text": [
      "Matrix size: [10, 28]\n",
      "Similarity matrix built in 0.05s                                                                                                    \n",
      "\n",
      "Image: weti1_2024_11_12_14_37.jpg\n"
     ]
    },
    {
     "name": "stderr",
     "output_type": "stream",
     "text": [
      "image 1/1 /mnt/c/Users/gtraw/Projekt_badawczy/dataset_11_12/weti1_2024_11_12_14_37.jpg: 1088x1920 229 objects, 818.2ms\n",
      "Speed: 5.6ms preprocess, 818.2ms inference, 1071.4ms postprocess per image at shape (1, 3, 1920, 1920)\n"
     ]
    },
    {
     "name": "stdout",
     "output_type": "stream",
     "text": [
      "Matrix size: [8, 229]\n",
      "Building similarity matrix:       1629/1832\r"
     ]
    },
    {
     "name": "stderr",
     "output_type": "stream",
     "text": [
      "\n"
     ]
    },
    {
     "name": "stdout",
     "output_type": "stream",
     "text": [
      "Similarity matrix built in 0.22s                                                                                                    \n",
      "\n",
      "Image: weti1_2024_11_12_14_37_m.jpg\n"
     ]
    },
    {
     "name": "stderr",
     "output_type": "stream",
     "text": [
      "image 1/1 /mnt/c/Users/gtraw/Projekt_badawczy/dataset_11_12/weti1_2024_11_12_14_37_m.jpg: 1088x1920 24 objects, 3961.2ms\n",
      "Speed: 7.8ms preprocess, 3961.2ms inference, 10.5ms postprocess per image at shape (1, 3, 1920, 1920)\n",
      "\n"
     ]
    },
    {
     "name": "stdout",
     "output_type": "stream",
     "text": [
      "Matrix size: [8, 24]\n",
      "Similarity matrix built in 0.04s                                                                                                    \n",
      "\n",
      "Image: weti1_2024_11_12_14_47.jpg\n"
     ]
    },
    {
     "name": "stderr",
     "output_type": "stream",
     "text": [
      "image 1/1 /mnt/c/Users/gtraw/Projekt_badawczy/dataset_11_12/weti1_2024_11_12_14_47.jpg: 1088x1920 232 objects, 376.1ms\n",
      "Speed: 5.5ms preprocess, 376.1ms inference, 742.1ms postprocess per image at shape (1, 3, 1920, 1920)\n"
     ]
    },
    {
     "name": "stdout",
     "output_type": "stream",
     "text": [
      "Matrix size: [8, 232]\n",
      "Building similarity matrix:       1756/1856\r"
     ]
    },
    {
     "name": "stderr",
     "output_type": "stream",
     "text": [
      "\n"
     ]
    },
    {
     "name": "stdout",
     "output_type": "stream",
     "text": [
      "Similarity matrix built in 0.21s                                                                                                    \n",
      "\n",
      "Image: weti1_2024_11_12_14_47_m.jpg\n"
     ]
    },
    {
     "name": "stderr",
     "output_type": "stream",
     "text": [
      "image 1/1 /mnt/c/Users/gtraw/Projekt_badawczy/dataset_11_12/weti1_2024_11_12_14_47_m.jpg: 1088x1920 26 objects, 1734.1ms\n",
      "Speed: 6.1ms preprocess, 1734.1ms inference, 16.8ms postprocess per image at shape (1, 3, 1920, 1920)\n",
      "\n"
     ]
    },
    {
     "name": "stdout",
     "output_type": "stream",
     "text": [
      "Matrix size: [8, 26]\n",
      "Similarity matrix built in 0.04s                                                                                                    \n",
      "\n",
      "Image: weti1_2024_11_12_14_57.jpg\n"
     ]
    },
    {
     "name": "stderr",
     "output_type": "stream",
     "text": [
      "image 1/1 /mnt/c/Users/gtraw/Projekt_badawczy/dataset_11_12/weti1_2024_11_12_14_57.jpg: 1088x1920 236 objects, 680.2ms\n",
      "Speed: 5.0ms preprocess, 680.2ms inference, 867.0ms postprocess per image at shape (1, 3, 1920, 1920)\n",
      "\n"
     ]
    },
    {
     "name": "stdout",
     "output_type": "stream",
     "text": [
      "Matrix size: [7, 236]\n",
      "Similarity matrix built in 0.18s                                                                                                    \n",
      "\n",
      "Image: weti1_2024_11_12_14_57_m.jpg\n"
     ]
    },
    {
     "name": "stderr",
     "output_type": "stream",
     "text": [
      "image 1/1 /mnt/c/Users/gtraw/Projekt_badawczy/dataset_11_12/weti1_2024_11_12_14_57_m.jpg: 1088x1920 24 objects, 729.2ms\n",
      "Speed: 6.0ms preprocess, 729.2ms inference, 8.0ms postprocess per image at shape (1, 3, 1920, 1920)\n",
      "\n"
     ]
    },
    {
     "name": "stdout",
     "output_type": "stream",
     "text": [
      "Matrix size: [7, 24]\n",
      "Similarity matrix built in 0.03s                                                                                                    \n",
      "\n",
      "Image: weti1_2024_11_12_15_07.jpg\n"
     ]
    },
    {
     "name": "stderr",
     "output_type": "stream",
     "text": [
      "image 1/1 /mnt/c/Users/gtraw/Projekt_badawczy/dataset_11_12/weti1_2024_11_12_15_07.jpg: 1088x1920 228 objects, 373.2ms\n",
      "Speed: 5.7ms preprocess, 373.2ms inference, 720.6ms postprocess per image at shape (1, 3, 1920, 1920)\n"
     ]
    },
    {
     "name": "stdout",
     "output_type": "stream",
     "text": [
      "Matrix size: [6, 228]\n",
      "Similarity matrix built in 0.19s                                                                                                    \n",
      "\n",
      "Image: weti1_2024_11_12_15_07_m.jpg\n"
     ]
    },
    {
     "name": "stderr",
     "output_type": "stream",
     "text": [
      "\n",
      "image 1/1 /mnt/c/Users/gtraw/Projekt_badawczy/dataset_11_12/weti1_2024_11_12_15_07_m.jpg: 1088x1920 23 objects, 4053.5ms\n",
      "Speed: 6.9ms preprocess, 4053.5ms inference, 11.2ms postprocess per image at shape (1, 3, 1920, 1920)\n",
      "\n"
     ]
    },
    {
     "name": "stdout",
     "output_type": "stream",
     "text": [
      "Matrix size: [6, 23]\n",
      "Similarity matrix built in 0.03s                                                                                                    \n",
      "\n",
      "Image: weti1_2024_11_12_15_17.jpg\n"
     ]
    },
    {
     "name": "stderr",
     "output_type": "stream",
     "text": [
      "image 1/1 /mnt/c/Users/gtraw/Projekt_badawczy/dataset_11_12/weti1_2024_11_12_15_17.jpg: 1088x1920 222 objects, 370.6ms\n",
      "Speed: 5.2ms preprocess, 370.6ms inference, 1182.8ms postprocess per image at shape (1, 3, 1920, 1920)\n",
      "\n"
     ]
    },
    {
     "name": "stdout",
     "output_type": "stream",
     "text": [
      "Matrix size: [5, 222]\n",
      "Similarity matrix built in 0.13s                                                                                                    \n",
      "\n",
      "Image: weti1_2024_11_12_15_17_m.jpg\n"
     ]
    },
    {
     "name": "stderr",
     "output_type": "stream",
     "text": [
      "image 1/1 /mnt/c/Users/gtraw/Projekt_badawczy/dataset_11_12/weti1_2024_11_12_15_17_m.jpg: 1088x1920 21 objects, 1503.8ms\n",
      "Speed: 4.9ms preprocess, 1503.8ms inference, 12.8ms postprocess per image at shape (1, 3, 1920, 1920)\n",
      "\n"
     ]
    },
    {
     "name": "stdout",
     "output_type": "stream",
     "text": [
      "Matrix size: [5, 21]\n",
      "Similarity matrix built in 0.02s                                                                                                    \n",
      "\n",
      "Image: weti1_2024_11_12_15_27.jpg\n"
     ]
    },
    {
     "name": "stderr",
     "output_type": "stream",
     "text": [
      "image 1/1 /mnt/c/Users/gtraw/Projekt_badawczy/dataset_11_12/weti1_2024_11_12_15_27.jpg: 1088x1920 229 objects, 367.1ms\n",
      "Speed: 4.9ms preprocess, 367.1ms inference, 719.7ms postprocess per image at shape (1, 3, 1920, 1920)\n",
      "\n"
     ]
    },
    {
     "name": "stdout",
     "output_type": "stream",
     "text": [
      "Matrix size: [5, 229]\n",
      "Similarity matrix built in 0.15s                                                                                                    \n",
      "\n",
      "Image: weti1_2024_11_12_15_27_m.jpg\n"
     ]
    },
    {
     "name": "stderr",
     "output_type": "stream",
     "text": [
      "image 1/1 /mnt/c/Users/gtraw/Projekt_badawczy/dataset_11_12/weti1_2024_11_12_15_27_m.jpg: 1088x1920 22 objects, 3770.4ms\n",
      "Speed: 5.7ms preprocess, 3770.4ms inference, 10.5ms postprocess per image at shape (1, 3, 1920, 1920)\n",
      "\n"
     ]
    },
    {
     "name": "stdout",
     "output_type": "stream",
     "text": [
      "Matrix size: [5, 22]\n",
      "Similarity matrix built in 0.02s                                                                                                    \n",
      "\n",
      "Image: weti1_2024_11_12_15_37.jpg\n"
     ]
    },
    {
     "name": "stderr",
     "output_type": "stream",
     "text": [
      "image 1/1 /mnt/c/Users/gtraw/Projekt_badawczy/dataset_11_12/weti1_2024_11_12_15_37.jpg: 1088x1920 225 objects, 365.6ms\n",
      "Speed: 6.7ms preprocess, 365.6ms inference, 711.5ms postprocess per image at shape (1, 3, 1920, 1920)\n",
      "\n"
     ]
    },
    {
     "name": "stdout",
     "output_type": "stream",
     "text": [
      "Matrix size: [5, 225]\n",
      "Similarity matrix built in 0.12s                                                                                                    \n",
      "\n",
      "Image: weti1_2024_11_12_15_37_m.jpg\n"
     ]
    },
    {
     "name": "stderr",
     "output_type": "stream",
     "text": [
      "image 1/1 /mnt/c/Users/gtraw/Projekt_badawczy/dataset_11_12/weti1_2024_11_12_15_37_m.jpg: 1088x1920 23 objects, 471.0ms\n",
      "Speed: 4.8ms preprocess, 471.0ms inference, 10.1ms postprocess per image at shape (1, 3, 1920, 1920)\n",
      "\n"
     ]
    },
    {
     "name": "stdout",
     "output_type": "stream",
     "text": [
      "Matrix size: [5, 23]\n",
      "Similarity matrix built in 0.02s                                                                                                    \n",
      "\n",
      "Image: weti1_2024_11_12_15_47.jpg\n"
     ]
    },
    {
     "name": "stderr",
     "output_type": "stream",
     "text": [
      "image 1/1 /mnt/c/Users/gtraw/Projekt_badawczy/dataset_11_12/weti1_2024_11_12_15_47.jpg: 1088x1920 217 objects, 533.6ms\n",
      "Speed: 6.0ms preprocess, 533.6ms inference, 39.2ms postprocess per image at shape (1, 3, 1920, 1920)\n",
      "\n"
     ]
    },
    {
     "name": "stdout",
     "output_type": "stream",
     "text": [
      "Matrix size: [5, 217]\n",
      "Similarity matrix built in 0.12s                                                                                                    \n",
      "\n",
      "Image: weti1_2024_11_12_15_47_m.jpg\n"
     ]
    },
    {
     "name": "stderr",
     "output_type": "stream",
     "text": [
      "image 1/1 /mnt/c/Users/gtraw/Projekt_badawczy/dataset_11_12/weti1_2024_11_12_15_47_m.jpg: 1088x1920 21 objects, 530.8ms\n",
      "Speed: 16.2ms preprocess, 530.8ms inference, 7.6ms postprocess per image at shape (1, 3, 1920, 1920)\n",
      "\n"
     ]
    },
    {
     "name": "stdout",
     "output_type": "stream",
     "text": [
      "Matrix size: [5, 21]\n",
      "Similarity matrix built in 0.02s                                                                                                    \n",
      "\n",
      "Image: weti1_2024_11_12_15_57.jpg\n"
     ]
    },
    {
     "name": "stderr",
     "output_type": "stream",
     "text": [
      "image 1/1 /mnt/c/Users/gtraw/Projekt_badawczy/dataset_11_12/weti1_2024_11_12_15_57.jpg: 1088x1920 224 objects, 367.8ms\n",
      "Speed: 5.0ms preprocess, 367.8ms inference, 856.3ms postprocess per image at shape (1, 3, 1920, 1920)\n",
      "\n"
     ]
    },
    {
     "name": "stdout",
     "output_type": "stream",
     "text": [
      "Matrix size: [4, 224]\n",
      "Similarity matrix built in 0.10s                                                                                                    \n",
      "\n",
      "Image: weti1_2024_11_12_15_57_m.jpg\n"
     ]
    },
    {
     "name": "stderr",
     "output_type": "stream",
     "text": [
      "image 1/1 /mnt/c/Users/gtraw/Projekt_badawczy/dataset_11_12/weti1_2024_11_12_15_57_m.jpg: 1088x1920 21 objects, 713.1ms\n",
      "Speed: 7.8ms preprocess, 713.1ms inference, 12.2ms postprocess per image at shape (1, 3, 1920, 1920)\n",
      "\n"
     ]
    },
    {
     "name": "stdout",
     "output_type": "stream",
     "text": [
      "Matrix size: [4, 21]\n",
      "Similarity matrix built in 0.02s                                                                                                    \n",
      "\n",
      "Image: weti1_2024_11_12_17_34.jpg\n"
     ]
    },
    {
     "name": "stderr",
     "output_type": "stream",
     "text": [
      "image 1/1 /mnt/c/Users/gtraw/Projekt_badawczy/dataset_11_12/weti1_2024_11_12_17_34.jpg: 1088x1920 39 objects, 370.9ms\n",
      "Speed: 7.6ms preprocess, 370.9ms inference, 9.3ms postprocess per image at shape (1, 3, 1920, 1920)\n",
      "\n"
     ]
    },
    {
     "name": "stdout",
     "output_type": "stream",
     "text": [
      "Matrix size: [1, 39]\n",
      "Similarity matrix built in 0.01s                                                                                                    \n",
      "\n",
      "Image: weti1_2024_11_12_17_34_m.jpg\n"
     ]
    },
    {
     "name": "stderr",
     "output_type": "stream",
     "text": [
      "image 1/1 /mnt/c/Users/gtraw/Projekt_badawczy/dataset_11_12/weti1_2024_11_12_17_34_m.jpg: 1088x1920 7 objects, 470.1ms\n",
      "Speed: 5.1ms preprocess, 470.1ms inference, 14.4ms postprocess per image at shape (1, 3, 1920, 1920)\n",
      "\n"
     ]
    },
    {
     "name": "stdout",
     "output_type": "stream",
     "text": [
      "Matrix size: [1, 7]\n",
      "Similarity matrix built in 0.00s                                                                                                    \n",
      "\n",
      "Image: weti1_2024_11_12_17_44.jpg\n"
     ]
    },
    {
     "name": "stderr",
     "output_type": "stream",
     "text": [
      "image 1/1 /mnt/c/Users/gtraw/Projekt_badawczy/dataset_11_12/weti1_2024_11_12_17_44.jpg: 1088x1920 44 objects, 368.5ms\n",
      "Speed: 4.8ms preprocess, 368.5ms inference, 12.6ms postprocess per image at shape (1, 3, 1920, 1920)\n",
      "\n"
     ]
    },
    {
     "name": "stdout",
     "output_type": "stream",
     "text": [
      "Matrix size: [1, 44]\n",
      "Similarity matrix built in 0.01s                                                                                                    \n",
      "\n",
      "Image: weti1_2024_11_12_17_44_m.jpg\n"
     ]
    },
    {
     "name": "stderr",
     "output_type": "stream",
     "text": [
      "image 1/1 /mnt/c/Users/gtraw/Projekt_badawczy/dataset_11_12/weti1_2024_11_12_17_44_m.jpg: 1088x1920 5 objects, 390.3ms\n",
      "Speed: 5.2ms preprocess, 390.3ms inference, 125.4ms postprocess per image at shape (1, 3, 1920, 1920)\n",
      "\n"
     ]
    },
    {
     "name": "stdout",
     "output_type": "stream",
     "text": [
      "Matrix size: [1, 5]\n",
      "Similarity matrix built in 0.00s                                                                                                    \n",
      "\n",
      "Image: weti1_2024_11_12_17_54.jpg\n"
     ]
    },
    {
     "name": "stderr",
     "output_type": "stream",
     "text": [
      "image 1/1 /mnt/c/Users/gtraw/Projekt_badawczy/dataset_11_12/weti1_2024_11_12_17_54.jpg: 1088x1920 39 objects, 372.1ms\n",
      "Speed: 5.5ms preprocess, 372.1ms inference, 9.2ms postprocess per image at shape (1, 3, 1920, 1920)\n",
      "\n"
     ]
    },
    {
     "name": "stdout",
     "output_type": "stream",
     "text": [
      "Matrix size: [1, 39]\n",
      "Similarity matrix built in 0.01s                                                                                                    \n",
      "\n",
      "Image: weti1_2024_11_12_17_54_m.jpg\n"
     ]
    },
    {
     "name": "stderr",
     "output_type": "stream",
     "text": [
      "image 1/1 /mnt/c/Users/gtraw/Projekt_badawczy/dataset_11_12/weti1_2024_11_12_17_54_m.jpg: 1088x1920 7 objects, 506.4ms\n",
      "Speed: 7.2ms preprocess, 506.4ms inference, 5.4ms postprocess per image at shape (1, 3, 1920, 1920)\n",
      "\n"
     ]
    },
    {
     "name": "stdout",
     "output_type": "stream",
     "text": [
      "Matrix size: [1, 7]\n",
      "Similarity matrix built in 0.00s                                                                                                    \n",
      "\n",
      "Image: weti1_2024_11_12_18_04.jpg\n"
     ]
    },
    {
     "name": "stderr",
     "output_type": "stream",
     "text": [
      "image 1/1 /mnt/c/Users/gtraw/Projekt_badawczy/dataset_11_12/weti1_2024_11_12_18_04.jpg: 1088x1920 36 objects, 372.8ms\n",
      "Speed: 4.9ms preprocess, 372.8ms inference, 8.5ms postprocess per image at shape (1, 3, 1920, 1920)\n",
      "\n"
     ]
    },
    {
     "name": "stdout",
     "output_type": "stream",
     "text": [
      "Matrix size: [1, 36]\n",
      "Similarity matrix built in 0.01s                                                                                                    \n",
      "\n",
      "Image: weti1_2024_11_12_18_04_m.jpg\n"
     ]
    },
    {
     "name": "stderr",
     "output_type": "stream",
     "text": [
      "image 1/1 /mnt/c/Users/gtraw/Projekt_badawczy/dataset_11_12/weti1_2024_11_12_18_04_m.jpg: 1088x1920 5 objects, 700.1ms\n",
      "Speed: 5.3ms preprocess, 700.1ms inference, 6.6ms postprocess per image at shape (1, 3, 1920, 1920)\n",
      "\n"
     ]
    },
    {
     "name": "stdout",
     "output_type": "stream",
     "text": [
      "Matrix size: [1, 5]\n",
      "Similarity matrix built in 0.00s                                                                                                    \n",
      "\n",
      "Image: weti1_2024_11_12_18_14.jpg\n"
     ]
    },
    {
     "name": "stderr",
     "output_type": "stream",
     "text": [
      "image 1/1 /mnt/c/Users/gtraw/Projekt_badawczy/dataset_11_12/weti1_2024_11_12_18_14.jpg: 1088x1920 42 objects, 719.8ms\n",
      "Speed: 6.1ms preprocess, 719.8ms inference, 14.6ms postprocess per image at shape (1, 3, 1920, 1920)\n",
      "\n"
     ]
    },
    {
     "name": "stdout",
     "output_type": "stream",
     "text": [
      "Matrix size: [0, 42]\n",
      "Similarity matrix built in 0.00s                                                                                                    \n",
      "\n",
      "Image: weti1_2024_11_12_18_14_m.jpg\n"
     ]
    },
    {
     "name": "stderr",
     "output_type": "stream",
     "text": [
      "image 1/1 /mnt/c/Users/gtraw/Projekt_badawczy/dataset_11_12/weti1_2024_11_12_18_14_m.jpg: 1088x1920 5 objects, 364.3ms\n",
      "Speed: 6.0ms preprocess, 364.3ms inference, 16.4ms postprocess per image at shape (1, 3, 1920, 1920)\n",
      "\n"
     ]
    },
    {
     "name": "stdout",
     "output_type": "stream",
     "text": [
      "Matrix size: [0, 5]\n",
      "Similarity matrix built in 0.00s                                                                                                    \n",
      "\n",
      "Image: weti1_2024_11_12_18_24.jpg\n"
     ]
    },
    {
     "name": "stderr",
     "output_type": "stream",
     "text": [
      "image 1/1 /mnt/c/Users/gtraw/Projekt_badawczy/dataset_11_12/weti1_2024_11_12_18_24.jpg: 1088x1920 39 objects, 371.2ms\n",
      "Speed: 5.3ms preprocess, 371.2ms inference, 9.6ms postprocess per image at shape (1, 3, 1920, 1920)\n",
      "\n"
     ]
    },
    {
     "name": "stdout",
     "output_type": "stream",
     "text": [
      "Matrix size: [0, 39]\n",
      "Similarity matrix built in 0.00s                                                                                                    \n",
      "\n",
      "Image: weti1_2024_11_12_18_24_m.jpg\n"
     ]
    },
    {
     "name": "stderr",
     "output_type": "stream",
     "text": [
      "image 1/1 /mnt/c/Users/gtraw/Projekt_badawczy/dataset_11_12/weti1_2024_11_12_18_24_m.jpg: 1088x1920 6 objects, 492.0ms\n",
      "Speed: 6.2ms preprocess, 492.0ms inference, 6.6ms postprocess per image at shape (1, 3, 1920, 1920)\n",
      "\n"
     ]
    },
    {
     "name": "stdout",
     "output_type": "stream",
     "text": [
      "Matrix size: [0, 6]\n",
      "Similarity matrix built in 0.00s                                                                                                    \n",
      "\n",
      "Image: weti1_2024_11_12_18_34.jpg\n"
     ]
    },
    {
     "name": "stderr",
     "output_type": "stream",
     "text": [
      "image 1/1 /mnt/c/Users/gtraw/Projekt_badawczy/dataset_11_12/weti1_2024_11_12_18_34.jpg: 1088x1920 38 objects, 367.5ms\n",
      "Speed: 4.6ms preprocess, 367.5ms inference, 9.8ms postprocess per image at shape (1, 3, 1920, 1920)\n",
      "\n"
     ]
    },
    {
     "name": "stdout",
     "output_type": "stream",
     "text": [
      "Matrix size: [0, 38]\n",
      "Similarity matrix built in 0.00s                                                                                                    \n",
      "\n",
      "Image: weti1_2024_11_12_18_34_m.jpg\n"
     ]
    },
    {
     "name": "stderr",
     "output_type": "stream",
     "text": [
      "image 1/1 /mnt/c/Users/gtraw/Projekt_badawczy/dataset_11_12/weti1_2024_11_12_18_34_m.jpg: 1088x1920 3 objects, 627.7ms\n",
      "Speed: 5.4ms preprocess, 627.7ms inference, 6.3ms postprocess per image at shape (1, 3, 1920, 1920)\n",
      "\n"
     ]
    },
    {
     "name": "stdout",
     "output_type": "stream",
     "text": [
      "Matrix size: [0, 3]\n",
      "Similarity matrix built in 0.00s                                                                                                    \n",
      "\n",
      "Image: weti2_2024_11_12_09_28.jpg\n"
     ]
    },
    {
     "name": "stderr",
     "output_type": "stream",
     "text": [
      "image 1/1 /mnt/c/Users/gtraw/Projekt_badawczy/dataset_11_12/weti2_2024_11_12_09_28.jpg: 1088x1920 236 objects, 750.0ms\n",
      "Speed: 5.1ms preprocess, 750.0ms inference, 1060.9ms postprocess per image at shape (1, 3, 1920, 1920)\n"
     ]
    },
    {
     "name": "stdout",
     "output_type": "stream",
     "text": [
      "Matrix size: [34, 236]\n",
      "Building similarity matrix:       6221/8024\r"
     ]
    },
    {
     "name": "stderr",
     "output_type": "stream",
     "text": [
      "\n"
     ]
    },
    {
     "name": "stdout",
     "output_type": "stream",
     "text": [
      "Similarity matrix built in 0.77s                                                                                                    \n",
      "\n",
      "Image: weti2_2024_11_12_09_28_m.jpg\n"
     ]
    },
    {
     "name": "stderr",
     "output_type": "stream",
     "text": [
      "image 1/1 /mnt/c/Users/gtraw/Projekt_badawczy/dataset_11_12/weti2_2024_11_12_09_28_m.jpg: 1088x1920 114 objects, 647.8ms\n",
      "Speed: 6.4ms preprocess, 647.8ms inference, 19.4ms postprocess per image at shape (1, 3, 1920, 1920)\n"
     ]
    },
    {
     "name": "stdout",
     "output_type": "stream",
     "text": [
      "Matrix size: [34, 114]\n",
      "Building similarity matrix:       3801/3876\r"
     ]
    },
    {
     "name": "stderr",
     "output_type": "stream",
     "text": [
      "\n"
     ]
    },
    {
     "name": "stdout",
     "output_type": "stream",
     "text": [
      "Similarity matrix built in 0.41s                                                                                                    \n",
      "\n",
      "Image: weti2_2024_11_12_09_38.jpg\n"
     ]
    },
    {
     "name": "stderr",
     "output_type": "stream",
     "text": [
      "image 1/1 /mnt/c/Users/gtraw/Projekt_badawczy/dataset_11_12/weti2_2024_11_12_09_38.jpg: 1088x1920 237 objects, 533.8ms\n",
      "Speed: 5.8ms preprocess, 533.8ms inference, 871.7ms postprocess per image at shape (1, 3, 1920, 1920)\n"
     ]
    },
    {
     "name": "stdout",
     "output_type": "stream",
     "text": [
      "Matrix size: [35, 237]\n",
      "Building similarity matrix:       8271/8295\r"
     ]
    },
    {
     "name": "stderr",
     "output_type": "stream",
     "text": [
      "\n"
     ]
    },
    {
     "name": "stdout",
     "output_type": "stream",
     "text": [
      "Similarity matrix built in 0.81s                                                                                                    \n",
      "\n",
      "Image: weti2_2024_11_12_09_38_m.jpg\n"
     ]
    },
    {
     "name": "stderr",
     "output_type": "stream",
     "text": [
      "image 1/1 /mnt/c/Users/gtraw/Projekt_badawczy/dataset_11_12/weti2_2024_11_12_09_38_m.jpg: 1088x1920 114 objects, 524.3ms\n",
      "Speed: 5.6ms preprocess, 524.3ms inference, 21.7ms postprocess per image at shape (1, 3, 1920, 1920)\n"
     ]
    },
    {
     "name": "stdout",
     "output_type": "stream",
     "text": [
      "Matrix size: [35, 114]\n",
      "Building similarity matrix:       3289/3990\r"
     ]
    },
    {
     "name": "stderr",
     "output_type": "stream",
     "text": [
      "\n"
     ]
    },
    {
     "name": "stdout",
     "output_type": "stream",
     "text": [
      "Similarity matrix built in 0.49s                                                                                                    \n",
      "\n",
      "Image: weti2_2024_11_12_09_48.jpg\n"
     ]
    },
    {
     "name": "stderr",
     "output_type": "stream",
     "text": [
      "image 1/1 /mnt/c/Users/gtraw/Projekt_badawczy/dataset_11_12/weti2_2024_11_12_09_48.jpg: 1088x1920 239 objects, 537.1ms\n",
      "Speed: 5.4ms preprocess, 537.1ms inference, 746.5ms postprocess per image at shape (1, 3, 1920, 1920)\n"
     ]
    },
    {
     "name": "stdout",
     "output_type": "stream",
     "text": [
      "Matrix size: [35, 239]\n",
      "Similarity matrix built in 0.79s                                                                                                    \n",
      "\n",
      "Image: weti2_2024_11_12_09_48_m.jpg\n"
     ]
    },
    {
     "name": "stderr",
     "output_type": "stream",
     "text": [
      "\n",
      "image 1/1 /mnt/c/Users/gtraw/Projekt_badawczy/dataset_11_12/weti2_2024_11_12_09_48_m.jpg: 1088x1920 113 objects, 1889.1ms\n",
      "Speed: 9.8ms preprocess, 1889.1ms inference, 28.8ms postprocess per image at shape (1, 3, 1920, 1920)\n"
     ]
    },
    {
     "name": "stdout",
     "output_type": "stream",
     "text": [
      "Matrix size: [35, 113]\n",
      "Building similarity matrix:       3478/3955\r"
     ]
    },
    {
     "name": "stderr",
     "output_type": "stream",
     "text": [
      "\n"
     ]
    },
    {
     "name": "stdout",
     "output_type": "stream",
     "text": [
      "Similarity matrix built in 0.48s                                                                                                    \n",
      "\n",
      "Image: weti2_2024_11_12_09_58.jpg\n"
     ]
    },
    {
     "name": "stderr",
     "output_type": "stream",
     "text": [
      "image 1/1 /mnt/c/Users/gtraw/Projekt_badawczy/dataset_11_12/weti2_2024_11_12_09_58.jpg: 1088x1920 239 objects, 489.2ms\n",
      "Speed: 6.4ms preprocess, 489.2ms inference, 1058.8ms postprocess per image at shape (1, 3, 1920, 1920)\n"
     ]
    },
    {
     "name": "stdout",
     "output_type": "stream",
     "text": [
      "Matrix size: [36, 239]\n",
      "Building similarity matrix:       6927/8604\r"
     ]
    },
    {
     "name": "stderr",
     "output_type": "stream",
     "text": [
      "\n"
     ]
    },
    {
     "name": "stdout",
     "output_type": "stream",
     "text": [
      "Similarity matrix built in 0.76s                                                                                                    \n",
      "\n",
      "Image: weti2_2024_11_12_09_58_m.jpg\n"
     ]
    },
    {
     "name": "stderr",
     "output_type": "stream",
     "text": [
      "image 1/1 /mnt/c/Users/gtraw/Projekt_badawczy/dataset_11_12/weti2_2024_11_12_09_58_m.jpg: 1088x1920 118 objects, 1790.9ms\n",
      "Speed: 6.6ms preprocess, 1790.9ms inference, 29.3ms postprocess per image at shape (1, 3, 1920, 1920)\n"
     ]
    },
    {
     "name": "stdout",
     "output_type": "stream",
     "text": [
      "Matrix size: [36, 118]\n",
      "Building similarity matrix:       3280/4248\r"
     ]
    },
    {
     "name": "stderr",
     "output_type": "stream",
     "text": [
      "\n"
     ]
    },
    {
     "name": "stdout",
     "output_type": "stream",
     "text": [
      "Similarity matrix built in 0.51s                                                                                                    \n",
      "\n",
      "Image: weti2_2024_11_12_10_08.jpg\n"
     ]
    },
    {
     "name": "stderr",
     "output_type": "stream",
     "text": [
      "image 1/1 /mnt/c/Users/gtraw/Projekt_badawczy/dataset_11_12/weti2_2024_11_12_10_08.jpg: 1088x1920 243 objects, 538.7ms\n",
      "Speed: 5.0ms preprocess, 538.7ms inference, 942.6ms postprocess per image at shape (1, 3, 1920, 1920)\n"
     ]
    },
    {
     "name": "stdout",
     "output_type": "stream",
     "text": [
      "Matrix size: [36, 243]\n",
      "Building similarity matrix:       8585/8748\r"
     ]
    },
    {
     "name": "stderr",
     "output_type": "stream",
     "text": [
      "\n"
     ]
    },
    {
     "name": "stdout",
     "output_type": "stream",
     "text": [
      "Similarity matrix built in 1.44s                                                                                                    \n",
      "\n",
      "Image: weti2_2024_11_12_10_08_m.jpg\n"
     ]
    },
    {
     "name": "stderr",
     "output_type": "stream",
     "text": [
      "image 1/1 /mnt/c/Users/gtraw/Projekt_badawczy/dataset_11_12/weti2_2024_11_12_10_08_m.jpg: 1088x1920 125 objects, 485.3ms\n",
      "Speed: 6.5ms preprocess, 485.3ms inference, 21.9ms postprocess per image at shape (1, 3, 1920, 1920)\n"
     ]
    },
    {
     "name": "stdout",
     "output_type": "stream",
     "text": [
      "Matrix size: [36, 125]\n",
      "Building similarity matrix:       3930/4500\r"
     ]
    },
    {
     "name": "stderr",
     "output_type": "stream",
     "text": [
      "\n"
     ]
    },
    {
     "name": "stdout",
     "output_type": "stream",
     "text": [
      "Similarity matrix built in 0.46s                                                                                                    \n",
      "\n",
      "Image: weti2_2024_11_12_10_18.jpg\n"
     ]
    },
    {
     "name": "stderr",
     "output_type": "stream",
     "text": [
      "image 1/1 /mnt/c/Users/gtraw/Projekt_badawczy/dataset_11_12/weti2_2024_11_12_10_18.jpg: 1088x1920 243 objects, 658.0ms\n",
      "Speed: 5.9ms preprocess, 658.0ms inference, 1143.5ms postprocess per image at shape (1, 3, 1920, 1920)\n"
     ]
    },
    {
     "name": "stdout",
     "output_type": "stream",
     "text": [
      "Matrix size: [37, 243]\n",
      "Building similarity matrix:       7529/8991\r"
     ]
    },
    {
     "name": "stderr",
     "output_type": "stream",
     "text": [
      "\n"
     ]
    },
    {
     "name": "stdout",
     "output_type": "stream",
     "text": [
      "Similarity matrix built in 0.94s                                                                                                    \n",
      "\n",
      "Image: weti2_2024_11_12_10_18_m.jpg\n"
     ]
    },
    {
     "name": "stderr",
     "output_type": "stream",
     "text": [
      "image 1/1 /mnt/c/Users/gtraw/Projekt_badawczy/dataset_11_12/weti2_2024_11_12_10_18_m.jpg: 1088x1920 120 objects, 481.6ms\n",
      "Speed: 8.8ms preprocess, 481.6ms inference, 21.5ms postprocess per image at shape (1, 3, 1920, 1920)\n"
     ]
    },
    {
     "name": "stdout",
     "output_type": "stream",
     "text": [
      "Matrix size: [37, 120]\n",
      "Building similarity matrix:       3775/4440\r"
     ]
    },
    {
     "name": "stderr",
     "output_type": "stream",
     "text": [
      "\n"
     ]
    },
    {
     "name": "stdout",
     "output_type": "stream",
     "text": [
      "Similarity matrix built in 0.48s                                                                                                    \n",
      "\n",
      "Image: weti2_2024_11_12_10_29.jpg\n"
     ]
    },
    {
     "name": "stderr",
     "output_type": "stream",
     "text": [
      "image 1/1 /mnt/c/Users/gtraw/Projekt_badawczy/dataset_11_12/weti2_2024_11_12_10_29.jpg: 1088x1920 245 objects, 511.9ms\n",
      "Speed: 7.3ms preprocess, 511.9ms inference, 753.1ms postprocess per image at shape (1, 3, 1920, 1920)\n"
     ]
    },
    {
     "name": "stdout",
     "output_type": "stream",
     "text": [
      "Matrix size: [36, 245]\n",
      "Building similarity matrix:       7888/8820\r"
     ]
    },
    {
     "name": "stderr",
     "output_type": "stream",
     "text": [
      "\n"
     ]
    },
    {
     "name": "stdout",
     "output_type": "stream",
     "text": [
      "Similarity matrix built in 1.11s                                                                                                    \n",
      "\n",
      "Image: weti2_2024_11_12_10_29_m.jpg\n"
     ]
    },
    {
     "name": "stderr",
     "output_type": "stream",
     "text": [
      "image 1/1 /mnt/c/Users/gtraw/Projekt_badawczy/dataset_11_12/weti2_2024_11_12_10_29_m.jpg: 1088x1920 124 objects, 3458.2ms\n",
      "Speed: 6.6ms preprocess, 3458.2ms inference, 48.4ms postprocess per image at shape (1, 3, 1920, 1920)\n"
     ]
    },
    {
     "name": "stdout",
     "output_type": "stream",
     "text": [
      "Matrix size: [36, 124]\n",
      "Building similarity matrix:       4246/4464\r"
     ]
    },
    {
     "name": "stderr",
     "output_type": "stream",
     "text": [
      "\n"
     ]
    },
    {
     "name": "stdout",
     "output_type": "stream",
     "text": [
      "Similarity matrix built in 0.64s                                                                                                    \n",
      "\n",
      "Image: weti2_2024_11_12_10_39.jpg\n"
     ]
    },
    {
     "name": "stderr",
     "output_type": "stream",
     "text": [
      "image 1/1 /mnt/c/Users/gtraw/Projekt_badawczy/dataset_11_12/weti2_2024_11_12_10_39.jpg: 1088x1920 253 objects, 563.4ms\n",
      "Speed: 6.3ms preprocess, 563.4ms inference, 809.7ms postprocess per image at shape (1, 3, 1920, 1920)\n"
     ]
    },
    {
     "name": "stdout",
     "output_type": "stream",
     "text": [
      "Matrix size: [36, 253]\n",
      "Building similarity matrix:       8335/9108\r"
     ]
    },
    {
     "name": "stderr",
     "output_type": "stream",
     "text": [
      "\n"
     ]
    },
    {
     "name": "stdout",
     "output_type": "stream",
     "text": [
      "Similarity matrix built in 1.10s                                                                                                    \n",
      "\n",
      "Image: weti2_2024_11_12_10_39_m.jpg\n"
     ]
    },
    {
     "name": "stderr",
     "output_type": "stream",
     "text": [
      "image 1/1 /mnt/c/Users/gtraw/Projekt_badawczy/dataset_11_12/weti2_2024_11_12_10_39_m.jpg: 1088x1920 124 objects, 5893.9ms\n",
      "Speed: 6.1ms preprocess, 5893.9ms inference, 58.2ms postprocess per image at shape (1, 3, 1920, 1920)\n"
     ]
    },
    {
     "name": "stdout",
     "output_type": "stream",
     "text": [
      "Matrix size: [36, 124]\n",
      "Building similarity matrix:       3645/4464\r"
     ]
    },
    {
     "name": "stderr",
     "output_type": "stream",
     "text": [
      "\n"
     ]
    },
    {
     "name": "stdout",
     "output_type": "stream",
     "text": [
      "Similarity matrix built in 0.53s                                                                                                    \n",
      "\n",
      "Image: weti2_2024_11_12_11_27.jpg\n"
     ]
    },
    {
     "name": "stderr",
     "output_type": "stream",
     "text": [
      "image 1/1 /mnt/c/Users/gtraw/Projekt_badawczy/dataset_11_12/weti2_2024_11_12_11_27.jpg: 1088x1920 241 objects, 573.0ms\n",
      "Speed: 124.7ms preprocess, 573.0ms inference, 1224.1ms postprocess per image at shape (1, 3, 1920, 1920)\n"
     ]
    },
    {
     "name": "stdout",
     "output_type": "stream",
     "text": [
      "Matrix size: [36, 241]\n",
      "Building similarity matrix:       7710/8676\r"
     ]
    },
    {
     "name": "stderr",
     "output_type": "stream",
     "text": [
      "\n"
     ]
    },
    {
     "name": "stdout",
     "output_type": "stream",
     "text": [
      "Similarity matrix built in 0.91s                                                                                                    \n",
      "\n",
      "Image: weti2_2024_11_12_11_27_m.jpg\n"
     ]
    },
    {
     "name": "stderr",
     "output_type": "stream",
     "text": [
      "image 1/1 /mnt/c/Users/gtraw/Projekt_badawczy/dataset_11_12/weti2_2024_11_12_11_27_m.jpg: 1088x1920 123 objects, 2535.8ms\n",
      "Speed: 8.8ms preprocess, 2535.8ms inference, 48.5ms postprocess per image at shape (1, 3, 1920, 1920)\n"
     ]
    },
    {
     "name": "stdout",
     "output_type": "stream",
     "text": [
      "Matrix size: [36, 123]\n",
      "Building similarity matrix:       3578/4428\r"
     ]
    },
    {
     "name": "stderr",
     "output_type": "stream",
     "text": [
      "\n"
     ]
    },
    {
     "name": "stdout",
     "output_type": "stream",
     "text": [
      "Similarity matrix built in 0.51s                                                                                                    \n",
      "\n",
      "Image: weti2_2024_11_12_11_37.jpg\n"
     ]
    },
    {
     "name": "stderr",
     "output_type": "stream",
     "text": [
      "image 1/1 /mnt/c/Users/gtraw/Projekt_badawczy/dataset_11_12/weti2_2024_11_12_11_37.jpg: 1088x1920 250 objects, 802.5ms\n",
      "Speed: 5.5ms preprocess, 802.5ms inference, 940.5ms postprocess per image at shape (1, 3, 1920, 1920)\n"
     ]
    },
    {
     "name": "stdout",
     "output_type": "stream",
     "text": [
      "Matrix size: [36, 250]\n",
      "Building similarity matrix:       8107/9000\r"
     ]
    },
    {
     "name": "stderr",
     "output_type": "stream",
     "text": [
      "\n"
     ]
    },
    {
     "name": "stdout",
     "output_type": "stream",
     "text": [
      "Similarity matrix built in 0.91s                                                                                                    \n",
      "\n",
      "Image: weti2_2024_11_12_11_37_m.jpg\n"
     ]
    },
    {
     "name": "stderr",
     "output_type": "stream",
     "text": [
      "image 1/1 /mnt/c/Users/gtraw/Projekt_badawczy/dataset_11_12/weti2_2024_11_12_11_37_m.jpg: 1088x1920 119 objects, 802.2ms\n",
      "Speed: 7.7ms preprocess, 802.2ms inference, 18.0ms postprocess per image at shape (1, 3, 1920, 1920)\n"
     ]
    },
    {
     "name": "stdout",
     "output_type": "stream",
     "text": [
      "Matrix size: [36, 119]\n",
      "Building similarity matrix:       3438/4284\r"
     ]
    },
    {
     "name": "stderr",
     "output_type": "stream",
     "text": [
      "\n"
     ]
    },
    {
     "name": "stdout",
     "output_type": "stream",
     "text": [
      "Similarity matrix built in 0.50s                                                                                                    \n",
      "\n",
      "Image: weti2_2024_11_12_11_47.jpg\n"
     ]
    },
    {
     "name": "stderr",
     "output_type": "stream",
     "text": [
      "image 1/1 /mnt/c/Users/gtraw/Projekt_badawczy/dataset_11_12/weti2_2024_11_12_11_47.jpg: 1088x1920 245 objects, 410.4ms\n",
      "Speed: 6.0ms preprocess, 410.4ms inference, 1011.9ms postprocess per image at shape (1, 3, 1920, 1920)\n"
     ]
    },
    {
     "name": "stdout",
     "output_type": "stream",
     "text": [
      "Matrix size: [37, 245]\n",
      "Building similarity matrix:       7719/9065\r"
     ]
    },
    {
     "name": "stderr",
     "output_type": "stream",
     "text": [
      "\n"
     ]
    },
    {
     "name": "stdout",
     "output_type": "stream",
     "text": [
      "Similarity matrix built in 0.94s                                                                                                    \n",
      "\n",
      "Image: weti2_2024_11_12_11_47_m.jpg\n"
     ]
    },
    {
     "name": "stderr",
     "output_type": "stream",
     "text": [
      "image 1/1 /mnt/c/Users/gtraw/Projekt_badawczy/dataset_11_12/weti2_2024_11_12_11_47_m.jpg: 1088x1920 128 objects, 3618.6ms\n",
      "Speed: 6.3ms preprocess, 3618.6ms inference, 24.4ms postprocess per image at shape (1, 3, 1920, 1920)\n"
     ]
    },
    {
     "name": "stdout",
     "output_type": "stream",
     "text": [
      "Matrix size: [37, 128]\n",
      "Similarity matrix built in 0.57s                                                                                                    \n",
      "\n",
      "Image: weti2_2024_11_12_11_57.jpg\n"
     ]
    },
    {
     "name": "stderr",
     "output_type": "stream",
     "text": [
      "\n",
      "image 1/1 /mnt/c/Users/gtraw/Projekt_badawczy/dataset_11_12/weti2_2024_11_12_11_57.jpg: 1088x1920 255 objects, 396.2ms\n",
      "Speed: 4.8ms preprocess, 396.2ms inference, 1097.7ms postprocess per image at shape (1, 3, 1920, 1920)\n"
     ]
    },
    {
     "name": "stdout",
     "output_type": "stream",
     "text": [
      "Matrix size: [37, 255]\n",
      "Building similarity matrix:       8975/9435\r"
     ]
    },
    {
     "name": "stderr",
     "output_type": "stream",
     "text": [
      "\n"
     ]
    },
    {
     "name": "stdout",
     "output_type": "stream",
     "text": [
      "Similarity matrix built in 1.06s                                                                                                    \n",
      "\n",
      "Image: weti2_2024_11_12_11_57_m.jpg\n"
     ]
    },
    {
     "name": "stderr",
     "output_type": "stream",
     "text": [
      "image 1/1 /mnt/c/Users/gtraw/Projekt_badawczy/dataset_11_12/weti2_2024_11_12_11_57_m.jpg: 1088x1920 131 objects, 2807.0ms\n",
      "Speed: 5.7ms preprocess, 2807.0ms inference, 53.3ms postprocess per image at shape (1, 3, 1920, 1920)\n"
     ]
    },
    {
     "name": "stdout",
     "output_type": "stream",
     "text": [
      "Matrix size: [37, 131]\n",
      "Building similarity matrix:       4404/4847\r"
     ]
    },
    {
     "name": "stderr",
     "output_type": "stream",
     "text": [
      "\n"
     ]
    },
    {
     "name": "stdout",
     "output_type": "stream",
     "text": [
      "Similarity matrix built in 0.67s                                                                                                    \n",
      "\n",
      "Image: weti2_2024_11_12_12_07.jpg\n"
     ]
    },
    {
     "name": "stderr",
     "output_type": "stream",
     "text": [
      "image 1/1 /mnt/c/Users/gtraw/Projekt_badawczy/dataset_11_12/weti2_2024_11_12_12_07.jpg: 1088x1920 249 objects, 527.3ms\n",
      "Speed: 8.5ms preprocess, 527.3ms inference, 785.2ms postprocess per image at shape (1, 3, 1920, 1920)\n"
     ]
    },
    {
     "name": "stdout",
     "output_type": "stream",
     "text": [
      "Matrix size: [37, 249]\n",
      "Building similarity matrix:       7841/9213\r"
     ]
    },
    {
     "name": "stderr",
     "output_type": "stream",
     "text": [
      "\n"
     ]
    },
    {
     "name": "stdout",
     "output_type": "stream",
     "text": [
      "Similarity matrix built in 0.94s                                                                                                    \n",
      "\n",
      "Image: weti2_2024_11_12_12_07_m.jpg\n"
     ]
    },
    {
     "name": "stderr",
     "output_type": "stream",
     "text": [
      "image 1/1 /mnt/c/Users/gtraw/Projekt_badawczy/dataset_11_12/weti2_2024_11_12_12_07_m.jpg: 1088x1920 129 objects, 1625.2ms\n",
      "Speed: 7.9ms preprocess, 1625.2ms inference, 43.1ms postprocess per image at shape (1, 3, 1920, 1920)\n"
     ]
    },
    {
     "name": "stdout",
     "output_type": "stream",
     "text": [
      "Matrix size: [37, 129]\n",
      "Building similarity matrix:       3509/4773\r"
     ]
    },
    {
     "name": "stderr",
     "output_type": "stream",
     "text": [
      "\n"
     ]
    },
    {
     "name": "stdout",
     "output_type": "stream",
     "text": [
      "Similarity matrix built in 0.54s                                                                                                    \n",
      "\n",
      "Image: weti2_2024_11_12_12_17.jpg\n"
     ]
    },
    {
     "name": "stderr",
     "output_type": "stream",
     "text": [
      "image 1/1 /mnt/c/Users/gtraw/Projekt_badawczy/dataset_11_12/weti2_2024_11_12_12_17.jpg: 1088x1920 256 objects, 843.3ms\n",
      "Speed: 8.8ms preprocess, 843.3ms inference, 914.2ms postprocess per image at shape (1, 3, 1920, 1920)\n"
     ]
    },
    {
     "name": "stdout",
     "output_type": "stream",
     "text": [
      "Matrix size: [38, 256]\n",
      "Building similarity matrix:       9232/9728\r"
     ]
    },
    {
     "name": "stderr",
     "output_type": "stream",
     "text": [
      "\n"
     ]
    },
    {
     "name": "stdout",
     "output_type": "stream",
     "text": [
      "Similarity matrix built in 1.27s                                                                                                    \n",
      "\n",
      "Image: weti2_2024_11_12_12_17_m.jpg\n"
     ]
    },
    {
     "name": "stderr",
     "output_type": "stream",
     "text": [
      "image 1/1 /mnt/c/Users/gtraw/Projekt_badawczy/dataset_11_12/weti2_2024_11_12_12_17_m.jpg: 1088x1920 133 objects, 4046.7ms\n",
      "Speed: 18.7ms preprocess, 4046.7ms inference, 48.0ms postprocess per image at shape (1, 3, 1920, 1920)\n"
     ]
    },
    {
     "name": "stdout",
     "output_type": "stream",
     "text": [
      "Matrix size: [38, 133]\n",
      "Building similarity matrix:       5035/5054\r"
     ]
    },
    {
     "name": "stderr",
     "output_type": "stream",
     "text": [
      "\n"
     ]
    },
    {
     "name": "stdout",
     "output_type": "stream",
     "text": [
      "Similarity matrix built in 0.61s                                                                                                    \n",
      "\n",
      "Image: weti2_2024_11_12_12_27.jpg\n"
     ]
    },
    {
     "name": "stderr",
     "output_type": "stream",
     "text": [
      "image 1/1 /mnt/c/Users/gtraw/Projekt_badawczy/dataset_11_12/weti2_2024_11_12_12_27.jpg: 1088x1920 253 objects, 557.4ms\n",
      "Speed: 5.9ms preprocess, 557.4ms inference, 760.5ms postprocess per image at shape (1, 3, 1920, 1920)\n"
     ]
    },
    {
     "name": "stdout",
     "output_type": "stream",
     "text": [
      "Matrix size: [38, 253]\n",
      "Building similarity matrix:       9122/9614\r"
     ]
    },
    {
     "name": "stderr",
     "output_type": "stream",
     "text": [
      "\n"
     ]
    },
    {
     "name": "stdout",
     "output_type": "stream",
     "text": [
      "Similarity matrix built in 1.07s                                                                                                    \n",
      "\n",
      "Image: weti2_2024_11_12_12_27_m.jpg\n"
     ]
    },
    {
     "name": "stderr",
     "output_type": "stream",
     "text": [
      "image 1/1 /mnt/c/Users/gtraw/Projekt_badawczy/dataset_11_12/weti2_2024_11_12_12_27_m.jpg: 1088x1920 129 objects, 4478.5ms\n",
      "Speed: 6.6ms preprocess, 4478.5ms inference, 38.5ms postprocess per image at shape (1, 3, 1920, 1920)\n"
     ]
    },
    {
     "name": "stdout",
     "output_type": "stream",
     "text": [
      "Matrix size: [38, 129]\n",
      "Building similarity matrix:       4862/4902\r"
     ]
    },
    {
     "name": "stderr",
     "output_type": "stream",
     "text": [
      "\n"
     ]
    },
    {
     "name": "stdout",
     "output_type": "stream",
     "text": [
      "Similarity matrix built in 0.61s                                                                                                    \n",
      "\n",
      "Image: weti2_2024_11_12_12_37.jpg\n"
     ]
    },
    {
     "name": "stderr",
     "output_type": "stream",
     "text": [
      "image 1/1 /mnt/c/Users/gtraw/Projekt_badawczy/dataset_11_12/weti2_2024_11_12_12_37.jpg: 1088x1920 253 objects, 707.9ms\n",
      "Speed: 5.2ms preprocess, 707.9ms inference, 770.1ms postprocess per image at shape (1, 3, 1920, 1920)\n"
     ]
    },
    {
     "name": "stdout",
     "output_type": "stream",
     "text": [
      "Matrix size: [38, 253]\n",
      "Building similarity matrix:       8370/9614\r"
     ]
    },
    {
     "name": "stderr",
     "output_type": "stream",
     "text": [
      "\n"
     ]
    },
    {
     "name": "stdout",
     "output_type": "stream",
     "text": [
      "Similarity matrix built in 1.15s                                                                                                    \n",
      "\n",
      "Image: weti2_2024_11_12_12_37_m.jpg\n"
     ]
    },
    {
     "name": "stderr",
     "output_type": "stream",
     "text": [
      "image 1/1 /mnt/c/Users/gtraw/Projekt_badawczy/dataset_11_12/weti2_2024_11_12_12_37_m.jpg: 1088x1920 131 objects, 4746.9ms\n",
      "Speed: 5.7ms preprocess, 4746.9ms inference, 36.6ms postprocess per image at shape (1, 3, 1920, 1920)\n"
     ]
    },
    {
     "name": "stdout",
     "output_type": "stream",
     "text": [
      "Matrix size: [38, 131]\n",
      "Building similarity matrix:       4111/4978\r"
     ]
    },
    {
     "name": "stderr",
     "output_type": "stream",
     "text": [
      "\n"
     ]
    },
    {
     "name": "stdout",
     "output_type": "stream",
     "text": [
      "Similarity matrix built in 0.49s                                                                                                    \n",
      "\n",
      "Image: weti2_2024_11_12_12_47.jpg\n"
     ]
    },
    {
     "name": "stderr",
     "output_type": "stream",
     "text": [
      "image 1/1 /mnt/c/Users/gtraw/Projekt_badawczy/dataset_11_12/weti2_2024_11_12_12_47.jpg: 1088x1920 242 objects, 542.4ms\n",
      "Speed: 6.2ms preprocess, 542.4ms inference, 763.3ms postprocess per image at shape (1, 3, 1920, 1920)\n"
     ]
    },
    {
     "name": "stdout",
     "output_type": "stream",
     "text": [
      "Matrix size: [37, 242]\n",
      "Similarity matrix built in 0.80s                                                                                                    \n"
     ]
    },
    {
     "name": "stderr",
     "output_type": "stream",
     "text": [
      "\n"
     ]
    },
    {
     "name": "stdout",
     "output_type": "stream",
     "text": [
      "\n",
      "Image: weti2_2024_11_12_12_47_m.jpg\n"
     ]
    },
    {
     "name": "stderr",
     "output_type": "stream",
     "text": [
      "image 1/1 /mnt/c/Users/gtraw/Projekt_badawczy/dataset_11_12/weti2_2024_11_12_12_47_m.jpg: 1088x1920 128 objects, 1534.7ms\n",
      "Speed: 7.7ms preprocess, 1534.7ms inference, 24.9ms postprocess per image at shape (1, 3, 1920, 1920)\n"
     ]
    },
    {
     "name": "stdout",
     "output_type": "stream",
     "text": [
      "Matrix size: [37, 128]\n",
      "Building similarity matrix:       4227/4736\r"
     ]
    },
    {
     "name": "stderr",
     "output_type": "stream",
     "text": [
      "\n"
     ]
    },
    {
     "name": "stdout",
     "output_type": "stream",
     "text": [
      "Similarity matrix built in 0.46s                                                                                                    \n",
      "\n",
      "Image: weti2_2024_11_12_12_57.jpg\n"
     ]
    },
    {
     "name": "stderr",
     "output_type": "stream",
     "text": [
      "image 1/1 /mnt/c/Users/gtraw/Projekt_badawczy/dataset_11_12/weti2_2024_11_12_12_57.jpg: 1088x1920 253 objects, 491.4ms\n",
      "Speed: 5.1ms preprocess, 491.4ms inference, 579.7ms postprocess per image at shape (1, 3, 1920, 1920)\n"
     ]
    },
    {
     "name": "stdout",
     "output_type": "stream",
     "text": [
      "Matrix size: [37, 253]\n",
      "Building similarity matrix:       9032/9361\r"
     ]
    },
    {
     "name": "stderr",
     "output_type": "stream",
     "text": [
      "\n"
     ]
    },
    {
     "name": "stdout",
     "output_type": "stream",
     "text": [
      "Similarity matrix built in 0.84s                                                                                                    \n",
      "\n",
      "Image: weti2_2024_11_12_12_57_m.jpg\n"
     ]
    },
    {
     "name": "stderr",
     "output_type": "stream",
     "text": [
      "image 1/1 /mnt/c/Users/gtraw/Projekt_badawczy/dataset_11_12/weti2_2024_11_12_12_57_m.jpg: 1088x1920 129 objects, 4129.2ms\n",
      "Speed: 5.9ms preprocess, 4129.2ms inference, 37.0ms postprocess per image at shape (1, 3, 1920, 1920)\n"
     ]
    },
    {
     "name": "stdout",
     "output_type": "stream",
     "text": [
      "Matrix size: [37, 129]\n",
      "Building similarity matrix:       4121/4773\r"
     ]
    },
    {
     "name": "stderr",
     "output_type": "stream",
     "text": [
      "\n"
     ]
    },
    {
     "name": "stdout",
     "output_type": "stream",
     "text": [
      "Similarity matrix built in 0.47s                                                                                                    \n",
      "\n",
      "Image: weti2_2024_11_12_13_07.jpg\n"
     ]
    },
    {
     "name": "stderr",
     "output_type": "stream",
     "text": [
      "image 1/1 /mnt/c/Users/gtraw/Projekt_badawczy/dataset_11_12/weti2_2024_11_12_13_07.jpg: 1088x1920 262 objects, 491.8ms\n",
      "Speed: 6.5ms preprocess, 491.8ms inference, 751.6ms postprocess per image at shape (1, 3, 1920, 1920)\n"
     ]
    },
    {
     "name": "stdout",
     "output_type": "stream",
     "text": [
      "Matrix size: [37, 262]\n",
      "Building similarity matrix:       8859/9694\r"
     ]
    },
    {
     "name": "stderr",
     "output_type": "stream",
     "text": [
      "\n"
     ]
    },
    {
     "name": "stdout",
     "output_type": "stream",
     "text": [
      "Similarity matrix built in 0.88s                                                                                                    \n",
      "\n",
      "Image: weti2_2024_11_12_13_07_m.jpg\n"
     ]
    },
    {
     "name": "stderr",
     "output_type": "stream",
     "text": [
      "image 1/1 /mnt/c/Users/gtraw/Projekt_badawczy/dataset_11_12/weti2_2024_11_12_13_07_m.jpg: 1088x1920 137 objects, 1108.5ms\n",
      "Speed: 8.4ms preprocess, 1108.5ms inference, 38.1ms postprocess per image at shape (1, 3, 1920, 1920)\n"
     ]
    },
    {
     "name": "stdout",
     "output_type": "stream",
     "text": [
      "Matrix size: [37, 137]\n",
      "Similarity matrix built in 0.60s                                                                                                    \n"
     ]
    },
    {
     "name": "stderr",
     "output_type": "stream",
     "text": [
      "\n"
     ]
    },
    {
     "name": "stdout",
     "output_type": "stream",
     "text": [
      "\n",
      "Image: weti2_2024_11_12_13_17.jpg\n"
     ]
    },
    {
     "name": "stderr",
     "output_type": "stream",
     "text": [
      "image 1/1 /mnt/c/Users/gtraw/Projekt_badawczy/dataset_11_12/weti2_2024_11_12_13_17.jpg: 1088x1920 244 objects, 525.7ms\n",
      "Speed: 5.8ms preprocess, 525.7ms inference, 893.8ms postprocess per image at shape (1, 3, 1920, 1920)\n"
     ]
    },
    {
     "name": "stdout",
     "output_type": "stream",
     "text": [
      "Matrix size: [37, 244]\n",
      "Similarity matrix built in 2.45s                                                                                                    \n"
     ]
    },
    {
     "name": "stderr",
     "output_type": "stream",
     "text": [
      "\n"
     ]
    },
    {
     "name": "stdout",
     "output_type": "stream",
     "text": [
      "\n",
      "Image: weti2_2024_11_12_13_17_m.jpg\n"
     ]
    },
    {
     "name": "stderr",
     "output_type": "stream",
     "text": [
      "image 1/1 /mnt/c/Users/gtraw/Projekt_badawczy/dataset_11_12/weti2_2024_11_12_13_17_m.jpg: 1088x1920 128 objects, 547.5ms\n",
      "Speed: 8.9ms preprocess, 547.5ms inference, 42.3ms postprocess per image at shape (1, 3, 1920, 1920)\n"
     ]
    },
    {
     "name": "stdout",
     "output_type": "stream",
     "text": [
      "Matrix size: [37, 128]\n",
      "Building similarity matrix:       4473/4736\r"
     ]
    },
    {
     "name": "stderr",
     "output_type": "stream",
     "text": [
      "\n"
     ]
    },
    {
     "name": "stdout",
     "output_type": "stream",
     "text": [
      "Similarity matrix built in 1.28s                                                                                                    \n",
      "\n",
      "Image: weti2_2024_11_12_13_27.jpg\n"
     ]
    },
    {
     "name": "stderr",
     "output_type": "stream",
     "text": [
      "image 1/1 /mnt/c/Users/gtraw/Projekt_badawczy/dataset_11_12/weti2_2024_11_12_13_27.jpg: 1088x1920 246 objects, 381.7ms\n",
      "Speed: 8.6ms preprocess, 381.7ms inference, 620.3ms postprocess per image at shape (1, 3, 1920, 1920)\n"
     ]
    },
    {
     "name": "stdout",
     "output_type": "stream",
     "text": [
      "Matrix size: [38, 246]\n",
      "Building similarity matrix:       9097/9348\r"
     ]
    },
    {
     "name": "stderr",
     "output_type": "stream",
     "text": [
      "\n"
     ]
    },
    {
     "name": "stdout",
     "output_type": "stream",
     "text": [
      "Similarity matrix built in 2.31s                                                                                                    \n",
      "\n",
      "Image: weti2_2024_11_12_13_27_m.jpg\n"
     ]
    },
    {
     "name": "stderr",
     "output_type": "stream",
     "text": [
      "image 1/1 /mnt/c/Users/gtraw/Projekt_badawczy/dataset_11_12/weti2_2024_11_12_13_27_m.jpg: 1088x1920 133 objects, 1613.0ms\n",
      "Speed: 7.6ms preprocess, 1613.0ms inference, 42.7ms postprocess per image at shape (1, 3, 1920, 1920)\n"
     ]
    },
    {
     "name": "stdout",
     "output_type": "stream",
     "text": [
      "Matrix size: [38, 133]\n",
      "Building similarity matrix:       4979/5054\r"
     ]
    },
    {
     "name": "stderr",
     "output_type": "stream",
     "text": [
      "\n"
     ]
    },
    {
     "name": "stdout",
     "output_type": "stream",
     "text": [
      "Similarity matrix built in 1.24s                                                                                                    \n",
      "\n",
      "Image: weti2_2024_11_12_13_37.jpg\n"
     ]
    },
    {
     "name": "stderr",
     "output_type": "stream",
     "text": [
      "image 1/1 /mnt/c/Users/gtraw/Projekt_badawczy/dataset_11_12/weti2_2024_11_12_13_37.jpg: 1088x1920 250 objects, 378.4ms\n",
      "Speed: 8.3ms preprocess, 378.4ms inference, 625.3ms postprocess per image at shape (1, 3, 1920, 1920)\n"
     ]
    },
    {
     "name": "stdout",
     "output_type": "stream",
     "text": [
      "Matrix size: [37, 250]\n",
      "Similarity matrix built in 2.20s                                                                                                    \n",
      "\n",
      "Image: weti2_2024_11_12_13_37_m.jpg\n"
     ]
    },
    {
     "name": "stderr",
     "output_type": "stream",
     "text": [
      "\n",
      "image 1/1 /mnt/c/Users/gtraw/Projekt_badawczy/dataset_11_12/weti2_2024_11_12_13_37_m.jpg: 1088x1920 138 objects, 494.2ms\n",
      "Speed: 11.8ms preprocess, 494.2ms inference, 28.1ms postprocess per image at shape (1, 3, 1920, 1920)\n"
     ]
    },
    {
     "name": "stdout",
     "output_type": "stream",
     "text": [
      "Matrix size: [37, 138]\n",
      "Building similarity matrix:       4991/5106\r"
     ]
    },
    {
     "name": "stderr",
     "output_type": "stream",
     "text": [
      "\n"
     ]
    },
    {
     "name": "stdout",
     "output_type": "stream",
     "text": [
      "Similarity matrix built in 1.25s                                                                                                    \n",
      "\n",
      "Image: weti2_2024_11_12_13_47.jpg\n"
     ]
    },
    {
     "name": "stderr",
     "output_type": "stream",
     "text": [
      "image 1/1 /mnt/c/Users/gtraw/Projekt_badawczy/dataset_11_12/weti2_2024_11_12_13_47.jpg: 1088x1920 261 objects, 398.2ms\n",
      "Speed: 10.2ms preprocess, 398.2ms inference, 690.1ms postprocess per image at shape (1, 3, 1920, 1920)\n"
     ]
    },
    {
     "name": "stdout",
     "output_type": "stream",
     "text": [
      "Matrix size: [37, 261]\n",
      "Similarity matrix built in 2.21s                                                                                                    \n"
     ]
    },
    {
     "name": "stderr",
     "output_type": "stream",
     "text": [
      "\n"
     ]
    },
    {
     "name": "stdout",
     "output_type": "stream",
     "text": [
      "\n",
      "Image: weti2_2024_11_12_13_47_m.jpg\n"
     ]
    },
    {
     "name": "stderr",
     "output_type": "stream",
     "text": [
      "image 1/1 /mnt/c/Users/gtraw/Projekt_badawczy/dataset_11_12/weti2_2024_11_12_13_47_m.jpg: 1088x1920 122 objects, 1488.1ms\n",
      "Speed: 8.6ms preprocess, 1488.1ms inference, 34.9ms postprocess per image at shape (1, 3, 1920, 1920)\n"
     ]
    },
    {
     "name": "stdout",
     "output_type": "stream",
     "text": [
      "Matrix size: [37, 122]\n",
      "Building similarity matrix:       4082/4514\r"
     ]
    },
    {
     "name": "stderr",
     "output_type": "stream",
     "text": [
      "\n"
     ]
    },
    {
     "name": "stdout",
     "output_type": "stream",
     "text": [
      "Similarity matrix built in 1.15s                                                                                                    \n",
      "\n",
      "Image: weti2_2024_11_12_13_57.jpg\n"
     ]
    },
    {
     "name": "stderr",
     "output_type": "stream",
     "text": [
      "image 1/1 /mnt/c/Users/gtraw/Projekt_badawczy/dataset_11_12/weti2_2024_11_12_13_57.jpg: 1088x1920 245 objects, 398.4ms\n",
      "Speed: 8.0ms preprocess, 398.4ms inference, 665.4ms postprocess per image at shape (1, 3, 1920, 1920)\n"
     ]
    },
    {
     "name": "stdout",
     "output_type": "stream",
     "text": [
      "Matrix size: [36, 245]\n",
      "Building similarity matrix:       8252/8820\r"
     ]
    },
    {
     "name": "stderr",
     "output_type": "stream",
     "text": [
      "\n"
     ]
    },
    {
     "name": "stdout",
     "output_type": "stream",
     "text": [
      "Similarity matrix built in 2.38s                                                                                                    \n",
      "\n",
      "Image: weti2_2024_11_12_13_57_m.jpg\n"
     ]
    },
    {
     "name": "stderr",
     "output_type": "stream",
     "text": [
      "image 1/1 /mnt/c/Users/gtraw/Projekt_badawczy/dataset_11_12/weti2_2024_11_12_13_57_m.jpg: 1088x1920 125 objects, 2715.0ms\n",
      "Speed: 8.6ms preprocess, 2715.0ms inference, 32.3ms postprocess per image at shape (1, 3, 1920, 1920)\n"
     ]
    },
    {
     "name": "stdout",
     "output_type": "stream",
     "text": [
      "Matrix size: [36, 125]\n",
      "Similarity matrix built in 1.41s                                                                                                    \n"
     ]
    },
    {
     "name": "stderr",
     "output_type": "stream",
     "text": [
      "\n"
     ]
    },
    {
     "name": "stdout",
     "output_type": "stream",
     "text": [
      "\n",
      "Image: weti2_2024_11_12_14_07.jpg\n"
     ]
    },
    {
     "name": "stderr",
     "output_type": "stream",
     "text": [
      "image 1/1 /mnt/c/Users/gtraw/Projekt_badawczy/dataset_11_12/weti2_2024_11_12_14_07.jpg: 1088x1920 243 objects, 391.5ms\n",
      "Speed: 9.4ms preprocess, 391.5ms inference, 827.5ms postprocess per image at shape (1, 3, 1920, 1920)\n"
     ]
    },
    {
     "name": "stdout",
     "output_type": "stream",
     "text": [
      "Matrix size: [36, 243]\n",
      "Building similarity matrix:       8592/8748\r"
     ]
    },
    {
     "name": "stderr",
     "output_type": "stream",
     "text": [
      "\n"
     ]
    },
    {
     "name": "stdout",
     "output_type": "stream",
     "text": [
      "Similarity matrix built in 2.28s                                                                                                    \n",
      "\n",
      "Image: weti2_2024_11_12_14_07_m.jpg\n"
     ]
    },
    {
     "name": "stderr",
     "output_type": "stream",
     "text": [
      "image 1/1 /mnt/c/Users/gtraw/Projekt_badawczy/dataset_11_12/weti2_2024_11_12_14_07_m.jpg: 1088x1920 121 objects, 500.4ms\n",
      "Speed: 10.9ms preprocess, 500.4ms inference, 25.9ms postprocess per image at shape (1, 3, 1920, 1920)\n"
     ]
    },
    {
     "name": "stdout",
     "output_type": "stream",
     "text": [
      "Matrix size: [36, 121]\n",
      "Building similarity matrix:       4051/4356\r"
     ]
    },
    {
     "name": "stderr",
     "output_type": "stream",
     "text": [
      "\n"
     ]
    },
    {
     "name": "stdout",
     "output_type": "stream",
     "text": [
      "Similarity matrix built in 1.29s                                                                                                    \n",
      "\n",
      "Image: weti2_2024_11_12_14_17.jpg\n"
     ]
    },
    {
     "name": "stderr",
     "output_type": "stream",
     "text": [
      "image 1/1 /mnt/c/Users/gtraw/Projekt_badawczy/dataset_11_12/weti2_2024_11_12_14_17.jpg: 1088x1920 247 objects, 400.9ms\n",
      "Speed: 8.5ms preprocess, 400.9ms inference, 693.7ms postprocess per image at shape (1, 3, 1920, 1920)\n"
     ]
    },
    {
     "name": "stdout",
     "output_type": "stream",
     "text": [
      "Matrix size: [36, 247]\n",
      "Building similarity matrix:       8455/8892\r"
     ]
    },
    {
     "name": "stderr",
     "output_type": "stream",
     "text": [
      "\n"
     ]
    },
    {
     "name": "stdout",
     "output_type": "stream",
     "text": [
      "Similarity matrix built in 2.35s                                                                                                    \n",
      "\n",
      "Image: weti2_2024_11_12_14_17_m.jpg\n"
     ]
    },
    {
     "name": "stderr",
     "output_type": "stream",
     "text": [
      "image 1/1 /mnt/c/Users/gtraw/Projekt_badawczy/dataset_11_12/weti2_2024_11_12_14_17_m.jpg: 1088x1920 121 objects, 1520.3ms\n",
      "Speed: 9.6ms preprocess, 1520.3ms inference, 34.4ms postprocess per image at shape (1, 3, 1920, 1920)\n"
     ]
    },
    {
     "name": "stdout",
     "output_type": "stream",
     "text": [
      "Matrix size: [36, 121]\n",
      "Similarity matrix built in 1.21s                                                                                                    \n"
     ]
    },
    {
     "name": "stderr",
     "output_type": "stream",
     "text": [
      "\n"
     ]
    },
    {
     "name": "stdout",
     "output_type": "stream",
     "text": [
      "\n",
      "Image: weti2_2024_11_12_14_27.jpg\n"
     ]
    },
    {
     "name": "stderr",
     "output_type": "stream",
     "text": [
      "image 1/1 /mnt/c/Users/gtraw/Projekt_badawczy/dataset_11_12/weti2_2024_11_12_14_27.jpg: 1088x1920 238 objects, 417.8ms\n",
      "Speed: 10.8ms preprocess, 417.8ms inference, 860.8ms postprocess per image at shape (1, 3, 1920, 1920)\n"
     ]
    },
    {
     "name": "stdout",
     "output_type": "stream",
     "text": [
      "Matrix size: [36, 238]\n",
      "Similarity matrix built in 2.04s                                                                                                    \n"
     ]
    },
    {
     "name": "stderr",
     "output_type": "stream",
     "text": [
      "\n"
     ]
    },
    {
     "name": "stdout",
     "output_type": "stream",
     "text": [
      "\n",
      "Image: weti2_2024_11_12_14_27_m.jpg\n"
     ]
    },
    {
     "name": "stderr",
     "output_type": "stream",
     "text": [
      "image 1/1 /mnt/c/Users/gtraw/Projekt_badawczy/dataset_11_12/weti2_2024_11_12_14_27_m.jpg: 1088x1920 122 objects, 2744.1ms\n",
      "Speed: 10.2ms preprocess, 2744.1ms inference, 32.6ms postprocess per image at shape (1, 3, 1920, 1920)\n"
     ]
    },
    {
     "name": "stdout",
     "output_type": "stream",
     "text": [
      "Matrix size: [36, 122]\n",
      "Similarity matrix built in 1.96s                                                                                                    \n"
     ]
    },
    {
     "name": "stderr",
     "output_type": "stream",
     "text": [
      "\n"
     ]
    },
    {
     "name": "stdout",
     "output_type": "stream",
     "text": [
      "\n",
      "Image: weti2_2024_11_12_14_37.jpg\n"
     ]
    },
    {
     "name": "stderr",
     "output_type": "stream",
     "text": [
      "image 1/1 /mnt/c/Users/gtraw/Projekt_badawczy/dataset_11_12/weti2_2024_11_12_14_37.jpg: 1088x1920 240 objects, 392.7ms\n",
      "Speed: 9.7ms preprocess, 392.7ms inference, 835.5ms postprocess per image at shape (1, 3, 1920, 1920)\n"
     ]
    },
    {
     "name": "stdout",
     "output_type": "stream",
     "text": [
      "Matrix size: [34, 240]\n",
      "Building similarity matrix:       7747/8160\r"
     ]
    },
    {
     "name": "stderr",
     "output_type": "stream",
     "text": [
      "\n"
     ]
    },
    {
     "name": "stdout",
     "output_type": "stream",
     "text": [
      "Similarity matrix built in 2.15s                                                                                                    \n",
      "\n",
      "Image: weti2_2024_11_12_14_37_m.jpg\n"
     ]
    },
    {
     "name": "stderr",
     "output_type": "stream",
     "text": [
      "image 1/1 /mnt/c/Users/gtraw/Projekt_badawczy/dataset_11_12/weti2_2024_11_12_14_37_m.jpg: 1088x1920 122 objects, 1737.0ms\n",
      "Speed: 13.1ms preprocess, 1737.0ms inference, 31.9ms postprocess per image at shape (1, 3, 1920, 1920)\n"
     ]
    },
    {
     "name": "stdout",
     "output_type": "stream",
     "text": [
      "Matrix size: [34, 122]\n",
      "Similarity matrix built in 1.20s                                                                                                    \n"
     ]
    },
    {
     "name": "stderr",
     "output_type": "stream",
     "text": [
      "\n"
     ]
    },
    {
     "name": "stdout",
     "output_type": "stream",
     "text": [
      "\n",
      "Image: weti2_2024_11_12_14_47.jpg\n"
     ]
    },
    {
     "name": "stderr",
     "output_type": "stream",
     "text": [
      "image 1/1 /mnt/c/Users/gtraw/Projekt_badawczy/dataset_11_12/weti2_2024_11_12_14_47.jpg: 1088x1920 244 objects, 397.1ms\n",
      "Speed: 8.4ms preprocess, 397.1ms inference, 776.8ms postprocess per image at shape (1, 3, 1920, 1920)\n"
     ]
    },
    {
     "name": "stdout",
     "output_type": "stream",
     "text": [
      "Matrix size: [33, 244]\n",
      "Building similarity matrix:       7943/8052\r"
     ]
    },
    {
     "name": "stderr",
     "output_type": "stream",
     "text": [
      "\n"
     ]
    },
    {
     "name": "stdout",
     "output_type": "stream",
     "text": [
      "Similarity matrix built in 2.27s                                                                                                    \n",
      "\n",
      "Image: weti2_2024_11_12_14_47_m.jpg\n"
     ]
    },
    {
     "name": "stderr",
     "output_type": "stream",
     "text": [
      "image 1/1 /mnt/c/Users/gtraw/Projekt_badawczy/dataset_11_12/weti2_2024_11_12_14_47_m.jpg: 1088x1920 116 objects, 389.8ms\n",
      "Speed: 7.6ms preprocess, 389.8ms inference, 38.0ms postprocess per image at shape (1, 3, 1920, 1920)\n"
     ]
    },
    {
     "name": "stdout",
     "output_type": "stream",
     "text": [
      "Matrix size: [33, 116]\n",
      "Building similarity matrix:       3521/3828\r"
     ]
    },
    {
     "name": "stderr",
     "output_type": "stream",
     "text": [
      "\n"
     ]
    },
    {
     "name": "stdout",
     "output_type": "stream",
     "text": [
      "Similarity matrix built in 1.09s                                                                                                    \n",
      "\n",
      "Image: weti2_2024_11_12_14_57.jpg\n"
     ]
    },
    {
     "name": "stderr",
     "output_type": "stream",
     "text": [
      "image 1/1 /mnt/c/Users/gtraw/Projekt_badawczy/dataset_11_12/weti2_2024_11_12_14_57.jpg: 1088x1920 231 objects, 397.6ms\n",
      "Speed: 12.7ms preprocess, 397.6ms inference, 852.8ms postprocess per image at shape (1, 3, 1920, 1920)\n"
     ]
    },
    {
     "name": "stdout",
     "output_type": "stream",
     "text": [
      "Matrix size: [30, 231]\n",
      "Building similarity matrix:       6474/6930\r"
     ]
    },
    {
     "name": "stderr",
     "output_type": "stream",
     "text": [
      "\n"
     ]
    },
    {
     "name": "stdout",
     "output_type": "stream",
     "text": [
      "Similarity matrix built in 1.74s                                                                                                    \n",
      "\n",
      "Image: weti2_2024_11_12_14_57_m.jpg\n"
     ]
    },
    {
     "name": "stderr",
     "output_type": "stream",
     "text": [
      "image 1/1 /mnt/c/Users/gtraw/Projekt_badawczy/dataset_11_12/weti2_2024_11_12_14_57_m.jpg: 1088x1920 101 objects, 2738.5ms\n",
      "Speed: 10.0ms preprocess, 2738.5ms inference, 39.6ms postprocess per image at shape (1, 3, 1920, 1920)\n"
     ]
    },
    {
     "name": "stdout",
     "output_type": "stream",
     "text": [
      "Matrix size: [30, 101]\n",
      "Building similarity matrix:       2981/3030\r"
     ]
    },
    {
     "name": "stderr",
     "output_type": "stream",
     "text": [
      "\n"
     ]
    },
    {
     "name": "stdout",
     "output_type": "stream",
     "text": [
      "Similarity matrix built in 0.83s                                                                                                    \n",
      "\n",
      "Image: weti2_2024_11_12_15_07.jpg\n"
     ]
    },
    {
     "name": "stderr",
     "output_type": "stream",
     "text": [
      "image 1/1 /mnt/c/Users/gtraw/Projekt_badawczy/dataset_11_12/weti2_2024_11_12_15_07.jpg: 1088x1920 220 objects, 377.7ms\n",
      "Speed: 8.2ms preprocess, 377.7ms inference, 832.9ms postprocess per image at shape (1, 3, 1920, 1920)\n"
     ]
    },
    {
     "name": "stdout",
     "output_type": "stream",
     "text": [
      "Matrix size: [27, 220]\n",
      "Similarity matrix built in 1.42s                                                                                                    \n"
     ]
    },
    {
     "name": "stderr",
     "output_type": "stream",
     "text": [
      "\n"
     ]
    },
    {
     "name": "stdout",
     "output_type": "stream",
     "text": [
      "\n",
      "Image: weti2_2024_11_12_15_07_m.jpg\n"
     ]
    },
    {
     "name": "stderr",
     "output_type": "stream",
     "text": [
      "image 1/1 /mnt/c/Users/gtraw/Projekt_badawczy/dataset_11_12/weti2_2024_11_12_15_07_m.jpg: 1088x1920 103 objects, 494.5ms\n",
      "Speed: 10.6ms preprocess, 494.5ms inference, 29.2ms postprocess per image at shape (1, 3, 1920, 1920)\n"
     ]
    },
    {
     "name": "stdout",
     "output_type": "stream",
     "text": [
      "Matrix size: [27, 103]\n",
      "Building similarity matrix:       2763/2781\r"
     ]
    },
    {
     "name": "stderr",
     "output_type": "stream",
     "text": [
      "\n"
     ]
    },
    {
     "name": "stdout",
     "output_type": "stream",
     "text": [
      "Similarity matrix built in 0.82s                                                                                                    \n",
      "\n",
      "Image: weti2_2024_11_12_15_17.jpg\n"
     ]
    },
    {
     "name": "stderr",
     "output_type": "stream",
     "text": [
      "image 1/1 /mnt/c/Users/gtraw/Projekt_badawczy/dataset_11_12/weti2_2024_11_12_15_17.jpg: 1088x1920 209 objects, 587.8ms\n",
      "Speed: 11.0ms preprocess, 587.8ms inference, 636.4ms postprocess per image at shape (1, 3, 1920, 1920)\n"
     ]
    },
    {
     "name": "stdout",
     "output_type": "stream",
     "text": [
      "Matrix size: [24, 209]\n",
      "Similarity matrix built in 1.22s                                                                                                    \n"
     ]
    },
    {
     "name": "stderr",
     "output_type": "stream",
     "text": [
      "\n"
     ]
    },
    {
     "name": "stdout",
     "output_type": "stream",
     "text": [
      "\n",
      "Image: weti2_2024_11_12_15_17_m.jpg\n"
     ]
    },
    {
     "name": "stderr",
     "output_type": "stream",
     "text": [
      "image 1/1 /mnt/c/Users/gtraw/Projekt_badawczy/dataset_11_12/weti2_2024_11_12_15_17_m.jpg: 1088x1920 85 objects, 2590.3ms\n",
      "Speed: 8.4ms preprocess, 2590.3ms inference, 123.5ms postprocess per image at shape (1, 3, 1920, 1920)\n"
     ]
    },
    {
     "name": "stdout",
     "output_type": "stream",
     "text": [
      "Matrix size: [24, 85]\n",
      "Similarity matrix built in 0.78s                                                                                                    \n",
      "\n",
      "Image: weti2_2024_11_12_15_27.jpg\n"
     ]
    },
    {
     "name": "stderr",
     "output_type": "stream",
     "text": [
      "\n",
      "image 1/1 /mnt/c/Users/gtraw/Projekt_badawczy/dataset_11_12/weti2_2024_11_12_15_27.jpg: 1088x1920 192 objects, 388.1ms\n",
      "Speed: 12.4ms preprocess, 388.1ms inference, 529.0ms postprocess per image at shape (1, 3, 1920, 1920)\n"
     ]
    },
    {
     "name": "stdout",
     "output_type": "stream",
     "text": [
      "Matrix size: [22, 192]\n",
      "Similarity matrix built in 1.19s                                                                                                    \n",
      "\n",
      "Image: weti2_2024_11_12_15_27_m.jpg\n"
     ]
    },
    {
     "name": "stderr",
     "output_type": "stream",
     "text": [
      "\n",
      "image 1/1 /mnt/c/Users/gtraw/Projekt_badawczy/dataset_11_12/weti2_2024_11_12_15_27_m.jpg: 1088x1920 83 objects, 10329.3ms\n",
      "Speed: 7.4ms preprocess, 10329.3ms inference, 120.8ms postprocess per image at shape (1, 3, 1920, 1920)\n"
     ]
    },
    {
     "name": "stdout",
     "output_type": "stream",
     "text": [
      "Matrix size: [22, 83]\n",
      "Building similarity matrix:       1396/1826\r"
     ]
    },
    {
     "name": "stderr",
     "output_type": "stream",
     "text": [
      "\n"
     ]
    },
    {
     "name": "stdout",
     "output_type": "stream",
     "text": [
      "Similarity matrix built in 0.54s                                                                                                    \n",
      "\n",
      "Image: weti2_2024_11_12_15_37.jpg\n"
     ]
    },
    {
     "name": "stderr",
     "output_type": "stream",
     "text": [
      "image 1/1 /mnt/c/Users/gtraw/Projekt_badawczy/dataset_11_12/weti2_2024_11_12_15_37.jpg: 1088x1920 178 objects, 370.7ms\n",
      "Speed: 7.5ms preprocess, 370.7ms inference, 388.9ms postprocess per image at shape (1, 3, 1920, 1920)\n"
     ]
    },
    {
     "name": "stdout",
     "output_type": "stream",
     "text": [
      "Matrix size: [20, 178]\n",
      "Building similarity matrix:       3196/3560\r"
     ]
    },
    {
     "name": "stderr",
     "output_type": "stream",
     "text": [
      "\n"
     ]
    },
    {
     "name": "stdout",
     "output_type": "stream",
     "text": [
      "Similarity matrix built in 0.96s                                                                                                    \n",
      "\n",
      "Image: weti2_2024_11_12_15_37_m.jpg\n"
     ]
    },
    {
     "name": "stderr",
     "output_type": "stream",
     "text": [
      "image 1/1 /mnt/c/Users/gtraw/Projekt_badawczy/dataset_11_12/weti2_2024_11_12_15_37_m.jpg: 1088x1920 72 objects, 1815.5ms\n",
      "Speed: 8.6ms preprocess, 1815.5ms inference, 18.4ms postprocess per image at shape (1, 3, 1920, 1920)\n"
     ]
    },
    {
     "name": "stdout",
     "output_type": "stream",
     "text": [
      "Matrix size: [20, 72]\n",
      "Building similarity matrix:       1363/1440\r"
     ]
    },
    {
     "name": "stderr",
     "output_type": "stream",
     "text": [
      "\n"
     ]
    },
    {
     "name": "stdout",
     "output_type": "stream",
     "text": [
      "Similarity matrix built in 0.45s                                                                                                    \n",
      "\n",
      "Image: weti2_2024_11_12_15_57.jpg\n"
     ]
    },
    {
     "name": "stderr",
     "output_type": "stream",
     "text": [
      "image 1/1 /mnt/c/Users/gtraw/Projekt_badawczy/dataset_11_12/weti2_2024_11_12_15_57.jpg: 1088x1920 139 objects, 378.3ms\n",
      "Speed: 9.9ms preprocess, 378.3ms inference, 32.9ms postprocess per image at shape (1, 3, 1920, 1920)\n"
     ]
    },
    {
     "name": "stdout",
     "output_type": "stream",
     "text": [
      "Matrix size: [19, 139]\n",
      "Similarity matrix built in 0.75s                                                                                                    \n",
      "\n",
      "Image: weti2_2024_11_12_15_57_m.jpg\n"
     ]
    },
    {
     "name": "stderr",
     "output_type": "stream",
     "text": [
      "\n",
      "image 1/1 /mnt/c/Users/gtraw/Projekt_badawczy/dataset_11_12/weti2_2024_11_12_15_57_m.jpg: 1088x1920 47 objects, 370.5ms\n",
      "Speed: 8.3ms preprocess, 370.5ms inference, 17.4ms postprocess per image at shape (1, 3, 1920, 1920)\n"
     ]
    },
    {
     "name": "stdout",
     "output_type": "stream",
     "text": [
      "Matrix size: [19, 47]\n",
      "Building similarity matrix:        779/893\r"
     ]
    },
    {
     "name": "stderr",
     "output_type": "stream",
     "text": [
      "\n"
     ]
    },
    {
     "name": "stdout",
     "output_type": "stream",
     "text": [
      "Similarity matrix built in 0.49s                                                                                                    \n",
      "\n",
      "Image: weti2_2024_11_12_17_34.jpg\n"
     ]
    },
    {
     "name": "stderr",
     "output_type": "stream",
     "text": [
      "image 1/1 /mnt/c/Users/gtraw/Projekt_badawczy/dataset_11_12/weti2_2024_11_12_17_34.jpg: 1088x1920 20 objects, 377.0ms\n",
      "Speed: 9.9ms preprocess, 377.0ms inference, 14.8ms postprocess per image at shape (1, 3, 1920, 1920)\n",
      "\n"
     ]
    },
    {
     "name": "stdout",
     "output_type": "stream",
     "text": [
      "Matrix size: [3, 20]\n",
      "Similarity matrix built in 0.01s                                                                                                    \n",
      "\n",
      "Image: weti2_2024_11_12_17_34_m.jpg\n"
     ]
    },
    {
     "name": "stderr",
     "output_type": "stream",
     "text": [
      "image 1/1 /mnt/c/Users/gtraw/Projekt_badawczy/dataset_11_12/weti2_2024_11_12_17_34_m.jpg: 1088x1920 6 objects, 367.7ms\n",
      "Speed: 9.0ms preprocess, 367.7ms inference, 15.5ms postprocess per image at shape (1, 3, 1920, 1920)\n",
      "\n"
     ]
    },
    {
     "name": "stdout",
     "output_type": "stream",
     "text": [
      "Matrix size: [3, 6]\n",
      "Similarity matrix built in 0.02s                                                                                                    \n",
      "\n",
      "Image: weti2_2024_11_12_17_44.jpg\n"
     ]
    },
    {
     "name": "stderr",
     "output_type": "stream",
     "text": [
      "image 1/1 /mnt/c/Users/gtraw/Projekt_badawczy/dataset_11_12/weti2_2024_11_12_17_44.jpg: 1088x1920 19 objects, 382.6ms\n",
      "Speed: 7.7ms preprocess, 382.6ms inference, 13.5ms postprocess per image at shape (1, 3, 1920, 1920)\n",
      "\n"
     ]
    },
    {
     "name": "stdout",
     "output_type": "stream",
     "text": [
      "Matrix size: [3, 19]\n",
      "Similarity matrix built in 0.01s                                                                                                    \n",
      "\n",
      "Image: weti2_2024_11_12_17_44_m.jpg\n"
     ]
    },
    {
     "name": "stderr",
     "output_type": "stream",
     "text": [
      "image 1/1 /mnt/c/Users/gtraw/Projekt_badawczy/dataset_11_12/weti2_2024_11_12_17_44_m.jpg: 1088x1920 7 objects, 361.8ms\n",
      "Speed: 8.6ms preprocess, 361.8ms inference, 13.0ms postprocess per image at shape (1, 3, 1920, 1920)\n",
      "\n"
     ]
    },
    {
     "name": "stdout",
     "output_type": "stream",
     "text": [
      "Matrix size: [3, 7]\n",
      "Similarity matrix built in 0.03s                                                                                                    \n",
      "\n",
      "Image: weti2_2024_11_12_17_54.jpg\n"
     ]
    },
    {
     "name": "stderr",
     "output_type": "stream",
     "text": [
      "image 1/1 /mnt/c/Users/gtraw/Projekt_badawczy/dataset_11_12/weti2_2024_11_12_17_54.jpg: 1088x1920 17 objects, 372.1ms\n",
      "Speed: 8.9ms preprocess, 372.1ms inference, 14.3ms postprocess per image at shape (1, 3, 1920, 1920)\n",
      "\n"
     ]
    },
    {
     "name": "stdout",
     "output_type": "stream",
     "text": [
      "Matrix size: [2, 17]\n",
      "Similarity matrix built in 0.01s                                                                                                    \n",
      "\n",
      "Image: weti2_2024_11_12_17_54_m.jpg\n"
     ]
    },
    {
     "name": "stderr",
     "output_type": "stream",
     "text": [
      "image 1/1 /mnt/c/Users/gtraw/Projekt_badawczy/dataset_11_12/weti2_2024_11_12_17_54_m.jpg: 1088x1920 8 objects, 371.7ms\n",
      "Speed: 8.4ms preprocess, 371.7ms inference, 18.1ms postprocess per image at shape (1, 3, 1920, 1920)\n",
      "\n"
     ]
    },
    {
     "name": "stdout",
     "output_type": "stream",
     "text": [
      "Matrix size: [2, 8]\n",
      "Similarity matrix built in 0.02s                                                                                                    \n",
      "\n",
      "Image: weti2_2024_11_12_18_04.jpg\n"
     ]
    },
    {
     "name": "stderr",
     "output_type": "stream",
     "text": [
      "image 1/1 /mnt/c/Users/gtraw/Projekt_badawczy/dataset_11_12/weti2_2024_11_12_18_04.jpg: 1088x1920 21 objects, 514.7ms\n",
      "Speed: 9.8ms preprocess, 514.7ms inference, 16.4ms postprocess per image at shape (1, 3, 1920, 1920)\n",
      "\n"
     ]
    },
    {
     "name": "stdout",
     "output_type": "stream",
     "text": [
      "Matrix size: [2, 21]\n",
      "Similarity matrix built in 0.01s                                                                                                    \n",
      "\n",
      "Image: weti2_2024_11_12_18_04_m.jpg\n"
     ]
    },
    {
     "name": "stderr",
     "output_type": "stream",
     "text": [
      "image 1/1 /mnt/c/Users/gtraw/Projekt_badawczy/dataset_11_12/weti2_2024_11_12_18_04_m.jpg: 1088x1920 6 objects, 385.3ms\n",
      "Speed: 9.0ms preprocess, 385.3ms inference, 11.9ms postprocess per image at shape (1, 3, 1920, 1920)\n",
      "\n"
     ]
    },
    {
     "name": "stdout",
     "output_type": "stream",
     "text": [
      "Matrix size: [2, 6]\n",
      "Similarity matrix built in 0.02s                                                                                                    \n",
      "\n",
      "Image: weti2_2024_11_12_18_14.jpg\n"
     ]
    },
    {
     "name": "stderr",
     "output_type": "stream",
     "text": [
      "image 1/1 /mnt/c/Users/gtraw/Projekt_badawczy/dataset_11_12/weti2_2024_11_12_18_14.jpg: 1088x1920 18 objects, 368.7ms\n",
      "Speed: 8.5ms preprocess, 368.7ms inference, 14.9ms postprocess per image at shape (1, 3, 1920, 1920)\n",
      "\n"
     ]
    },
    {
     "name": "stdout",
     "output_type": "stream",
     "text": [
      "Matrix size: [0, 18]\n",
      "Similarity matrix built in 0.00s                                                                                                    \n",
      "\n",
      "Image: weti2_2024_11_12_18_14_m.jpg\n"
     ]
    },
    {
     "name": "stderr",
     "output_type": "stream",
     "text": [
      "image 1/1 /mnt/c/Users/gtraw/Projekt_badawczy/dataset_11_12/weti2_2024_11_12_18_14_m.jpg: 1088x1920 7 objects, 367.5ms\n",
      "Speed: 7.7ms preprocess, 367.5ms inference, 12.5ms postprocess per image at shape (1, 3, 1920, 1920)\n",
      "\n"
     ]
    },
    {
     "name": "stdout",
     "output_type": "stream",
     "text": [
      "Matrix size: [0, 7]\n",
      "Similarity matrix built in 0.00s                                                                                                    \n",
      "\n",
      "Image: weti2_2024_11_12_18_24.jpg\n"
     ]
    },
    {
     "name": "stderr",
     "output_type": "stream",
     "text": [
      "image 1/1 /mnt/c/Users/gtraw/Projekt_badawczy/dataset_11_12/weti2_2024_11_12_18_24.jpg: 1088x1920 16 objects, 378.3ms\n",
      "Speed: 9.3ms preprocess, 378.3ms inference, 14.0ms postprocess per image at shape (1, 3, 1920, 1920)\n",
      "\n"
     ]
    },
    {
     "name": "stdout",
     "output_type": "stream",
     "text": [
      "Matrix size: [0, 16]\n",
      "Similarity matrix built in 0.00s                                                                                                    \n",
      "\n",
      "Image: weti2_2024_11_12_18_24_m.jpg\n"
     ]
    },
    {
     "name": "stderr",
     "output_type": "stream",
     "text": [
      "image 1/1 /mnt/c/Users/gtraw/Projekt_badawczy/dataset_11_12/weti2_2024_11_12_18_24_m.jpg: 1088x1920 7 objects, 361.2ms\n",
      "Speed: 9.3ms preprocess, 361.2ms inference, 10.1ms postprocess per image at shape (1, 3, 1920, 1920)\n",
      "\n"
     ]
    },
    {
     "name": "stdout",
     "output_type": "stream",
     "text": [
      "Matrix size: [0, 7]\n",
      "Similarity matrix built in 0.00s                                                                                                    \n",
      "\n",
      "Image: weti2_2024_11_12_18_34.jpg\n"
     ]
    },
    {
     "name": "stderr",
     "output_type": "stream",
     "text": [
      "image 1/1 /mnt/c/Users/gtraw/Projekt_badawczy/dataset_11_12/weti2_2024_11_12_18_34.jpg: 1088x1920 12 objects, 364.3ms\n",
      "Speed: 10.2ms preprocess, 364.3ms inference, 21.1ms postprocess per image at shape (1, 3, 1920, 1920)\n",
      "\n"
     ]
    },
    {
     "name": "stdout",
     "output_type": "stream",
     "text": [
      "Matrix size: [0, 12]\n",
      "Similarity matrix built in 0.00s                                                                                                    \n",
      "\n",
      "Image: weti2_2024_11_12_18_34_m.jpg\n"
     ]
    },
    {
     "name": "stderr",
     "output_type": "stream",
     "text": [
      "image 1/1 /mnt/c/Users/gtraw/Projekt_badawczy/dataset_11_12/weti2_2024_11_12_18_34_m.jpg: 1088x1920 7 objects, 476.0ms\n",
      "Speed: 8.4ms preprocess, 476.0ms inference, 17.9ms postprocess per image at shape (1, 3, 1920, 1920)\n"
     ]
    },
    {
     "name": "stdout",
     "output_type": "stream",
     "text": [
      "Matrix size: [0, 7]\n",
      "Similarity matrix built in 0.00s                                                                                                    \n"
     ]
    },
    {
     "name": "stderr",
     "output_type": "stream",
     "text": [
      "/mnt/c/Users/gtraw/Projekt_badawczy/FastSAM/ultralytics/nn/tasks.py:518: FutureWarning: You are using `torch.load` with `weights_only=False` (the current default value), which uses the default pickle module implicitly. It is possible to construct malicious pickle data which will execute arbitrary code during unpickling (See https://github.com/pytorch/pytorch/blob/main/SECURITY.md#untrusted-models for more details). In a future release, the default value for `weights_only` will be flipped to `True`. This limits the functions that could be executed during unpickling. Arbitrary objects will no longer be allowed to be loaded via this mode unless they are explicitly allowlisted by the user via `torch.serialization.add_safe_globals`. We recommend you start setting `weights_only=True` for any use case where you don't have full control of the loaded file. Please open an issue on GitHub for any issues related to this experimental feature.\n",
      "  return torch.load(file, map_location='cpu'), file  # load\n"
     ]
    },
    {
     "name": "stdout",
     "output_type": "stream",
     "text": [
      "output_dir: /mnt/c/Users/gtraw/Projekt_badawczy/dataset_results_11_12/dataset_results_fastsam_s\n",
      "\n",
      "Image: weti1_2024_11_12_09_28.jpg\n"
     ]
    },
    {
     "name": "stderr",
     "output_type": "stream",
     "text": [
      "\n",
      "image 1/1 /mnt/c/Users/gtraw/Projekt_badawczy/dataset_11_12/weti1_2024_11_12_09_28.jpg: 1088x1920 300 objects, 1049.2ms\n",
      "Speed: 7.9ms preprocess, 1049.2ms inference, 5763.6ms postprocess per image at shape (1, 3, 1920, 1920)\n"
     ]
    },
    {
     "name": "stdout",
     "output_type": "stream",
     "text": [
      "Matrix size: [9, 300]\n",
      "Building similarity matrix:       2061/2700\r"
     ]
    },
    {
     "name": "stderr",
     "output_type": "stream",
     "text": [
      "\n"
     ]
    },
    {
     "name": "stdout",
     "output_type": "stream",
     "text": [
      "Similarity matrix built in 0.76s                                                                                                    \n",
      "\n",
      "Image: weti1_2024_11_12_09_28_m.jpg\n"
     ]
    },
    {
     "name": "stderr",
     "output_type": "stream",
     "text": [
      "image 1/1 /mnt/c/Users/gtraw/Projekt_badawczy/dataset_11_12/weti1_2024_11_12_09_28_m.jpg: 1088x1920 30 objects, 52.6ms\n",
      "Speed: 11.8ms preprocess, 52.6ms inference, 14.2ms postprocess per image at shape (1, 3, 1920, 1920)\n",
      "\n"
     ]
    },
    {
     "name": "stdout",
     "output_type": "stream",
     "text": [
      "Matrix size: [9, 30]\n",
      "Similarity matrix built in 0.08s                                                                                                    \n",
      "\n",
      "Image: weti1_2024_11_12_09_38.jpg\n"
     ]
    },
    {
     "name": "stderr",
     "output_type": "stream",
     "text": [
      "image 1/1 /mnt/c/Users/gtraw/Projekt_badawczy/dataset_11_12/weti1_2024_11_12_09_38.jpg: 1088x1920 300 objects, 57.6ms\n",
      "Speed: 10.5ms preprocess, 57.6ms inference, 733.4ms postprocess per image at shape (1, 3, 1920, 1920)\n"
     ]
    },
    {
     "name": "stdout",
     "output_type": "stream",
     "text": [
      "Matrix size: [10, 300]\n",
      "Similarity matrix built in 0.77s                                                                                                    \n",
      "\n",
      "Image: weti1_2024_11_12_09_38_m.jpg\n"
     ]
    },
    {
     "name": "stderr",
     "output_type": "stream",
     "text": [
      "\n",
      "image 1/1 /mnt/c/Users/gtraw/Projekt_badawczy/dataset_11_12/weti1_2024_11_12_09_38_m.jpg: 1088x1920 37 objects, 61.8ms\n",
      "Speed: 9.6ms preprocess, 61.8ms inference, 15.2ms postprocess per image at shape (1, 3, 1920, 1920)\n",
      "\n"
     ]
    },
    {
     "name": "stdout",
     "output_type": "stream",
     "text": [
      "Matrix size: [10, 37]\n",
      "Similarity matrix built in 0.09s                                                                                                    \n",
      "\n",
      "Image: weti1_2024_11_12_09_48.jpg\n"
     ]
    },
    {
     "name": "stderr",
     "output_type": "stream",
     "text": [
      "image 1/1 /mnt/c/Users/gtraw/Projekt_badawczy/dataset_11_12/weti1_2024_11_12_09_48.jpg: 1088x1920 300 objects, 63.2ms\n",
      "Speed: 13.0ms preprocess, 63.2ms inference, 730.7ms postprocess per image at shape (1, 3, 1920, 1920)\n"
     ]
    },
    {
     "name": "stdout",
     "output_type": "stream",
     "text": [
      "Matrix size: [10, 300]\n",
      "Building similarity matrix:       2297/3000\r"
     ]
    },
    {
     "name": "stderr",
     "output_type": "stream",
     "text": [
      "\n"
     ]
    },
    {
     "name": "stdout",
     "output_type": "stream",
     "text": [
      "Similarity matrix built in 0.75s                                                                                                    \n",
      "\n",
      "Image: weti1_2024_11_12_09_48_m.jpg\n"
     ]
    },
    {
     "name": "stderr",
     "output_type": "stream",
     "text": [
      "image 1/1 /mnt/c/Users/gtraw/Projekt_badawczy/dataset_11_12/weti1_2024_11_12_09_48_m.jpg: 1088x1920 36 objects, 56.5ms\n",
      "Speed: 15.4ms preprocess, 56.5ms inference, 19.9ms postprocess per image at shape (1, 3, 1920, 1920)\n",
      "\n"
     ]
    },
    {
     "name": "stdout",
     "output_type": "stream",
     "text": [
      "Matrix size: [10, 36]\n",
      "Similarity matrix built in 0.11s                                                                                                    \n",
      "\n",
      "Image: weti1_2024_11_12_09_58.jpg\n"
     ]
    },
    {
     "name": "stderr",
     "output_type": "stream",
     "text": [
      "image 1/1 /mnt/c/Users/gtraw/Projekt_badawczy/dataset_11_12/weti1_2024_11_12_09_58.jpg: 1088x1920 300 objects, 69.5ms\n",
      "Speed: 12.3ms preprocess, 69.5ms inference, 741.2ms postprocess per image at shape (1, 3, 1920, 1920)\n"
     ]
    },
    {
     "name": "stdout",
     "output_type": "stream",
     "text": [
      "Matrix size: [10, 300]\n",
      "Building similarity matrix:       1815/3000\r"
     ]
    },
    {
     "name": "stderr",
     "output_type": "stream",
     "text": [
      "\n"
     ]
    },
    {
     "name": "stdout",
     "output_type": "stream",
     "text": [
      "Similarity matrix built in 0.54s                                                                                                    \n",
      "\n",
      "Image: weti1_2024_11_12_09_58_m.jpg\n"
     ]
    },
    {
     "name": "stderr",
     "output_type": "stream",
     "text": [
      "image 1/1 /mnt/c/Users/gtraw/Projekt_badawczy/dataset_11_12/weti1_2024_11_12_09_58_m.jpg: 1088x1920 35 objects, 58.4ms\n",
      "Speed: 14.8ms preprocess, 58.4ms inference, 18.4ms postprocess per image at shape (1, 3, 1920, 1920)\n",
      "\n"
     ]
    },
    {
     "name": "stdout",
     "output_type": "stream",
     "text": [
      "Matrix size: [10, 35]\n",
      "Similarity matrix built in 0.11s                                                                                                    \n",
      "\n",
      "Image: weti1_2024_11_12_10_08.jpg\n"
     ]
    },
    {
     "name": "stderr",
     "output_type": "stream",
     "text": [
      "image 1/1 /mnt/c/Users/gtraw/Projekt_badawczy/dataset_11_12/weti1_2024_11_12_10_08.jpg: 1088x1920 300 objects, 55.0ms\n",
      "Speed: 11.4ms preprocess, 55.0ms inference, 728.3ms postprocess per image at shape (1, 3, 1920, 1920)\n"
     ]
    },
    {
     "name": "stdout",
     "output_type": "stream",
     "text": [
      "Matrix size: [10, 300]\n",
      "Building similarity matrix:       2294/3000\r"
     ]
    },
    {
     "name": "stderr",
     "output_type": "stream",
     "text": [
      "\n"
     ]
    },
    {
     "name": "stdout",
     "output_type": "stream",
     "text": [
      "Similarity matrix built in 0.76s                                                                                                    \n",
      "\n",
      "Image: weti1_2024_11_12_10_08_m.jpg\n"
     ]
    },
    {
     "name": "stderr",
     "output_type": "stream",
     "text": [
      "image 1/1 /mnt/c/Users/gtraw/Projekt_badawczy/dataset_11_12/weti1_2024_11_12_10_08_m.jpg: 1088x1920 41 objects, 49.0ms\n",
      "Speed: 8.8ms preprocess, 49.0ms inference, 21.0ms postprocess per image at shape (1, 3, 1920, 1920)\n",
      "\n"
     ]
    },
    {
     "name": "stdout",
     "output_type": "stream",
     "text": [
      "Matrix size: [10, 41]\n",
      "Similarity matrix built in 0.07s                                                                                                    \n",
      "\n",
      "Image: weti1_2024_11_12_10_18.jpg\n"
     ]
    },
    {
     "name": "stderr",
     "output_type": "stream",
     "text": [
      "image 1/1 /mnt/c/Users/gtraw/Projekt_badawczy/dataset_11_12/weti1_2024_11_12_10_18.jpg: 1088x1920 300 objects, 47.3ms\n",
      "Speed: 7.9ms preprocess, 47.3ms inference, 722.8ms postprocess per image at shape (1, 3, 1920, 1920)\n"
     ]
    },
    {
     "name": "stdout",
     "output_type": "stream",
     "text": [
      "Matrix size: [10, 300]\n",
      "Building similarity matrix:       1968/3000\r"
     ]
    },
    {
     "name": "stderr",
     "output_type": "stream",
     "text": [
      "\n"
     ]
    },
    {
     "name": "stdout",
     "output_type": "stream",
     "text": [
      "Similarity matrix built in 0.33s                                                                                                    \n",
      "\n",
      "Image: weti1_2024_11_12_10_18_m.jpg\n"
     ]
    },
    {
     "name": "stderr",
     "output_type": "stream",
     "text": [
      "image 1/1 /mnt/c/Users/gtraw/Projekt_badawczy/dataset_11_12/weti1_2024_11_12_10_18_m.jpg: 1088x1920 36 objects, 38.1ms\n",
      "Speed: 6.6ms preprocess, 38.1ms inference, 10.5ms postprocess per image at shape (1, 3, 1920, 1920)\n",
      "\n"
     ]
    },
    {
     "name": "stdout",
     "output_type": "stream",
     "text": [
      "Matrix size: [10, 36]\n",
      "Similarity matrix built in 0.06s                                                                                                    \n",
      "\n",
      "Image: weti1_2024_11_12_10_29.jpg\n"
     ]
    },
    {
     "name": "stderr",
     "output_type": "stream",
     "text": [
      "image 1/1 /mnt/c/Users/gtraw/Projekt_badawczy/dataset_11_12/weti1_2024_11_12_10_29.jpg: 1088x1920 300 objects, 45.9ms\n",
      "Speed: 7.1ms preprocess, 45.9ms inference, 714.7ms postprocess per image at shape (1, 3, 1920, 1920)\n"
     ]
    },
    {
     "name": "stdout",
     "output_type": "stream",
     "text": [
      "Matrix size: [10, 300]\n",
      "Building similarity matrix:       1922/3000\r"
     ]
    },
    {
     "name": "stderr",
     "output_type": "stream",
     "text": [
      "\n"
     ]
    },
    {
     "name": "stdout",
     "output_type": "stream",
     "text": [
      "Similarity matrix built in 0.29s                                                                                                    \n",
      "\n",
      "Image: weti1_2024_11_12_10_29_m.jpg\n"
     ]
    },
    {
     "name": "stderr",
     "output_type": "stream",
     "text": [
      "image 1/1 /mnt/c/Users/gtraw/Projekt_badawczy/dataset_11_12/weti1_2024_11_12_10_29_m.jpg: 1088x1920 37 objects, 42.3ms\n",
      "Speed: 5.6ms preprocess, 42.3ms inference, 8.2ms postprocess per image at shape (1, 3, 1920, 1920)\n",
      "\n"
     ]
    },
    {
     "name": "stdout",
     "output_type": "stream",
     "text": [
      "Matrix size: [10, 37]\n",
      "Similarity matrix built in 0.04s                                                                                                    \n",
      "\n",
      "Image: weti1_2024_11_12_10_39.jpg\n"
     ]
    },
    {
     "name": "stderr",
     "output_type": "stream",
     "text": [
      "image 1/1 /mnt/c/Users/gtraw/Projekt_badawczy/dataset_11_12/weti1_2024_11_12_10_39.jpg: 1088x1920 300 objects, 53.8ms\n",
      "Speed: 5.3ms preprocess, 53.8ms inference, 803.7ms postprocess per image at shape (1, 3, 1920, 1920)\n"
     ]
    },
    {
     "name": "stdout",
     "output_type": "stream",
     "text": [
      "Matrix size: [10, 300]\n",
      "Building similarity matrix:       2519/3000\r"
     ]
    },
    {
     "name": "stderr",
     "output_type": "stream",
     "text": [
      "\n"
     ]
    },
    {
     "name": "stdout",
     "output_type": "stream",
     "text": [
      "Similarity matrix built in 0.48s                                                                                                    \n",
      "\n",
      "Image: weti1_2024_11_12_10_39_m.jpg\n"
     ]
    },
    {
     "name": "stderr",
     "output_type": "stream",
     "text": [
      "image 1/1 /mnt/c/Users/gtraw/Projekt_badawczy/dataset_11_12/weti1_2024_11_12_10_39_m.jpg: 1088x1920 34 objects, 44.9ms\n",
      "Speed: 5.5ms preprocess, 44.9ms inference, 9.6ms postprocess per image at shape (1, 3, 1920, 1920)\n",
      "\n"
     ]
    },
    {
     "name": "stdout",
     "output_type": "stream",
     "text": [
      "Matrix size: [10, 34]\n",
      "Similarity matrix built in 0.07s                                                                                                    \n",
      "\n",
      "Image: weti1_2024_11_12_11_27.jpg\n"
     ]
    },
    {
     "name": "stderr",
     "output_type": "stream",
     "text": [
      "image 1/1 /mnt/c/Users/gtraw/Projekt_badawczy/dataset_11_12/weti1_2024_11_12_11_27.jpg: 1088x1920 300 objects, 54.6ms\n",
      "Speed: 5.7ms preprocess, 54.6ms inference, 995.5ms postprocess per image at shape (1, 3, 1920, 1920)\n"
     ]
    },
    {
     "name": "stdout",
     "output_type": "stream",
     "text": [
      "Matrix size: [10, 300]\n",
      "Building similarity matrix:       2115/3000\r"
     ]
    },
    {
     "name": "stderr",
     "output_type": "stream",
     "text": [
      "\n"
     ]
    },
    {
     "name": "stdout",
     "output_type": "stream",
     "text": [
      "Similarity matrix built in 0.29s                                                                                                    \n",
      "\n",
      "Image: weti1_2024_11_12_11_27_m.jpg\n"
     ]
    },
    {
     "name": "stderr",
     "output_type": "stream",
     "text": [
      "image 1/1 /mnt/c/Users/gtraw/Projekt_badawczy/dataset_11_12/weti1_2024_11_12_11_27_m.jpg: 1088x1920 37 objects, 58.7ms\n",
      "Speed: 5.4ms preprocess, 58.7ms inference, 11.8ms postprocess per image at shape (1, 3, 1920, 1920)\n",
      "\n"
     ]
    },
    {
     "name": "stdout",
     "output_type": "stream",
     "text": [
      "Matrix size: [10, 37]\n",
      "Similarity matrix built in 0.04s                                                                                                    \n",
      "\n",
      "Image: weti1_2024_11_12_11_37.jpg\n"
     ]
    },
    {
     "name": "stderr",
     "output_type": "stream",
     "text": [
      "image 1/1 /mnt/c/Users/gtraw/Projekt_badawczy/dataset_11_12/weti1_2024_11_12_11_37.jpg: 1088x1920 300 objects, 48.0ms\n",
      "Speed: 6.8ms preprocess, 48.0ms inference, 953.9ms postprocess per image at shape (1, 3, 1920, 1920)\n"
     ]
    },
    {
     "name": "stdout",
     "output_type": "stream",
     "text": [
      "Matrix size: [10, 300]\n",
      "Building similarity matrix:       2236/3000\r"
     ]
    },
    {
     "name": "stderr",
     "output_type": "stream",
     "text": [
      "\n"
     ]
    },
    {
     "name": "stdout",
     "output_type": "stream",
     "text": [
      "Similarity matrix built in 0.31s                                                                                                    \n",
      "\n",
      "Image: weti1_2024_11_12_11_37_m.jpg\n"
     ]
    },
    {
     "name": "stderr",
     "output_type": "stream",
     "text": [
      "image 1/1 /mnt/c/Users/gtraw/Projekt_badawczy/dataset_11_12/weti1_2024_11_12_11_37_m.jpg: 1088x1920 39 objects, 43.1ms\n",
      "Speed: 4.8ms preprocess, 43.1ms inference, 11.4ms postprocess per image at shape (1, 3, 1920, 1920)\n",
      "\n"
     ]
    },
    {
     "name": "stdout",
     "output_type": "stream",
     "text": [
      "Matrix size: [10, 39]\n",
      "Similarity matrix built in 0.04s                                                                                                    \n",
      "\n",
      "Image: weti1_2024_11_12_11_47.jpg\n"
     ]
    },
    {
     "name": "stderr",
     "output_type": "stream",
     "text": [
      "image 1/1 /mnt/c/Users/gtraw/Projekt_badawczy/dataset_11_12/weti1_2024_11_12_11_47.jpg: 1088x1920 300 objects, 52.6ms\n",
      "Speed: 6.3ms preprocess, 52.6ms inference, 1015.6ms postprocess per image at shape (1, 3, 1920, 1920)\n"
     ]
    },
    {
     "name": "stdout",
     "output_type": "stream",
     "text": [
      "Matrix size: [10, 300]\n",
      "Building similarity matrix:       1968/3000\r"
     ]
    },
    {
     "name": "stderr",
     "output_type": "stream",
     "text": [
      "\n"
     ]
    },
    {
     "name": "stdout",
     "output_type": "stream",
     "text": [
      "Similarity matrix built in 0.36s                                                                                                    \n",
      "\n",
      "Image: weti1_2024_11_12_11_47_m.jpg\n"
     ]
    },
    {
     "name": "stderr",
     "output_type": "stream",
     "text": [
      "image 1/1 /mnt/c/Users/gtraw/Projekt_badawczy/dataset_11_12/weti1_2024_11_12_11_47_m.jpg: 1088x1920 39 objects, 42.0ms\n",
      "Speed: 6.1ms preprocess, 42.0ms inference, 12.7ms postprocess per image at shape (1, 3, 1920, 1920)\n",
      "\n"
     ]
    },
    {
     "name": "stdout",
     "output_type": "stream",
     "text": [
      "Matrix size: [10, 39]\n",
      "Similarity matrix built in 0.04s                                                                                                    \n",
      "\n",
      "Image: weti1_2024_11_12_11_57.jpg\n"
     ]
    },
    {
     "name": "stderr",
     "output_type": "stream",
     "text": [
      "image 1/1 /mnt/c/Users/gtraw/Projekt_badawczy/dataset_11_12/weti1_2024_11_12_11_57.jpg: 1088x1920 300 objects, 54.0ms\n",
      "Speed: 5.4ms preprocess, 54.0ms inference, 1000.6ms postprocess per image at shape (1, 3, 1920, 1920)\n"
     ]
    },
    {
     "name": "stdout",
     "output_type": "stream",
     "text": [
      "Matrix size: [10, 300]\n",
      "Building similarity matrix:       2258/3000\r"
     ]
    },
    {
     "name": "stderr",
     "output_type": "stream",
     "text": [
      "\n"
     ]
    },
    {
     "name": "stdout",
     "output_type": "stream",
     "text": [
      "Similarity matrix built in 0.32s                                                                                                    \n",
      "\n",
      "Image: weti1_2024_11_12_11_57_m.jpg\n"
     ]
    },
    {
     "name": "stderr",
     "output_type": "stream",
     "text": [
      "image 1/1 /mnt/c/Users/gtraw/Projekt_badawczy/dataset_11_12/weti1_2024_11_12_11_57_m.jpg: 1088x1920 38 objects, 47.2ms\n",
      "Speed: 6.9ms preprocess, 47.2ms inference, 11.5ms postprocess per image at shape (1, 3, 1920, 1920)\n",
      "\n"
     ]
    },
    {
     "name": "stdout",
     "output_type": "stream",
     "text": [
      "Matrix size: [10, 38]\n",
      "Similarity matrix built in 0.07s                                                                                                    \n",
      "\n",
      "Image: weti1_2024_11_12_12_07.jpg\n"
     ]
    },
    {
     "name": "stderr",
     "output_type": "stream",
     "text": [
      "image 1/1 /mnt/c/Users/gtraw/Projekt_badawczy/dataset_11_12/weti1_2024_11_12_12_07.jpg: 1088x1920 300 objects, 45.5ms\n",
      "Speed: 6.4ms preprocess, 45.5ms inference, 1018.3ms postprocess per image at shape (1, 3, 1920, 1920)\n"
     ]
    },
    {
     "name": "stdout",
     "output_type": "stream",
     "text": [
      "Matrix size: [10, 300]\n",
      "Building similarity matrix:       2228/3000\r"
     ]
    },
    {
     "name": "stderr",
     "output_type": "stream",
     "text": [
      "\n"
     ]
    },
    {
     "name": "stdout",
     "output_type": "stream",
     "text": [
      "Similarity matrix built in 0.32s                                                                                                    \n",
      "\n",
      "Image: weti1_2024_11_12_12_07_m.jpg\n"
     ]
    },
    {
     "name": "stderr",
     "output_type": "stream",
     "text": [
      "image 1/1 /mnt/c/Users/gtraw/Projekt_badawczy/dataset_11_12/weti1_2024_11_12_12_07_m.jpg: 1088x1920 36 objects, 51.6ms\n",
      "Speed: 5.9ms preprocess, 51.6ms inference, 8.4ms postprocess per image at shape (1, 3, 1920, 1920)\n",
      "\n"
     ]
    },
    {
     "name": "stdout",
     "output_type": "stream",
     "text": [
      "Matrix size: [10, 36]\n",
      "Similarity matrix built in 0.04s                                                                                                    \n",
      "\n",
      "Image: weti1_2024_11_12_12_17.jpg\n"
     ]
    },
    {
     "name": "stderr",
     "output_type": "stream",
     "text": [
      "image 1/1 /mnt/c/Users/gtraw/Projekt_badawczy/dataset_11_12/weti1_2024_11_12_12_17.jpg: 1088x1920 300 objects, 49.9ms\n",
      "Speed: 5.4ms preprocess, 49.9ms inference, 989.8ms postprocess per image at shape (1, 3, 1920, 1920)\n"
     ]
    },
    {
     "name": "stdout",
     "output_type": "stream",
     "text": [
      "Matrix size: [10, 300]\n",
      "Building similarity matrix:       2250/3000\r"
     ]
    },
    {
     "name": "stderr",
     "output_type": "stream",
     "text": [
      "\n"
     ]
    },
    {
     "name": "stdout",
     "output_type": "stream",
     "text": [
      "Similarity matrix built in 0.31s                                                                                                    \n",
      "\n",
      "Image: weti1_2024_11_12_12_17_m.jpg\n"
     ]
    },
    {
     "name": "stderr",
     "output_type": "stream",
     "text": [
      "image 1/1 /mnt/c/Users/gtraw/Projekt_badawczy/dataset_11_12/weti1_2024_11_12_12_17_m.jpg: 1088x1920 39 objects, 42.0ms\n",
      "Speed: 7.3ms preprocess, 42.0ms inference, 17.0ms postprocess per image at shape (1, 3, 1920, 1920)\n",
      "\n"
     ]
    },
    {
     "name": "stdout",
     "output_type": "stream",
     "text": [
      "Matrix size: [10, 39]\n",
      "Similarity matrix built in 0.05s                                                                                                    \n",
      "\n",
      "Image: weti1_2024_11_12_12_27.jpg\n"
     ]
    },
    {
     "name": "stderr",
     "output_type": "stream",
     "text": [
      "image 1/1 /mnt/c/Users/gtraw/Projekt_badawczy/dataset_11_12/weti1_2024_11_12_12_27.jpg: 1088x1920 300 objects, 50.8ms\n",
      "Speed: 7.0ms preprocess, 50.8ms inference, 1010.3ms postprocess per image at shape (1, 3, 1920, 1920)\n"
     ]
    },
    {
     "name": "stdout",
     "output_type": "stream",
     "text": [
      "Matrix size: [10, 300]\n",
      "Building similarity matrix:       2080/3000\r"
     ]
    },
    {
     "name": "stderr",
     "output_type": "stream",
     "text": [
      "\n"
     ]
    },
    {
     "name": "stdout",
     "output_type": "stream",
     "text": [
      "Similarity matrix built in 0.32s                                                                                                    \n",
      "\n",
      "Image: weti1_2024_11_12_12_27_m.jpg\n"
     ]
    },
    {
     "name": "stderr",
     "output_type": "stream",
     "text": [
      "image 1/1 /mnt/c/Users/gtraw/Projekt_badawczy/dataset_11_12/weti1_2024_11_12_12_27_m.jpg: 1088x1920 40 objects, 50.1ms\n",
      "Speed: 5.3ms preprocess, 50.1ms inference, 11.6ms postprocess per image at shape (1, 3, 1920, 1920)\n",
      "\n"
     ]
    },
    {
     "name": "stdout",
     "output_type": "stream",
     "text": [
      "Matrix size: [10, 40]\n",
      "Similarity matrix built in 0.06s                                                                                                    \n",
      "\n",
      "Image: weti1_2024_11_12_12_37.jpg\n"
     ]
    },
    {
     "name": "stderr",
     "output_type": "stream",
     "text": [
      "image 1/1 /mnt/c/Users/gtraw/Projekt_badawczy/dataset_11_12/weti1_2024_11_12_12_37.jpg: 1088x1920 300 objects, 45.4ms\n",
      "Speed: 5.6ms preprocess, 45.4ms inference, 1016.7ms postprocess per image at shape (1, 3, 1920, 1920)\n"
     ]
    },
    {
     "name": "stdout",
     "output_type": "stream",
     "text": [
      "Matrix size: [10, 300]\n",
      "Building similarity matrix:       2217/3000\r"
     ]
    },
    {
     "name": "stderr",
     "output_type": "stream",
     "text": [
      "\n"
     ]
    },
    {
     "name": "stdout",
     "output_type": "stream",
     "text": [
      "Similarity matrix built in 0.30s                                                                                                    \n",
      "\n",
      "Image: weti1_2024_11_12_12_37_m.jpg\n"
     ]
    },
    {
     "name": "stderr",
     "output_type": "stream",
     "text": [
      "image 1/1 /mnt/c/Users/gtraw/Projekt_badawczy/dataset_11_12/weti1_2024_11_12_12_37_m.jpg: 1088x1920 39 objects, 52.7ms\n",
      "Speed: 6.6ms preprocess, 52.7ms inference, 9.4ms postprocess per image at shape (1, 3, 1920, 1920)\n",
      "\n"
     ]
    },
    {
     "name": "stdout",
     "output_type": "stream",
     "text": [
      "Matrix size: [10, 39]\n",
      "Similarity matrix built in 0.06s                                                                                                    \n",
      "\n",
      "Image: weti1_2024_11_12_12_47.jpg\n"
     ]
    },
    {
     "name": "stderr",
     "output_type": "stream",
     "text": [
      "image 1/1 /mnt/c/Users/gtraw/Projekt_badawczy/dataset_11_12/weti1_2024_11_12_12_47.jpg: 1088x1920 300 objects, 49.4ms\n",
      "Speed: 6.0ms preprocess, 49.4ms inference, 1009.4ms postprocess per image at shape (1, 3, 1920, 1920)\n"
     ]
    },
    {
     "name": "stdout",
     "output_type": "stream",
     "text": [
      "Matrix size: [10, 300]\n",
      "Building similarity matrix:       2319/3000\r"
     ]
    },
    {
     "name": "stderr",
     "output_type": "stream",
     "text": [
      "\n"
     ]
    },
    {
     "name": "stdout",
     "output_type": "stream",
     "text": [
      "Similarity matrix built in 0.34s                                                                                                    \n",
      "\n",
      "Image: weti1_2024_11_12_12_47_m.jpg\n"
     ]
    },
    {
     "name": "stderr",
     "output_type": "stream",
     "text": [
      "image 1/1 /mnt/c/Users/gtraw/Projekt_badawczy/dataset_11_12/weti1_2024_11_12_12_47_m.jpg: 1088x1920 39 objects, 52.5ms\n",
      "Speed: 5.9ms preprocess, 52.5ms inference, 10.5ms postprocess per image at shape (1, 3, 1920, 1920)\n",
      "\n"
     ]
    },
    {
     "name": "stdout",
     "output_type": "stream",
     "text": [
      "Matrix size: [10, 39]\n",
      "Similarity matrix built in 0.05s                                                                                                    \n",
      "\n",
      "Image: weti1_2024_11_12_12_57.jpg\n"
     ]
    },
    {
     "name": "stderr",
     "output_type": "stream",
     "text": [
      "image 1/1 /mnt/c/Users/gtraw/Projekt_badawczy/dataset_11_12/weti1_2024_11_12_12_57.jpg: 1088x1920 300 objects, 67.9ms\n",
      "Speed: 6.1ms preprocess, 67.9ms inference, 1163.2ms postprocess per image at shape (1, 3, 1920, 1920)\n"
     ]
    },
    {
     "name": "stdout",
     "output_type": "stream",
     "text": [
      "Matrix size: [10, 300]\n",
      "Building similarity matrix:       1674/3000\r"
     ]
    },
    {
     "name": "stderr",
     "output_type": "stream",
     "text": [
      "\n"
     ]
    },
    {
     "name": "stdout",
     "output_type": "stream",
     "text": [
      "Similarity matrix built in 0.38s                                                                                                    \n",
      "\n",
      "Image: weti1_2024_11_12_12_57_m.jpg\n"
     ]
    },
    {
     "name": "stderr",
     "output_type": "stream",
     "text": [
      "image 1/1 /mnt/c/Users/gtraw/Projekt_badawczy/dataset_11_12/weti1_2024_11_12_12_57_m.jpg: 1088x1920 39 objects, 54.5ms\n",
      "Speed: 5.4ms preprocess, 54.5ms inference, 14.8ms postprocess per image at shape (1, 3, 1920, 1920)\n",
      "\n"
     ]
    },
    {
     "name": "stdout",
     "output_type": "stream",
     "text": [
      "Matrix size: [10, 39]\n",
      "Similarity matrix built in 0.05s                                                                                                    \n",
      "\n",
      "Image: weti1_2024_11_12_13_07.jpg\n"
     ]
    },
    {
     "name": "stderr",
     "output_type": "stream",
     "text": [
      "image 1/1 /mnt/c/Users/gtraw/Projekt_badawczy/dataset_11_12/weti1_2024_11_12_13_07.jpg: 1088x1920 300 objects, 52.6ms\n",
      "Speed: 5.2ms preprocess, 52.6ms inference, 1073.8ms postprocess per image at shape (1, 3, 1920, 1920)\n"
     ]
    },
    {
     "name": "stdout",
     "output_type": "stream",
     "text": [
      "Matrix size: [10, 300]\n",
      "Building similarity matrix:       2107/3000\r"
     ]
    },
    {
     "name": "stderr",
     "output_type": "stream",
     "text": [
      "\n"
     ]
    },
    {
     "name": "stdout",
     "output_type": "stream",
     "text": [
      "Similarity matrix built in 0.33s                                                                                                    \n",
      "\n",
      "Image: weti1_2024_11_12_13_07_m.jpg\n"
     ]
    },
    {
     "name": "stderr",
     "output_type": "stream",
     "text": [
      "image 1/1 /mnt/c/Users/gtraw/Projekt_badawczy/dataset_11_12/weti1_2024_11_12_13_07_m.jpg: 1088x1920 41 objects, 48.7ms\n",
      "Speed: 4.7ms preprocess, 48.7ms inference, 16.7ms postprocess per image at shape (1, 3, 1920, 1920)\n",
      "\n"
     ]
    },
    {
     "name": "stdout",
     "output_type": "stream",
     "text": [
      "Matrix size: [10, 41]\n",
      "Similarity matrix built in 0.06s                                                                                                    \n",
      "\n",
      "Image: weti1_2024_11_12_13_17.jpg\n"
     ]
    },
    {
     "name": "stderr",
     "output_type": "stream",
     "text": [
      "image 1/1 /mnt/c/Users/gtraw/Projekt_badawczy/dataset_11_12/weti1_2024_11_12_13_17.jpg: 1088x1920 300 objects, 51.3ms\n",
      "Speed: 5.9ms preprocess, 51.3ms inference, 1048.6ms postprocess per image at shape (1, 3, 1920, 1920)\n"
     ]
    },
    {
     "name": "stdout",
     "output_type": "stream",
     "text": [
      "Matrix size: [10, 300]\n",
      "Building similarity matrix:       2125/3000\r"
     ]
    },
    {
     "name": "stderr",
     "output_type": "stream",
     "text": [
      "\n"
     ]
    },
    {
     "name": "stdout",
     "output_type": "stream",
     "text": [
      "Similarity matrix built in 0.32s                                                                                                    \n",
      "\n",
      "Image: weti1_2024_11_12_13_17_m.jpg\n"
     ]
    },
    {
     "name": "stderr",
     "output_type": "stream",
     "text": [
      "image 1/1 /mnt/c/Users/gtraw/Projekt_badawczy/dataset_11_12/weti1_2024_11_12_13_17_m.jpg: 1088x1920 36 objects, 57.7ms\n",
      "Speed: 7.9ms preprocess, 57.7ms inference, 21.2ms postprocess per image at shape (1, 3, 1920, 1920)\n",
      "\n"
     ]
    },
    {
     "name": "stdout",
     "output_type": "stream",
     "text": [
      "Matrix size: [10, 36]\n",
      "Similarity matrix built in 0.07s                                                                                                    \n",
      "\n",
      "Image: weti1_2024_11_12_13_27.jpg\n"
     ]
    },
    {
     "name": "stderr",
     "output_type": "stream",
     "text": [
      "image 1/1 /mnt/c/Users/gtraw/Projekt_badawczy/dataset_11_12/weti1_2024_11_12_13_27.jpg: 1088x1920 300 objects, 61.3ms\n",
      "Speed: 7.8ms preprocess, 61.3ms inference, 1267.8ms postprocess per image at shape (1, 3, 1920, 1920)\n"
     ]
    },
    {
     "name": "stdout",
     "output_type": "stream",
     "text": [
      "Matrix size: [10, 300]\n",
      "Building similarity matrix:       1740/3000\r"
     ]
    },
    {
     "name": "stderr",
     "output_type": "stream",
     "text": [
      "\n"
     ]
    },
    {
     "name": "stdout",
     "output_type": "stream",
     "text": [
      "Similarity matrix built in 0.37s                                                                                                    \n",
      "\n",
      "Image: weti1_2024_11_12_13_27_m.jpg\n"
     ]
    },
    {
     "name": "stderr",
     "output_type": "stream",
     "text": [
      "image 1/1 /mnt/c/Users/gtraw/Projekt_badawczy/dataset_11_12/weti1_2024_11_12_13_27_m.jpg: 1088x1920 41 objects, 52.5ms\n",
      "Speed: 7.8ms preprocess, 52.5ms inference, 15.2ms postprocess per image at shape (1, 3, 1920, 1920)\n",
      "\n"
     ]
    },
    {
     "name": "stdout",
     "output_type": "stream",
     "text": [
      "Matrix size: [10, 41]\n",
      "Similarity matrix built in 0.05s                                                                                                    \n",
      "\n",
      "Image: weti1_2024_11_12_13_37.jpg\n"
     ]
    },
    {
     "name": "stderr",
     "output_type": "stream",
     "text": [
      "image 1/1 /mnt/c/Users/gtraw/Projekt_badawczy/dataset_11_12/weti1_2024_11_12_13_37.jpg: 1088x1920 300 objects, 46.5ms\n",
      "Speed: 6.3ms preprocess, 46.5ms inference, 888.4ms postprocess per image at shape (1, 3, 1920, 1920)\n"
     ]
    },
    {
     "name": "stdout",
     "output_type": "stream",
     "text": [
      "Matrix size: [10, 300]\n",
      "Building similarity matrix:       2194/3000\r"
     ]
    },
    {
     "name": "stderr",
     "output_type": "stream",
     "text": [
      "\n"
     ]
    },
    {
     "name": "stdout",
     "output_type": "stream",
     "text": [
      "Similarity matrix built in 0.32s                                                                                                    \n",
      "\n",
      "Image: weti1_2024_11_12_13_37_m.jpg\n"
     ]
    },
    {
     "name": "stderr",
     "output_type": "stream",
     "text": [
      "image 1/1 /mnt/c/Users/gtraw/Projekt_badawczy/dataset_11_12/weti1_2024_11_12_13_37_m.jpg: 1088x1920 37 objects, 48.3ms\n",
      "Speed: 4.6ms preprocess, 48.3ms inference, 12.0ms postprocess per image at shape (1, 3, 1920, 1920)\n",
      "\n"
     ]
    },
    {
     "name": "stdout",
     "output_type": "stream",
     "text": [
      "Matrix size: [10, 37]\n",
      "Similarity matrix built in 0.04s                                                                                                    \n",
      "\n",
      "Image: weti1_2024_11_12_13_47.jpg\n"
     ]
    },
    {
     "name": "stderr",
     "output_type": "stream",
     "text": [
      "image 1/1 /mnt/c/Users/gtraw/Projekt_badawczy/dataset_11_12/weti1_2024_11_12_13_47.jpg: 1088x1920 300 objects, 41.0ms\n",
      "Speed: 5.3ms preprocess, 41.0ms inference, 997.6ms postprocess per image at shape (1, 3, 1920, 1920)\n"
     ]
    },
    {
     "name": "stdout",
     "output_type": "stream",
     "text": [
      "Matrix size: [10, 300]\n",
      "Similarity matrix built in 0.39s                                                                                                    \n",
      "\n",
      "Image: weti1_2024_11_12_13_47_m.jpg\n"
     ]
    },
    {
     "name": "stderr",
     "output_type": "stream",
     "text": [
      "\n",
      "image 1/1 /mnt/c/Users/gtraw/Projekt_badawczy/dataset_11_12/weti1_2024_11_12_13_47_m.jpg: 1088x1920 35 objects, 42.6ms\n",
      "Speed: 4.6ms preprocess, 42.6ms inference, 13.8ms postprocess per image at shape (1, 3, 1920, 1920)\n",
      "\n"
     ]
    },
    {
     "name": "stdout",
     "output_type": "stream",
     "text": [
      "Matrix size: [10, 35]\n",
      "Similarity matrix built in 0.04s                                                                                                    \n",
      "\n",
      "Image: weti1_2024_11_12_13_57.jpg\n"
     ]
    },
    {
     "name": "stderr",
     "output_type": "stream",
     "text": [
      "image 1/1 /mnt/c/Users/gtraw/Projekt_badawczy/dataset_11_12/weti1_2024_11_12_13_57.jpg: 1088x1920 300 objects, 40.3ms\n",
      "Speed: 4.5ms preprocess, 40.3ms inference, 895.4ms postprocess per image at shape (1, 3, 1920, 1920)\n"
     ]
    },
    {
     "name": "stdout",
     "output_type": "stream",
     "text": [
      "Matrix size: [9, 300]\n",
      "Building similarity matrix:       2084/2700\r"
     ]
    },
    {
     "name": "stderr",
     "output_type": "stream",
     "text": [
      "\n"
     ]
    },
    {
     "name": "stdout",
     "output_type": "stream",
     "text": [
      "Similarity matrix built in 0.30s                                                                                                    \n",
      "\n",
      "Image: weti1_2024_11_12_13_57_m.jpg\n"
     ]
    },
    {
     "name": "stderr",
     "output_type": "stream",
     "text": [
      "image 1/1 /mnt/c/Users/gtraw/Projekt_badawczy/dataset_11_12/weti1_2024_11_12_13_57_m.jpg: 1088x1920 38 objects, 49.4ms\n",
      "Speed: 5.6ms preprocess, 49.4ms inference, 8.6ms postprocess per image at shape (1, 3, 1920, 1920)\n",
      "\n"
     ]
    },
    {
     "name": "stdout",
     "output_type": "stream",
     "text": [
      "Matrix size: [9, 38]\n",
      "Similarity matrix built in 0.05s                                                                                                    \n",
      "\n",
      "Image: weti1_2024_11_12_14_07.jpg\n"
     ]
    },
    {
     "name": "stderr",
     "output_type": "stream",
     "text": [
      "image 1/1 /mnt/c/Users/gtraw/Projekt_badawczy/dataset_11_12/weti1_2024_11_12_14_07.jpg: 1088x1920 300 objects, 54.1ms\n",
      "Speed: 5.0ms preprocess, 54.1ms inference, 998.8ms postprocess per image at shape (1, 3, 1920, 1920)\n"
     ]
    },
    {
     "name": "stdout",
     "output_type": "stream",
     "text": [
      "Matrix size: [11, 300]\n",
      "Building similarity matrix:       1826/3300\r"
     ]
    },
    {
     "name": "stderr",
     "output_type": "stream",
     "text": [
      "\n"
     ]
    },
    {
     "name": "stdout",
     "output_type": "stream",
     "text": [
      "Similarity matrix built in 0.36s                                                                                                    \n",
      "\n",
      "Image: weti1_2024_11_12_14_07_m.jpg\n"
     ]
    },
    {
     "name": "stderr",
     "output_type": "stream",
     "text": [
      "image 1/1 /mnt/c/Users/gtraw/Projekt_badawczy/dataset_11_12/weti1_2024_11_12_14_07_m.jpg: 1088x1920 43 objects, 49.2ms\n",
      "Speed: 6.9ms preprocess, 49.2ms inference, 13.5ms postprocess per image at shape (1, 3, 1920, 1920)\n",
      "\n"
     ]
    },
    {
     "name": "stdout",
     "output_type": "stream",
     "text": [
      "Matrix size: [11, 43]\n",
      "Similarity matrix built in 0.05s                                                                                                    \n",
      "\n",
      "Image: weti1_2024_11_12_14_17.jpg\n"
     ]
    },
    {
     "name": "stderr",
     "output_type": "stream",
     "text": [
      "image 1/1 /mnt/c/Users/gtraw/Projekt_badawczy/dataset_11_12/weti1_2024_11_12_14_17.jpg: 1088x1920 300 objects, 56.4ms\n",
      "Speed: 6.3ms preprocess, 56.4ms inference, 963.5ms postprocess per image at shape (1, 3, 1920, 1920)\n"
     ]
    },
    {
     "name": "stdout",
     "output_type": "stream",
     "text": [
      "Matrix size: [10, 300]\n",
      "Building similarity matrix:       2005/3000\r"
     ]
    },
    {
     "name": "stderr",
     "output_type": "stream",
     "text": [
      "\n"
     ]
    },
    {
     "name": "stdout",
     "output_type": "stream",
     "text": [
      "Similarity matrix built in 0.33s                                                                                                    \n",
      "\n",
      "Image: weti1_2024_11_12_14_17_m.jpg\n"
     ]
    },
    {
     "name": "stderr",
     "output_type": "stream",
     "text": [
      "image 1/1 /mnt/c/Users/gtraw/Projekt_badawczy/dataset_11_12/weti1_2024_11_12_14_17_m.jpg: 1088x1920 37 objects, 47.8ms\n",
      "Speed: 6.2ms preprocess, 47.8ms inference, 13.6ms postprocess per image at shape (1, 3, 1920, 1920)\n",
      "\n"
     ]
    },
    {
     "name": "stdout",
     "output_type": "stream",
     "text": [
      "Matrix size: [10, 37]\n",
      "Similarity matrix built in 0.05s                                                                                                    \n",
      "\n",
      "Image: weti1_2024_11_12_14_27.jpg\n"
     ]
    },
    {
     "name": "stderr",
     "output_type": "stream",
     "text": [
      "image 1/1 /mnt/c/Users/gtraw/Projekt_badawczy/dataset_11_12/weti1_2024_11_12_14_27.jpg: 1088x1920 300 objects, 47.0ms\n",
      "Speed: 5.0ms preprocess, 47.0ms inference, 901.1ms postprocess per image at shape (1, 3, 1920, 1920)\n"
     ]
    },
    {
     "name": "stdout",
     "output_type": "stream",
     "text": [
      "Matrix size: [10, 300]\n",
      "Building similarity matrix:       1734/3000\r"
     ]
    },
    {
     "name": "stderr",
     "output_type": "stream",
     "text": [
      "\n"
     ]
    },
    {
     "name": "stdout",
     "output_type": "stream",
     "text": [
      "Similarity matrix built in 0.36s                                                                                                    \n",
      "\n",
      "Image: weti1_2024_11_12_14_27_m.jpg\n"
     ]
    },
    {
     "name": "stderr",
     "output_type": "stream",
     "text": [
      "image 1/1 /mnt/c/Users/gtraw/Projekt_badawczy/dataset_11_12/weti1_2024_11_12_14_27_m.jpg: 1088x1920 34 objects, 49.4ms\n",
      "Speed: 4.4ms preprocess, 49.4ms inference, 11.8ms postprocess per image at shape (1, 3, 1920, 1920)\n",
      "\n"
     ]
    },
    {
     "name": "stdout",
     "output_type": "stream",
     "text": [
      "Matrix size: [10, 34]\n",
      "Similarity matrix built in 0.06s                                                                                                    \n",
      "\n",
      "Image: weti1_2024_11_12_14_37.jpg\n"
     ]
    },
    {
     "name": "stderr",
     "output_type": "stream",
     "text": [
      "image 1/1 /mnt/c/Users/gtraw/Projekt_badawczy/dataset_11_12/weti1_2024_11_12_14_37.jpg: 1088x1920 300 objects, 47.3ms\n",
      "Speed: 5.7ms preprocess, 47.3ms inference, 867.7ms postprocess per image at shape (1, 3, 1920, 1920)\n"
     ]
    },
    {
     "name": "stdout",
     "output_type": "stream",
     "text": [
      "Matrix size: [8, 300]\n",
      "Building similarity matrix:       1641/2400\r"
     ]
    },
    {
     "name": "stderr",
     "output_type": "stream",
     "text": [
      "\n"
     ]
    },
    {
     "name": "stdout",
     "output_type": "stream",
     "text": [
      "Similarity matrix built in 0.30s                                                                                                    \n",
      "\n",
      "Image: weti1_2024_11_12_14_37_m.jpg\n"
     ]
    },
    {
     "name": "stderr",
     "output_type": "stream",
     "text": [
      "image 1/1 /mnt/c/Users/gtraw/Projekt_badawczy/dataset_11_12/weti1_2024_11_12_14_37_m.jpg: 1088x1920 34 objects, 55.7ms\n",
      "Speed: 4.9ms preprocess, 55.7ms inference, 6.8ms postprocess per image at shape (1, 3, 1920, 1920)\n",
      "\n"
     ]
    },
    {
     "name": "stdout",
     "output_type": "stream",
     "text": [
      "Matrix size: [8, 34]\n",
      "Similarity matrix built in 0.06s                                                                                                    \n",
      "\n",
      "Image: weti1_2024_11_12_14_47.jpg\n"
     ]
    },
    {
     "name": "stderr",
     "output_type": "stream",
     "text": [
      "image 1/1 /mnt/c/Users/gtraw/Projekt_badawczy/dataset_11_12/weti1_2024_11_12_14_47.jpg: 1088x1920 300 objects, 42.7ms\n",
      "Speed: 7.5ms preprocess, 42.7ms inference, 976.7ms postprocess per image at shape (1, 3, 1920, 1920)\n"
     ]
    },
    {
     "name": "stdout",
     "output_type": "stream",
     "text": [
      "Matrix size: [8, 300]\n",
      "Building similarity matrix:       1802/2400\r"
     ]
    },
    {
     "name": "stderr",
     "output_type": "stream",
     "text": [
      "\n"
     ]
    },
    {
     "name": "stdout",
     "output_type": "stream",
     "text": [
      "Similarity matrix built in 0.27s                                                                                                    \n",
      "\n",
      "Image: weti1_2024_11_12_14_47_m.jpg\n"
     ]
    },
    {
     "name": "stderr",
     "output_type": "stream",
     "text": [
      "image 1/1 /mnt/c/Users/gtraw/Projekt_badawczy/dataset_11_12/weti1_2024_11_12_14_47_m.jpg: 1088x1920 34 objects, 47.3ms\n",
      "Speed: 6.2ms preprocess, 47.3ms inference, 11.3ms postprocess per image at shape (1, 3, 1920, 1920)\n",
      "\n"
     ]
    },
    {
     "name": "stdout",
     "output_type": "stream",
     "text": [
      "Matrix size: [8, 34]\n",
      "Similarity matrix built in 0.05s                                                                                                    \n",
      "\n",
      "Image: weti1_2024_11_12_14_57.jpg\n"
     ]
    },
    {
     "name": "stderr",
     "output_type": "stream",
     "text": [
      "image 1/1 /mnt/c/Users/gtraw/Projekt_badawczy/dataset_11_12/weti1_2024_11_12_14_57.jpg: 1088x1920 300 objects, 43.4ms\n",
      "Speed: 7.3ms preprocess, 43.4ms inference, 886.0ms postprocess per image at shape (1, 3, 1920, 1920)\n"
     ]
    },
    {
     "name": "stdout",
     "output_type": "stream",
     "text": [
      "Matrix size: [7, 300]\n",
      "Building similarity matrix:       1764/2100\r"
     ]
    },
    {
     "name": "stderr",
     "output_type": "stream",
     "text": [
      "\n"
     ]
    },
    {
     "name": "stdout",
     "output_type": "stream",
     "text": [
      "Similarity matrix built in 0.23s                                                                                                    \n",
      "\n",
      "Image: weti1_2024_11_12_14_57_m.jpg\n"
     ]
    },
    {
     "name": "stderr",
     "output_type": "stream",
     "text": [
      "image 1/1 /mnt/c/Users/gtraw/Projekt_badawczy/dataset_11_12/weti1_2024_11_12_14_57_m.jpg: 1088x1920 29 objects, 42.7ms\n",
      "Speed: 5.4ms preprocess, 42.7ms inference, 7.3ms postprocess per image at shape (1, 3, 1920, 1920)\n",
      "\n"
     ]
    },
    {
     "name": "stdout",
     "output_type": "stream",
     "text": [
      "Matrix size: [7, 29]\n",
      "Similarity matrix built in 0.03s                                                                                                    \n",
      "\n",
      "Image: weti1_2024_11_12_15_07.jpg\n"
     ]
    },
    {
     "name": "stderr",
     "output_type": "stream",
     "text": [
      "image 1/1 /mnt/c/Users/gtraw/Projekt_badawczy/dataset_11_12/weti1_2024_11_12_15_07.jpg: 1088x1920 300 objects, 52.4ms\n",
      "Speed: 5.6ms preprocess, 52.4ms inference, 888.5ms postprocess per image at shape (1, 3, 1920, 1920)\n"
     ]
    },
    {
     "name": "stdout",
     "output_type": "stream",
     "text": [
      "Matrix size: [6, 300]\n",
      "Similarity matrix built in 0.19s                                                                                                    \n",
      "\n",
      "Image: weti1_2024_11_12_15_07_m.jpg\n"
     ]
    },
    {
     "name": "stderr",
     "output_type": "stream",
     "text": [
      "\n",
      "image 1/1 /mnt/c/Users/gtraw/Projekt_badawczy/dataset_11_12/weti1_2024_11_12_15_07_m.jpg: 1088x1920 27 objects, 44.0ms\n",
      "Speed: 5.2ms preprocess, 44.0ms inference, 8.8ms postprocess per image at shape (1, 3, 1920, 1920)\n",
      "\n"
     ]
    },
    {
     "name": "stdout",
     "output_type": "stream",
     "text": [
      "Matrix size: [6, 27]\n",
      "Similarity matrix built in 0.02s                                                                                                    \n",
      "\n",
      "Image: weti1_2024_11_12_15_17.jpg\n"
     ]
    },
    {
     "name": "stderr",
     "output_type": "stream",
     "text": [
      "image 1/1 /mnt/c/Users/gtraw/Projekt_badawczy/dataset_11_12/weti1_2024_11_12_15_17.jpg: 1088x1920 300 objects, 42.4ms\n",
      "Speed: 6.2ms preprocess, 42.4ms inference, 972.5ms postprocess per image at shape (1, 3, 1920, 1920)\n",
      "\n"
     ]
    },
    {
     "name": "stdout",
     "output_type": "stream",
     "text": [
      "Matrix size: [5, 300]\n",
      "Similarity matrix built in 0.16s                                                                                                    \n",
      "\n",
      "Image: weti1_2024_11_12_15_17_m.jpg\n"
     ]
    },
    {
     "name": "stderr",
     "output_type": "stream",
     "text": [
      "image 1/1 /mnt/c/Users/gtraw/Projekt_badawczy/dataset_11_12/weti1_2024_11_12_15_17_m.jpg: 1088x1920 23 objects, 48.4ms\n",
      "Speed: 7.9ms preprocess, 48.4ms inference, 11.6ms postprocess per image at shape (1, 3, 1920, 1920)\n",
      "\n"
     ]
    },
    {
     "name": "stdout",
     "output_type": "stream",
     "text": [
      "Matrix size: [5, 23]\n",
      "Similarity matrix built in 0.02s                                                                                                    \n",
      "\n",
      "Image: weti1_2024_11_12_15_27.jpg\n"
     ]
    },
    {
     "name": "stderr",
     "output_type": "stream",
     "text": [
      "image 1/1 /mnt/c/Users/gtraw/Projekt_badawczy/dataset_11_12/weti1_2024_11_12_15_27.jpg: 1088x1920 294 objects, 41.7ms\n",
      "Speed: 9.6ms preprocess, 41.7ms inference, 1030.2ms postprocess per image at shape (1, 3, 1920, 1920)\n",
      "\n"
     ]
    },
    {
     "name": "stdout",
     "output_type": "stream",
     "text": [
      "Matrix size: [5, 294]\n",
      "Similarity matrix built in 0.16s                                                                                                    \n",
      "\n",
      "Image: weti1_2024_11_12_15_27_m.jpg\n"
     ]
    },
    {
     "name": "stderr",
     "output_type": "stream",
     "text": [
      "image 1/1 /mnt/c/Users/gtraw/Projekt_badawczy/dataset_11_12/weti1_2024_11_12_15_27_m.jpg: 1088x1920 25 objects, 320.1ms\n",
      "Speed: 17.6ms preprocess, 320.1ms inference, 13.5ms postprocess per image at shape (1, 3, 1920, 1920)\n",
      "\n"
     ]
    },
    {
     "name": "stdout",
     "output_type": "stream",
     "text": [
      "Matrix size: [5, 25]\n",
      "Similarity matrix built in 0.02s                                                                                                    \n",
      "\n",
      "Image: weti1_2024_11_12_15_37.jpg\n"
     ]
    },
    {
     "name": "stderr",
     "output_type": "stream",
     "text": [
      "image 1/1 /mnt/c/Users/gtraw/Projekt_badawczy/dataset_11_12/weti1_2024_11_12_15_37.jpg: 1088x1920 300 objects, 59.4ms\n",
      "Speed: 8.3ms preprocess, 59.4ms inference, 1010.5ms postprocess per image at shape (1, 3, 1920, 1920)\n",
      "\n"
     ]
    },
    {
     "name": "stdout",
     "output_type": "stream",
     "text": [
      "Matrix size: [5, 300]\n",
      "Similarity matrix built in 0.16s                                                                                                    \n",
      "\n",
      "Image: weti1_2024_11_12_15_37_m.jpg\n"
     ]
    },
    {
     "name": "stderr",
     "output_type": "stream",
     "text": [
      "image 1/1 /mnt/c/Users/gtraw/Projekt_badawczy/dataset_11_12/weti1_2024_11_12_15_37_m.jpg: 1088x1920 25 objects, 55.6ms\n",
      "Speed: 5.8ms preprocess, 55.6ms inference, 8.0ms postprocess per image at shape (1, 3, 1920, 1920)\n",
      "\n"
     ]
    },
    {
     "name": "stdout",
     "output_type": "stream",
     "text": [
      "Matrix size: [5, 25]\n",
      "Similarity matrix built in 0.02s                                                                                                    \n",
      "\n",
      "Image: weti1_2024_11_12_15_47.jpg\n"
     ]
    },
    {
     "name": "stderr",
     "output_type": "stream",
     "text": [
      "image 1/1 /mnt/c/Users/gtraw/Projekt_badawczy/dataset_11_12/weti1_2024_11_12_15_47.jpg: 1088x1920 296 objects, 45.4ms\n",
      "Speed: 5.1ms preprocess, 45.4ms inference, 959.4ms postprocess per image at shape (1, 3, 1920, 1920)\n",
      "\n"
     ]
    },
    {
     "name": "stdout",
     "output_type": "stream",
     "text": [
      "Matrix size: [5, 296]\n",
      "Similarity matrix built in 0.17s                                                                                                    \n",
      "\n",
      "Image: weti1_2024_11_12_15_47_m.jpg\n"
     ]
    },
    {
     "name": "stderr",
     "output_type": "stream",
     "text": [
      "image 1/1 /mnt/c/Users/gtraw/Projekt_badawczy/dataset_11_12/weti1_2024_11_12_15_47_m.jpg: 1088x1920 24 objects, 190.9ms\n",
      "Speed: 15.2ms preprocess, 190.9ms inference, 7.2ms postprocess per image at shape (1, 3, 1920, 1920)\n",
      "\n"
     ]
    },
    {
     "name": "stdout",
     "output_type": "stream",
     "text": [
      "Matrix size: [5, 24]\n",
      "Similarity matrix built in 0.03s                                                                                                    \n",
      "\n",
      "Image: weti1_2024_11_12_15_57.jpg\n"
     ]
    },
    {
     "name": "stderr",
     "output_type": "stream",
     "text": [
      "image 1/1 /mnt/c/Users/gtraw/Projekt_badawczy/dataset_11_12/weti1_2024_11_12_15_57.jpg: 1088x1920 290 objects, 47.2ms\n",
      "Speed: 6.6ms preprocess, 47.2ms inference, 891.7ms postprocess per image at shape (1, 3, 1920, 1920)\n",
      "\n"
     ]
    },
    {
     "name": "stdout",
     "output_type": "stream",
     "text": [
      "Matrix size: [4, 290]\n",
      "Similarity matrix built in 0.15s                                                                                                    \n",
      "\n",
      "Image: weti1_2024_11_12_15_57_m.jpg\n"
     ]
    },
    {
     "name": "stderr",
     "output_type": "stream",
     "text": [
      "image 1/1 /mnt/c/Users/gtraw/Projekt_badawczy/dataset_11_12/weti1_2024_11_12_15_57_m.jpg: 1088x1920 23 objects, 932.5ms\n",
      "Speed: 19.8ms preprocess, 932.5ms inference, 15.9ms postprocess per image at shape (1, 3, 1920, 1920)\n",
      "\n"
     ]
    },
    {
     "name": "stdout",
     "output_type": "stream",
     "text": [
      "Matrix size: [4, 23]\n",
      "Similarity matrix built in 0.02s                                                                                                    \n",
      "\n",
      "Image: weti1_2024_11_12_17_34.jpg\n"
     ]
    },
    {
     "name": "stderr",
     "output_type": "stream",
     "text": [
      "image 1/1 /mnt/c/Users/gtraw/Projekt_badawczy/dataset_11_12/weti1_2024_11_12_17_34.jpg: 1088x1920 46 objects, 50.3ms\n",
      "Speed: 4.7ms preprocess, 50.3ms inference, 14.8ms postprocess per image at shape (1, 3, 1920, 1920)\n",
      "\n"
     ]
    },
    {
     "name": "stdout",
     "output_type": "stream",
     "text": [
      "Matrix size: [1, 46]\n",
      "Similarity matrix built in 0.01s                                                                                                    \n",
      "\n",
      "Image: weti1_2024_11_12_17_34_m.jpg\n"
     ]
    },
    {
     "name": "stderr",
     "output_type": "stream",
     "text": [
      "image 1/1 /mnt/c/Users/gtraw/Projekt_badawczy/dataset_11_12/weti1_2024_11_12_17_34_m.jpg: 1088x1920 10 objects, 54.9ms\n",
      "Speed: 6.4ms preprocess, 54.9ms inference, 8.5ms postprocess per image at shape (1, 3, 1920, 1920)\n",
      "\n"
     ]
    },
    {
     "name": "stdout",
     "output_type": "stream",
     "text": [
      "Matrix size: [1, 10]\n",
      "Similarity matrix built in 0.00s                                                                                                    \n",
      "\n",
      "Image: weti1_2024_11_12_17_44.jpg\n"
     ]
    },
    {
     "name": "stderr",
     "output_type": "stream",
     "text": [
      "image 1/1 /mnt/c/Users/gtraw/Projekt_badawczy/dataset_11_12/weti1_2024_11_12_17_44.jpg: 1088x1920 58 objects, 47.6ms\n",
      "Speed: 6.2ms preprocess, 47.6ms inference, 18.0ms postprocess per image at shape (1, 3, 1920, 1920)\n",
      "\n"
     ]
    },
    {
     "name": "stdout",
     "output_type": "stream",
     "text": [
      "Matrix size: [1, 58]\n",
      "Similarity matrix built in 0.01s                                                                                                    \n",
      "\n",
      "Image: weti1_2024_11_12_17_44_m.jpg\n"
     ]
    },
    {
     "name": "stderr",
     "output_type": "stream",
     "text": [
      "image 1/1 /mnt/c/Users/gtraw/Projekt_badawczy/dataset_11_12/weti1_2024_11_12_17_44_m.jpg: 1088x1920 11 objects, 47.5ms\n",
      "Speed: 5.1ms preprocess, 47.5ms inference, 9.5ms postprocess per image at shape (1, 3, 1920, 1920)\n",
      "\n"
     ]
    },
    {
     "name": "stdout",
     "output_type": "stream",
     "text": [
      "Matrix size: [1, 11]\n",
      "Similarity matrix built in 0.00s                                                                                                    \n",
      "\n",
      "Image: weti1_2024_11_12_17_54.jpg\n"
     ]
    },
    {
     "name": "stderr",
     "output_type": "stream",
     "text": [
      "image 1/1 /mnt/c/Users/gtraw/Projekt_badawczy/dataset_11_12/weti1_2024_11_12_17_54.jpg: 1088x1920 51 objects, 45.1ms\n",
      "Speed: 5.6ms preprocess, 45.1ms inference, 14.8ms postprocess per image at shape (1, 3, 1920, 1920)\n",
      "\n"
     ]
    },
    {
     "name": "stdout",
     "output_type": "stream",
     "text": [
      "Matrix size: [1, 51]\n",
      "Similarity matrix built in 0.01s                                                                                                    \n",
      "\n",
      "Image: weti1_2024_11_12_17_54_m.jpg\n"
     ]
    },
    {
     "name": "stderr",
     "output_type": "stream",
     "text": [
      "image 1/1 /mnt/c/Users/gtraw/Projekt_badawczy/dataset_11_12/weti1_2024_11_12_17_54_m.jpg: 1088x1920 8 objects, 48.1ms\n",
      "Speed: 4.9ms preprocess, 48.1ms inference, 10.4ms postprocess per image at shape (1, 3, 1920, 1920)\n",
      "\n"
     ]
    },
    {
     "name": "stdout",
     "output_type": "stream",
     "text": [
      "Matrix size: [1, 8]\n",
      "Similarity matrix built in 0.00s                                                                                                    \n",
      "\n",
      "Image: weti1_2024_11_12_18_04.jpg\n"
     ]
    },
    {
     "name": "stderr",
     "output_type": "stream",
     "text": [
      "image 1/1 /mnt/c/Users/gtraw/Projekt_badawczy/dataset_11_12/weti1_2024_11_12_18_04.jpg: 1088x1920 50 objects, 44.9ms\n",
      "Speed: 6.6ms preprocess, 44.9ms inference, 15.1ms postprocess per image at shape (1, 3, 1920, 1920)\n",
      "\n"
     ]
    },
    {
     "name": "stdout",
     "output_type": "stream",
     "text": [
      "Matrix size: [1, 50]\n",
      "Similarity matrix built in 0.01s                                                                                                    \n",
      "\n",
      "Image: weti1_2024_11_12_18_04_m.jpg\n"
     ]
    },
    {
     "name": "stderr",
     "output_type": "stream",
     "text": [
      "image 1/1 /mnt/c/Users/gtraw/Projekt_badawczy/dataset_11_12/weti1_2024_11_12_18_04_m.jpg: 1088x1920 7 objects, 49.4ms\n",
      "Speed: 7.1ms preprocess, 49.4ms inference, 5.1ms postprocess per image at shape (1, 3, 1920, 1920)\n",
      "\n"
     ]
    },
    {
     "name": "stdout",
     "output_type": "stream",
     "text": [
      "Matrix size: [1, 7]\n",
      "Similarity matrix built in 0.00s                                                                                                    \n",
      "\n",
      "Image: weti1_2024_11_12_18_14.jpg\n"
     ]
    },
    {
     "name": "stderr",
     "output_type": "stream",
     "text": [
      "image 1/1 /mnt/c/Users/gtraw/Projekt_badawczy/dataset_11_12/weti1_2024_11_12_18_14.jpg: 1088x1920 41 objects, 45.1ms\n",
      "Speed: 6.8ms preprocess, 45.1ms inference, 10.0ms postprocess per image at shape (1, 3, 1920, 1920)\n",
      "\n"
     ]
    },
    {
     "name": "stdout",
     "output_type": "stream",
     "text": [
      "Matrix size: [0, 41]\n",
      "Similarity matrix built in 0.00s                                                                                                    \n",
      "\n",
      "Image: weti1_2024_11_12_18_14_m.jpg\n"
     ]
    },
    {
     "name": "stderr",
     "output_type": "stream",
     "text": [
      "image 1/1 /mnt/c/Users/gtraw/Projekt_badawczy/dataset_11_12/weti1_2024_11_12_18_14_m.jpg: 1088x1920 6 objects, 49.4ms\n",
      "Speed: 5.8ms preprocess, 49.4ms inference, 5.9ms postprocess per image at shape (1, 3, 1920, 1920)\n",
      "\n"
     ]
    },
    {
     "name": "stdout",
     "output_type": "stream",
     "text": [
      "Matrix size: [0, 6]\n",
      "Similarity matrix built in 0.00s                                                                                                    \n",
      "\n",
      "Image: weti1_2024_11_12_18_24.jpg\n"
     ]
    },
    {
     "name": "stderr",
     "output_type": "stream",
     "text": [
      "image 1/1 /mnt/c/Users/gtraw/Projekt_badawczy/dataset_11_12/weti1_2024_11_12_18_24.jpg: 1088x1920 42 objects, 50.4ms\n",
      "Speed: 4.9ms preprocess, 50.4ms inference, 10.5ms postprocess per image at shape (1, 3, 1920, 1920)\n",
      "\n"
     ]
    },
    {
     "name": "stdout",
     "output_type": "stream",
     "text": [
      "Matrix size: [0, 42]\n",
      "Similarity matrix built in 0.00s                                                                                                    \n",
      "\n",
      "Image: weti1_2024_11_12_18_24_m.jpg\n"
     ]
    },
    {
     "name": "stderr",
     "output_type": "stream",
     "text": [
      "image 1/1 /mnt/c/Users/gtraw/Projekt_badawczy/dataset_11_12/weti1_2024_11_12_18_24_m.jpg: 1088x1920 6 objects, 51.4ms\n",
      "Speed: 4.9ms preprocess, 51.4ms inference, 7.7ms postprocess per image at shape (1, 3, 1920, 1920)\n",
      "\n"
     ]
    },
    {
     "name": "stdout",
     "output_type": "stream",
     "text": [
      "Matrix size: [0, 6]\n",
      "Similarity matrix built in 0.00s                                                                                                    \n",
      "\n",
      "Image: weti1_2024_11_12_18_34.jpg\n"
     ]
    },
    {
     "name": "stderr",
     "output_type": "stream",
     "text": [
      "image 1/1 /mnt/c/Users/gtraw/Projekt_badawczy/dataset_11_12/weti1_2024_11_12_18_34.jpg: 1088x1920 47 objects, 48.2ms\n",
      "Speed: 6.0ms preprocess, 48.2ms inference, 13.4ms postprocess per image at shape (1, 3, 1920, 1920)\n",
      "\n"
     ]
    },
    {
     "name": "stdout",
     "output_type": "stream",
     "text": [
      "Matrix size: [0, 47]\n",
      "Similarity matrix built in 0.00s                                                                                                    \n",
      "\n",
      "Image: weti1_2024_11_12_18_34_m.jpg\n"
     ]
    },
    {
     "name": "stderr",
     "output_type": "stream",
     "text": [
      "image 1/1 /mnt/c/Users/gtraw/Projekt_badawczy/dataset_11_12/weti1_2024_11_12_18_34_m.jpg: 1088x1920 7 objects, 48.7ms\n",
      "Speed: 5.6ms preprocess, 48.7ms inference, 13.8ms postprocess per image at shape (1, 3, 1920, 1920)\n",
      "\n"
     ]
    },
    {
     "name": "stdout",
     "output_type": "stream",
     "text": [
      "Matrix size: [0, 7]\n",
      "Similarity matrix built in 0.00s                                                                                                    \n",
      "\n",
      "Image: weti2_2024_11_12_09_28.jpg\n"
     ]
    },
    {
     "name": "stderr",
     "output_type": "stream",
     "text": [
      "image 1/1 /mnt/c/Users/gtraw/Projekt_badawczy/dataset_11_12/weti2_2024_11_12_09_28.jpg: 1088x1920 249 objects, 43.0ms\n",
      "Speed: 5.8ms preprocess, 43.0ms inference, 917.0ms postprocess per image at shape (1, 3, 1920, 1920)\n"
     ]
    },
    {
     "name": "stdout",
     "output_type": "stream",
     "text": [
      "Matrix size: [34, 249]\n",
      "Building similarity matrix:       7713/8466\r"
     ]
    },
    {
     "name": "stderr",
     "output_type": "stream",
     "text": [
      "\n"
     ]
    },
    {
     "name": "stdout",
     "output_type": "stream",
     "text": [
      "Similarity matrix built in 0.90s                                                                                                    \n",
      "\n",
      "Image: weti2_2024_11_12_09_28_m.jpg\n"
     ]
    },
    {
     "name": "stderr",
     "output_type": "stream",
     "text": [
      "image 1/1 /mnt/c/Users/gtraw/Projekt_badawczy/dataset_11_12/weti2_2024_11_12_09_28_m.jpg: 1088x1920 123 objects, 373.4ms\n",
      "Speed: 7.2ms preprocess, 373.4ms inference, 20.4ms postprocess per image at shape (1, 3, 1920, 1920)\n"
     ]
    },
    {
     "name": "stdout",
     "output_type": "stream",
     "text": [
      "Matrix size: [34, 123]\n",
      "Building similarity matrix:       3236/4182\r"
     ]
    },
    {
     "name": "stderr",
     "output_type": "stream",
     "text": [
      "\n"
     ]
    },
    {
     "name": "stdout",
     "output_type": "stream",
     "text": [
      "Similarity matrix built in 0.50s                                                                                                    \n",
      "\n",
      "Image: weti2_2024_11_12_09_38.jpg\n"
     ]
    },
    {
     "name": "stderr",
     "output_type": "stream",
     "text": [
      "image 1/1 /mnt/c/Users/gtraw/Projekt_badawczy/dataset_11_12/weti2_2024_11_12_09_38.jpg: 1088x1920 263 objects, 60.9ms\n",
      "Speed: 8.6ms preprocess, 60.9ms inference, 880.9ms postprocess per image at shape (1, 3, 1920, 1920)\n"
     ]
    },
    {
     "name": "stdout",
     "output_type": "stream",
     "text": [
      "Matrix size: [35, 263]\n",
      "Building similarity matrix:       8027/9205\r"
     ]
    },
    {
     "name": "stderr",
     "output_type": "stream",
     "text": [
      "\n"
     ]
    },
    {
     "name": "stdout",
     "output_type": "stream",
     "text": [
      "Similarity matrix built in 1.39s                                                                                                    \n",
      "\n",
      "Image: weti2_2024_11_12_09_38_m.jpg\n"
     ]
    },
    {
     "name": "stderr",
     "output_type": "stream",
     "text": [
      "image 1/1 /mnt/c/Users/gtraw/Projekt_badawczy/dataset_11_12/weti2_2024_11_12_09_38_m.jpg: 1088x1920 131 objects, 253.8ms\n",
      "Speed: 11.9ms preprocess, 253.8ms inference, 38.4ms postprocess per image at shape (1, 3, 1920, 1920)\n"
     ]
    },
    {
     "name": "stdout",
     "output_type": "stream",
     "text": [
      "Matrix size: [35, 131]\n",
      "Building similarity matrix:       4209/4585\r"
     ]
    },
    {
     "name": "stderr",
     "output_type": "stream",
     "text": [
      "\n"
     ]
    },
    {
     "name": "stdout",
     "output_type": "stream",
     "text": [
      "Similarity matrix built in 0.69s                                                                                                    \n",
      "\n",
      "Image: weti2_2024_11_12_09_48.jpg\n"
     ]
    },
    {
     "name": "stderr",
     "output_type": "stream",
     "text": [
      "image 1/1 /mnt/c/Users/gtraw/Projekt_badawczy/dataset_11_12/weti2_2024_11_12_09_48.jpg: 1088x1920 257 objects, 52.8ms\n",
      "Speed: 8.0ms preprocess, 52.8ms inference, 884.9ms postprocess per image at shape (1, 3, 1920, 1920)\n"
     ]
    },
    {
     "name": "stdout",
     "output_type": "stream",
     "text": [
      "Matrix size: [35, 257]\n",
      "Similarity matrix built in 0.99s                                                                                                    \n",
      "\n",
      "Image: weti2_2024_11_12_09_48_m.jpg\n"
     ]
    },
    {
     "name": "stderr",
     "output_type": "stream",
     "text": [
      "\n",
      "image 1/1 /mnt/c/Users/gtraw/Projekt_badawczy/dataset_11_12/weti2_2024_11_12_09_48_m.jpg: 1088x1920 129 objects, 770.0ms\n",
      "Speed: 21.3ms preprocess, 770.0ms inference, 31.6ms postprocess per image at shape (1, 3, 1920, 1920)\n"
     ]
    },
    {
     "name": "stdout",
     "output_type": "stream",
     "text": [
      "Matrix size: [35, 129]\n",
      "Building similarity matrix:       4055/4515\r"
     ]
    },
    {
     "name": "stderr",
     "output_type": "stream",
     "text": [
      "\n"
     ]
    },
    {
     "name": "stdout",
     "output_type": "stream",
     "text": [
      "Similarity matrix built in 0.46s                                                                                                    \n",
      "\n",
      "Image: weti2_2024_11_12_09_58.jpg\n"
     ]
    },
    {
     "name": "stderr",
     "output_type": "stream",
     "text": [
      "image 1/1 /mnt/c/Users/gtraw/Projekt_badawczy/dataset_11_12/weti2_2024_11_12_09_58.jpg: 1088x1920 268 objects, 46.4ms\n",
      "Speed: 5.1ms preprocess, 46.4ms inference, 823.0ms postprocess per image at shape (1, 3, 1920, 1920)\n"
     ]
    },
    {
     "name": "stdout",
     "output_type": "stream",
     "text": [
      "Matrix size: [36, 268]\n",
      "Building similarity matrix:       8424/9648\r"
     ]
    },
    {
     "name": "stderr",
     "output_type": "stream",
     "text": [
      "\n"
     ]
    },
    {
     "name": "stdout",
     "output_type": "stream",
     "text": [
      "Similarity matrix built in 1.14s                                                                                                    \n",
      "\n",
      "Image: weti2_2024_11_12_09_58_m.jpg\n"
     ]
    },
    {
     "name": "stderr",
     "output_type": "stream",
     "text": [
      "image 1/1 /mnt/c/Users/gtraw/Projekt_badawczy/dataset_11_12/weti2_2024_11_12_09_58_m.jpg: 1088x1920 134 objects, 397.1ms\n",
      "Speed: 8.6ms preprocess, 397.1ms inference, 204.1ms postprocess per image at shape (1, 3, 1920, 1920)\n"
     ]
    },
    {
     "name": "stdout",
     "output_type": "stream",
     "text": [
      "Matrix size: [36, 134]\n",
      "Building similarity matrix:       4215/4824\r"
     ]
    },
    {
     "name": "stderr",
     "output_type": "stream",
     "text": [
      "\n"
     ]
    },
    {
     "name": "stdout",
     "output_type": "stream",
     "text": [
      "Similarity matrix built in 0.49s                                                                                                    \n",
      "\n",
      "Image: weti2_2024_11_12_10_08.jpg\n"
     ]
    },
    {
     "name": "stderr",
     "output_type": "stream",
     "text": [
      "image 1/1 /mnt/c/Users/gtraw/Projekt_badawczy/dataset_11_12/weti2_2024_11_12_10_08.jpg: 1088x1920 270 objects, 49.3ms\n",
      "Speed: 7.9ms preprocess, 49.3ms inference, 883.7ms postprocess per image at shape (1, 3, 1920, 1920)\n"
     ]
    },
    {
     "name": "stdout",
     "output_type": "stream",
     "text": [
      "Matrix size: [36, 270]\n",
      "Building similarity matrix:       9669/9720\r"
     ]
    },
    {
     "name": "stderr",
     "output_type": "stream",
     "text": [
      "\n"
     ]
    },
    {
     "name": "stdout",
     "output_type": "stream",
     "text": [
      "Similarity matrix built in 1.02s                                                                                                    \n",
      "\n",
      "Image: weti2_2024_11_12_10_08_m.jpg\n"
     ]
    },
    {
     "name": "stderr",
     "output_type": "stream",
     "text": [
      "image 1/1 /mnt/c/Users/gtraw/Projekt_badawczy/dataset_11_12/weti2_2024_11_12_10_08_m.jpg: 1088x1920 138 objects, 2813.2ms\n",
      "Speed: 23.5ms preprocess, 2813.2ms inference, 109.7ms postprocess per image at shape (1, 3, 1920, 1920)\n"
     ]
    },
    {
     "name": "stdout",
     "output_type": "stream",
     "text": [
      "Matrix size: [36, 138]\n",
      "Similarity matrix built in 0.58s                                                                                                    \n",
      "\n",
      "Image: weti2_2024_11_12_10_18.jpg\n"
     ]
    },
    {
     "name": "stderr",
     "output_type": "stream",
     "text": [
      "\n",
      "image 1/1 /mnt/c/Users/gtraw/Projekt_badawczy/dataset_11_12/weti2_2024_11_12_10_18.jpg: 1088x1920 264 objects, 61.3ms\n",
      "Speed: 8.4ms preprocess, 61.3ms inference, 846.4ms postprocess per image at shape (1, 3, 1920, 1920)\n"
     ]
    },
    {
     "name": "stdout",
     "output_type": "stream",
     "text": [
      "Matrix size: [37, 264]\n",
      "Building similarity matrix:       8527/9768\r"
     ]
    },
    {
     "name": "stderr",
     "output_type": "stream",
     "text": [
      "\n"
     ]
    },
    {
     "name": "stdout",
     "output_type": "stream",
     "text": [
      "Similarity matrix built in 1.14s                                                                                                    \n",
      "\n",
      "Image: weti2_2024_11_12_10_18_m.jpg\n"
     ]
    },
    {
     "name": "stderr",
     "output_type": "stream",
     "text": [
      "image 1/1 /mnt/c/Users/gtraw/Projekt_badawczy/dataset_11_12/weti2_2024_11_12_10_18_m.jpg: 1088x1920 130 objects, 177.0ms\n",
      "Speed: 9.2ms preprocess, 177.0ms inference, 29.9ms postprocess per image at shape (1, 3, 1920, 1920)\n"
     ]
    },
    {
     "name": "stdout",
     "output_type": "stream",
     "text": [
      "Matrix size: [37, 130]\n",
      "Building similarity matrix:       4056/4810\r"
     ]
    },
    {
     "name": "stderr",
     "output_type": "stream",
     "text": [
      "\n"
     ]
    },
    {
     "name": "stdout",
     "output_type": "stream",
     "text": [
      "Similarity matrix built in 0.48s                                                                                                    \n",
      "\n",
      "Image: weti2_2024_11_12_10_29.jpg\n"
     ]
    },
    {
     "name": "stderr",
     "output_type": "stream",
     "text": [
      "image 1/1 /mnt/c/Users/gtraw/Projekt_badawczy/dataset_11_12/weti2_2024_11_12_10_29.jpg: 1088x1920 270 objects, 45.9ms\n",
      "Speed: 5.2ms preprocess, 45.9ms inference, 784.0ms postprocess per image at shape (1, 3, 1920, 1920)\n"
     ]
    },
    {
     "name": "stdout",
     "output_type": "stream",
     "text": [
      "Matrix size: [36, 270]\n",
      "Building similarity matrix:       9167/9720\r"
     ]
    },
    {
     "name": "stderr",
     "output_type": "stream",
     "text": [
      "\n"
     ]
    },
    {
     "name": "stdout",
     "output_type": "stream",
     "text": [
      "Similarity matrix built in 1.07s                                                                                                    \n",
      "\n",
      "Image: weti2_2024_11_12_10_29_m.jpg\n"
     ]
    },
    {
     "name": "stderr",
     "output_type": "stream",
     "text": [
      "image 1/1 /mnt/c/Users/gtraw/Projekt_badawczy/dataset_11_12/weti2_2024_11_12_10_29_m.jpg: 1088x1920 140 objects, 2714.5ms\n",
      "Speed: 18.7ms preprocess, 2714.5ms inference, 71.3ms postprocess per image at shape (1, 3, 1920, 1920)\n"
     ]
    },
    {
     "name": "stdout",
     "output_type": "stream",
     "text": [
      "Matrix size: [36, 140]\n",
      "Building similarity matrix:       3778/5040\r"
     ]
    },
    {
     "name": "stderr",
     "output_type": "stream",
     "text": [
      "\n"
     ]
    },
    {
     "name": "stdout",
     "output_type": "stream",
     "text": [
      "Similarity matrix built in 0.54s                                                                                                    \n",
      "\n",
      "Image: weti2_2024_11_12_10_39.jpg\n"
     ]
    },
    {
     "name": "stderr",
     "output_type": "stream",
     "text": [
      "image 1/1 /mnt/c/Users/gtraw/Projekt_badawczy/dataset_11_12/weti2_2024_11_12_10_39.jpg: 1088x1920 276 objects, 47.3ms\n",
      "Speed: 4.8ms preprocess, 47.3ms inference, 815.7ms postprocess per image at shape (1, 3, 1920, 1920)\n"
     ]
    },
    {
     "name": "stdout",
     "output_type": "stream",
     "text": [
      "Matrix size: [36, 276]\n",
      "Building similarity matrix:       8124/9936\r"
     ]
    },
    {
     "name": "stderr",
     "output_type": "stream",
     "text": [
      "\n"
     ]
    },
    {
     "name": "stdout",
     "output_type": "stream",
     "text": [
      "Similarity matrix built in 0.98s                                                                                                    \n",
      "\n",
      "Image: weti2_2024_11_12_10_39_m.jpg\n"
     ]
    },
    {
     "name": "stderr",
     "output_type": "stream",
     "text": [
      "image 1/1 /mnt/c/Users/gtraw/Projekt_badawczy/dataset_11_12/weti2_2024_11_12_10_39_m.jpg: 1088x1920 137 objects, 2677.4ms\n",
      "Speed: 14.7ms preprocess, 2677.4ms inference, 66.8ms postprocess per image at shape (1, 3, 1920, 1920)\n"
     ]
    },
    {
     "name": "stdout",
     "output_type": "stream",
     "text": [
      "Matrix size: [36, 137]\n",
      "Building similarity matrix:       3663/4932\r"
     ]
    },
    {
     "name": "stderr",
     "output_type": "stream",
     "text": [
      "\n"
     ]
    },
    {
     "name": "stdout",
     "output_type": "stream",
     "text": [
      "Similarity matrix built in 0.55s                                                                                                    \n",
      "\n",
      "Image: weti2_2024_11_12_11_27.jpg\n"
     ]
    },
    {
     "name": "stderr",
     "output_type": "stream",
     "text": [
      "image 1/1 /mnt/c/Users/gtraw/Projekt_badawczy/dataset_11_12/weti2_2024_11_12_11_27.jpg: 1088x1920 269 objects, 47.9ms\n",
      "Speed: 6.9ms preprocess, 47.9ms inference, 845.3ms postprocess per image at shape (1, 3, 1920, 1920)\n"
     ]
    },
    {
     "name": "stdout",
     "output_type": "stream",
     "text": [
      "Matrix size: [36, 269]\n",
      "Similarity matrix built in 1.00s                                                                                                    \n"
     ]
    },
    {
     "name": "stderr",
     "output_type": "stream",
     "text": [
      "\n"
     ]
    },
    {
     "name": "stdout",
     "output_type": "stream",
     "text": [
      "\n",
      "Image: weti2_2024_11_12_11_27_m.jpg\n"
     ]
    },
    {
     "name": "stderr",
     "output_type": "stream",
     "text": [
      "image 1/1 /mnt/c/Users/gtraw/Projekt_badawczy/dataset_11_12/weti2_2024_11_12_11_27_m.jpg: 1088x1920 136 objects, 415.7ms\n",
      "Speed: 8.5ms preprocess, 415.7ms inference, 221.8ms postprocess per image at shape (1, 3, 1920, 1920)\n"
     ]
    },
    {
     "name": "stdout",
     "output_type": "stream",
     "text": [
      "Matrix size: [36, 136]\n",
      "Building similarity matrix:       4069/4896\r"
     ]
    },
    {
     "name": "stderr",
     "output_type": "stream",
     "text": [
      "\n"
     ]
    },
    {
     "name": "stdout",
     "output_type": "stream",
     "text": [
      "Similarity matrix built in 0.70s                                                                                                    \n",
      "\n",
      "Image: weti2_2024_11_12_11_37.jpg\n"
     ]
    },
    {
     "name": "stderr",
     "output_type": "stream",
     "text": [
      "image 1/1 /mnt/c/Users/gtraw/Projekt_badawczy/dataset_11_12/weti2_2024_11_12_11_37.jpg: 1088x1920 265 objects, 48.9ms\n",
      "Speed: 6.0ms preprocess, 48.9ms inference, 861.2ms postprocess per image at shape (1, 3, 1920, 1920)\n"
     ]
    },
    {
     "name": "stdout",
     "output_type": "stream",
     "text": [
      "Matrix size: [36, 265]\n",
      "Building similarity matrix:       8817/9540\r"
     ]
    },
    {
     "name": "stderr",
     "output_type": "stream",
     "text": [
      "\n"
     ]
    },
    {
     "name": "stdout",
     "output_type": "stream",
     "text": [
      "Similarity matrix built in 1.09s                                                                                                    \n",
      "\n",
      "Image: weti2_2024_11_12_11_37_m.jpg\n"
     ]
    },
    {
     "name": "stderr",
     "output_type": "stream",
     "text": [
      "image 1/1 /mnt/c/Users/gtraw/Projekt_badawczy/dataset_11_12/weti2_2024_11_12_11_37_m.jpg: 1088x1920 127 objects, 52.7ms\n",
      "Speed: 6.5ms preprocess, 52.7ms inference, 23.3ms postprocess per image at shape (1, 3, 1920, 1920)\n"
     ]
    },
    {
     "name": "stdout",
     "output_type": "stream",
     "text": [
      "Matrix size: [36, 127]\n",
      "Building similarity matrix:       2945/4572\r"
     ]
    },
    {
     "name": "stderr",
     "output_type": "stream",
     "text": [
      "\n"
     ]
    },
    {
     "name": "stdout",
     "output_type": "stream",
     "text": [
      "Similarity matrix built in 0.57s                                                                                                    \n",
      "\n",
      "Image: weti2_2024_11_12_11_47.jpg\n"
     ]
    },
    {
     "name": "stderr",
     "output_type": "stream",
     "text": [
      "image 1/1 /mnt/c/Users/gtraw/Projekt_badawczy/dataset_11_12/weti2_2024_11_12_11_47.jpg: 1088x1920 271 objects, 47.4ms\n",
      "Speed: 7.4ms preprocess, 47.4ms inference, 840.3ms postprocess per image at shape (1, 3, 1920, 1920)\n"
     ]
    },
    {
     "name": "stdout",
     "output_type": "stream",
     "text": [
      "Matrix size: [37, 271]\n",
      "Building similarity matrix:       8586/10027\r"
     ]
    },
    {
     "name": "stderr",
     "output_type": "stream",
     "text": [
      "\n"
     ]
    },
    {
     "name": "stdout",
     "output_type": "stream",
     "text": [
      "Similarity matrix built in 1.36s                                                                                                    \n",
      "\n",
      "Image: weti2_2024_11_12_11_47_m.jpg\n"
     ]
    },
    {
     "name": "stderr",
     "output_type": "stream",
     "text": [
      "image 1/1 /mnt/c/Users/gtraw/Projekt_badawczy/dataset_11_12/weti2_2024_11_12_11_47_m.jpg: 1088x1920 136 objects, 2783.4ms\n",
      "Speed: 27.2ms preprocess, 2783.4ms inference, 96.3ms postprocess per image at shape (1, 3, 1920, 1920)\n"
     ]
    },
    {
     "name": "stdout",
     "output_type": "stream",
     "text": [
      "Matrix size: [37, 136]\n",
      "Building similarity matrix:       4723/5032\r"
     ]
    },
    {
     "name": "stderr",
     "output_type": "stream",
     "text": [
      "\n"
     ]
    },
    {
     "name": "stdout",
     "output_type": "stream",
     "text": [
      "Similarity matrix built in 0.64s                                                                                                    \n",
      "\n",
      "Image: weti2_2024_11_12_11_57.jpg\n"
     ]
    },
    {
     "name": "stderr",
     "output_type": "stream",
     "text": [
      "image 1/1 /mnt/c/Users/gtraw/Projekt_badawczy/dataset_11_12/weti2_2024_11_12_11_57.jpg: 1088x1920 272 objects, 55.3ms\n",
      "Speed: 8.0ms preprocess, 55.3ms inference, 964.3ms postprocess per image at shape (1, 3, 1920, 1920)\n"
     ]
    },
    {
     "name": "stdout",
     "output_type": "stream",
     "text": [
      "Matrix size: [37, 272]\n",
      "Building similarity matrix:       9661/10064\r"
     ]
    },
    {
     "name": "stderr",
     "output_type": "stream",
     "text": [
      "\n"
     ]
    },
    {
     "name": "stdout",
     "output_type": "stream",
     "text": [
      "Similarity matrix built in 1.05s                                                                                                    \n",
      "\n",
      "Image: weti2_2024_11_12_11_57_m.jpg\n"
     ]
    },
    {
     "name": "stderr",
     "output_type": "stream",
     "text": [
      "image 1/1 /mnt/c/Users/gtraw/Projekt_badawczy/dataset_11_12/weti2_2024_11_12_11_57_m.jpg: 1088x1920 134 objects, 2725.3ms\n",
      "Speed: 24.3ms preprocess, 2725.3ms inference, 68.0ms postprocess per image at shape (1, 3, 1920, 1920)\n"
     ]
    },
    {
     "name": "stdout",
     "output_type": "stream",
     "text": [
      "Matrix size: [37, 134]\n",
      "Building similarity matrix:       4222/4958\r"
     ]
    },
    {
     "name": "stderr",
     "output_type": "stream",
     "text": [
      "\n"
     ]
    },
    {
     "name": "stdout",
     "output_type": "stream",
     "text": [
      "Similarity matrix built in 0.50s                                                                                                    \n",
      "\n",
      "Image: weti2_2024_11_12_12_07.jpg\n"
     ]
    },
    {
     "name": "stderr",
     "output_type": "stream",
     "text": [
      "image 1/1 /mnt/c/Users/gtraw/Projekt_badawczy/dataset_11_12/weti2_2024_11_12_12_07.jpg: 1088x1920 275 objects, 47.6ms\n",
      "Speed: 7.8ms preprocess, 47.6ms inference, 780.8ms postprocess per image at shape (1, 3, 1920, 1920)\n"
     ]
    },
    {
     "name": "stdout",
     "output_type": "stream",
     "text": [
      "Matrix size: [37, 275]\n",
      "Building similarity matrix:       9900/10175\r"
     ]
    },
    {
     "name": "stderr",
     "output_type": "stream",
     "text": [
      "\n"
     ]
    },
    {
     "name": "stdout",
     "output_type": "stream",
     "text": [
      "Similarity matrix built in 1.04s                                                                                                    \n",
      "\n",
      "Image: weti2_2024_11_12_12_07_m.jpg\n"
     ]
    },
    {
     "name": "stderr",
     "output_type": "stream",
     "text": [
      "image 1/1 /mnt/c/Users/gtraw/Projekt_badawczy/dataset_11_12/weti2_2024_11_12_12_07_m.jpg: 1088x1920 140 objects, 2611.1ms\n",
      "Speed: 17.0ms preprocess, 2611.1ms inference, 79.1ms postprocess per image at shape (1, 3, 1920, 1920)\n"
     ]
    },
    {
     "name": "stdout",
     "output_type": "stream",
     "text": [
      "Matrix size: [37, 140]\n",
      "Building similarity matrix:       3934/5180\r"
     ]
    },
    {
     "name": "stderr",
     "output_type": "stream",
     "text": [
      "\n"
     ]
    },
    {
     "name": "stdout",
     "output_type": "stream",
     "text": [
      "Similarity matrix built in 0.53s                                                                                                    \n",
      "\n",
      "Image: weti2_2024_11_12_12_17.jpg\n"
     ]
    },
    {
     "name": "stderr",
     "output_type": "stream",
     "text": [
      "image 1/1 /mnt/c/Users/gtraw/Projekt_badawczy/dataset_11_12/weti2_2024_11_12_12_17.jpg: 1088x1920 278 objects, 46.3ms\n",
      "Speed: 5.0ms preprocess, 46.3ms inference, 813.3ms postprocess per image at shape (1, 3, 1920, 1920)\n"
     ]
    },
    {
     "name": "stdout",
     "output_type": "stream",
     "text": [
      "Matrix size: [38, 278]\n",
      "Building similarity matrix:      10336/10564\r"
     ]
    },
    {
     "name": "stderr",
     "output_type": "stream",
     "text": [
      "\n"
     ]
    },
    {
     "name": "stdout",
     "output_type": "stream",
     "text": [
      "Similarity matrix built in 1.03s                                                                                                    \n",
      "\n",
      "Image: weti2_2024_11_12_12_17_m.jpg\n"
     ]
    },
    {
     "name": "stderr",
     "output_type": "stream",
     "text": [
      "image 1/1 /mnt/c/Users/gtraw/Projekt_badawczy/dataset_11_12/weti2_2024_11_12_12_17_m.jpg: 1088x1920 144 objects, 2660.8ms\n",
      "Speed: 16.1ms preprocess, 2660.8ms inference, 40.8ms postprocess per image at shape (1, 3, 1920, 1920)\n"
     ]
    },
    {
     "name": "stdout",
     "output_type": "stream",
     "text": [
      "Matrix size: [38, 144]\n",
      "Building similarity matrix:       4367/5472\r"
     ]
    },
    {
     "name": "stderr",
     "output_type": "stream",
     "text": [
      "\n"
     ]
    },
    {
     "name": "stdout",
     "output_type": "stream",
     "text": [
      "Similarity matrix built in 0.51s                                                                                                    \n",
      "\n",
      "Image: weti2_2024_11_12_12_27.jpg\n"
     ]
    },
    {
     "name": "stderr",
     "output_type": "stream",
     "text": [
      "image 1/1 /mnt/c/Users/gtraw/Projekt_badawczy/dataset_11_12/weti2_2024_11_12_12_27.jpg: 1088x1920 281 objects, 47.1ms\n",
      "Speed: 5.8ms preprocess, 47.1ms inference, 836.3ms postprocess per image at shape (1, 3, 1920, 1920)\n"
     ]
    },
    {
     "name": "stdout",
     "output_type": "stream",
     "text": [
      "Matrix size: [38, 281]\n",
      "Building similarity matrix:      10218/10678\r"
     ]
    },
    {
     "name": "stderr",
     "output_type": "stream",
     "text": [
      "\n"
     ]
    },
    {
     "name": "stdout",
     "output_type": "stream",
     "text": [
      "Similarity matrix built in 1.05s                                                                                                    \n",
      "\n",
      "Image: weti2_2024_11_12_12_27_m.jpg\n"
     ]
    },
    {
     "name": "stderr",
     "output_type": "stream",
     "text": [
      "image 1/1 /mnt/c/Users/gtraw/Projekt_badawczy/dataset_11_12/weti2_2024_11_12_12_27_m.jpg: 1088x1920 142 objects, 1976.6ms\n",
      "Speed: 21.0ms preprocess, 1976.6ms inference, 48.6ms postprocess per image at shape (1, 3, 1920, 1920)\n"
     ]
    },
    {
     "name": "stdout",
     "output_type": "stream",
     "text": [
      "Matrix size: [38, 142]\n",
      "Building similarity matrix:       4751/5396\r"
     ]
    },
    {
     "name": "stderr",
     "output_type": "stream",
     "text": [
      "\n"
     ]
    },
    {
     "name": "stdout",
     "output_type": "stream",
     "text": [
      "Similarity matrix built in 0.67s                                                                                                    \n",
      "\n",
      "Image: weti2_2024_11_12_12_37.jpg\n"
     ]
    },
    {
     "name": "stderr",
     "output_type": "stream",
     "text": [
      "image 1/1 /mnt/c/Users/gtraw/Projekt_badawczy/dataset_11_12/weti2_2024_11_12_12_37.jpg: 1088x1920 290 objects, 46.7ms\n",
      "Speed: 10.1ms preprocess, 46.7ms inference, 867.8ms postprocess per image at shape (1, 3, 1920, 1920)\n"
     ]
    },
    {
     "name": "stdout",
     "output_type": "stream",
     "text": [
      "Matrix size: [38, 290]\n",
      "Building similarity matrix:      10749/11020\r"
     ]
    },
    {
     "name": "stderr",
     "output_type": "stream",
     "text": [
      "\n"
     ]
    },
    {
     "name": "stdout",
     "output_type": "stream",
     "text": [
      "Similarity matrix built in 1.05s                                                                                                    \n",
      "\n",
      "Image: weti2_2024_11_12_12_37_m.jpg\n"
     ]
    },
    {
     "name": "stderr",
     "output_type": "stream",
     "text": [
      "image 1/1 /mnt/c/Users/gtraw/Projekt_badawczy/dataset_11_12/weti2_2024_11_12_12_37_m.jpg: 1088x1920 142 objects, 912.0ms\n",
      "Speed: 20.1ms preprocess, 912.0ms inference, 31.9ms postprocess per image at shape (1, 3, 1920, 1920)\n"
     ]
    },
    {
     "name": "stdout",
     "output_type": "stream",
     "text": [
      "Matrix size: [38, 142]\n",
      "Building similarity matrix:       4229/5396\r"
     ]
    },
    {
     "name": "stderr",
     "output_type": "stream",
     "text": [
      "\n"
     ]
    },
    {
     "name": "stdout",
     "output_type": "stream",
     "text": [
      "Similarity matrix built in 0.52s                                                                                                    \n",
      "\n",
      "Image: weti2_2024_11_12_12_47.jpg\n"
     ]
    },
    {
     "name": "stderr",
     "output_type": "stream",
     "text": [
      "image 1/1 /mnt/c/Users/gtraw/Projekt_badawczy/dataset_11_12/weti2_2024_11_12_12_47.jpg: 1088x1920 281 objects, 47.8ms\n",
      "Speed: 7.0ms preprocess, 47.8ms inference, 842.4ms postprocess per image at shape (1, 3, 1920, 1920)\n"
     ]
    },
    {
     "name": "stdout",
     "output_type": "stream",
     "text": [
      "Matrix size: [37, 281]\n",
      "Building similarity matrix:       9376/10397\r"
     ]
    },
    {
     "name": "stderr",
     "output_type": "stream",
     "text": [
      "\n"
     ]
    },
    {
     "name": "stdout",
     "output_type": "stream",
     "text": [
      "Similarity matrix built in 1.12s                                                                                                    \n",
      "\n",
      "Image: weti2_2024_11_12_12_47_m.jpg\n"
     ]
    },
    {
     "name": "stderr",
     "output_type": "stream",
     "text": [
      "image 1/1 /mnt/c/Users/gtraw/Projekt_badawczy/dataset_11_12/weti2_2024_11_12_12_47_m.jpg: 1088x1920 138 objects, 2045.5ms\n",
      "Speed: 17.2ms preprocess, 2045.5ms inference, 48.3ms postprocess per image at shape (1, 3, 1920, 1920)\n"
     ]
    },
    {
     "name": "stdout",
     "output_type": "stream",
     "text": [
      "Matrix size: [37, 138]\n",
      "Building similarity matrix:       4788/5106\r"
     ]
    },
    {
     "name": "stderr",
     "output_type": "stream",
     "text": [
      "\n"
     ]
    },
    {
     "name": "stdout",
     "output_type": "stream",
     "text": [
      "Similarity matrix built in 0.68s                                                                                                    \n",
      "\n",
      "Image: weti2_2024_11_12_12_57.jpg\n"
     ]
    },
    {
     "name": "stderr",
     "output_type": "stream",
     "text": [
      "image 1/1 /mnt/c/Users/gtraw/Projekt_badawczy/dataset_11_12/weti2_2024_11_12_12_57.jpg: 1088x1920 287 objects, 63.8ms\n",
      "Speed: 5.9ms preprocess, 63.8ms inference, 1002.8ms postprocess per image at shape (1, 3, 1920, 1920)\n"
     ]
    },
    {
     "name": "stdout",
     "output_type": "stream",
     "text": [
      "Matrix size: [37, 287]\n",
      "Similarity matrix built in 1.01s                                                                                                    \n"
     ]
    },
    {
     "name": "stderr",
     "output_type": "stream",
     "text": [
      "\n"
     ]
    },
    {
     "name": "stdout",
     "output_type": "stream",
     "text": [
      "\n",
      "Image: weti2_2024_11_12_12_57_m.jpg\n"
     ]
    },
    {
     "name": "stderr",
     "output_type": "stream",
     "text": [
      "image 1/1 /mnt/c/Users/gtraw/Projekt_badawczy/dataset_11_12/weti2_2024_11_12_12_57_m.jpg: 1088x1920 143 objects, 1310.9ms\n",
      "Speed: 14.4ms preprocess, 1310.9ms inference, 39.3ms postprocess per image at shape (1, 3, 1920, 1920)\n"
     ]
    },
    {
     "name": "stdout",
     "output_type": "stream",
     "text": [
      "Matrix size: [37, 143]\n",
      "Similarity matrix built in 0.60s                                                                                                    \n"
     ]
    },
    {
     "name": "stderr",
     "output_type": "stream",
     "text": [
      "\n"
     ]
    },
    {
     "name": "stdout",
     "output_type": "stream",
     "text": [
      "\n",
      "Image: weti2_2024_11_12_13_07.jpg\n"
     ]
    },
    {
     "name": "stderr",
     "output_type": "stream",
     "text": [
      "image 1/1 /mnt/c/Users/gtraw/Projekt_badawczy/dataset_11_12/weti2_2024_11_12_13_07.jpg: 1088x1920 276 objects, 52.0ms\n",
      "Speed: 5.0ms preprocess, 52.0ms inference, 800.6ms postprocess per image at shape (1, 3, 1920, 1920)\n"
     ]
    },
    {
     "name": "stdout",
     "output_type": "stream",
     "text": [
      "Matrix size: [37, 276]\n",
      "Building similarity matrix:      10138/10212\r"
     ]
    },
    {
     "name": "stderr",
     "output_type": "stream",
     "text": [
      "\n"
     ]
    },
    {
     "name": "stdout",
     "output_type": "stream",
     "text": [
      "Similarity matrix built in 1.02s                                                                                                    \n",
      "\n",
      "Image: weti2_2024_11_12_13_07_m.jpg\n"
     ]
    },
    {
     "name": "stderr",
     "output_type": "stream",
     "text": [
      "image 1/1 /mnt/c/Users/gtraw/Projekt_badawczy/dataset_11_12/weti2_2024_11_12_13_07_m.jpg: 1088x1920 139 objects, 2752.1ms\n",
      "Speed: 19.0ms preprocess, 2752.1ms inference, 64.9ms postprocess per image at shape (1, 3, 1920, 1920)\n"
     ]
    },
    {
     "name": "stdout",
     "output_type": "stream",
     "text": [
      "Matrix size: [37, 139]\n",
      "Similarity matrix built in 0.60s                                                                                                    \n"
     ]
    },
    {
     "name": "stderr",
     "output_type": "stream",
     "text": [
      "\n"
     ]
    },
    {
     "name": "stdout",
     "output_type": "stream",
     "text": [
      "\n",
      "Image: weti2_2024_11_12_13_17.jpg\n"
     ]
    },
    {
     "name": "stderr",
     "output_type": "stream",
     "text": [
      "image 1/1 /mnt/c/Users/gtraw/Projekt_badawczy/dataset_11_12/weti2_2024_11_12_13_17.jpg: 1088x1920 267 objects, 47.5ms\n",
      "Speed: 6.2ms preprocess, 47.5ms inference, 845.6ms postprocess per image at shape (1, 3, 1920, 1920)\n"
     ]
    },
    {
     "name": "stdout",
     "output_type": "stream",
     "text": [
      "Matrix size: [37, 267]\n",
      "Building similarity matrix:       8826/9879\r"
     ]
    },
    {
     "name": "stderr",
     "output_type": "stream",
     "text": [
      "\n"
     ]
    },
    {
     "name": "stdout",
     "output_type": "stream",
     "text": [
      "Similarity matrix built in 0.91s                                                                                                    \n",
      "\n",
      "Image: weti2_2024_11_12_13_17_m.jpg\n"
     ]
    },
    {
     "name": "stderr",
     "output_type": "stream",
     "text": [
      "image 1/1 /mnt/c/Users/gtraw/Projekt_badawczy/dataset_11_12/weti2_2024_11_12_13_17_m.jpg: 1088x1920 127 objects, 402.2ms\n",
      "Speed: 6.7ms preprocess, 402.2ms inference, 24.8ms postprocess per image at shape (1, 3, 1920, 1920)\n"
     ]
    },
    {
     "name": "stdout",
     "output_type": "stream",
     "text": [
      "Matrix size: [37, 127]\n",
      "Building similarity matrix:       4273/4699\r"
     ]
    },
    {
     "name": "stderr",
     "output_type": "stream",
     "text": [
      "\n"
     ]
    },
    {
     "name": "stdout",
     "output_type": "stream",
     "text": [
      "Similarity matrix built in 0.45s                                                                                                    \n",
      "\n",
      "Image: weti2_2024_11_12_13_27.jpg\n"
     ]
    },
    {
     "name": "stderr",
     "output_type": "stream",
     "text": [
      "image 1/1 /mnt/c/Users/gtraw/Projekt_badawczy/dataset_11_12/weti2_2024_11_12_13_27.jpg: 1088x1920 282 objects, 56.6ms\n",
      "Speed: 5.2ms preprocess, 56.6ms inference, 836.3ms postprocess per image at shape (1, 3, 1920, 1920)\n"
     ]
    },
    {
     "name": "stdout",
     "output_type": "stream",
     "text": [
      "Matrix size: [38, 282]\n",
      "Building similarity matrix:      10413/10716\r"
     ]
    },
    {
     "name": "stderr",
     "output_type": "stream",
     "text": [
      "\n"
     ]
    },
    {
     "name": "stdout",
     "output_type": "stream",
     "text": [
      "Similarity matrix built in 1.04s                                                                                                    \n",
      "\n",
      "Image: weti2_2024_11_12_13_27_m.jpg\n"
     ]
    },
    {
     "name": "stderr",
     "output_type": "stream",
     "text": [
      "image 1/1 /mnt/c/Users/gtraw/Projekt_badawczy/dataset_11_12/weti2_2024_11_12_13_27_m.jpg: 1088x1920 136 objects, 1963.4ms\n",
      "Speed: 18.2ms preprocess, 1963.4ms inference, 47.7ms postprocess per image at shape (1, 3, 1920, 1920)\n"
     ]
    },
    {
     "name": "stdout",
     "output_type": "stream",
     "text": [
      "Matrix size: [38, 136]\n",
      "Building similarity matrix:       4493/5168\r"
     ]
    },
    {
     "name": "stderr",
     "output_type": "stream",
     "text": [
      "\n"
     ]
    },
    {
     "name": "stdout",
     "output_type": "stream",
     "text": [
      "Similarity matrix built in 0.48s                                                                                                    \n",
      "\n",
      "Image: weti2_2024_11_12_13_37.jpg\n"
     ]
    },
    {
     "name": "stderr",
     "output_type": "stream",
     "text": [
      "image 1/1 /mnt/c/Users/gtraw/Projekt_badawczy/dataset_11_12/weti2_2024_11_12_13_37.jpg: 1088x1920 285 objects, 51.0ms\n",
      "Speed: 6.4ms preprocess, 51.0ms inference, 829.6ms postprocess per image at shape (1, 3, 1920, 1920)\n"
     ]
    },
    {
     "name": "stdout",
     "output_type": "stream",
     "text": [
      "Matrix size: [37, 285]\n",
      "Building similarity matrix:       9619/10545\r"
     ]
    },
    {
     "name": "stderr",
     "output_type": "stream",
     "text": [
      "\n"
     ]
    },
    {
     "name": "stdout",
     "output_type": "stream",
     "text": [
      "Similarity matrix built in 0.88s                                                                                                    \n",
      "\n",
      "Image: weti2_2024_11_12_13_37_m.jpg\n"
     ]
    },
    {
     "name": "stderr",
     "output_type": "stream",
     "text": [
      "image 1/1 /mnt/c/Users/gtraw/Projekt_badawczy/dataset_11_12/weti2_2024_11_12_13_37_m.jpg: 1088x1920 143 objects, 1770.5ms\n",
      "Speed: 18.1ms preprocess, 1770.5ms inference, 48.1ms postprocess per image at shape (1, 3, 1920, 1920)\n"
     ]
    },
    {
     "name": "stdout",
     "output_type": "stream",
     "text": [
      "Matrix size: [37, 143]\n",
      "Building similarity matrix:       4656/5291\r"
     ]
    },
    {
     "name": "stderr",
     "output_type": "stream",
     "text": [
      "\n"
     ]
    },
    {
     "name": "stdout",
     "output_type": "stream",
     "text": [
      "Similarity matrix built in 0.47s                                                                                                    \n",
      "\n",
      "Image: weti2_2024_11_12_13_47.jpg\n"
     ]
    },
    {
     "name": "stderr",
     "output_type": "stream",
     "text": [
      "image 1/1 /mnt/c/Users/gtraw/Projekt_badawczy/dataset_11_12/weti2_2024_11_12_13_47.jpg: 1088x1920 283 objects, 42.9ms\n",
      "Speed: 7.1ms preprocess, 42.9ms inference, 868.7ms postprocess per image at shape (1, 3, 1920, 1920)\n"
     ]
    },
    {
     "name": "stdout",
     "output_type": "stream",
     "text": [
      "Matrix size: [37, 283]\n",
      "Building similarity matrix:       8870/10471\r"
     ]
    },
    {
     "name": "stderr",
     "output_type": "stream",
     "text": [
      "\n"
     ]
    },
    {
     "name": "stdout",
     "output_type": "stream",
     "text": [
      "Similarity matrix built in 0.94s                                                                                                    \n",
      "\n",
      "Image: weti2_2024_11_12_13_47_m.jpg\n"
     ]
    },
    {
     "name": "stderr",
     "output_type": "stream",
     "text": [
      "image 1/1 /mnt/c/Users/gtraw/Projekt_badawczy/dataset_11_12/weti2_2024_11_12_13_47_m.jpg: 1088x1920 124 objects, 1963.6ms\n",
      "Speed: 18.5ms preprocess, 1963.6ms inference, 37.3ms postprocess per image at shape (1, 3, 1920, 1920)\n"
     ]
    },
    {
     "name": "stdout",
     "output_type": "stream",
     "text": [
      "Matrix size: [37, 124]\n",
      "Similarity matrix built in 0.39s                                                                                                    \n",
      "\n",
      "Image: weti2_2024_11_12_13_57.jpg\n"
     ]
    },
    {
     "name": "stderr",
     "output_type": "stream",
     "text": [
      "\n",
      "image 1/1 /mnt/c/Users/gtraw/Projekt_badawczy/dataset_11_12/weti2_2024_11_12_13_57.jpg: 1088x1920 269 objects, 42.0ms\n",
      "Speed: 5.1ms preprocess, 42.0ms inference, 828.6ms postprocess per image at shape (1, 3, 1920, 1920)\n"
     ]
    },
    {
     "name": "stdout",
     "output_type": "stream",
     "text": [
      "Matrix size: [36, 269]\n",
      "Building similarity matrix:       9635/9684\r"
     ]
    },
    {
     "name": "stderr",
     "output_type": "stream",
     "text": [
      "\n"
     ]
    },
    {
     "name": "stdout",
     "output_type": "stream",
     "text": [
      "Similarity matrix built in 0.82s                                                                                                    \n",
      "\n",
      "Image: weti2_2024_11_12_13_57_m.jpg\n"
     ]
    },
    {
     "name": "stderr",
     "output_type": "stream",
     "text": [
      "image 1/1 /mnt/c/Users/gtraw/Projekt_badawczy/dataset_11_12/weti2_2024_11_12_13_57_m.jpg: 1088x1920 127 objects, 417.2ms\n",
      "Speed: 6.6ms preprocess, 417.2ms inference, 29.9ms postprocess per image at shape (1, 3, 1920, 1920)\n"
     ]
    },
    {
     "name": "stdout",
     "output_type": "stream",
     "text": [
      "Matrix size: [36, 127]\n",
      "Building similarity matrix:       3778/4572\r"
     ]
    },
    {
     "name": "stderr",
     "output_type": "stream",
     "text": [
      "\n"
     ]
    },
    {
     "name": "stdout",
     "output_type": "stream",
     "text": [
      "Similarity matrix built in 0.49s                                                                                                    \n",
      "\n",
      "Image: weti2_2024_11_12_14_07.jpg\n"
     ]
    },
    {
     "name": "stderr",
     "output_type": "stream",
     "text": [
      "image 1/1 /mnt/c/Users/gtraw/Projekt_badawczy/dataset_11_12/weti2_2024_11_12_14_07.jpg: 1088x1920 263 objects, 49.9ms\n",
      "Speed: 5.1ms preprocess, 49.9ms inference, 803.3ms postprocess per image at shape (1, 3, 1920, 1920)\n"
     ]
    },
    {
     "name": "stdout",
     "output_type": "stream",
     "text": [
      "Matrix size: [36, 263]\n",
      "Building similarity matrix:       8554/9468\r"
     ]
    },
    {
     "name": "stderr",
     "output_type": "stream",
     "text": [
      "\n"
     ]
    },
    {
     "name": "stdout",
     "output_type": "stream",
     "text": [
      "Similarity matrix built in 0.92s                                                                                                    \n",
      "\n",
      "Image: weti2_2024_11_12_14_07_m.jpg\n"
     ]
    },
    {
     "name": "stderr",
     "output_type": "stream",
     "text": [
      "image 1/1 /mnt/c/Users/gtraw/Projekt_badawczy/dataset_11_12/weti2_2024_11_12_14_07_m.jpg: 1088x1920 118 objects, 200.8ms\n",
      "Speed: 6.9ms preprocess, 200.8ms inference, 19.4ms postprocess per image at shape (1, 3, 1920, 1920)\n"
     ]
    },
    {
     "name": "stdout",
     "output_type": "stream",
     "text": [
      "Matrix size: [36, 118]\n",
      "Similarity matrix built in 0.40s                                                                                                    \n"
     ]
    },
    {
     "name": "stderr",
     "output_type": "stream",
     "text": [
      "\n"
     ]
    },
    {
     "name": "stdout",
     "output_type": "stream",
     "text": [
      "\n",
      "Image: weti2_2024_11_12_14_17.jpg\n"
     ]
    },
    {
     "name": "stderr",
     "output_type": "stream",
     "text": [
      "image 1/1 /mnt/c/Users/gtraw/Projekt_badawczy/dataset_11_12/weti2_2024_11_12_14_17.jpg: 1088x1920 270 objects, 42.6ms\n",
      "Speed: 6.3ms preprocess, 42.6ms inference, 804.0ms postprocess per image at shape (1, 3, 1920, 1920)\n"
     ]
    },
    {
     "name": "stdout",
     "output_type": "stream",
     "text": [
      "Matrix size: [36, 270]\n",
      "Building similarity matrix:       9184/9720\r"
     ]
    },
    {
     "name": "stderr",
     "output_type": "stream",
     "text": [
      "\n"
     ]
    },
    {
     "name": "stdout",
     "output_type": "stream",
     "text": [
      "Similarity matrix built in 0.85s                                                                                                    \n",
      "\n",
      "Image: weti2_2024_11_12_14_17_m.jpg\n"
     ]
    },
    {
     "name": "stderr",
     "output_type": "stream",
     "text": [
      "image 1/1 /mnt/c/Users/gtraw/Projekt_badawczy/dataset_11_12/weti2_2024_11_12_14_17_m.jpg: 1088x1920 130 objects, 2693.1ms\n",
      "Speed: 16.4ms preprocess, 2693.1ms inference, 64.4ms postprocess per image at shape (1, 3, 1920, 1920)\n"
     ]
    },
    {
     "name": "stdout",
     "output_type": "stream",
     "text": [
      "Matrix size: [36, 130]\n",
      "Building similarity matrix:       3720/4680\r"
     ]
    },
    {
     "name": "stderr",
     "output_type": "stream",
     "text": [
      "\n"
     ]
    },
    {
     "name": "stdout",
     "output_type": "stream",
     "text": [
      "Similarity matrix built in 0.49s                                                                                                    \n",
      "\n",
      "Image: weti2_2024_11_12_14_27.jpg\n"
     ]
    },
    {
     "name": "stderr",
     "output_type": "stream",
     "text": [
      "image 1/1 /mnt/c/Users/gtraw/Projekt_badawczy/dataset_11_12/weti2_2024_11_12_14_27.jpg: 1088x1920 265 objects, 44.7ms\n",
      "Speed: 7.3ms preprocess, 44.7ms inference, 805.0ms postprocess per image at shape (1, 3, 1920, 1920)\n"
     ]
    },
    {
     "name": "stdout",
     "output_type": "stream",
     "text": [
      "Matrix size: [36, 265]\n",
      "Building similarity matrix:       8450/9540\r"
     ]
    },
    {
     "name": "stderr",
     "output_type": "stream",
     "text": [
      "\n"
     ]
    },
    {
     "name": "stdout",
     "output_type": "stream",
     "text": [
      "Similarity matrix built in 0.91s                                                                                                    \n",
      "\n",
      "Image: weti2_2024_11_12_14_27_m.jpg\n"
     ]
    },
    {
     "name": "stderr",
     "output_type": "stream",
     "text": [
      "image 1/1 /mnt/c/Users/gtraw/Projekt_badawczy/dataset_11_12/weti2_2024_11_12_14_27_m.jpg: 1088x1920 130 objects, 45.9ms\n",
      "Speed: 6.1ms preprocess, 45.9ms inference, 27.2ms postprocess per image at shape (1, 3, 1920, 1920)\n"
     ]
    },
    {
     "name": "stdout",
     "output_type": "stream",
     "text": [
      "Matrix size: [36, 130]\n",
      "Building similarity matrix:       4262/4680\r"
     ]
    },
    {
     "name": "stderr",
     "output_type": "stream",
     "text": [
      "\n"
     ]
    },
    {
     "name": "stdout",
     "output_type": "stream",
     "text": [
      "Similarity matrix built in 0.45s                                                                                                    \n",
      "\n",
      "Image: weti2_2024_11_12_14_37.jpg\n"
     ]
    },
    {
     "name": "stderr",
     "output_type": "stream",
     "text": [
      "image 1/1 /mnt/c/Users/gtraw/Projekt_badawczy/dataset_11_12/weti2_2024_11_12_14_37.jpg: 1088x1920 264 objects, 46.6ms\n",
      "Speed: 5.7ms preprocess, 46.6ms inference, 816.4ms postprocess per image at shape (1, 3, 1920, 1920)\n"
     ]
    },
    {
     "name": "stdout",
     "output_type": "stream",
     "text": [
      "Matrix size: [34, 264]\n",
      "Building similarity matrix:       8719/8976\r"
     ]
    },
    {
     "name": "stderr",
     "output_type": "stream",
     "text": [
      "\n"
     ]
    },
    {
     "name": "stdout",
     "output_type": "stream",
     "text": [
      "Similarity matrix built in 0.84s                                                                                                    \n",
      "\n",
      "Image: weti2_2024_11_12_14_37_m.jpg\n"
     ]
    },
    {
     "name": "stderr",
     "output_type": "stream",
     "text": [
      "image 1/1 /mnt/c/Users/gtraw/Projekt_badawczy/dataset_11_12/weti2_2024_11_12_14_37_m.jpg: 1088x1920 126 objects, 176.9ms\n",
      "Speed: 8.6ms preprocess, 176.9ms inference, 22.4ms postprocess per image at shape (1, 3, 1920, 1920)\n"
     ]
    },
    {
     "name": "stdout",
     "output_type": "stream",
     "text": [
      "Matrix size: [34, 126]\n",
      "Building similarity matrix:       4217/4284\r"
     ]
    },
    {
     "name": "stderr",
     "output_type": "stream",
     "text": [
      "\n"
     ]
    },
    {
     "name": "stdout",
     "output_type": "stream",
     "text": [
      "Similarity matrix built in 0.41s                                                                                                    \n",
      "\n",
      "Image: weti2_2024_11_12_14_47.jpg\n"
     ]
    },
    {
     "name": "stderr",
     "output_type": "stream",
     "text": [
      "image 1/1 /mnt/c/Users/gtraw/Projekt_badawczy/dataset_11_12/weti2_2024_11_12_14_47.jpg: 1088x1920 266 objects, 51.2ms\n",
      "Speed: 7.1ms preprocess, 51.2ms inference, 853.1ms postprocess per image at shape (1, 3, 1920, 1920)\n"
     ]
    },
    {
     "name": "stdout",
     "output_type": "stream",
     "text": [
      "Matrix size: [33, 266]\n",
      "Building similarity matrix:       8024/8778\r"
     ]
    },
    {
     "name": "stderr",
     "output_type": "stream",
     "text": [
      "\n"
     ]
    },
    {
     "name": "stdout",
     "output_type": "stream",
     "text": [
      "Similarity matrix built in 0.88s                                                                                                    \n",
      "\n",
      "Image: weti2_2024_11_12_14_47_m.jpg\n"
     ]
    },
    {
     "name": "stderr",
     "output_type": "stream",
     "text": [
      "image 1/1 /mnt/c/Users/gtraw/Projekt_badawczy/dataset_11_12/weti2_2024_11_12_14_47_m.jpg: 1088x1920 122 objects, 48.0ms\n",
      "Speed: 6.2ms preprocess, 48.0ms inference, 20.8ms postprocess per image at shape (1, 3, 1920, 1920)\n"
     ]
    },
    {
     "name": "stdout",
     "output_type": "stream",
     "text": [
      "Matrix size: [33, 122]\n",
      "Building similarity matrix:       2299/4026\r"
     ]
    },
    {
     "name": "stderr",
     "output_type": "stream",
     "text": [
      "\n"
     ]
    },
    {
     "name": "stdout",
     "output_type": "stream",
     "text": [
      "Similarity matrix built in 0.36s                                                                                                    \n",
      "\n",
      "Image: weti2_2024_11_12_14_57.jpg\n"
     ]
    },
    {
     "name": "stderr",
     "output_type": "stream",
     "text": [
      "image 1/1 /mnt/c/Users/gtraw/Projekt_badawczy/dataset_11_12/weti2_2024_11_12_14_57.jpg: 1088x1920 238 objects, 42.7ms\n",
      "Speed: 5.0ms preprocess, 42.7ms inference, 1032.2ms postprocess per image at shape (1, 3, 1920, 1920)\n"
     ]
    },
    {
     "name": "stdout",
     "output_type": "stream",
     "text": [
      "Matrix size: [30, 238]\n",
      "Building similarity matrix:       6397/7140\r"
     ]
    },
    {
     "name": "stderr",
     "output_type": "stream",
     "text": [
      "\n"
     ]
    },
    {
     "name": "stdout",
     "output_type": "stream",
     "text": [
      "Similarity matrix built in 0.69s                                                                                                    \n",
      "\n",
      "Image: weti2_2024_11_12_14_57_m.jpg\n"
     ]
    },
    {
     "name": "stderr",
     "output_type": "stream",
     "text": [
      "image 1/1 /mnt/c/Users/gtraw/Projekt_badawczy/dataset_11_12/weti2_2024_11_12_14_57_m.jpg: 1088x1920 100 objects, 493.5ms\n",
      "Speed: 14.8ms preprocess, 493.5ms inference, 23.4ms postprocess per image at shape (1, 3, 1920, 1920)\n"
     ]
    },
    {
     "name": "stdout",
     "output_type": "stream",
     "text": [
      "Matrix size: [30, 100]\n",
      "Building similarity matrix:       2228/3000\r"
     ]
    },
    {
     "name": "stderr",
     "output_type": "stream",
     "text": [
      "\n"
     ]
    },
    {
     "name": "stdout",
     "output_type": "stream",
     "text": [
      "Similarity matrix built in 0.27s                                                                                                    \n",
      "\n",
      "Image: weti2_2024_11_12_15_07.jpg\n"
     ]
    },
    {
     "name": "stderr",
     "output_type": "stream",
     "text": [
      "image 1/1 /mnt/c/Users/gtraw/Projekt_badawczy/dataset_11_12/weti2_2024_11_12_15_07.jpg: 1088x1920 230 objects, 44.3ms\n",
      "Speed: 5.8ms preprocess, 44.3ms inference, 942.3ms postprocess per image at shape (1, 3, 1920, 1920)\n"
     ]
    },
    {
     "name": "stdout",
     "output_type": "stream",
     "text": [
      "Matrix size: [27, 230]\n",
      "Building similarity matrix:       4823/6210\r"
     ]
    },
    {
     "name": "stderr",
     "output_type": "stream",
     "text": [
      "\n"
     ]
    },
    {
     "name": "stdout",
     "output_type": "stream",
     "text": [
      "Similarity matrix built in 0.52s                                                                                                    \n",
      "\n",
      "Image: weti2_2024_11_12_15_07_m.jpg\n"
     ]
    },
    {
     "name": "stderr",
     "output_type": "stream",
     "text": [
      "image 1/1 /mnt/c/Users/gtraw/Projekt_badawczy/dataset_11_12/weti2_2024_11_12_15_07_m.jpg: 1088x1920 103 objects, 539.6ms\n",
      "Speed: 16.9ms preprocess, 539.6ms inference, 36.8ms postprocess per image at shape (1, 3, 1920, 1920)\n"
     ]
    },
    {
     "name": "stdout",
     "output_type": "stream",
     "text": [
      "Matrix size: [27, 103]\n",
      "Building similarity matrix:       2360/2781\r"
     ]
    },
    {
     "name": "stderr",
     "output_type": "stream",
     "text": [
      "\n"
     ]
    },
    {
     "name": "stdout",
     "output_type": "stream",
     "text": [
      "Similarity matrix built in 0.23s                                                                                                    \n",
      "\n",
      "Image: weti2_2024_11_12_15_17.jpg\n"
     ]
    },
    {
     "name": "stderr",
     "output_type": "stream",
     "text": [
      "image 1/1 /mnt/c/Users/gtraw/Projekt_badawczy/dataset_11_12/weti2_2024_11_12_15_17.jpg: 1088x1920 207 objects, 44.0ms\n",
      "Speed: 6.7ms preprocess, 44.0ms inference, 685.3ms postprocess per image at shape (1, 3, 1920, 1920)\n"
     ]
    },
    {
     "name": "stdout",
     "output_type": "stream",
     "text": [
      "Matrix size: [24, 207]\n",
      "Building similarity matrix:       4639/4968\r"
     ]
    },
    {
     "name": "stderr",
     "output_type": "stream",
     "text": [
      "\n"
     ]
    },
    {
     "name": "stdout",
     "output_type": "stream",
     "text": [
      "Similarity matrix built in 0.44s                                                                                                    \n",
      "\n",
      "Image: weti2_2024_11_12_15_17_m.jpg\n"
     ]
    },
    {
     "name": "stderr",
     "output_type": "stream",
     "text": [
      "image 1/1 /mnt/c/Users/gtraw/Projekt_badawczy/dataset_11_12/weti2_2024_11_12_15_17_m.jpg: 1088x1920 83 objects, 1827.3ms\n",
      "Speed: 17.4ms preprocess, 1827.3ms inference, 35.4ms postprocess per image at shape (1, 3, 1920, 1920)\n",
      "\n"
     ]
    },
    {
     "name": "stdout",
     "output_type": "stream",
     "text": [
      "Matrix size: [24, 83]\n",
      "Similarity matrix built in 0.17s                                                                                                    \n",
      "\n",
      "Image: weti2_2024_11_12_15_27.jpg\n"
     ]
    },
    {
     "name": "stderr",
     "output_type": "stream",
     "text": [
      "image 1/1 /mnt/c/Users/gtraw/Projekt_badawczy/dataset_11_12/weti2_2024_11_12_15_27.jpg: 1088x1920 200 objects, 52.0ms\n",
      "Speed: 7.0ms preprocess, 52.0ms inference, 670.7ms postprocess per image at shape (1, 3, 1920, 1920)\n"
     ]
    },
    {
     "name": "stdout",
     "output_type": "stream",
     "text": [
      "Matrix size: [22, 200]\n",
      "Building similarity matrix:       4399/4400\r"
     ]
    },
    {
     "name": "stderr",
     "output_type": "stream",
     "text": [
      "\n"
     ]
    },
    {
     "name": "stdout",
     "output_type": "stream",
     "text": [
      "Similarity matrix built in 0.41s                                                                                                    \n",
      "\n",
      "Image: weti2_2024_11_12_15_27_m.jpg\n"
     ]
    },
    {
     "name": "stderr",
     "output_type": "stream",
     "text": [
      "image 1/1 /mnt/c/Users/gtraw/Projekt_badawczy/dataset_11_12/weti2_2024_11_12_15_27_m.jpg: 1088x1920 85 objects, 2600.7ms\n",
      "Speed: 18.7ms preprocess, 2600.7ms inference, 47.2ms postprocess per image at shape (1, 3, 1920, 1920)\n"
     ]
    },
    {
     "name": "stdout",
     "output_type": "stream",
     "text": [
      "Matrix size: [22, 85]\n",
      "Building similarity matrix:       1813/1870\r"
     ]
    },
    {
     "name": "stderr",
     "output_type": "stream",
     "text": [
      "\n"
     ]
    },
    {
     "name": "stdout",
     "output_type": "stream",
     "text": [
      "Similarity matrix built in 0.21s                                                                                                    \n",
      "\n",
      "Image: weti2_2024_11_12_15_37.jpg\n"
     ]
    },
    {
     "name": "stderr",
     "output_type": "stream",
     "text": [
      "image 1/1 /mnt/c/Users/gtraw/Projekt_badawczy/dataset_11_12/weti2_2024_11_12_15_37.jpg: 1088x1920 158 objects, 49.1ms\n",
      "Speed: 6.7ms preprocess, 49.1ms inference, 569.9ms postprocess per image at shape (1, 3, 1920, 1920)\n"
     ]
    },
    {
     "name": "stdout",
     "output_type": "stream",
     "text": [
      "Matrix size: [20, 158]\n",
      "Building similarity matrix:       2162/3160\r"
     ]
    },
    {
     "name": "stderr",
     "output_type": "stream",
     "text": [
      "\n"
     ]
    },
    {
     "name": "stdout",
     "output_type": "stream",
     "text": [
      "Similarity matrix built in 0.31s                                                                                                    \n",
      "\n",
      "Image: weti2_2024_11_12_15_37_m.jpg\n"
     ]
    },
    {
     "name": "stderr",
     "output_type": "stream",
     "text": [
      "image 1/1 /mnt/c/Users/gtraw/Projekt_badawczy/dataset_11_12/weti2_2024_11_12_15_37_m.jpg: 1088x1920 60 objects, 48.7ms\n",
      "Speed: 5.7ms preprocess, 48.7ms inference, 242.8ms postprocess per image at shape (1, 3, 1920, 1920)\n",
      "\n"
     ]
    },
    {
     "name": "stdout",
     "output_type": "stream",
     "text": [
      "Matrix size: [20, 60]\n",
      "Similarity matrix built in 0.13s                                                                                                    \n",
      "\n",
      "Image: weti2_2024_11_12_15_57.jpg\n"
     ]
    },
    {
     "name": "stderr",
     "output_type": "stream",
     "text": [
      "image 1/1 /mnt/c/Users/gtraw/Projekt_badawczy/dataset_11_12/weti2_2024_11_12_15_57.jpg: 1088x1920 109 objects, 403.4ms\n",
      "Speed: 5.9ms preprocess, 403.4ms inference, 402.4ms postprocess per image at shape (1, 3, 1920, 1920)\n"
     ]
    },
    {
     "name": "stdout",
     "output_type": "stream",
     "text": [
      "Matrix size: [19, 109]\n",
      "Building similarity matrix:       1864/2071\r"
     ]
    },
    {
     "name": "stderr",
     "output_type": "stream",
     "text": [
      "\n"
     ]
    },
    {
     "name": "stdout",
     "output_type": "stream",
     "text": [
      "Similarity matrix built in 0.23s                                                                                                    \n",
      "\n",
      "Image: weti2_2024_11_12_15_57_m.jpg\n"
     ]
    },
    {
     "name": "stderr",
     "output_type": "stream",
     "text": [
      "image 1/1 /mnt/c/Users/gtraw/Projekt_badawczy/dataset_11_12/weti2_2024_11_12_15_57_m.jpg: 1088x1920 39 objects, 49.4ms\n",
      "Speed: 5.4ms preprocess, 49.4ms inference, 15.8ms postprocess per image at shape (1, 3, 1920, 1920)\n",
      "\n"
     ]
    },
    {
     "name": "stdout",
     "output_type": "stream",
     "text": [
      "Matrix size: [19, 39]\n",
      "Similarity matrix built in 0.09s                                                                                                    \n",
      "\n",
      "Image: weti2_2024_11_12_17_34.jpg\n"
     ]
    },
    {
     "name": "stderr",
     "output_type": "stream",
     "text": [
      "image 1/1 /mnt/c/Users/gtraw/Projekt_badawczy/dataset_11_12/weti2_2024_11_12_17_34.jpg: 1088x1920 16 objects, 50.4ms\n",
      "Speed: 7.4ms preprocess, 50.4ms inference, 15.4ms postprocess per image at shape (1, 3, 1920, 1920)\n",
      "\n"
     ]
    },
    {
     "name": "stdout",
     "output_type": "stream",
     "text": [
      "Matrix size: [3, 16]\n",
      "Similarity matrix built in 0.00s                                                                                                    \n",
      "\n",
      "Image: weti2_2024_11_12_17_34_m.jpg\n"
     ]
    },
    {
     "name": "stderr",
     "output_type": "stream",
     "text": [
      "image 1/1 /mnt/c/Users/gtraw/Projekt_badawczy/dataset_11_12/weti2_2024_11_12_17_34_m.jpg: 1088x1920 3 objects, 46.3ms\n",
      "Speed: 6.6ms preprocess, 46.3ms inference, 82.6ms postprocess per image at shape (1, 3, 1920, 1920)\n",
      "\n"
     ]
    },
    {
     "name": "stdout",
     "output_type": "stream",
     "text": [
      "Matrix size: [3, 3]\n",
      "Similarity matrix built in 0.00s                                                                                                    \n",
      "\n",
      "Image: weti2_2024_11_12_17_44.jpg\n"
     ]
    },
    {
     "name": "stderr",
     "output_type": "stream",
     "text": [
      "image 1/1 /mnt/c/Users/gtraw/Projekt_badawczy/dataset_11_12/weti2_2024_11_12_17_44.jpg: 1088x1920 18 objects, 46.8ms\n",
      "Speed: 6.8ms preprocess, 46.8ms inference, 6.8ms postprocess per image at shape (1, 3, 1920, 1920)\n",
      "\n"
     ]
    },
    {
     "name": "stdout",
     "output_type": "stream",
     "text": [
      "Matrix size: [3, 18]\n",
      "Similarity matrix built in 0.01s                                                                                                    \n",
      "\n",
      "Image: weti2_2024_11_12_17_44_m.jpg\n"
     ]
    },
    {
     "name": "stderr",
     "output_type": "stream",
     "text": [
      "image 1/1 /mnt/c/Users/gtraw/Projekt_badawczy/dataset_11_12/weti2_2024_11_12_17_44_m.jpg: 1088x1920 4 objects, 50.4ms\n",
      "Speed: 5.4ms preprocess, 50.4ms inference, 15.9ms postprocess per image at shape (1, 3, 1920, 1920)\n",
      "\n"
     ]
    },
    {
     "name": "stdout",
     "output_type": "stream",
     "text": [
      "Matrix size: [3, 4]\n",
      "Similarity matrix built in 0.00s                                                                                                    \n",
      "\n",
      "Image: weti2_2024_11_12_17_54.jpg\n"
     ]
    },
    {
     "name": "stderr",
     "output_type": "stream",
     "text": [
      "image 1/1 /mnt/c/Users/gtraw/Projekt_badawczy/dataset_11_12/weti2_2024_11_12_17_54.jpg: 1088x1920 18 objects, 38.8ms\n",
      "Speed: 5.3ms preprocess, 38.8ms inference, 8.1ms postprocess per image at shape (1, 3, 1920, 1920)\n",
      "\n"
     ]
    },
    {
     "name": "stdout",
     "output_type": "stream",
     "text": [
      "Matrix size: [2, 18]\n",
      "Similarity matrix built in 0.00s                                                                                                    \n",
      "\n",
      "Image: weti2_2024_11_12_17_54_m.jpg\n"
     ]
    },
    {
     "name": "stderr",
     "output_type": "stream",
     "text": [
      "image 1/1 /mnt/c/Users/gtraw/Projekt_badawczy/dataset_11_12/weti2_2024_11_12_17_54_m.jpg: 1088x1920 6 objects, 56.1ms\n",
      "Speed: 7.7ms preprocess, 56.1ms inference, 4.7ms postprocess per image at shape (1, 3, 1920, 1920)\n",
      "\n"
     ]
    },
    {
     "name": "stdout",
     "output_type": "stream",
     "text": [
      "Matrix size: [2, 6]\n",
      "Similarity matrix built in 0.00s                                                                                                    \n",
      "\n",
      "Image: weti2_2024_11_12_18_04.jpg\n"
     ]
    },
    {
     "name": "stderr",
     "output_type": "stream",
     "text": [
      "image 1/1 /mnt/c/Users/gtraw/Projekt_badawczy/dataset_11_12/weti2_2024_11_12_18_04.jpg: 1088x1920 17 objects, 58.0ms\n",
      "Speed: 5.0ms preprocess, 58.0ms inference, 8.4ms postprocess per image at shape (1, 3, 1920, 1920)\n",
      "\n"
     ]
    },
    {
     "name": "stdout",
     "output_type": "stream",
     "text": [
      "Matrix size: [2, 17]\n",
      "Similarity matrix built in 0.00s                                                                                                    \n",
      "\n",
      "Image: weti2_2024_11_12_18_04_m.jpg\n"
     ]
    },
    {
     "name": "stderr",
     "output_type": "stream",
     "text": [
      "image 1/1 /mnt/c/Users/gtraw/Projekt_badawczy/dataset_11_12/weti2_2024_11_12_18_04_m.jpg: 1088x1920 4 objects, 47.0ms\n",
      "Speed: 5.9ms preprocess, 47.0ms inference, 11.1ms postprocess per image at shape (1, 3, 1920, 1920)\n",
      "\n"
     ]
    },
    {
     "name": "stdout",
     "output_type": "stream",
     "text": [
      "Matrix size: [2, 4]\n",
      "Similarity matrix built in 0.00s                                                                                                    \n",
      "\n",
      "Image: weti2_2024_11_12_18_14.jpg\n"
     ]
    },
    {
     "name": "stderr",
     "output_type": "stream",
     "text": [
      "image 1/1 /mnt/c/Users/gtraw/Projekt_badawczy/dataset_11_12/weti2_2024_11_12_18_14.jpg: 1088x1920 19 objects, 47.5ms\n",
      "Speed: 6.3ms preprocess, 47.5ms inference, 9.6ms postprocess per image at shape (1, 3, 1920, 1920)\n",
      "\n"
     ]
    },
    {
     "name": "stdout",
     "output_type": "stream",
     "text": [
      "Matrix size: [0, 19]\n",
      "Similarity matrix built in 0.00s                                                                                                    \n",
      "\n",
      "Image: weti2_2024_11_12_18_14_m.jpg\n"
     ]
    },
    {
     "name": "stderr",
     "output_type": "stream",
     "text": [
      "image 1/1 /mnt/c/Users/gtraw/Projekt_badawczy/dataset_11_12/weti2_2024_11_12_18_14_m.jpg: 1088x1920 4 objects, 46.2ms\n",
      "Speed: 6.6ms preprocess, 46.2ms inference, 10.0ms postprocess per image at shape (1, 3, 1920, 1920)\n",
      "\n"
     ]
    },
    {
     "name": "stdout",
     "output_type": "stream",
     "text": [
      "Matrix size: [0, 4]\n",
      "Similarity matrix built in 0.00s                                                                                                    \n",
      "\n",
      "Image: weti2_2024_11_12_18_24.jpg\n"
     ]
    },
    {
     "name": "stderr",
     "output_type": "stream",
     "text": [
      "image 1/1 /mnt/c/Users/gtraw/Projekt_badawczy/dataset_11_12/weti2_2024_11_12_18_24.jpg: 1088x1920 14 objects, 41.5ms\n",
      "Speed: 5.5ms preprocess, 41.5ms inference, 8.8ms postprocess per image at shape (1, 3, 1920, 1920)\n",
      "\n"
     ]
    },
    {
     "name": "stdout",
     "output_type": "stream",
     "text": [
      "Matrix size: [0, 14]\n",
      "Similarity matrix built in 0.00s                                                                                                    \n",
      "\n",
      "Image: weti2_2024_11_12_18_24_m.jpg\n"
     ]
    },
    {
     "name": "stderr",
     "output_type": "stream",
     "text": [
      "image 1/1 /mnt/c/Users/gtraw/Projekt_badawczy/dataset_11_12/weti2_2024_11_12_18_24_m.jpg: 1088x1920 4 objects, 48.3ms\n",
      "Speed: 5.9ms preprocess, 48.3ms inference, 11.3ms postprocess per image at shape (1, 3, 1920, 1920)\n",
      "\n"
     ]
    },
    {
     "name": "stdout",
     "output_type": "stream",
     "text": [
      "Matrix size: [0, 4]\n",
      "Similarity matrix built in 0.00s                                                                                                    \n",
      "\n",
      "Image: weti2_2024_11_12_18_34.jpg\n"
     ]
    },
    {
     "name": "stderr",
     "output_type": "stream",
     "text": [
      "image 1/1 /mnt/c/Users/gtraw/Projekt_badawczy/dataset_11_12/weti2_2024_11_12_18_34.jpg: 1088x1920 11 objects, 44.7ms\n",
      "Speed: 5.3ms preprocess, 44.7ms inference, 4.5ms postprocess per image at shape (1, 3, 1920, 1920)\n",
      "\n"
     ]
    },
    {
     "name": "stdout",
     "output_type": "stream",
     "text": [
      "Matrix size: [0, 11]\n",
      "Similarity matrix built in 0.00s                                                                                                    \n",
      "\n",
      "Image: weti2_2024_11_12_18_34_m.jpg\n"
     ]
    },
    {
     "name": "stderr",
     "output_type": "stream",
     "text": [
      "image 1/1 /mnt/c/Users/gtraw/Projekt_badawczy/dataset_11_12/weti2_2024_11_12_18_34_m.jpg: 1088x1920 4 objects, 42.8ms\n",
      "Speed: 6.4ms preprocess, 42.8ms inference, 4.1ms postprocess per image at shape (1, 3, 1920, 1920)\n"
     ]
    },
    {
     "name": "stdout",
     "output_type": "stream",
     "text": [
      "Matrix size: [0, 4]\n",
      "Similarity matrix built in 0.00s                                                                                                    \n"
     ]
    }
   ],
   "source": [
    "for model_name in model_info.keys():\n",
    "    model = FastSAM(model_info[model_name])\n",
    "    output_dir_model = f\"{output_dir}_{model_name}\"\n",
    "    print(f\"output_dir: {output_dir_model}\")\n",
    "\n",
    "    # fix directories\n",
    "    if not os.path.exists(output_dir_model):\n",
    "        os.makedirs(output_dir_model)\n",
    "\n",
    "    # for image in dir\n",
    "    for image_file in os.listdir(input_dir):\n",
    "        data_pred = {\n",
    "            'model': model_name\n",
    "        }\n",
    "\n",
    "        # skip non-images\n",
    "        if not image_file.endswith(('jpg', 'png')):\n",
    "            continue\n",
    "\n",
    "        print(f\"\\nImage: {image_file}\")\n",
    "        # image's path\n",
    "        image_path = os.path.join(input_dir, image_file)\n",
    "        # measure time\n",
    "        time_start = time.time()\n",
    "        # generate masks\n",
    "        everything_results = model(image_path, device=DEVICE, imgsz=1920)\n",
    "        prompt_process = FastSAMPrompt(image_path, everything_results, device=DEVICE)\n",
    "\n",
    "        # everything prompt\n",
    "        ann = prompt_process.everything_prompt()\n",
    "        time_end = time.time() - time_start\n",
    "\n",
    "        # save results\n",
    "        data_pred['time'] = time_end\n",
    "        data_pred['objects'] = []\n",
    "\n",
    "        ann = ann.cpu()\n",
    "        for seg in ann:\n",
    "            data_pred['objects'].append(seg)\n",
    "\n",
    "        # load labeled data\n",
    "        data_filename = '.'.join(image_file.replace('_m', '').split('.')[:-1]) + '.json'\n",
    "        with open(os.path.join(input_dir, data_filename), 'r') as f:\n",
    "            data_db = json.load(f)\n",
    "\n",
    "        data_db['polygons'] = transform_to_polygons([obj['points'] for obj in data_db['objects']])\n",
    "        # print(data_pred['objects'][-1])\n",
    "        # print(data_pred['objects'][-1].shape)\n",
    "        data_pred['polygons'] = transform_to_polygons([obj for obj in data_pred['objects']], \"mask\")\n",
    "\n",
    "        sm = build_similarity_matrix(data_db['polygons'], data_pred['polygons'])\n",
    "        matching = match_polygons(sm)\n",
    "\n",
    "        result_dict = evaluate_segmentation(data_db['polygons'], data_pred['polygons'], matching, data_pred['time'], data_db['weather'], ['sam2.1', model_name])\n",
    "        result_dict['filename'] = '.'.join(image_file.split('.')[:-1])\n",
    "\n",
    "        json_path = os.path.join(output_dir_model, f\"{'.'.join(image_file.split('.')[:-1])}.json\")\n",
    "        with open(json_path, 'w') as json_file:\n",
    "            json.dump(result_dict, json_file, indent=4)"
   ]
  }
 ],
 "metadata": {
  "kernelspec": {
   "display_name": "venv",
   "language": "python",
   "name": "python3"
  },
  "language_info": {
   "codemirror_mode": {
    "name": "ipython",
    "version": 3
   },
   "file_extension": ".py",
   "mimetype": "text/x-python",
   "name": "python",
   "nbconvert_exporter": "python",
   "pygments_lexer": "ipython3",
   "version": "3.10.12"
  }
 },
 "nbformat": 4,
 "nbformat_minor": 2
}
