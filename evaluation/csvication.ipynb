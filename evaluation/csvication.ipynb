{
 "cells": [
  {
   "cell_type": "code",
   "execution_count": 61,
   "metadata": {},
   "outputs": [],
   "source": [
    "import json\n",
    "import csv\n",
    "import os"
   ]
  },
  {
   "cell_type": "code",
   "execution_count": 62,
   "metadata": {},
   "outputs": [],
   "source": [
    "def empty_csv_dict():\n",
    "    return {\n",
    "        'model': '',\n",
    "        'filename': '',\n",
    "        'model_params': '',\n",
    "        'augmentation': None,\n",
    "        'brightness': None,\n",
    "        'precipitation': None,\n",
    "        'surface': None,\n",
    "        'weather': None,\n",
    "        'ground_truth_objects': 0,\n",
    "        'segmented_objects': 0,\n",
    "        'matched_objects': 0,\n",
    "        'precision': 0.0,\n",
    "        'recall': 0.0,\n",
    "        'f1': 0.0,\n",
    "        'mean_iou': 0.0,\n",
    "        'time': 0,\n",
    "        'hardware': 'NVIDIA GeForce RTX 3060M, AMD Ryzen 7 5800H, 32 GB RAM'\n",
    "    }\n",
    "\n",
    "def segm_dict2csv_dict(segm_dict):\n",
    "    csv_dict = empty_csv_dict()\n",
    "\n",
    "    weather_options = [\n",
    "        [\"bright\", \"dark\", \"night\"],\n",
    "        [\"none\", \"rainfall\", \"snowfall\", \"fog\"],\n",
    "        ['none', 'puddles', 'snow'],\n",
    "        [\"none\", \"sunny\", \"cloudy\"]\n",
    "    ]\n",
    "    weather_fields = ['brightness', 'precipitation', 'surface', 'weather']\n",
    "\n",
    "    # get weather options\n",
    "    for k, options in zip(weather_fields, weather_options):\n",
    "        for option in options:\n",
    "            if option in segm_dict['weather']:\n",
    "                csv_dict[k] = option\n",
    "    \n",
    "    # get model\n",
    "    csv_dict['model'] = ' '.join(segm_dict['model'])\n",
    "    # print(csv_dict['model'], 'fastsam' in csv_dict['model'] or 'yolo' in csv_dict['model'])\n",
    "    if 'fastsam' in csv_dict['model'] or 'yolo' in csv_dict['model']:\n",
    "        csv_dict['model'] = csv_dict['model'].replace('sam2.1 ', '')\n",
    "\n",
    "    if 'model_params' in segm_dict:\n",
    "        csv_dict['model_params'] = segm_dict['model_params']\n",
    "\n",
    "    csv_dict['filename'] = segm_dict['filename']\n",
    "    csv_dict['time'] = segm_dict['time']\n",
    "    \n",
    "    # get numerical fields\n",
    "    for k in ['ground_truth_objects', 'segmented_objects', 'matched_objects', 'precision', 'recall', 'f1', 'mean_iou']:\n",
    "        if k in segm_dict:\n",
    "            csv_dict[k] = segm_dict[k]\n",
    "        else:\n",
    "            print(f\"Warning: key={k} not in segm_dict({segm_dict['model']}, {segm_dict['filename']})\")\n",
    "            csv_dict[k] = 0\n",
    "\n",
    "    return csv_dict"
   ]
  },
  {
   "cell_type": "code",
   "execution_count": 106,
   "metadata": {},
   "outputs": [],
   "source": [
    "results_path = r\"C:\\Users\\gtraw\\OneDrive\\Pulpit\\UM sem. 2\\ProjektBadawczy\\apps\\evaluation\\results\\all_11_05\""
   ]
  },
  {
   "cell_type": "code",
   "execution_count": null,
   "metadata": {},
   "outputs": [],
   "source": [
    "# load data from jsons\n",
    "\n",
    "data = []\n",
    "for f in os.listdir(results_path):\n",
    "    with open(os.path.join(results_path, f), 'r') as json_file:\n",
    "        json_data = json.load(json_file)\n",
    "        if 'filename' not in json_data:\n",
    "            json_data['filename'] = '.'.join(f.split('.')[:-1])\n",
    "        if '_5_' in f:\n",
    "            json_data['model_params'] = 'conf=0.5'\n",
    "        elif '_1_' in f:\n",
    "            json_data['model_params'] = 'conf=0.1'\n",
    "        elif '_01_' in f:\n",
    "            json_data['model_params'] = 'conf=0.01'\n",
    "        data.append(json_data)"
   ]
  },
  {
   "cell_type": "code",
   "execution_count": 108,
   "metadata": {},
   "outputs": [
    {
     "data": {
      "text/plain": [
       "{'weather': ['dark', 'sunny'],\n",
       " 'model': ['sam2.1', 'fastsam_x'],\n",
       " 'time': 2.011305570602417,\n",
       " 'ground_truth_objects': 13,\n",
       " 'segmented_objects': 41,\n",
       " 'matched_objects': 13,\n",
       " 'precision': 0.3170731707317073,\n",
       " 'recall': 1.0,\n",
       " 'f1': 0.48148148148148145,\n",
       " 'mean_iou': 0.759907457315857,\n",
       " 'filename': 'weti1_2024_11_05_12_31_m'}"
      ]
     },
     "execution_count": 108,
     "metadata": {},
     "output_type": "execute_result"
    }
   ],
   "source": [
    "data[123]"
   ]
  },
  {
   "cell_type": "code",
   "execution_count": null,
   "metadata": {},
   "outputs": [
    {
     "name": "stdout",
     "output_type": "stream",
     "text": [
      "Warning: key=f1 not in segm_dict(['sam2.1', 'yolo11s'], weti1_2024_11_05_10_26_m)\n"
     ]
    }
   ],
   "source": [
    "# transform jsons\n",
    "\n",
    "csv_dicts = [segm_dict2csv_dict(d) for d in data]"
   ]
  },
  {
   "cell_type": "code",
   "execution_count": 110,
   "metadata": {},
   "outputs": [
    {
     "data": {
      "text/plain": [
       "{'model': 'fastsam_x',\n",
       " 'filename': 'weti1_2024_11_05_11_16_m',\n",
       " 'model_params': '',\n",
       " 'augmentation': None,\n",
       " 'brightness': 'dark',\n",
       " 'precipitation': None,\n",
       " 'surface': None,\n",
       " 'weather': 'sunny',\n",
       " 'ground_truth_objects': 13,\n",
       " 'segmented_objects': 37,\n",
       " 'matched_objects': 13,\n",
       " 'precision': 0.35135135135135137,\n",
       " 'recall': 1.0,\n",
       " 'f1': 0.52,\n",
       " 'mean_iou': 0.7469452291227885,\n",
       " 'time': 0.8052759170532227,\n",
       " 'hardware': 'NVIDIA GeForce RTX 3060M, AMD Ryzen 7 5800H, 32 GB RAM'}"
      ]
     },
     "execution_count": 110,
     "metadata": {},
     "output_type": "execute_result"
    }
   ],
   "source": [
    "csv_dicts[111]"
   ]
  },
  {
   "cell_type": "code",
   "execution_count": null,
   "metadata": {},
   "outputs": [],
   "source": [
    "# save to csv file\n",
    "\n",
    "keys = csv_dicts[0].keys()\n",
    "output_path = r\"C:\\Users\\gtraw\\OneDrive\\Pulpit\\UM sem. 2\\ProjektBadawczy\\apps\\evaluation\\csvs\\2024_11_05.csv\"\n",
    "\n",
    "with open(output_path, 'w', newline='') as output_file:\n",
    "    dict_writer = csv.DictWriter(output_file, keys)\n",
    "    dict_writer.writeheader()\n",
    "    dict_writer.writerows(csv_dicts)"
   ]
  },
  {
   "cell_type": "code",
   "execution_count": 112,
   "metadata": {},
   "outputs": [
    {
     "name": "stdout",
     "output_type": "stream",
     "text": [
      "       augmentation  precipitation  surface  ground_truth_objects  \\\n",
      "count           0.0            0.0      0.0           1100.000000   \n",
      "mean            NaN            NaN      NaN             24.720000   \n",
      "std             NaN            NaN      NaN             14.599842   \n",
      "min             NaN            NaN      NaN              7.000000   \n",
      "25%             NaN            NaN      NaN             12.000000   \n",
      "50%             NaN            NaN      NaN             18.000000   \n",
      "75%             NaN            NaN      NaN             43.000000   \n",
      "max             NaN            NaN      NaN             44.000000   \n",
      "\n",
      "       segmented_objects  matched_objects    precision       recall  \\\n",
      "count        1100.000000      1100.000000  1100.000000  1100.000000   \n",
      "mean           47.400909        16.006364     0.603732     0.645122   \n",
      "std            66.447323        12.081576     0.315917     0.253059   \n",
      "min             0.000000         0.000000     0.000000     0.000000   \n",
      "25%            11.000000         6.000000     0.325436     0.452381   \n",
      "50%            22.000000        12.000000     0.583333     0.615385   \n",
      "75%            42.000000        23.000000     0.923077     0.869565   \n",
      "max           300.000000        44.000000     1.000000     1.000000   \n",
      "\n",
      "                f1     mean_iou         time  \n",
      "count  1100.000000  1100.000000  1100.000000  \n",
      "mean      0.527178     0.730821    11.414605  \n",
      "std       0.206454     0.111529    14.536151  \n",
      "min       0.000000     0.000000     0.065744  \n",
      "25%       0.378233     0.631943     0.115009  \n",
      "50%       0.542373     0.724650     0.838107  \n",
      "75%       0.687500     0.844626    29.550866  \n",
      "max       0.947368     0.921129    33.360519  \n",
      "<bound method NDFrame.head of           model                  filename model_params  augmentation  \\\n",
      "0     fastsam_s    weti1_2024_11_05_10_26          NaN           NaN   \n",
      "1     fastsam_s  weti1_2024_11_05_10_26_m          NaN           NaN   \n",
      "2     fastsam_s    weti1_2024_11_05_10_36          NaN           NaN   \n",
      "3     fastsam_s  weti1_2024_11_05_10_36_m          NaN           NaN   \n",
      "4     fastsam_s    weti1_2024_11_05_10_46          NaN           NaN   \n",
      "...         ...                       ...          ...           ...   \n",
      "1095    yolo11x  weti2_2024_11_05_15_49_m          NaN           NaN   \n",
      "1096    yolo11x    weti2_2024_11_05_15_59          NaN           NaN   \n",
      "1097    yolo11x  weti2_2024_11_05_15_59_m          NaN           NaN   \n",
      "1098    yolo11x    weti2_2024_11_05_16_09          NaN           NaN   \n",
      "1099    yolo11x  weti2_2024_11_05_16_09_m          NaN           NaN   \n",
      "\n",
      "     brightness  precipitation  surface weather  ground_truth_objects  \\\n",
      "0        bright            NaN      NaN   sunny                    13   \n",
      "1        bright            NaN      NaN   sunny                    13   \n",
      "2        bright            NaN      NaN   sunny                    13   \n",
      "3        bright            NaN      NaN   sunny                    13   \n",
      "4        bright            NaN      NaN  cloudy                    13   \n",
      "...         ...            ...      ...     ...                   ...   \n",
      "1095     bright            NaN      NaN  cloudy                    24   \n",
      "1096       dark            NaN      NaN  cloudy                    23   \n",
      "1097       dark            NaN      NaN  cloudy                    23   \n",
      "1098       dark            NaN      NaN  cloudy                    23   \n",
      "1099       dark            NaN      NaN  cloudy                    23   \n",
      "\n",
      "      segmented_objects  matched_objects  precision    recall        f1  \\\n",
      "0                   271               13   0.047970  1.000000  0.091549   \n",
      "1                    51               13   0.254902  1.000000  0.406250   \n",
      "2                   263               13   0.049430  1.000000  0.094203   \n",
      "3                    54               13   0.240741  1.000000  0.388060   \n",
      "4                   252               13   0.051587  1.000000  0.098113   \n",
      "...                 ...              ...        ...       ...       ...   \n",
      "1095                 12               12   1.000000  0.500000  0.666667   \n",
      "1096                 12               10   0.833333  0.434783  0.571429   \n",
      "1097                 14               14   1.000000  0.608696  0.756757   \n",
      "1098                 12               10   0.833333  0.434783  0.571429   \n",
      "1099                 14               14   1.000000  0.608696  0.756757   \n",
      "\n",
      "      mean_iou      time                                           hardware  \n",
      "0     0.715162  1.541892  NVIDIA GeForce RTX 3060M, AMD Ryzen 7 5800H, 3...  \n",
      "1     0.720215  1.326388  NVIDIA GeForce RTX 3060M, AMD Ryzen 7 5800H, 3...  \n",
      "2     0.745091  0.912766  NVIDIA GeForce RTX 3060M, AMD Ryzen 7 5800H, 3...  \n",
      "3     0.756359  0.448401  NVIDIA GeForce RTX 3060M, AMD Ryzen 7 5800H, 3...  \n",
      "4     0.732669  0.939276  NVIDIA GeForce RTX 3060M, AMD Ryzen 7 5800H, 3...  \n",
      "...        ...       ...                                                ...  \n",
      "1095  0.644194  0.135265  NVIDIA GeForce RTX 3060M, AMD Ryzen 7 5800H, 3...  \n",
      "1096  0.641426  0.147613  NVIDIA GeForce RTX 3060M, AMD Ryzen 7 5800H, 3...  \n",
      "1097  0.636462  0.130442  NVIDIA GeForce RTX 3060M, AMD Ryzen 7 5800H, 3...  \n",
      "1098  0.641281  0.146003  NVIDIA GeForce RTX 3060M, AMD Ryzen 7 5800H, 3...  \n",
      "1099  0.640290  0.133694  NVIDIA GeForce RTX 3060M, AMD Ryzen 7 5800H, 3...  \n",
      "\n",
      "[1100 rows x 17 columns]>\n"
     ]
    }
   ],
   "source": [
    "import pandas as pd\n",
    "\n",
    "df = pd.read_csv(output_path)\n",
    "print(df.describe())\n",
    "print(df.head)"
   ]
  },
  {
   "cell_type": "code",
   "execution_count": 113,
   "metadata": {},
   "outputs": [
    {
     "name": "stdout",
     "output_type": "stream",
     "text": [
      "1   fastsam_s\n",
      "2   fastsam_x\n",
      "3   sam2.1 base+\n",
      "4   sam2.1 large\n",
      "5   sam2.1 small\n",
      "6   sam2.1 tiny\n",
      "7   yolo11l\n",
      "8   yolo11m\n",
      "9   yolo11n\n",
      "10  yolo11s\n",
      "11  yolo11x\n"
     ]
    }
   ],
   "source": [
    "for i, m in enumerate(df['model'].unique()):\n",
    "    print(f\"{i+1:<3} {m}\")"
   ]
  }
 ],
 "metadata": {
  "kernelspec": {
   "display_name": "Python 3",
   "language": "python",
   "name": "python3"
  },
  "language_info": {
   "codemirror_mode": {
    "name": "ipython",
    "version": 3
   },
   "file_extension": ".py",
   "mimetype": "text/x-python",
   "name": "python",
   "nbconvert_exporter": "python",
   "pygments_lexer": "ipython3",
   "version": "3.12.6"
  }
 },
 "nbformat": 4,
 "nbformat_minor": 2
}
